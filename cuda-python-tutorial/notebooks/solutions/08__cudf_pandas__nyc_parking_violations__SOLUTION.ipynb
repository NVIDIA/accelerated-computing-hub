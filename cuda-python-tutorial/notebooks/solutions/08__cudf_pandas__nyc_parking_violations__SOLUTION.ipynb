{
 "cells": [
  {
   "cell_type": "markdown",
   "id": "333893c1-36e6-449f-ba29-59c5e737e855",
   "metadata": {},
   "source": [
    "# Exercise - cudf.pandas - NYC Parking Violations - SOLUTION"
   ]
  },
  {
   "cell_type": "code",
   "execution_count": null,
   "id": "b34ae5d6",
   "metadata": {},
   "outputs": [],
   "source": [
    "!wget -nc https://data.rapids.ai/datasets/nyc_parking/nyc_parking_violations_2022.parquet -O ../nyc_parking_violations_2022.parquet"
   ]
  },
  {
   "cell_type": "code",
   "execution_count": null,
   "id": "c7078c01-e560-47a1-b298-7e461b2e49dd",
   "metadata": {},
   "outputs": [],
   "source": [
    "%load_ext cudf.pandas\n",
    "import pandas as pd"
   ]
  },
  {
   "cell_type": "code",
   "execution_count": null,
   "id": "5262971a-cd4c-4128-a57b-f1bc3c646ef5",
   "metadata": {},
   "outputs": [],
   "source": [
    "# remove the `../` if you are copying this solution:\n",
    "df = pd.read_parquet(\n",
    "    \"../nyc_parking_violations_2022.parquet\",\n",
    "    columns=[\"Registration State\", \"Violation Description\", \"Vehicle Body Type\", \"Issue Date\", \"Summons Number\"],\n",
    "\n",
    ")\n",
    "df[\"Issue Date\"] = df[\"Issue Date\"].astype(\"datetime64[s]\")"
   ]
  },
  {
   "cell_type": "code",
   "execution_count": null,
   "id": "6b02641b-ecec-423c-9e18-46a32a7cb90f",
   "metadata": {},
   "outputs": [],
   "source": [
    "%%time\n",
    "date = df[\"Issue Date\"]\n",
    "cond = date.dt.month == 3\n",
    "df[cond].head()"
   ]
  }
 ],
 "metadata": {
  "kernelspec": {
   "display_name": "Python 3 (cuDF 25.8)",
   "language": "python",
   "name": "python3-cudf25.8-cu12"
  },
  "language_info": {
   "codemirror_mode": {
    "name": "ipython",
    "version": 3
   },
   "file_extension": ".py",
   "mimetype": "text/x-python",
   "name": "python",
   "nbconvert_exporter": "python",
   "pygments_lexer": "ipython3",
   "version": "3.10.12"
  }
 },
 "nbformat": 4,
 "nbformat_minor": 5
}
