{
 "cells": [
  {
   "cell_type": "markdown",
   "id": "04094891-a6b5-46a1-9708-1f3e13b43e55",
   "metadata": {},
   "source": [
    "## Exercise - cudf.pandas - NYC Parking Violations"
   ]
  },
  {
   "cell_type": "markdown",
   "id": "018ab334-d47e-4412-bd1b-c2d971a8037c",
   "metadata": {},
   "source": [
    "`cudf.pandas` is a tool that lets you use Pandas, while automatically accelerating operations on the GPU when possible. In this notebook we'll explore this capability by doing some data analysis using standard Pandas, and then accelerating it with `cudf.pandas`."
   ]
  },
  {
   "cell_type": "markdown",
   "id": "7ab4c0f6-e440-42df-843c-2c0cd2781d41",
   "metadata": {},
   "source": [
    "### Analysis using standard Pandas"
   ]
  },
  {
   "cell_type": "code",
   "execution_count": null,
   "id": "a40b4cfc-0d10-444b-ae5f-6f7ff83e0e18",
   "metadata": {},
   "outputs": [],
   "source": [
    "import pandas as pd"
   ]
  },
  {
   "cell_type": "code",
   "execution_count": null,
   "id": "4422d27f-3894-4aaf-ade9-2ff8912625bd",
   "metadata": {},
   "outputs": [],
   "source": [
    "%%time\n",
    "# read 5 columns data:\n",
    "df = pd.read_parquet(\n",
    "    \"nyc_parking_violations_2022.parquet\",\n",
    "    columns=[\"Registration State\", \"Violation Description\", \"Vehicle Body Type\", \"Issue Date\", \"Summons Number\"],\n",
    "\n",
    ")\n",
    "df[\"Issue Date\"] = df[\"Issue Date\"].astype(\"datetime64[s]\")\n",
    "\n",
    "# view a random sample of 10 rows:\n",
    "df.sample(10)"
   ]
  },
  {
   "cell_type": "markdown",
   "id": "64f84274-cbf1-469e-806d-b6a988f99570",
   "metadata": {},
   "source": [
    "Each record in our dataset contains the state of registration of the offending vehicle, and the type of parking offence.\n"
   ]
  },
  {
   "cell_type": "markdown",
   "id": "3901d2bf-59a6-41c9-a861-a0e4d78a94dc",
   "metadata": {},
   "source": [
    "#### What is the most common type of offence by vehicles from different states?"
   ]
  },
  {
   "cell_type": "markdown",
   "id": "84fa17bc-a6c4-420c-9083-3a0b87f6941d",
   "metadata": {},
   "source": [
    "Let's say we want to get the most common type of offence for vehicles registered in different states. We can do this in Pandas using a combination of value_counts and GroupBy.head:"
   ]
  },
  {
   "cell_type": "code",
   "execution_count": null,
   "id": "5e6bf3db-9cbe-49bf-beca-24d10fa8772a",
   "metadata": {},
   "outputs": [],
   "source": [
    "%%time\n",
    "(df[[\"Registration State\", \"Violation Description\"]]  # get only these two columns\n",
    " .value_counts()  # get the count of offences per state and per type of offence\n",
    " .groupby(\"Registration State\")  # group by state\n",
    " .head(1)  # get the first row in each group (the type of offence with the largest count)\n",
    " .sort_index()  # sort by state name\n",
    " .reset_index()\n",
    ")"
   ]
  },
  {
   "cell_type": "markdown",
   "id": "55bf5d12-5ac1-4ccf-8c4c-8a1e141fa98d",
   "metadata": {},
   "source": [
    "The above code uses _method chaining_ to combine multiple operations into a single statement. "
   ]
  },
  {
   "cell_type": "markdown",
   "id": "f34598db-0a9d-42ec-b874-fc09a59d7014",
   "metadata": {},
   "source": [
    "#### Which vehicle body types are most frequently involved in parking violations?\n",
    "\n",
    "We can also investigate which vehicle body types most commonly appear in parking violations"
   ]
  },
  {
   "cell_type": "code",
   "execution_count": null,
   "id": "82c67bbd-603d-4b43-887d-3ee1db79252b",
   "metadata": {},
   "outputs": [],
   "source": [
    "%%time\n",
    "(df\n",
    " .groupby([\"Vehicle Body Type\"])\n",
    " .agg({\"Summons Number\": \"count\"})\n",
    " .rename(columns={\"Summons Number\": \"Count\"})\n",
    " .sort_values([\"Count\"], ascending=False)\n",
    ")"
   ]
  },
  {
   "cell_type": "markdown",
   "id": "72822acc-85b7-41c0-bb45-0848667a13fe",
   "metadata": {},
   "source": [
    "#### How do parking violations vary across days of the week?"
   ]
  },
  {
   "cell_type": "code",
   "execution_count": null,
   "id": "3d785e6f-9e78-4186-be63-20a6a7833259",
   "metadata": {},
   "outputs": [],
   "source": [
    "%%time\n",
    "weekday_names = {\n",
    "    0: \"Monday\",\n",
    "    1: \"Tuesday\",\n",
    "    2: \"Wednesday\",\n",
    "    3: \"Thursday\",\n",
    "    4: \"Friday\",\n",
    "    5: \"Saturday\",\n",
    "    6: \"Sunday\",\n",
    "}\n",
    "\n",
    "df[\"issue_weekday\"] = df[\"Issue Date\"].dt.weekday.map(weekday_names)\n",
    "\n",
    "df.groupby([\"issue_weekday\"])[\"Summons Number\"].count().sort_values()"
   ]
  },
  {
   "cell_type": "markdown",
   "id": "4c6aec63-aa71-40ce-88ca-4abb32acbe5d",
   "metadata": {},
   "source": [
    "### Exercise: using cudf.pandas"
   ]
  },
  {
   "cell_type": "markdown",
   "id": "211f950e-f9f5-4490-91c1-55ab4aaf7c63",
   "metadata": {},
   "source": [
    "In this exercise, you'll repeat the analysis we did above using `cudf.pandas`. Fortunately, it needs no code changes at all.\n",
    "\n",
    "1. Make note of the timings we obtained in the previous cells.\n",
    "2. Restart this Jupyter notebook server (Kernel->Restart Kernel).\n",
    "3. Before the line `import pandas`, insert the following line of code\n",
    "\n",
    "```python\n",
    "%load_ext cudf.pandas\n",
    "```\n",
    "\n",
    "4. Re-run the rest of the cells and note the new timings."
   ]
  },
  {
   "cell_type": "markdown",
   "id": "920eee0a-0f57-47aa-849b-4267c469ab1b",
   "metadata": {},
   "source": [
    "### Understanding Performance\n",
    "\n",
    "`cudf.pandas` works by using the GPU for operations that are supported, and falling back to Pandas (CPU) when an operation is not supported.\n",
    "\n",
    "The `line_profile` magic can help you figure out when "
   ]
  },
  {
   "cell_type": "code",
   "execution_count": null,
   "id": "fb8caff6-3c92-425d-8960-5f0aeac7d1db",
   "metadata": {},
   "outputs": [],
   "source": [
    "%%cudf.pandas.line_profile\n",
    "\n",
    "small_df = pd.DataFrame({'a': [\"0\", \"1\", \"2\", \"0\", \"1\", \"2\"],\n",
    "                         'b': [\"x\", \"y\", \"z\", \"x\", \"y\", \"z\"]})\n",
    "small_df.min(axis=0)\n",
    "small_df.min(axis=1)\n",
    "counts = small_df.groupby(\"a\").b.count()"
   ]
  },
  {
   "cell_type": "markdown",
   "id": "139f4e61-2d5b-4121-90f6-8d41c63684d0",
   "metadata": {},
   "source": [
    "### Exercise: Optimizing Pandas code for the GPU"
   ]
  },
  {
   "cell_type": "markdown",
   "id": "a7d10f49-1f6f-485e-a5e9-a6e998402abb",
   "metadata": {},
   "source": [
    "`cudf.pandas` isn't completely magic. It's very possible to write code that will perform quite badly if you don't know what you're doing. Below is some code to extract just the records for violations in the month of March:"
   ]
  },
  {
   "cell_type": "code",
   "execution_count": null,
   "id": "67e593f6-0596-417b-90f4-8f8d70801ce4",
   "metadata": {},
   "outputs": [],
   "source": [
    "%%time\n",
    "def is_in_march(datetime):\n",
    "    datetime = str(datetime)  # YYYY-MM-DD HH:MM:SS'\n",
    "    date = datetime.split(\" \")[0]\n",
    "    year, month, day = date.split(\"-\")\n",
    "    return month == \"03\"\n",
    "\n",
    "date = df[\"Issue Date\"]\n",
    "cond = date.apply(is_in_march)\n",
    "df[cond].head()"
   ]
  },
  {
   "cell_type": "markdown",
   "id": "118d957c-f28e-4eae-b9ed-95bfa5c58026",
   "metadata": {},
   "source": [
    "The above snippet takes several seconds to complete - why do you think it's so slow? Rewrite the code above to do the same operation using a more efficient approach.\n",
    "\n",
    "If successful, you should have code that takes a few milliseconds to run."
   ]
  }
 ],
 "metadata": {
  "kernelspec": {
   "display_name": "Python 3 (cuDF 25.8)",
   "language": "python",
   "name": "python3-cudf25.8-cu12"
  },
  "language_info": {
   "codemirror_mode": {
    "name": "ipython",
    "version": 3
   },
   "file_extension": ".py",
   "mimetype": "text/x-python",
   "name": "python",
   "nbconvert_exporter": "python",
   "pygments_lexer": "ipython3",
   "version": "3.10.12"
  },
  "colab": {
   "provenance": [],
   "gpuType": "T4"
  }
 },
 "nbformat": 4,
 "nbformat_minor": 5
}