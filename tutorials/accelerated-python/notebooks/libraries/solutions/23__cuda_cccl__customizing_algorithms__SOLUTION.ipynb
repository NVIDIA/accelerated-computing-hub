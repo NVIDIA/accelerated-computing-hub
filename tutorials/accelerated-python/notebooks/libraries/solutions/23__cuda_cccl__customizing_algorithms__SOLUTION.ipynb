{
 "cells": [
  {
   "cell_type": "markdown",
   "id": "a5dd4dad",
   "metadata": {},
   "source": [
    "## Exercise - CCCL - Customizing Algorithms - SOLUTION"
   ]
  },
  {
   "cell_type": "code",
   "execution_count": null,
   "id": "4c58fde5-2219-4243-a16f-8f88817cf5d8",
   "metadata": {},
   "outputs": [],
   "source": [
    "import numpy as np\n",
    "import cupy as cp\n",
    "import cuda.compute as comp"
   ]
  },
  {
   "cell_type": "markdown",
   "id": "bdfa6bb2-3305-424c-bd71-f6ba77d1f61e",
   "metadata": {},
   "source": [
    "### Excercise: computing the minimum value"
   ]
  },
  {
   "cell_type": "code",
   "execution_count": null,
   "id": "cd688543-5d38-4781-b2ff-cc6decb13e7a",
   "metadata": {},
   "outputs": [],
   "source": [
    "\"\"\"\n",
    "Using `reduce_into()` to compute the minimum value of a sequence\n",
    "\"\"\"\n",
    "\n",
    "d_input = cp.array([-2, 3, 5, 1, 7, -6, 8, -4], dtype=np.int32)\n",
    "d_output = cp.empty(1, dtype=np.int32)\n",
    "\n",
    "\n",
    "# begin TODO\n",
    "MAX_INT = np.iinfo(np.int32).max\n",
    "h_init = np.asarray([MAX_INT], dtype=np.int32)\n",
    "comp.reduce_into(d_input, d_output, comp.OpKind.MINIMUM, len(d_input), h_init)\n",
    "# end TODO\n",
    "\n",
    "expected_output = -6\n",
    "assert (d_output == expected_output).all()\n",
    "result = d_output[0]\n",
    "print(f\"Min reduction result: {result}\")"
   ]
  },
  {
   "cell_type": "markdown",
   "id": "cf17a6fd-990b-4724-8e23-ce8b92e5b297",
   "metadata": {},
   "source": [
    "### Exercise: sort by the last digit"
   ]
  },
  {
   "cell_type": "code",
   "execution_count": null,
   "id": "729d0fc6-ede4-43b3-98dd-54e9f65afbac",
   "metadata": {},
   "outputs": [],
   "source": [
    "# Prepare the input and output arrays.\n",
    "d_in_keys = cp.asarray([29, 9, 136, 1001, 72, 24, 32, 1], dtype=\"int32\")\n",
    "\n",
    "# define the custom comparator.\n",
    "def comparison_op(lhs, rhs):\n",
    "    return lhs % 10 < rhs % 10\n",
    "\n",
    "# Perform the merge sort.\n",
    "comp.merge_sort(\n",
    "    d_in_keys,\n",
    "    None,\n",
    "    d_in_keys,\n",
    "    None,\n",
    "    comparison_op,\n",
    "    d_in_keys.size,\n",
    ")\n",
    "\n",
    "print(f\"Result: {d_in_keys}\")\n",
    "expected = np.asarray([1001, 1, 72, 32, 24, 136, 29, 9], dtype=np.int32)\n",
    "assert (d_in_keys.get() == expected).all()"
   ]
  },
  {
   "cell_type": "markdown",
   "id": "db104bcd-ef42-4149-a503-7c9cba9980a7",
   "metadata": {},
   "source": [
    "### Exercise 3: implementing running average"
   ]
  },
  {
   "cell_type": "code",
   "execution_count": null,
   "id": "3c81a123-0287-4a51-9e86-fcff1916445f",
   "metadata": {},
   "outputs": [],
   "source": [
    "@comp.gpu_struct\n",
    "class SumAndCount:\n",
    "    sum: np.float32\n",
    "    count: np.int32\n",
    "\n",
    "def reduce_op(x, y) -> SumAndCount:\n",
    "    return SumAndCount(\n",
    "        x.sum + y.sum,\n",
    "        x.count + y.count\n",
    "    )\n",
    "\n",
    "def compute_running_average(x: SumAndCount) -> np.float32:\n",
    "    return x.sum / x.count\n",
    "\n",
    "d_input = cp.array([2, 3, 5, 1, 7, 6, 8, 4], dtype=np.float32)\n",
    "d_output = cp.empty(len(d_input), dtype=np.float32)\n",
    "h_init = SumAndCount(0, 0)\n",
    "\n",
    "# begin TODO\n",
    "it_input = comp.ZipIterator(d_input, comp.ConstantIterator(np.int32(1)))\n",
    "it_output = comp.TransformOutputIterator(d_output, compute_running_average)\n",
    "# end TODO\n",
    "\n",
    "# Perform the reduction.\n",
    "comp.inclusive_scan(it_input, it_output, reduce_op, h_init, len(d_input))\n",
    "\n",
    "print(f\"Input sequence: {d_input}\")\n",
    "\n",
    "h_input = d_input.get()\n",
    "expected = h_input.cumsum() / np.arange(1, len(h_input) + 1)\n",
    "\n",
    "print(f\"Running average result: {d_output}\")\n",
    "np.testing.assert_allclose(d_output.get(), expected)"
   ]
  }
 ],
 "metadata": {
  "kernelspec": {
   "display_name": "Python 3 (ipykernel)",
   "language": "python",
   "name": "python3"
  },
  "language_info": {
   "codemirror_mode": {
    "name": "ipython",
    "version": 3
   },
   "file_extension": ".py",
   "mimetype": "text/x-python",
   "name": "python",
   "nbconvert_exporter": "python",
   "pygments_lexer": "ipython3",
   "version": "3.10.12"
  }
 },
 "nbformat": 4,
 "nbformat_minor": 5
}
