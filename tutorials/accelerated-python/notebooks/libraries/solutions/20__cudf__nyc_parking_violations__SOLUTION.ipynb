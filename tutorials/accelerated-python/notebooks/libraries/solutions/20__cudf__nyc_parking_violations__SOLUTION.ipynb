{
 "cells": [
  {
   "cell_type": "markdown",
   "id": "9b7c9fa2-42d6-4fd2-8b1b-7613254804fa",
   "metadata": {},
   "source": [
    "## Exercise - cuDF - NYC Parking Violations - SOLUTION"
   ]
  },
  {
   "cell_type": "code",
   "execution_count": null,
   "id": "14827962",
   "metadata": {},
   "outputs": [],
   "source": [
    "!wget -nc https://data.rapids.ai/datasets/nyc_parking/nyc_parking_violations_2022.parquet -O ../nyc_parking_violations_2022.parquet"
   ]
  },
  {
   "cell_type": "code",
   "execution_count": null,
   "id": "258ae8b6-ec3c-4d02-8a76-c1171f9efac1",
   "metadata": {},
   "outputs": [],
   "source": [
    "%%time\n",
    "import pandas as pd\n",
    "\n",
    "# remove the `../` if you're copying this solution:\n",
    "data = pd.read_parquet(\"../nyc_parking_violations_2022.parquet\")\n",
    "\n",
    "# select the specified columns\n",
    "data = data[[\"Registration State\", \"Violation Description\", \"Vehicle Body Type\", \"Issue Date\"]]\n",
    "\n",
    "# Number of taxis per state:\n",
    "taxis_per_state = data[data[\"Vehicle Body Type\"] == \"TAXI\"][\"Registration State\"].value_counts()\n",
    "taxis_per_state.head()"
   ]
  },
  {
   "cell_type": "code",
   "execution_count": null,
   "id": "6dab436b-04f6-4888-910d-0c5b51cdc646",
   "metadata": {},
   "outputs": [],
   "source": [
    "%%time\n",
    "import cudf\n",
    "\n",
    "# remove the `../` if you're copying this solution:\n",
    "data = cudf.read_parquet(\"../nyc_parking_violations_2022.parquet\")\n",
    "\n",
    "# select the specified columns\n",
    "data = data[[\"Registration State\", \"Violation Description\", \"Vehicle Body Type\", \"Issue Date\"]]\n",
    "\n",
    "# Number of taxis per state:\n",
    "taxis_per_state = data[data[\"Vehicle Body Type\"] == \"TAXI\"][\"Registration State\"].value_counts()\n",
    "taxis_per_state.head()"
   ]
  }
 ],
 "metadata": {
  "kernelspec": {
   "display_name": "Python 3 (cuDF 25.8)",
   "language": "python",
   "name": "python3-cudf25.8-cu12"
  },
  "language_info": {
   "codemirror_mode": {
    "name": "ipython",
    "version": 3
   },
   "file_extension": ".py",
   "mimetype": "text/x-python",
   "name": "python",
   "nbconvert_exporter": "python",
   "pygments_lexer": "ipython3",
   "version": "3.10.12"
  },
  "colab": {
   "provenance": [],
   "gpuType": "T4"
  }
 },
 "nbformat": 4,
 "nbformat_minor": 5
}