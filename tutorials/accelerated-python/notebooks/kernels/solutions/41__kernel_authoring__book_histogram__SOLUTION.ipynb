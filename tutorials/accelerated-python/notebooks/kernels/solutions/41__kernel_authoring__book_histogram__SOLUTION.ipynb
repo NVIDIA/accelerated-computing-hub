{
 "cells": [
  {
   "cell_type": "markdown",
   "id": "f1a8560a-c91b-48db-af1c-18fcd4892448",
   "metadata": {
    "id": "f1a8560a-c91b-48db-af1c-18fcd4892448"
   },
   "source": [
    "## Exercise - Kernel Authoring - Book Histogram - SOLUTION\n",
    "\n",
    "Let's learn to use some advanced CUDA features like shared memory, atomics, and [cuda.cooperative](https://nvidia.github.io/cccl/python/cooperative.html) to write an efficient histogram kernel to determine the most frequent characters in a collection of books.\n",
    "\n",
    "First, let's download our dataset."
   ]
  },
  {
   "cell_type": "code",
   "execution_count": 2,
   "id": "ce42d5e5-db1e-46da-a64a-831d0f3d59ff",
   "metadata": {
    "collapsed": true,
    "id": "ce42d5e5-db1e-46da-a64a-831d0f3d59ff"
   },
   "outputs": [],
   "source": [
    "import os\n",
    "\n",
    "if os.getenv(\"COLAB_RELEASE_TAG\") and not os.path.exists(\"/ach-installed\"): # If running in Google Colab:\n",
    "  !curl -s -L -O https://developer.nvidia.com/downloads/assets/tools/secure/nsight-systems/2025_3/NsightSystems-linux-cli-public-2025.3.1.90-3582212.deb\n",
    "  !sudo dpkg -i NsightSystems-linux-cli-public-2025.3.1.90-3582212.deb > /dev/null\n",
    "  !pip uninstall \"cuda-python\" --yes > /dev/null\n",
    "  !pip install \"numba-cuda\" \"cuda-cccl[test-cu12]\" \"nsightful[notebook] @ git+https://github.com/brycelelbach/nsightful.git\" > /dev/null 2>&1\n",
    "  open(\"/ach-installed\", \"a\").close()\n",
    "\n",
    "import numpy as np\n",
    "import matplotlib.pyplot as plt\n",
    "import nsightful\n",
    "import urllib.request"
   ]
  },
  {
   "cell_type": "code",
   "execution_count": 3,
   "id": "6e1ae9dc-39f1-4c93-b923-85a96b45a057",
   "metadata": {
    "colab": {
     "base_uri": "https://localhost:8080/"
    },
    "id": "6e1ae9dc-39f1-4c93-b923-85a96b45a057",
    "outputId": "ee334037-7f39-4a91-ad60-f0408a56b4de"
   },
   "outputs": [
    {
     "output_type": "execute_result",
     "data": {
      "text/plain": [
       "('books__15m.txt', <http.client.HTTPMessage at 0x7e5a9ed32e40>)"
      ]
     },
     "metadata": {},
     "execution_count": 3
    }
   ],
   "source": [
    "urllib.request.urlretrieve(\n",
    "  \"https://drive.usercontent.google.com/download?id=1MW1lPgkTq3YG9ikuq6u3d9sfpt-wKQZ0&export=download\",\n",
    "  \"books__15m.txt\")"
   ]
  },
  {
   "cell_type": "markdown",
   "id": "9109d3c0-e276-44cc-9f36-f8c79eb48b31",
   "metadata": {
    "id": "9109d3c0-e276-44cc-9f36-f8c79eb48b31"
   },
   "source": [
    "A histogram kernel counts the number of times a value occurs in a dataset. To implement this, we create an array that is large enough to store all possible values (in the case of counting 1-byte ASCII characters, 256 elements). Then for the value of each element in the dataset, we increment its location in the array.\n",
    "\n",
    "Let's try a simple way to implement this:"
   ]
  },
  {
   "cell_type": "code",
   "execution_count": 4,
   "id": "61c12795-b14a-4447-9dcf-9748616cc453",
   "metadata": {
    "colab": {
     "base_uri": "https://localhost:8080/"
    },
    "id": "61c12795-b14a-4447-9dcf-9748616cc453",
    "outputId": "141b29b8-bbf7-4224-c85a-23e49ee7abaf"
   },
   "outputs": [
    {
     "output_type": "stream",
     "name": "stdout",
     "text": [
      "Writing histogram_global.py\n"
     ]
    }
   ],
   "source": [
    "%%writefile histogram_global.py\n",
    "\n",
    "from numba import cuda\n",
    "import cupy as cp\n",
    "import cupyx as cpx\n",
    "import sys\n",
    "import os\n",
    "\n",
    "bins = 256\n",
    "\n",
    "values = cp.fromfile(\"books__15m.txt\", dtype=cp.uint8)\n",
    "histogram = cp.zeros((bins), dtype=cp.int32)\n",
    "\n",
    "threads_per_block = 512 if len(sys.argv) < 3 else int(sys.argv[2])\n",
    "items_per_thread = 8 if len(sys.argv) < 4 else int(sys.argv[3])\n",
    "items_per_block = threads_per_block * items_per_thread\n",
    "blocks = int(len(values) / (threads_per_block * items_per_thread))\n",
    "assert values.size % items_per_block == 0\n",
    "\n",
    "@cuda.jit\n",
    "def histogram_global(values, histogram):\n",
    "  for i in range(items_per_thread):\n",
    "    value = values[cuda.grid(1) * items_per_thread + i]\n",
    "    cuda.atomic.add(histogram, value, 1)\n",
    "\n",
    "def launch(check, output):\n",
    "  histogram[:] = 0 # Reset histogram to 0 each trial.\n",
    "  histogram_global[blocks, threads_per_block](values, histogram)\n",
    "\n",
    "  if (check):\n",
    "    assert cp.sum(histogram) == len(values)\n",
    "\n",
    "  if (output):\n",
    "    cp.savetxt(sys.stdout, histogram, delimiter=\",\", fmt=\"%i\")\n",
    "\n",
    "if len(sys.argv) >= 2 and sys.argv[1] == \"output\":\n",
    "  launch(check=True, output=True)\n",
    "elif os.getenv(\"NV_COMPUTE_PROFILER_PERFWORKS_DIR\"): # Running under `ncu`.\n",
    "  launch(check=False, output=False) # `ncu` slows things down; so just launch once when running under it.\n",
    "else:\n",
    "  launch(check=True, output=False)\n",
    "  D = cpx.profiler.benchmark(launch, (False, False), n_repeat=15, n_warmup=4).gpu_times[0]\n",
    "  print(f\"{D.mean():.3g} s ± {(D.std() / D.mean()):.2%} (mean ± relative stdev of {D.size} runs)\")"
   ]
  },
  {
   "cell_type": "markdown",
   "id": "27e30efa-3a37-402f-9414-e444214d8ce6",
   "metadata": {
    "id": "27e30efa-3a37-402f-9414-e444214d8ce6"
   },
   "source": [
    "Now let's make sure it runs and check the output."
   ]
  },
  {
   "cell_type": "code",
   "execution_count": 5,
   "id": "b3f32240-ad7b-4717-98b3-82b0298a099a",
   "metadata": {
    "colab": {
     "base_uri": "https://localhost:8080/"
    },
    "id": "b3f32240-ad7b-4717-98b3-82b0298a099a",
    "outputId": "cdf42faf-b6e6-45ad-85e2-d3b0d4c87ad5"
   },
   "outputs": [
    {
     "output_type": "stream",
     "name": "stdout",
     "text": [
      "0.00858 s ± 3.22% (mean ± relative stdev of 15 runs)\n"
     ]
    }
   ],
   "source": [
    "!python histogram_global.py"
   ]
  },
  {
   "cell_type": "code",
   "execution_count": 6,
   "id": "815cb072-b3a0-47aa-af6c-dd66c626a440",
   "metadata": {
    "colab": {
     "base_uri": "https://localhost:8080/",
     "height": 487
    },
    "id": "815cb072-b3a0-47aa-af6c-dd66c626a440",
    "outputId": "d7a3d2e2-1df5-4681-c6a3-923cfb921c52"
   },
   "outputs": [
    {
     "output_type": "display_data",
     "data": {
      "text/plain": [
       "<Figure size 640x480 with 1 Axes>"
      ],
      "image/png": "[encoded data removed]"
     },
     "metadata": {}
    }
   ],
   "source": [
    "histogram_output = !python histogram_global.py output\n",
    "histogram = np.loadtxt(histogram_output, delimiter=\",\")\n",
    "\n",
    "# Print most frequently occuring characters.\n",
    "pairs = sorted(((i,c) for i,c in enumerate(histogram) if c), key=lambda x: x[1], reverse=True)[:20]\n",
    "labels = [('SPACE' if i==32 else chr(i)) if 32<=i<=126 else f'0x{i:02X}' for i,_ in pairs]\n",
    "plt.barh(labels[::-1], [c for _,c in pairs][::-1]); plt.xlabel('count'); plt.tight_layout(); plt.show()"
   ]
  },
  {
   "cell_type": "markdown",
   "id": "b14fa522-b41b-4538-8c34-ecc355e55116",
   "metadata": {
    "id": "b14fa522-b41b-4538-8c34-ecc355e55116"
   },
   "source": [
    "It looks like something is wrong - our counts are very low, and the most common characters don't make a lot of sense. Many of our increments seem to get lost!\n",
    "\n",
    "What's happening here is called a data race. Many different threads are trying to access the bins of the histogram at the same time.\n",
    "\n",
    "Imagine that two threads are trying to update the same bin.\n",
    "\n",
    "- Thread 0 reads the count of the bin, which is 0, and stores it in its local variable `old_count`.\n",
    "- Thread 0 adds 1 to its `old_count`, producing a `new_count` of 1.\n",
    "- Thread 1 reads the count of the bin, which is still 0, and stores it in its local variable `old_count`.\n",
    "- Thread 1 adds 1 to its `old_count`, producing a `new_count` of 1.\n",
    "- Thread 0 stores `new_count` to the bin, setting it to 1.\n",
    "- Thread 1 stores `new_count` to the bin, setting it to 1, and losing the increment from thread 0!\n",
    "\n",
    "To fix this, we need to use atomic operations. `cuda.atomic.add(array, index, value)` will perform `array[index] += value` as a single indivisible operation. This will ensure that no increments get lost."
   ]
  },
  {
   "cell_type": "markdown",
   "id": "08f4dded-26a7-4ef8-b981-e00c569ca4d0",
   "metadata": {
    "id": "08f4dded-26a7-4ef8-b981-e00c569ca4d0"
   },
   "source": [
    "Now let's profile our code."
   ]
  },
  {
   "cell_type": "code",
   "execution_count": 7,
   "id": "8dbd226c-66f2-43df-868a-6b024b1de24c",
   "metadata": {
    "id": "8dbd226c-66f2-43df-868a-6b024b1de24c",
    "outputId": "a082d13a-8e86-436d-c3de-8351f337d824",
    "colab": {
     "base_uri": "https://localhost:8080/"
    }
   },
   "outputs": [
    {
     "output_type": "stream",
     "name": "stdout",
     "text": [
      "==PROF== Connected to process 1318 (/usr/bin/python3.12)\n",
      "==PROF== Profiling \"histogram_global[abi:v1,cw51cXTLSUwv1sDUaKthrqNgqqmjgOR3W3Cw6igA9duC0hkwnNGiHEkYkrqQBFBTDEwCyQe21eqwcFW3UoDGjzpQEsgzrtUEAA_3d_3d]\": 0%....50%....100% - 30 passes\n",
      "==PROF== Disconnected from process 1318\n",
      "==PROF== Report: /content/histogram_global.ncu-rep\n"
     ]
    }
   ],
   "source": [
    "!ncu -f --kernel-name regex:histogram_global --set full -o histogram_global python histogram_global.py\n",
    "histogram_global_csv = !ncu --import histogram_global.ncu-rep --csv"
   ]
  },
  {
   "cell_type": "code",
   "execution_count": 8,
   "id": "ad12380e-253b-4410-ab34-9479411fdf81",
   "metadata": {
    "id": "ad12380e-253b-4410-ab34-9479411fdf81",
    "outputId": "f2326771-7c13-46fa-a489-bf494d76cc1e",
    "colab": {
     "base_uri": "https://localhost:8080/",
     "height": 1105,
     "referenced_widgets": [
      "a21053863aa949e484f30f47bcf5c045",
      "061f8098ad9a430aad63a106b4629fb5",
      "5e77669944a346e6b628004967e7ba75",
      "804c25036085410fbbcba82f19667d1d",
      "face58a5cc384e4cb2b75921d967b2c5",
      "899b07bbb6304e2a9143dece489f7775",
      "b881cf3221d54ac4a68c38792d53bdf5",
      "0d706bed98bf41eeb56205638c01f1ec",
      "2a50582b630a4e63a41f10adb53303e2",
      "dbf4eef8f47e4789a62977505c049825",
      "179ce686ac1f4e60b5d34951446ad599",
      "4d9753b4b11f425d9476d4f69932988c",
      "15e004fe6f924bf5887331f0ad9da19f",
      "f02f5a0cfd354371b95987c862f10637",
      "50cc8f97b44549faa0f202361f5f7e6c",
      "95e56a0ec4484f06aea59796d88e0464",
      "39e58d26a4a84b99ad768f93a7a3a8a5",
      "1edda20eae6441a99d31a1105f30b8c6",
      "05bad554df84498daf462d395e980f52",
      "af61114771e442e2bb8bc033e882dbe2",
      "ea81f1518f0d47b995f50df7e74f9329",
      "e9a4e840c12041809843a134cc29d791",
      "b6bfff789d354bdd8c630826eaae63b6",
      "0952fc28a1244c46befc2bed2cd7cb4c",
      "83f0975a18e0401d859f001422aebc74",
      "24c64a3e43f44f1bb65cee915d1aa9ce",
      "63f8786f07e74f4caef3ebf115110daa",
      "1006aafeb85f4ae9b1cabe28f33184f4",
      "0f94f91896304b3c861750946febeccc",
      "f47dbfc47f8647a38c370a2b7be404b2",
      "f440961da49a4e6c9185ae5f55373df3",
      "607214ca07174871b459e301eb7ad699",
      "f1930ef855f844ee947a1c9b07ed95a4"
     ]
    }
   },
   "outputs": [
    {
     "output_type": "display_data",
     "data": {
      "text/plain": [
       "<IPython.core.display.Javascript object>"
      ],
      "application/javascript": [
       "window[\"de51e67e-9ed4-11f0-a7c3-0242ac1c000c\"] = google.colab.output.setIframeHeight(-1, true, {\"interactive\": true, \"maxHeight\": 99999});\n",
       "//# sourceURL=js_65154ce01f"
      ]
     },
     "metadata": {}
    },
    {
     "output_type": "display_data",
     "data": {
      "text/plain": [
       "<IPython.core.display.HTML object>"
      ],
      "text/html": [
       "\n",
       "    <style>\n",
       "    /* Use JupyterLab theme variables when available */\n",
       "    .widget-tab .p-TabBar .p-TabBar-tabLabel {\n",
       "      color: var(--jp-ui-font-color1, inherit);\n",
       "    }\n",
       "    .widget-tab .p-TabBar-tab.p-mod-current .p-TabBar-tabLabel {\n",
       "      color: var(--jp-ui-font-color0, inherit);\n",
       "    }\n",
       "\n",
       "    /* Fallback for classic notebook / VS Code: follow OS theme */\n",
       "    @media (prefers-color-scheme: dark) {\n",
       "      .widget-tab .p-TabBar .p-TabBar-tabLabel { color: #eee; }\n",
       "      .widget-tab .p-TabBar-tab.p-mod-current .p-TabBar-tabLabel { color: #fff; }\n",
       "    }\n",
       "    @media (prefers-color-scheme: light) {\n",
       "      .widget-tab .p-TabBar .p-TabBar-tabLabel { color: #111; }\n",
       "      .widget-tab .p-TabBar-tab.p-mod-current .p-TabBar-tabLabel { color: #000; }\n",
       "    }\n",
       "\n",
       "    /* Make borders theme-aware too */\n",
       "    .widget-output, .widget-tab .p-TabBar {\n",
       "      border-color: var(--jp-border-color2, #ddd) !important;\n",
       "    }\n",
       "\n",
       "    /* Fit tab title to the length of text */\n",
       "    .widget-tab .p-TabBar-tab {\n",
       "      min-width: auto !important;\n",
       "      width: auto !important;\n",
       "      flex: 0 0 auto !important;\n",
       "    }\n",
       "\n",
       "    .widget-tab .p-TabBar-tabLabel {\n",
       "      white-space: nowrap !important;\n",
       "      text-overflow: clip !important;\n",
       "      overflow: visible !important;\n",
       "      padding: 0 0 !important;\n",
       "    }\n",
       "    </style>\n",
       "    "
      ]
     },
     "metadata": {}
    },
    {
     "output_type": "display_data",
     "data": {
      "text/plain": [
       "Dropdown(description='Kernel:', layout=Layout(width='400px'), options=('histogram_global',), style=Description…"
      ],
      "application/vnd.jupyter.widget-view+json": {
       "version_major": 2,
       "version_minor": 0,
       "model_id": "a21053863aa949e484f30f47bcf5c045"
      }
     },
     "metadata": {}
    },
    {
     "output_type": "display_data",
     "data": {
      "text/plain": [
       "Output()"
      ],
      "application/vnd.jupyter.widget-view+json": {
       "version_major": 2,
       "version_minor": 0,
       "model_id": "804c25036085410fbbcba82f19667d1d"
      }
     },
     "metadata": {}
    }
   ],
   "source": [
    "nsightful.display_ncu_csv_in_notebook(histogram_global_csv)"
   ]
  },
  {
   "cell_type": "markdown",
   "id": "e1f72831-780f-4cf5-8ff1-2092ecb193d9",
   "metadata": {
    "id": "e1f72831-780f-4cf5-8ff1-2092ecb193d9"
   },
   "source": [
    "We improved the code by separating loading from values from the histogram update and to perform striped loads using [cuda.cooperative](https://nvidia.github.io/cccl/python/cooperative.html)'s block load instead of doing the I/O by hand.\n",
    "\n",
    "While that helps a bit, our code still has major issues. It's taking thousand of cycles to issue a single operation!\n",
    "\n",
    "This is happening due to contention - we have hundreds of thousands of threads performing atomic updates to just 256 bins of a global histogram. All of those atomic operations have to happen in order, so they are serialized by the memory subsystem, destroying our parallelism.\n",
    "\n",
    "Instead, we can construct a local histogram for each block, which we will update atomically within the block. Then, we synchronize all of the threads within the block, and we perform atomic updates of the global histogram with the aggregate counts t"
   ]
  },
  {
   "cell_type": "code",
   "execution_count": 9,
   "id": "cf7c9865-646a-4bbd-9b41-61cadfc5484c",
   "metadata": {
    "colab": {
     "base_uri": "https://localhost:8080/"
    },
    "id": "cf7c9865-646a-4bbd-9b41-61cadfc5484c",
    "outputId": "851b231f-4431-4cf3-b857-c5a966a7162f"
   },
   "outputs": [
    {
     "output_type": "stream",
     "name": "stdout",
     "text": [
      "Writing histogram_localized.py\n"
     ]
    }
   ],
   "source": [
    "%%writefile histogram_localized.py\n",
    "\n",
    "from numba import cuda\n",
    "import cupy as cp\n",
    "import cupyx as cpx\n",
    "import cuda.coop as coop\n",
    "import sys\n",
    "import os\n",
    "\n",
    "bins = 256\n",
    "\n",
    "values = cp.fromfile(\"books__15m.txt\", dtype=cp.uint8)\n",
    "histogram = cp.zeros((bins), dtype=cp.int32)\n",
    "\n",
    "threads_per_block = 512 if len(sys.argv) < 3 else int(sys.argv[2])\n",
    "items_per_thread = 32 if len(sys.argv) < 4 else int(sys.argv[3])\n",
    "items_per_block = threads_per_block * items_per_thread\n",
    "blocks = int(len(values) / (threads_per_block * items_per_thread))\n",
    "assert values.size % items_per_block == 0\n",
    "\n",
    "block_load = coop.block.load(cp.uint8, threads_per_block, items_per_thread, 'striped')\n",
    "\n",
    "@cuda.jit(link=block_load.files)\n",
    "def histogram_localized(values, histogram):\n",
    "  items = cuda.local.array(items_per_thread, dtype=values.dtype)\n",
    "\n",
    "  base = cuda.blockIdx.x * items_per_block\n",
    "\n",
    "  block_load(values[base : base + items_per_block], items)\n",
    "\n",
    "  local_histogram = cuda.shared.array(bins, dtype=histogram.dtype)\n",
    "\n",
    "  for i in range(0, bins, threads_per_block):\n",
    "    bin = i + cuda.threadIdx.x\n",
    "    if bin < local_histogram.size:\n",
    "      local_histogram[bin] = 0\n",
    "\n",
    "  cuda.syncthreads()\n",
    "\n",
    "  for i in range(items_per_thread):\n",
    "    cuda.atomic.add(local_histogram, items[i], 1)\n",
    "\n",
    "  cuda.syncthreads()\n",
    "\n",
    "  for i in range(0, bins, threads_per_block):\n",
    "    bin = i + cuda.threadIdx.x\n",
    "    if bin < histogram.size:\n",
    "      cuda.atomic.add(histogram, bin, local_histogram[bin])\n",
    "\n",
    "def launch(check, output):\n",
    "  histogram[:] = 0 # Reset histogram to 0 each trial.\n",
    "  histogram_localized[blocks, threads_per_block](values, histogram)\n",
    "\n",
    "  if (check):\n",
    "    assert cp.sum(histogram) == len(values)\n",
    "\n",
    "  if (output):\n",
    "    cp.savetxt(sys.stdout, histogram, delimiter=\",\", fmt=\"%i\")\n",
    "\n",
    "if len(sys.argv) >= 2 and sys.argv[1] == \"output\":\n",
    "  launch(check=True, output=True)\n",
    "elif os.getenv(\"NV_COMPUTE_PROFILER_PERFWORKS_DIR\"): # Running under `ncu`.\n",
    "  launch(check=False, output=False) # `ncu` slows things down; so just launch once when running under it.\n",
    "else:\n",
    "  launch(check=True, output=False)\n",
    "  D = cpx.profiler.benchmark(launch, (False, False), n_repeat=15, n_warmup=4).gpu_times[0]\n",
    "  print(f\"{D.mean():.3g} s ± {(D.std() / D.mean()):.2%} (mean ± relative stdev of {D.size} runs)\")"
   ]
  },
  {
   "cell_type": "markdown",
   "id": "d2de69a4-644d-481d-b2c7-a8674616e9e2",
   "metadata": {
    "id": "d2de69a4-644d-481d-b2c7-a8674616e9e2"
   },
   "source": [
    "Let's make sure it runs correctly:"
   ]
  },
  {
   "cell_type": "code",
   "execution_count": 10,
   "id": "1b30e9b3-5a4c-4181-b642-b7def5e9f258",
   "metadata": {
    "colab": {
     "base_uri": "https://localhost:8080/"
    },
    "id": "1b30e9b3-5a4c-4181-b642-b7def5e9f258",
    "outputId": "3a04d1d0-3409-441c-af2a-3138e9dec324"
   },
   "outputs": [
    {
     "output_type": "stream",
     "name": "stdout",
     "text": [
      "0.000714 s ± 2.97% (mean ± relative stdev of 15 runs)\n"
     ]
    }
   ],
   "source": [
    "!python histogram_localized.py"
   ]
  },
  {
   "cell_type": "code",
   "execution_count": 11,
   "id": "73f0c3cd-349b-490f-b6bd-7afbeb442fff",
   "metadata": {
    "colab": {
     "base_uri": "https://localhost:8080/",
     "height": 487
    },
    "id": "73f0c3cd-349b-490f-b6bd-7afbeb442fff",
    "outputId": "01324ca9-72c3-4317-a5be-f0bf144b7b7c"
   },
   "outputs": [
    {
     "output_type": "display_data",
     "data": {
      "text/plain": [
       "<Figure size 640x480 with 1 Axes>"
      ],
      "image/png": "[encoded data removed]"
     },
     "metadata": {}
    }
   ],
   "source": [
    "histogram_output = !python histogram_localized.py output\n",
    "histogram = np.loadtxt(histogram_output, delimiter=\",\")\n",
    "\n",
    "# Print most frequently occuring characters.\n",
    "pairs = sorted(((i,c) for i,c in enumerate(histogram) if c), key=lambda x: x[1], reverse=True)[:20]\n",
    "labels = [('SPACE' if i==32 else chr(i)) if 32<=i<=126 else f'0x{i:02X}' for i,_ in pairs]\n",
    "plt.barh(labels[::-1], [c for _,c in pairs][::-1]); plt.xlabel('count'); plt.tight_layout(); plt.show()"
   ]
  },
  {
   "cell_type": "markdown",
   "id": "06857a59-20f3-4e39-aece-18cfbb514170",
   "metadata": {
    "id": "06857a59-20f3-4e39-aece-18cfbb514170"
   },
   "source": [
    "Now let's profile it:"
   ]
  },
  {
   "cell_type": "code",
   "execution_count": 12,
   "id": "d637b6b1-fb0b-4807-b70b-c80227c0fd6f",
   "metadata": {
    "id": "d637b6b1-fb0b-4807-b70b-c80227c0fd6f",
    "outputId": "e3790713-5a2e-4b51-dd2c-182b8bc27a5b",
    "colab": {
     "base_uri": "https://localhost:8080/"
    }
   },
   "outputs": [
    {
     "output_type": "stream",
     "name": "stdout",
     "text": [
      "==PROF== Connected to process 1492 (/usr/bin/python3.12)\n",
      "==PROF== Profiling \"histogram_localized[abi:v1,cw51cXTLSUwv1sDUaKthrqNgqqmjgOR3W3Cw6igA9duC0hkwnNGiHEkYkrqQBFBTDEwCyQe21eqwcFW3UoDGjzpQEsgzrtUEAA_3d_3d]\": 0%....50%....100% - 30 passes\n",
      "==PROF== Disconnected from process 1492\n",
      "==PROF== Report: /content/histogram_localized.ncu-rep\n"
     ]
    }
   ],
   "source": [
    "!ncu -f --kernel-name regex:histogram_localized --set full -o histogram_localized python histogram_localized.py\n",
    "histogram_localized_csv = !ncu --import histogram_localized.ncu-rep --csv"
   ]
  },
  {
   "cell_type": "code",
   "execution_count": 13,
   "id": "114e8ff7-b6fb-42ad-abda-f6d53479c052",
   "metadata": {
    "id": "114e8ff7-b6fb-42ad-abda-f6d53479c052",
    "outputId": "1936cb5f-6708-45bc-ee39-e01ddc857b89",
    "colab": {
     "base_uri": "https://localhost:8080/",
     "height": 1111,
     "referenced_widgets": [
      "72eba4c5f11b49fb89df581268cc1ddc",
      "277a7612626b44a0b009d28fe486ab3d",
      "6f476f6ca14a45699799d56dedbfc4a9",
      "29f54431514146cea6e08d352058ccfd",
      "a48f630bb3584ce294f2e79d60c4b40e",
      "a122e99121234ce396fa20aa6e462574",
      "ea2f4b91760f475ebc10da01166b63b8",
      "8d3c55d6d03b4d79aba3d5e7b1a73f2e",
      "2a64bde12026429db15794fad73e7759",
      "75a37b0df227406d87849b8ccc0e8cc8",
      "0dcbea49322640a28c4f3459ea50c204",
      "2bf258c6b7734068a20ed1fe5bcacf61",
      "a130d437cec947d3ad49ab36fcfe1ef6",
      "77b1acef7c294c85a13b408d4763b865",
      "b8afefd142c641dd8733d7695d9cf14a",
      "6439cea566ff46e08f08022e1c0d40d6",
      "c799b237ce024a29b2e23307a7ff9e67",
      "c92de1f9425a4f2f85bb07555c3d51a1",
      "16d240c1461a444ea9cdbbd4a856e8f3",
      "c8a33b735706409e93422519ca88fd38",
      "650c0471ffea4b4bad75444a904978b1",
      "da059452a8744262a3ebfec6543107bf",
      "bb74cb5d3eb042e0b148a8554236a950",
      "9f7ceb76de8e4d9c8a6d03403fc87038",
      "cb604331c58f43bda3a0135cc761ef22",
      "f2ef2b3576a54144a9faadd4ea42f0f4",
      "9aee114e6f204e139cad4e9797cd9cc5",
      "9c1ff914f65345ddba6465fc350ffa77",
      "2ebcfbe930ca4061a86c8f1ea87b8eb0",
      "64037d07a15d4e238471eeccce3d0ead",
      "f261d85898c54dc9a72eaf5bda2703ca",
      "d7db1b0b42b948ae8c3b97b059f68cdb",
      "fd8251af0c4743e29b89a76a73a27af4"
     ]
    }
   },
   "outputs": [
    {
     "output_type": "display_data",
     "data": {
      "text/plain": [
       "<IPython.core.display.Javascript object>"
      ],
      "application/javascript": [
       "window[\"e7c6b518-9ed4-11f0-a7c3-0242ac1c000c\"] = google.colab.output.setIframeHeight(-1, true, {\"interactive\": true, \"maxHeight\": 99999});\n",
       "//# sourceURL=js_abfc25056c"
      ]
     },
     "metadata": {}
    },
    {
     "output_type": "display_data",
     "data": {
      "text/plain": [
       "<IPython.core.display.HTML object>"
      ],
      "text/html": [
       "\n",
       "    <style>\n",
       "    /* Use JupyterLab theme variables when available */\n",
       "    .widget-tab .p-TabBar .p-TabBar-tabLabel {\n",
       "      color: var(--jp-ui-font-color1, inherit);\n",
       "    }\n",
       "    .widget-tab .p-TabBar-tab.p-mod-current .p-TabBar-tabLabel {\n",
       "      color: var(--jp-ui-font-color0, inherit);\n",
       "    }\n",
       "\n",
       "    /* Fallback for classic notebook / VS Code: follow OS theme */\n",
       "    @media (prefers-color-scheme: dark) {\n",
       "      .widget-tab .p-TabBar .p-TabBar-tabLabel { color: #eee; }\n",
       "      .widget-tab .p-TabBar-tab.p-mod-current .p-TabBar-tabLabel { color: #fff; }\n",
       "    }\n",
       "    @media (prefers-color-scheme: light) {\n",
       "      .widget-tab .p-TabBar .p-TabBar-tabLabel { color: #111; }\n",
       "      .widget-tab .p-TabBar-tab.p-mod-current .p-TabBar-tabLabel { color: #000; }\n",
       "    }\n",
       "\n",
       "    /* Make borders theme-aware too */\n",
       "    .widget-output, .widget-tab .p-TabBar {\n",
       "      border-color: var(--jp-border-color2, #ddd) !important;\n",
       "    }\n",
       "\n",
       "    /* Fit tab title to the length of text */\n",
       "    .widget-tab .p-TabBar-tab {\n",
       "      min-width: auto !important;\n",
       "      width: auto !important;\n",
       "      flex: 0 0 auto !important;\n",
       "    }\n",
       "\n",
       "    .widget-tab .p-TabBar-tabLabel {\n",
       "      white-space: nowrap !important;\n",
       "      text-overflow: clip !important;\n",
       "      overflow: visible !important;\n",
       "      padding: 0 0 !important;\n",
       "    }\n",
       "    </style>\n",
       "    "
      ]
     },
     "metadata": {}
    },
    {
     "output_type": "display_data",
     "data": {
      "text/plain": [
       "Dropdown(description='Kernel:', layout=Layout(width='400px'), options=('histogram_localized',), style=Descript…"
      ],
      "application/vnd.jupyter.widget-view+json": {
       "version_major": 2,
       "version_minor": 0,
       "model_id": "72eba4c5f11b49fb89df581268cc1ddc"
      }
     },
     "metadata": {}
    },
    {
     "output_type": "display_data",
     "data": {
      "text/plain": [
       "Output()"
      ],
      "application/vnd.jupyter.widget-view+json": {
       "version_major": 2,
       "version_minor": 0,
       "model_id": "29f54431514146cea6e08d352058ccfd"
      }
     },
     "metadata": {}
    }
   ],
   "source": [
    "nsightful.display_ncu_csv_in_notebook(histogram_localized_csv)"
   ]
  },
  {
   "cell_type": "markdown",
   "id": "9aa1da9a-097a-4f7f-9e96-8891f5d7a2a2",
   "metadata": {
    "id": "9aa1da9a-097a-4f7f-9e96-8891f5d7a2a2"
   },
   "source": [
    "Finally, let's benchmark our two approaches."
   ]
  },
  {
   "cell_type": "code",
   "execution_count": 14,
   "id": "2a3f9ca4-b61b-4536-9896-7a41498cc986",
   "metadata": {
    "colab": {
     "base_uri": "https://localhost:8080/"
    },
    "id": "2a3f9ca4-b61b-4536-9896-7a41498cc986",
    "outputId": "08bb2e07-1dda-4cf1-c2d3-7125d575cd8f"
   },
   "outputs": [
    {
     "output_type": "stream",
     "name": "stdout",
     "text": [
      "histogram_global:    0.00881 s ± 1.13% (mean ± relative stdev of 15 runs)\n",
      "histogram_localized: 0.000707 s ± 3.10% (mean ± relative stdev of 15 runs)\n",
      "histogram_localized speedup over histogram_global: 12.46\n"
     ]
    }
   ],
   "source": [
    "histogram_global_duration    = !python histogram_global.py\n",
    "histogram_localized_duration = !python histogram_localized.py\n",
    "speedup = float(histogram_global_duration[0].split()[0]) / float(histogram_localized_duration[0].split()[0])\n",
    "\n",
    "print(f\"histogram_global:    {histogram_global_duration[0]}\")\n",
    "print(f\"histogram_localized: {histogram_localized_duration[0]}\")\n",
    "print(f\"histogram_localized speedup over histogram_global: {speedup:.2f}\")"
   ]
  }
 ],
 "metadata": {
  "kernelspec": {
   "display_name": "Python 3",
   "name": "python3"
  },
  "language_info": {
   "codemirror_mode": {
    "name": "ipython",
    "version": 3
   },
   "file_extension": ".py",
   "mimetype": "text/x-python",
   "name": "python",
   "nbconvert_exporter": "python",
   "pygments_lexer": "ipython3",
   "version": "3.13.7"
  },
  "colab": {
   "provenance": [],
   "gpuType": "T4"
  },
  "accelerator": "GPU",
  "widgets": {
   "application/vnd.jupyter.widget-state+json": {
    "a21053863aa949e484f30f47bcf5c045": {
     "model_module": "@jupyter-widgets/controls",
     "model_name": "DropdownModel",
     "model_module_version": "1.5.0",
     "state": {
      "_dom_classes": [],
      "_model_module": "@jupyter-widgets/controls",
      "_model_module_version": "1.5.0",
      "_model_name": "DropdownModel",
      "_options_labels": [
       "histogram_global"
      ],
      "_view_count": null,
      "_view_module": "@jupyter-widgets/controls",
      "_view_module_version": "1.5.0",
      "_view_name": "DropdownView",
      "description": "Kernel:",
      "description_tooltip": null,
      "disabled": false,
      "index": 0,
      "layout": "IPY_MODEL_061f8098ad9a430aad63a106b4629fb5",
      "style": "IPY_MODEL_5e77669944a346e6b628004967e7ba75"
     }
    },
    "061f8098ad9a430aad63a106b4629fb5": {
     "model_module": "@jupyter-widgets/base",
     "model_name": "LayoutModel",
     "model_module_version": "1.2.0",
     "state": {
      "_model_module": "@jupyter-widgets/base",
      "_model_module_version": "1.2.0",
      "_model_name": "LayoutModel",
      "_view_count": null,
      "_view_module": "@jupyter-widgets/base",
      "_view_module_version": "1.2.0",
      "_view_name": "LayoutView",
      "align_content": null,
      "align_items": null,
      "align_self": null,
      "border": null,
      "bottom": null,
      "display": null,
      "flex": null,
      "flex_flow": null,
      "grid_area": null,
      "grid_auto_columns": null,
      "grid_auto_flow": null,
      "grid_auto_rows": null,
      "grid_column": null,
      "grid_gap": null,
      "grid_row": null,
      "grid_template_areas": null,
      "grid_template_columns": null,
      "grid_template_rows": null,
      "height": null,
      "justify_content": null,
      "justify_items": null,
      "left": null,
      "margin": null,
      "max_height": null,
      "max_width": null,
      "min_height": null,
      "min_width": null,
      "object_fit": null,
      "object_position": null,
      "order": null,
      "overflow": null,
      "overflow_x": null,
      "overflow_y": null,
      "padding": null,
      "right": null,
      "top": null,
      "visibility": null,
      "width": "400px"
     }
    },
    "5e77669944a346e6b628004967e7ba75": {
     "model_module": "@jupyter-widgets/controls",
     "model_name": "DescriptionStyleModel",
     "model_module_version": "1.5.0",
     "state": {
      "_model_module": "@jupyter-widgets/controls",
      "_model_module_version": "1.5.0",
      "_model_name": "DescriptionStyleModel",
      "_view_count": null,
      "_view_module": "@jupyter-widgets/base",
      "_view_module_version": "1.2.0",
      "_view_name": "StyleView",
      "description_width": "initial"
     }
    },
    "804c25036085410fbbcba82f19667d1d": {
     "model_module": "@jupyter-widgets/output",
     "model_name": "OutputModel",
     "model_module_version": "1.0.0",
     "state": {
      "_dom_classes": [],
      "_model_module": "@jupyter-widgets/output",
      "_model_module_version": "1.0.0",
      "_model_name": "OutputModel",
      "_view_count": null,
      "_view_module": "@jupyter-widgets/output",
      "_view_module_version": "1.0.0",
      "_view_name": "OutputView",
      "layout": "IPY_MODEL_face58a5cc384e4cb2b75921d967b2c5",
      "msg_id": "",
      "outputs": [
       {
        "output_type": "display_data",
        "data": {
         "text/plain": "<IPython.core.display.Markdown object>",
         "text/markdown": "# histogram_global"
        },
        "metadata": {}
       },
       {
        "output_type": "display_data",
        "data": {
         "text/plain": "Tab(children=(Output(), Output(), Output(), Output(), Output(), Output(), Output(), Output(), Output(), Output…",
         "application/vnd.jupyter.widget-view+json": {
          "version_major": 2,
          "version_minor": 0,
          "model_id": "899b07bbb6304e2a9143dece489f7775"
         }
        },
        "metadata": {}
       }
      ]
     }
    },
    "face58a5cc384e4cb2b75921d967b2c5": {
     "model_module": "@jupyter-widgets/base",
     "model_name": "LayoutModel",
     "model_module_version": "1.2.0",
     "state": {
      "_model_module": "@jupyter-widgets/base",
      "_model_module_version": "1.2.0",
      "_model_name": "LayoutModel",
      "_view_count": null,
      "_view_module": "@jupyter-widgets/base",
      "_view_module_version": "1.2.0",
      "_view_name": "LayoutView",
      "align_content": null,
      "align_items": null,
      "align_self": null,
      "border": null,
      "bottom": null,
      "display": null,
      "flex": null,
      "flex_flow": null,
      "grid_area": null,
      "grid_auto_columns": null,
      "grid_auto_flow": null,
      "grid_auto_rows": null,
      "grid_column": null,
      "grid_gap": null,
      "grid_row": null,
      "grid_template_areas": null,
      "grid_template_columns": null,
      "grid_template_rows": null,
      "height": null,
      "justify_content": null,
      "justify_items": null,
      "left": null,
      "margin": null,
      "max_height": null,
      "max_width": null,
      "min_height": null,
      "min_width": null,
      "object_fit": null,
      "object_position": null,
      "order": null,
      "overflow": null,
      "overflow_x": null,
      "overflow_y": null,
      "padding": null,
      "right": null,
      "top": null,
      "visibility": null,
      "width": null
     }
    },
    "899b07bbb6304e2a9143dece489f7775": {
     "model_module": "@jupyter-widgets/controls",
     "model_name": "TabModel",
     "model_module_version": "1.5.0",
     "state": {
      "_dom_classes": [],
      "_model_module": "@jupyter-widgets/controls",
      "_model_module_version": "1.5.0",
      "_model_name": "TabModel",
      "_titles": {
       "0": "Summary",
       "1": "Speed Of Light",
       "2": "Memory Workload",
       "3": "Compute Workload",
       "4": "Compute & Memory Distribution",
       "5": "Scheduler",
       "6": "Warp State",
       "7": "Instruction",
       "8": "Launch",
       "9": "PM Sampling",
       "10": "Occupancy",
       "11": "Source Counters",
       "12": "WorkloadDistribution"
      },
      "_view_count": null,
      "_view_module": "@jupyter-widgets/controls",
      "_view_module_version": "1.5.0",
      "_view_name": "TabView",
      "box_style": "",
      "children": [
       "IPY_MODEL_b881cf3221d54ac4a68c38792d53bdf5",
       "IPY_MODEL_0d706bed98bf41eeb56205638c01f1ec",
       "IPY_MODEL_2a50582b630a4e63a41f10adb53303e2",
       "IPY_MODEL_dbf4eef8f47e4789a62977505c049825",
       "IPY_MODEL_179ce686ac1f4e60b5d34951446ad599",
       "IPY_MODEL_4d9753b4b11f425d9476d4f69932988c",
       "IPY_MODEL_15e004fe6f924bf5887331f0ad9da19f",
       "IPY_MODEL_f02f5a0cfd354371b95987c862f10637",
       "IPY_MODEL_50cc8f97b44549faa0f202361f5f7e6c",
       "IPY_MODEL_95e56a0ec4484f06aea59796d88e0464",
       "IPY_MODEL_39e58d26a4a84b99ad768f93a7a3a8a5",
       "IPY_MODEL_1edda20eae6441a99d31a1105f30b8c6",
       "IPY_MODEL_05bad554df84498daf462d395e980f52"
      ],
      "layout": "IPY_MODEL_af61114771e442e2bb8bc033e882dbe2",
      "selected_index": 0
     }
    },
    "b881cf3221d54ac4a68c38792d53bdf5": {
     "model_module": "@jupyter-widgets/output",
     "model_name": "OutputModel",
     "model_module_version": "1.0.0",
     "state": {
      "_dom_classes": [],
      "_model_module": "@jupyter-widgets/output",
      "_model_module_version": "1.0.0",
      "_model_name": "OutputModel",
      "_view_count": null,
      "_view_module": "@jupyter-widgets/output",
      "_view_module_version": "1.0.0",
      "_view_name": "OutputView",
      "layout": "IPY_MODEL_ea81f1518f0d47b995f50df7e74f9329",
      "msg_id": "",
      "outputs": [
       {
        "output_type": "display_data",
        "data": {
         "text/plain": "<IPython.core.display.Markdown object>",
         "text/markdown": "## Summary\n\n### Speed Of Light\n\n🔧 **OPTIMIZATION**: This kernel exhibits low compute throughput and memory bandwidth utilization relative to the peak performance of this device. Achieved compute throughput and/or memory bandwidth below 60.0% of peak typically indicate latency issues. Look at Scheduler Statistics and Warp State Statistics for potential reasons.\n\nℹ️ **INFO**: The ratio of peak float (fp32) to double (fp64) performance on this device is 32:1. The kernel achieved 0% of this device's fp32 peak performance and 0% of its fp64 peak performance. See the Kernel Profiling Guide (https://docs.nvidia.com/nsight-compute/ProfilingGuide/index.html#roofline) for more details on roofline analysis.\n\n### Memory Workload\n\n⚠️ **WARNING**: The optional metric lts__average_gcomp_input_sector_success_rate.pct could not be found. Collecting it as an additional metric could enable the rule to provide more guidance.\n\n🔧 **OPTIMIZATION**: The memory access pattern for global loads from L1TEX might not be optimal. On average, only 4.0 of the 32 bytes transmitted per sector are utilized by each thread. This could possibly be caused by a stride between threads. Check the Source Counters section for uncoalesced global loads.\n*Estimated Speedup (global): 11.55%*\n\n### Compute Workload\n\n🔧 **OPTIMIZATION**: All compute pipelines are under-utilized. Either this kernel is very small or it doesn't issue enough warps per scheduler. Check the Launch Statistics and Scheduler Statistics sections for further details.\n*Estimated Speedup (local): 99.85%*\n\n### Scheduler\n\n🔧 **OPTIMIZATION**: Every scheduler is capable of issuing one instruction per cycle, but for this kernel each scheduler only issues an instruction every 335.6 cycles. This might leave hardware resources underutilized and may lead to less optimal performance. Out of the maximum of 8 warps per scheduler, this kernel allocates an average of 7.35 active warps per scheduler, but only an average of 0.01 warps were eligible per cycle. Eligible warps are the subset of active warps that are ready to issue their next instruction. Every cycle with no eligible warp results in no instruction being issued and the issue slot remains unused. To increase the number of eligible warps, avoid possible load imbalances due to highly different execution durations per warp. Reducing stalls indicated on the Warp State Statistics and Source Counters sections can help, too.\n*Estimated Speedup (local): 93.4%*\n\n### Warp State\n\n🔧 **OPTIMIZATION**: On average, each warp of this kernel spends 1886.3 cycles being stalled waiting for the L1 instruction queue for local and global (LG) memory operations to be not full. Typically, this stall occurs only when executing local or global memory instructions extremely frequently. Avoid redundant global memory accesses. Try to avoid using thread-local memory by checking if dynamically indexed arrays are declared in local scope, of if the kernel has excessive register pressure causing by spills. If applicable, consider combining multiple lower-width memory operations into fewer wider memory operations and try interleaving memory operations and math instructions. This stall type represents about 76.4% of the total average of 2467.5 cycles between issuing two instructions.\n*Estimated Speedup (global): 76.45%*\n\nℹ️ **INFO**: Check the Warp Stall Sampling (All Samples) table for the top stall locations in your source based on sampling data. The Kernel Profiling Guide (https://docs.nvidia.com/nsight-compute/ProfilingGuide/index.html#metrics-reference) provides more details on each stall reason.\n\n### Source Counters\n\n🔧 **OPTIMIZATION**: This kernel has uncoalesced global accesses resulting in a total of 4988724 excessive sectors (68% of the total 7329833 sectors). Check the L2 Theoretical Sectors Global Excessive table for the primary source locations. The CUDA Programming Guide (https://docs.nvidia.com/cuda/cuda-c-programming-guide/index.html#device-memory-accesses) has additional information on reducing uncoalesced device memory accesses.\n*Estimated Speedup (global): 6.919%*\n\n### WorkloadDistribution\n\n🔧 **OPTIMIZATION**: One or more L2 Slices have a much higher number of active cycles than the average number of active cycles. Maximum instance value is 89.83% above the average, while the minimum instance value is 60.99% below the average.\n*Estimated Speedup (global): 9.132%*\n"
        },
        "metadata": {}
       }
      ]
     }
    },
    "0d706bed98bf41eeb56205638c01f1ec": {
     "model_module": "@jupyter-widgets/output",
     "model_name": "OutputModel",
     "model_module_version": "1.0.0",
     "state": {
      "_dom_classes": [],
      "_model_module": "@jupyter-widgets/output",
      "_model_module_version": "1.0.0",
      "_model_name": "OutputModel",
      "_view_count": null,
      "_view_module": "@jupyter-widgets/output",
      "_view_module_version": "1.0.0",
      "_view_name": "OutputView",
      "layout": "IPY_MODEL_e9a4e840c12041809843a134cc29d791",
      "msg_id": "",
      "outputs": [
       {
        "output_type": "display_data",
        "data": {
         "text/plain": "<IPython.core.display.Markdown object>",
         "text/markdown": "## Speed Of Light\n\n| Metric Name | Metric Unit | Metric Value |\n|-------------|-------------|--------------|\n| DRAM Frequency | Ghz | 5.00 |\n| SM Frequency | Mhz | 584.99 |\n| Elapsed Cycles | cycle | 4,835,673 |\n| Memory Throughput | % | 6.60 |\n| DRAM Throughput | % | 0.79 |\n| Duration | ms | 8.27 |\n| L1/TEX Cache Throughput | % | 13.20 |\n| L2 Cache Throughput | % | 5.65 |\n| SM Active Cycles | cycle | 4,808,396.12 |\n| Compute (SM) Throughput | % | 1.44 |\n\n🔧 **OPTIMIZATION**: This kernel exhibits low compute throughput and memory bandwidth utilization relative to the peak performance of this device. Achieved compute throughput and/or memory bandwidth below 60.0% of peak typically indicate latency issues. Look at Scheduler Statistics and Warp State Statistics for potential reasons.\n\nℹ️ **INFO**: The ratio of peak float (fp32) to double (fp64) performance on this device is 32:1. The kernel achieved 0% of this device's fp32 peak performance and 0% of its fp64 peak performance. See the Kernel Profiling Guide (https://docs.nvidia.com/nsight-compute/ProfilingGuide/index.html#roofline) for more details on roofline analysis.\n"
        },
        "metadata": {}
       }
      ]
     }
    },
    "2a50582b630a4e63a41f10adb53303e2": {
     "model_module": "@jupyter-widgets/output",
     "model_name": "OutputModel",
     "model_module_version": "1.0.0",
     "state": {
      "_dom_classes": [],
      "_model_module": "@jupyter-widgets/output",
      "_model_module_version": "1.0.0",
      "_model_name": "OutputModel",
      "_view_count": null,
      "_view_module": "@jupyter-widgets/output",
      "_view_module_version": "1.0.0",
      "_view_name": "OutputView",
      "layout": "IPY_MODEL_b6bfff789d354bdd8c630826eaae63b6",
      "msg_id": "",
      "outputs": [
       {
        "output_type": "display_data",
        "data": {
         "text/plain": "<IPython.core.display.Markdown object>",
         "text/markdown": "## Memory Workload\n\n| Metric Name | Metric Unit | Metric Value |\n|-------------|-------------|--------------|\n| Memory Throughput | Gbyte/s | 2.53 |\n| Mem Busy | % | 4.12 |\n| Max Bandwidth | % | 6.60 |\n| L1/TEX Hit Rate | % | 26.05 |\n| L2 Hit Rate | % | 94.95 |\n| Mem Pipes Busy | % | 1.44 |\n\n⚠️ **WARNING**: The optional metric lts__average_gcomp_input_sector_success_rate.pct could not be found. Collecting it as an additional metric could enable the rule to provide more guidance.\n\n🔧 **OPTIMIZATION**: The memory access pattern for global loads from L1TEX might not be optimal. On average, only 4.0 of the 32 bytes transmitted per sector are utilized by each thread. This could possibly be caused by a stride between threads. Check the Source Counters section for uncoalesced global loads.\n*Estimated Speedup (global): 11.55%*\n"
        },
        "metadata": {}
       }
      ]
     }
    },
    "dbf4eef8f47e4789a62977505c049825": {
     "model_module": "@jupyter-widgets/output",
     "model_name": "OutputModel",
     "model_module_version": "1.0.0",
     "state": {
      "_dom_classes": [],
      "_model_module": "@jupyter-widgets/output",
      "_model_module_version": "1.0.0",
      "_model_name": "OutputModel",
      "_view_count": null,
      "_view_module": "@jupyter-widgets/output",
      "_view_module_version": "1.0.0",
      "_view_name": "OutputView",
      "layout": "IPY_MODEL_0952fc28a1244c46befc2bed2cd7cb4c",
      "msg_id": "",
      "outputs": [
       {
        "output_type": "display_data",
        "data": {
         "text/plain": "<IPython.core.display.Markdown object>",
         "text/markdown": "## Compute Workload\n\n| Metric Name | Metric Unit | Metric Value |\n|-------------|-------------|--------------|\n| Executed Ipc Active | inst/cycle | 0.01 |\n| Executed Ipc Elapsed | inst/cycle | 0.01 |\n| Issue Slots Busy | % | 0.30 |\n| Issued Ipc Active | inst/cycle | 0.01 |\n| SM Busy | % | 0.37 |\n\n🔧 **OPTIMIZATION**: All compute pipelines are under-utilized. Either this kernel is very small or it doesn't issue enough warps per scheduler. Check the Launch Statistics and Scheduler Statistics sections for further details.\n*Estimated Speedup (local): 99.85%*\n"
        },
        "metadata": {}
       }
      ]
     }
    },
    "179ce686ac1f4e60b5d34951446ad599": {
     "model_module": "@jupyter-widgets/output",
     "model_name": "OutputModel",
     "model_module_version": "1.0.0",
     "state": {
      "_dom_classes": [],
      "_model_module": "@jupyter-widgets/output",
      "_model_module_version": "1.0.0",
      "_model_name": "OutputModel",
      "_view_count": null,
      "_view_module": "@jupyter-widgets/output",
      "_view_module_version": "1.0.0",
      "_view_name": "OutputView",
      "layout": "IPY_MODEL_83f0975a18e0401d859f001422aebc74",
      "msg_id": "",
      "outputs": [
       {
        "output_type": "display_data",
        "data": {
         "text/plain": "<IPython.core.display.Markdown object>",
         "text/markdown": "## Compute & Memory Distribution\n\n| Metric Name | Metric Unit | Metric Value |\n|-------------|-------------|--------------|\n| Average DRAM Active Cycles | cycle | 326,938.50 |\n| Total DRAM Elapsed Cycles | cycle | 330,405,888 |\n| Average L1 Active Cycles | cycle | 4,808,396.12 |\n| Total L1 Elapsed Cycles | cycle | 193,385,088 |\n| Average L2 Active Cycles | cycle | 718,498.38 |\n| Total L2 Elapsed Cycles | cycle | 226,160,704 |\n| Average SM Active Cycles | cycle | 4,808,396.12 |\n| Total SM Elapsed Cycles | cycle | 193,385,088 |\n| Average SMSP Active Cycles | cycle | 4,807,310.28 |\n| Total SMSP Elapsed Cycles | cycle | 773,540,352 |\n"
        },
        "metadata": {}
       }
      ]
     }
    },
    "4d9753b4b11f425d9476d4f69932988c": {
     "model_module": "@jupyter-widgets/output",
     "model_name": "OutputModel",
     "model_module_version": "1.0.0",
     "state": {
      "_dom_classes": [],
      "_model_module": "@jupyter-widgets/output",
      "_model_module_version": "1.0.0",
      "_model_name": "OutputModel",
      "_view_count": null,
      "_view_module": "@jupyter-widgets/output",
      "_view_module_version": "1.0.0",
      "_view_name": "OutputView",
      "layout": "IPY_MODEL_24c64a3e43f44f1bb65cee915d1aa9ce",
      "msg_id": "",
      "outputs": [
       {
        "output_type": "display_data",
        "data": {
         "text/plain": "<IPython.core.display.Markdown object>",
         "text/markdown": "## Scheduler\n\n| Metric Name | Metric Unit | Metric Value |\n|-------------|-------------|--------------|\n| One or More Eligible | % | 0.30 |\n| Issued Warp Per Scheduler |  | 0.00 |\n| No Eligible | % | 99.70 |\n| Active Warps Per Scheduler | warp | 7.35 |\n| Eligible Warps Per Scheduler | warp | 0.01 |\n\n🔧 **OPTIMIZATION**: Every scheduler is capable of issuing one instruction per cycle, but for this kernel each scheduler only issues an instruction every 335.6 cycles. This might leave hardware resources underutilized and may lead to less optimal performance. Out of the maximum of 8 warps per scheduler, this kernel allocates an average of 7.35 active warps per scheduler, but only an average of 0.01 warps were eligible per cycle. Eligible warps are the subset of active warps that are ready to issue their next instruction. Every cycle with no eligible warp results in no instruction being issued and the issue slot remains unused. To increase the number of eligible warps, avoid possible load imbalances due to highly different execution durations per warp. Reducing stalls indicated on the Warp State Statistics and Source Counters sections can help, too.\n*Estimated Speedup (local): 93.4%*\n"
        },
        "metadata": {}
       }
      ]
     }
    },
    "15e004fe6f924bf5887331f0ad9da19f": {
     "model_module": "@jupyter-widgets/output",
     "model_name": "OutputModel",
     "model_module_version": "1.0.0",
     "state": {
      "_dom_classes": [],
      "_model_module": "@jupyter-widgets/output",
      "_model_module_version": "1.0.0",
      "_model_name": "OutputModel",
      "_view_count": null,
      "_view_module": "@jupyter-widgets/output",
      "_view_module_version": "1.0.0",
      "_view_name": "OutputView",
      "layout": "IPY_MODEL_63f8786f07e74f4caef3ebf115110daa",
      "msg_id": "",
      "outputs": [
       {
        "output_type": "display_data",
        "data": {
         "text/plain": "<IPython.core.display.Markdown object>",
         "text/markdown": "## Warp State\n\n| Metric Name | Metric Unit | Metric Value |\n|-------------|-------------|--------------|\n| Warp Cycles Per Issued Instruction | cycle | 2,467.51 |\n| Warp Cycles Per Executed Instruction | cycle | 2,473.27 |\n| Avg. Active Threads Per Warp |  | 32 |\n| Avg. Not Predicated Off Threads Per Warp |  | 32 |\n\n🔧 **OPTIMIZATION**: On average, each warp of this kernel spends 1886.3 cycles being stalled waiting for the L1 instruction queue for local and global (LG) memory operations to be not full. Typically, this stall occurs only when executing local or global memory instructions extremely frequently. Avoid redundant global memory accesses. Try to avoid using thread-local memory by checking if dynamically indexed arrays are declared in local scope, of if the kernel has excessive register pressure causing by spills. If applicable, consider combining multiple lower-width memory operations into fewer wider memory operations and try interleaving memory operations and math instructions. This stall type represents about 76.4% of the total average of 2467.5 cycles between issuing two instructions.\n*Estimated Speedup (global): 76.45%*\n\nℹ️ **INFO**: Check the Warp Stall Sampling (All Samples) table for the top stall locations in your source based on sampling data. The Kernel Profiling Guide (https://docs.nvidia.com/nsight-compute/ProfilingGuide/index.html#metrics-reference) provides more details on each stall reason.\n"
        },
        "metadata": {}
       }
      ]
     }
    },
    "f02f5a0cfd354371b95987c862f10637": {
     "model_module": "@jupyter-widgets/output",
     "model_name": "OutputModel",
     "model_module_version": "1.0.0",
     "state": {
      "_dom_classes": [],
      "_model_module": "@jupyter-widgets/output",
      "_model_module_version": "1.0.0",
      "_model_name": "OutputModel",
      "_view_count": null,
      "_view_module": "@jupyter-widgets/output",
      "_view_module_version": "1.0.0",
      "_view_name": "OutputView",
      "layout": "IPY_MODEL_1006aafeb85f4ae9b1cabe28f33184f4",
      "msg_id": "",
      "outputs": [
       {
        "output_type": "display_data",
        "data": {
         "text/plain": "<IPython.core.display.Markdown object>",
         "text/markdown": "## Instruction\n\n| Metric Name | Metric Unit | Metric Value |\n|-------------|-------------|--------------|\n| Avg. Executed Instructions Per Scheduler | inst | 14,289.60 |\n| Executed Instructions | inst | 2,286,336 |\n| Avg. Issued Instructions Per Scheduler | inst | 14,322.95 |\n| Issued Instructions | inst | 2,291,672 |\n"
        },
        "metadata": {}
       }
      ]
     }
    },
    "50cc8f97b44549faa0f202361f5f7e6c": {
     "model_module": "@jupyter-widgets/output",
     "model_name": "OutputModel",
     "model_module_version": "1.0.0",
     "state": {
      "_dom_classes": [],
      "_model_module": "@jupyter-widgets/output",
      "_model_module_version": "1.0.0",
      "_model_name": "OutputModel",
      "_view_count": null,
      "_view_module": "@jupyter-widgets/output",
      "_view_module_version": "1.0.0",
      "_view_name": "OutputView",
      "layout": "IPY_MODEL_0f94f91896304b3c861750946febeccc",
      "msg_id": "",
      "outputs": [
       {
        "output_type": "display_data",
        "data": {
         "text/plain": "<IPython.core.display.Markdown object>",
         "text/markdown": "## Launch\n\n| Metric Name | Metric Unit | Metric Value |\n|-------------|-------------|--------------|\n| Block Size |  | 512 |\n| Function Cache Configuration |  | CachePreferNone |\n| Grid Size |  | 3,664 |\n| Registers Per Thread | register/thread | 18 |\n| Shared Memory Configuration Size | Kbyte | 32.77 |\n| Driver Shared Memory Per Block | byte/block | 0 |\n| Dynamic Shared Memory Per Block | byte/block | 0 |\n| Static Shared Memory Per Block | byte/block | 0 |\n| # SMs | SM | 40 |\n| Threads | thread | 1,875,968 |\n| Uses Green Context |  | 0 |\n| Waves Per SM |  | 45.80 |\n"
        },
        "metadata": {}
       }
      ]
     }
    },
    "95e56a0ec4484f06aea59796d88e0464": {
     "model_module": "@jupyter-widgets/output",
     "model_name": "OutputModel",
     "model_module_version": "1.0.0",
     "state": {
      "_dom_classes": [],
      "_model_module": "@jupyter-widgets/output",
      "_model_module_version": "1.0.0",
      "_model_name": "OutputModel",
      "_view_count": null,
      "_view_module": "@jupyter-widgets/output",
      "_view_module_version": "1.0.0",
      "_view_name": "OutputView",
      "layout": "IPY_MODEL_f47dbfc47f8647a38c370a2b7be404b2",
      "msg_id": "",
      "outputs": [
       {
        "output_type": "display_data",
        "data": {
         "text/plain": "<IPython.core.display.Markdown object>",
         "text/markdown": "## PM Sampling\n\n| Metric Name | Metric Unit | Metric Value |\n|-------------|-------------|--------------|\n| Maximum Buffer Size | Mbyte | 2.10 |\n| Dropped Samples | sample | 0 |\n| Maximum Sampling Interval | cycle | 20,000 |\n| # Pass Groups |  | 1 |\n"
        },
        "metadata": {}
       }
      ]
     }
    },
    "39e58d26a4a84b99ad768f93a7a3a8a5": {
     "model_module": "@jupyter-widgets/output",
     "model_name": "OutputModel",
     "model_module_version": "1.0.0",
     "state": {
      "_dom_classes": [],
      "_model_module": "@jupyter-widgets/output",
      "_model_module_version": "1.0.0",
      "_model_name": "OutputModel",
      "_view_count": null,
      "_view_module": "@jupyter-widgets/output",
      "_view_module_version": "1.0.0",
      "_view_name": "OutputView",
      "layout": "IPY_MODEL_f440961da49a4e6c9185ae5f55373df3",
      "msg_id": "",
      "outputs": [
       {
        "output_type": "display_data",
        "data": {
         "text/plain": "<IPython.core.display.Markdown object>",
         "text/markdown": "## Occupancy\n\n| Metric Name | Metric Unit | Metric Value |\n|-------------|-------------|--------------|\n| Block Limit SM | block | 16 |\n| Block Limit Registers | block | 5 |\n| Block Limit Shared Mem | block | 16 |\n| Block Limit Warps | block | 2 |\n| Theoretical Active Warps per SM | warp | 32 |\n| Theoretical Occupancy | % | 100 |\n| Achieved Occupancy | % | 91.83 |\n| Achieved Active Warps Per SM | warp | 29.39 |\n"
        },
        "metadata": {}
       }
      ]
     }
    },
    "1edda20eae6441a99d31a1105f30b8c6": {
     "model_module": "@jupyter-widgets/output",
     "model_name": "OutputModel",
     "model_module_version": "1.0.0",
     "state": {
      "_dom_classes": [],
      "_model_module": "@jupyter-widgets/output",
      "_model_module_version": "1.0.0",
      "_model_name": "OutputModel",
      "_view_count": null,
      "_view_module": "@jupyter-widgets/output",
      "_view_module_version": "1.0.0",
      "_view_name": "OutputView",
      "layout": "IPY_MODEL_607214ca07174871b459e301eb7ad699",
      "msg_id": "",
      "outputs": [
       {
        "output_type": "display_data",
        "data": {
         "text/plain": "<IPython.core.display.Markdown object>",
         "text/markdown": "## Source Counters\n\n| Metric Name | Metric Unit | Metric Value |\n|-------------|-------------|--------------|\n| Branch Instructions Ratio | % | 0.03 |\n| Branch Instructions | inst | 58,624 |\n| Branch Efficiency | % | 0 |\n| Avg. Divergent Branches |  | 0 |\n\n🔧 **OPTIMIZATION**: This kernel has uncoalesced global accesses resulting in a total of 4988724 excessive sectors (68% of the total 7329833 sectors). Check the L2 Theoretical Sectors Global Excessive table for the primary source locations. The CUDA Programming Guide (https://docs.nvidia.com/cuda/cuda-c-programming-guide/index.html#device-memory-accesses) has additional information on reducing uncoalesced device memory accesses.\n*Estimated Speedup (global): 6.919%*\n"
        },
        "metadata": {}
       }
      ]
     }
    },
    "05bad554df84498daf462d395e980f52": {
     "model_module": "@jupyter-widgets/output",
     "model_name": "OutputModel",
     "model_module_version": "1.0.0",
     "state": {
      "_dom_classes": [],
      "_model_module": "@jupyter-widgets/output",
      "_model_module_version": "1.0.0",
      "_model_name": "OutputModel",
      "_view_count": null,
      "_view_module": "@jupyter-widgets/output",
      "_view_module_version": "1.0.0",
      "_view_name": "OutputView",
      "layout": "IPY_MODEL_f1930ef855f844ee947a1c9b07ed95a4",
      "msg_id": "",
      "outputs": [
       {
        "output_type": "display_data",
        "data": {
         "text/plain": "<IPython.core.display.Markdown object>",
         "text/markdown": "## WorkloadDistribution\n\n🔧 **OPTIMIZATION**: One or more L2 Slices have a much higher number of active cycles than the average number of active cycles. Maximum instance value is 89.83% above the average, while the minimum instance value is 60.99% below the average.\n*Estimated Speedup (global): 9.132%*\n"
        },
        "metadata": {}
       }
      ]
     }
    },
    "af61114771e442e2bb8bc033e882dbe2": {
     "model_module": "@jupyter-widgets/base",
     "model_name": "LayoutModel",
     "model_module_version": "1.2.0",
     "state": {
      "_model_module": "@jupyter-widgets/base",
      "_model_module_version": "1.2.0",
      "_model_name": "LayoutModel",
      "_view_count": null,
      "_view_module": "@jupyter-widgets/base",
      "_view_module_version": "1.2.0",
      "_view_name": "LayoutView",
      "align_content": null,
      "align_items": null,
      "align_self": null,
      "border": null,
      "bottom": null,
      "display": null,
      "flex": null,
      "flex_flow": null,
      "grid_area": null,
      "grid_auto_columns": null,
      "grid_auto_flow": null,
      "grid_auto_rows": null,
      "grid_column": null,
      "grid_gap": null,
      "grid_row": null,
      "grid_template_areas": null,
      "grid_template_columns": null,
      "grid_template_rows": null,
      "height": null,
      "justify_content": null,
      "justify_items": null,
      "left": null,
      "margin": null,
      "max_height": null,
      "max_width": null,
      "min_height": null,
      "min_width": null,
      "object_fit": null,
      "object_position": null,
      "order": null,
      "overflow": null,
      "overflow_x": null,
      "overflow_y": null,
      "padding": null,
      "right": null,
      "top": null,
      "visibility": null,
      "width": null
     }
    },
    "ea81f1518f0d47b995f50df7e74f9329": {
     "model_module": "@jupyter-widgets/base",
     "model_name": "LayoutModel",
     "model_module_version": "1.2.0",
     "state": {
      "_model_module": "@jupyter-widgets/base",
      "_model_module_version": "1.2.0",
      "_model_name": "LayoutModel",
      "_view_count": null,
      "_view_module": "@jupyter-widgets/base",
      "_view_module_version": "1.2.0",
      "_view_name": "LayoutView",
      "align_content": null,
      "align_items": null,
      "align_self": null,
      "border": null,
      "bottom": null,
      "display": null,
      "flex": null,
      "flex_flow": null,
      "grid_area": null,
      "grid_auto_columns": null,
      "grid_auto_flow": null,
      "grid_auto_rows": null,
      "grid_column": null,
      "grid_gap": null,
      "grid_row": null,
      "grid_template_areas": null,
      "grid_template_columns": null,
      "grid_template_rows": null,
      "height": null,
      "justify_content": null,
      "justify_items": null,
      "left": null,
      "margin": null,
      "max_height": null,
      "max_width": null,
      "min_height": null,
      "min_width": null,
      "object_fit": null,
      "object_position": null,
      "order": null,
      "overflow": null,
      "overflow_x": null,
      "overflow_y": null,
      "padding": null,
      "right": null,
      "top": null,
      "visibility": null,
      "width": null
     }
    },
    "e9a4e840c12041809843a134cc29d791": {
     "model_module": "@jupyter-widgets/base",
     "model_name": "LayoutModel",
     "model_module_version": "1.2.0",
     "state": {
      "_model_module": "@jupyter-widgets/base",
      "_model_module_version": "1.2.0",
      "_model_name": "LayoutModel",
      "_view_count": null,
      "_view_module": "@jupyter-widgets/base",
      "_view_module_version": "1.2.0",
      "_view_name": "LayoutView",
      "align_content": null,
      "align_items": null,
      "align_self": null,
      "border": null,
      "bottom": null,
      "display": null,
      "flex": null,
      "flex_flow": null,
      "grid_area": null,
      "grid_auto_columns": null,
      "grid_auto_flow": null,
      "grid_auto_rows": null,
      "grid_column": null,
      "grid_gap": null,
      "grid_row": null,
      "grid_template_areas": null,
      "grid_template_columns": null,
      "grid_template_rows": null,
      "height": null,
      "justify_content": null,
      "justify_items": null,
      "left": null,
      "margin": null,
      "max_height": null,
      "max_width": null,
      "min_height": null,
      "min_width": null,
      "object_fit": null,
      "object_position": null,
      "order": null,
      "overflow": null,
      "overflow_x": null,
      "overflow_y": null,
      "padding": null,
      "right": null,
      "top": null,
      "visibility": null,
      "width": null
     }
    },
    "b6bfff789d354bdd8c630826eaae63b6": {
     "model_module": "@jupyter-widgets/base",
     "model_name": "LayoutModel",
     "model_module_version": "1.2.0",
     "state": {
      "_model_module": "@jupyter-widgets/base",
      "_model_module_version": "1.2.0",
      "_model_name": "LayoutModel",
      "_view_count": null,
      "_view_module": "@jupyter-widgets/base",
      "_view_module_version": "1.2.0",
      "_view_name": "LayoutView",
      "align_content": null,
      "align_items": null,
      "align_self": null,
      "border": null,
      "bottom": null,
      "display": null,
      "flex": null,
      "flex_flow": null,
      "grid_area": null,
      "grid_auto_columns": null,
      "grid_auto_flow": null,
      "grid_auto_rows": null,
      "grid_column": null,
      "grid_gap": null,
      "grid_row": null,
      "grid_template_areas": null,
      "grid_template_columns": null,
      "grid_template_rows": null,
      "height": null,
      "justify_content": null,
      "justify_items": null,
      "left": null,
      "margin": null,
      "max_height": null,
      "max_width": null,
      "min_height": null,
      "min_width": null,
      "object_fit": null,
      "object_position": null,
      "order": null,
      "overflow": null,
      "overflow_x": null,
      "overflow_y": null,
      "padding": null,
      "right": null,
      "top": null,
      "visibility": null,
      "width": null
     }
    },
    "0952fc28a1244c46befc2bed2cd7cb4c": {
     "model_module": "@jupyter-widgets/base",
     "model_name": "LayoutModel",
     "model_module_version": "1.2.0",
     "state": {
      "_model_module": "@jupyter-widgets/base",
      "_model_module_version": "1.2.0",
      "_model_name": "LayoutModel",
      "_view_count": null,
      "_view_module": "@jupyter-widgets/base",
      "_view_module_version": "1.2.0",
      "_view_name": "LayoutView",
      "align_content": null,
      "align_items": null,
      "align_self": null,
      "border": null,
      "bottom": null,
      "display": null,
      "flex": null,
      "flex_flow": null,
      "grid_area": null,
      "grid_auto_columns": null,
      "grid_auto_flow": null,
      "grid_auto_rows": null,
      "grid_column": null,
      "grid_gap": null,
      "grid_row": null,
      "grid_template_areas": null,
      "grid_template_columns": null,
      "grid_template_rows": null,
      "height": null,
      "justify_content": null,
      "justify_items": null,
      "left": null,
      "margin": null,
      "max_height": null,
      "max_width": null,
      "min_height": null,
      "min_width": null,
      "object_fit": null,
      "object_position": null,
      "order": null,
      "overflow": null,
      "overflow_x": null,
      "overflow_y": null,
      "padding": null,
      "right": null,
      "top": null,
      "visibility": null,
      "width": null
     }
    },
    "83f0975a18e0401d859f001422aebc74": {
     "model_module": "@jupyter-widgets/base",
     "model_name": "LayoutModel",
     "model_module_version": "1.2.0",
     "state": {
      "_model_module": "@jupyter-widgets/base",
      "_model_module_version": "1.2.0",
      "_model_name": "LayoutModel",
      "_view_count": null,
      "_view_module": "@jupyter-widgets/base",
      "_view_module_version": "1.2.0",
      "_view_name": "LayoutView",
      "align_content": null,
      "align_items": null,
      "align_self": null,
      "border": null,
      "bottom": null,
      "display": null,
      "flex": null,
      "flex_flow": null,
      "grid_area": null,
      "grid_auto_columns": null,
      "grid_auto_flow": null,
      "grid_auto_rows": null,
      "grid_column": null,
      "grid_gap": null,
      "grid_row": null,
      "grid_template_areas": null,
      "grid_template_columns": null,
      "grid_template_rows": null,
      "height": null,
      "justify_content": null,
      "justify_items": null,
      "left": null,
      "margin": null,
      "max_height": null,
      "max_width": null,
      "min_height": null,
      "min_width": null,
      "object_fit": null,
      "object_position": null,
      "order": null,
      "overflow": null,
      "overflow_x": null,
      "overflow_y": null,
      "padding": null,
      "right": null,
      "top": null,
      "visibility": null,
      "width": null
     }
    },
    "24c64a3e43f44f1bb65cee915d1aa9ce": {
     "model_module": "@jupyter-widgets/base",
     "model_name": "LayoutModel",
     "model_module_version": "1.2.0",
     "state": {
      "_model_module": "@jupyter-widgets/base",
      "_model_module_version": "1.2.0",
      "_model_name": "LayoutModel",
      "_view_count": null,
      "_view_module": "@jupyter-widgets/base",
      "_view_module_version": "1.2.0",
      "_view_name": "LayoutView",
      "align_content": null,
      "align_items": null,
      "align_self": null,
      "border": null,
      "bottom": null,
      "display": null,
      "flex": null,
      "flex_flow": null,
      "grid_area": null,
      "grid_auto_columns": null,
      "grid_auto_flow": null,
      "grid_auto_rows": null,
      "grid_column": null,
      "grid_gap": null,
      "grid_row": null,
      "grid_template_areas": null,
      "grid_template_columns": null,
      "grid_template_rows": null,
      "height": null,
      "justify_content": null,
      "justify_items": null,
      "left": null,
      "margin": null,
      "max_height": null,
      "max_width": null,
      "min_height": null,
      "min_width": null,
      "object_fit": null,
      "object_position": null,
      "order": null,
      "overflow": null,
      "overflow_x": null,
      "overflow_y": null,
      "padding": null,
      "right": null,
      "top": null,
      "visibility": null,
      "width": null
     }
    },
    "63f8786f07e74f4caef3ebf115110daa": {
     "model_module": "@jupyter-widgets/base",
     "model_name": "LayoutModel",
     "model_module_version": "1.2.0",
     "state": {
      "_model_module": "@jupyter-widgets/base",
      "_model_module_version": "1.2.0",
      "_model_name": "LayoutModel",
      "_view_count": null,
      "_view_module": "@jupyter-widgets/base",
      "_view_module_version": "1.2.0",
      "_view_name": "LayoutView",
      "align_content": null,
      "align_items": null,
      "align_self": null,
      "border": null,
      "bottom": null,
      "display": null,
      "flex": null,
      "flex_flow": null,
      "grid_area": null,
      "grid_auto_columns": null,
      "grid_auto_flow": null,
      "grid_auto_rows": null,
      "grid_column": null,
      "grid_gap": null,
      "grid_row": null,
      "grid_template_areas": null,
      "grid_template_columns": null,
      "grid_template_rows": null,
      "height": null,
      "justify_content": null,
      "justify_items": null,
      "left": null,
      "margin": null,
      "max_height": null,
      "max_width": null,
      "min_height": null,
      "min_width": null,
      "object_fit": null,
      "object_position": null,
      "order": null,
      "overflow": null,
      "overflow_x": null,
      "overflow_y": null,
      "padding": null,
      "right": null,
      "top": null,
      "visibility": null,
      "width": null
     }
    },
    "1006aafeb85f4ae9b1cabe28f33184f4": {
     "model_module": "@jupyter-widgets/base",
     "model_name": "LayoutModel",
     "model_module_version": "1.2.0",
     "state": {
      "_model_module": "@jupyter-widgets/base",
      "_model_module_version": "1.2.0",
      "_model_name": "LayoutModel",
      "_view_count": null,
      "_view_module": "@jupyter-widgets/base",
      "_view_module_version": "1.2.0",
      "_view_name": "LayoutView",
      "align_content": null,
      "align_items": null,
      "align_self": null,
      "border": null,
      "bottom": null,
      "display": null,
      "flex": null,
      "flex_flow": null,
      "grid_area": null,
      "grid_auto_columns": null,
      "grid_auto_flow": null,
      "grid_auto_rows": null,
      "grid_column": null,
      "grid_gap": null,
      "grid_row": null,
      "grid_template_areas": null,
      "grid_template_columns": null,
      "grid_template_rows": null,
      "height": null,
      "justify_content": null,
      "justify_items": null,
      "left": null,
      "margin": null,
      "max_height": null,
      "max_width": null,
      "min_height": null,
      "min_width": null,
      "object_fit": null,
      "object_position": null,
      "order": null,
      "overflow": null,
      "overflow_x": null,
      "overflow_y": null,
      "padding": null,
      "right": null,
      "top": null,
      "visibility": null,
      "width": null
     }
    },
    "0f94f91896304b3c861750946febeccc": {
     "model_module": "@jupyter-widgets/base",
     "model_name": "LayoutModel",
     "model_module_version": "1.2.0",
     "state": {
      "_model_module": "@jupyter-widgets/base",
      "_model_module_version": "1.2.0",
      "_model_name": "LayoutModel",
      "_view_count": null,
      "_view_module": "@jupyter-widgets/base",
      "_view_module_version": "1.2.0",
      "_view_name": "LayoutView",
      "align_content": null,
      "align_items": null,
      "align_self": null,
      "border": null,
      "bottom": null,
      "display": null,
      "flex": null,
      "flex_flow": null,
      "grid_area": null,
      "grid_auto_columns": null,
      "grid_auto_flow": null,
      "grid_auto_rows": null,
      "grid_column": null,
      "grid_gap": null,
      "grid_row": null,
      "grid_template_areas": null,
      "grid_template_columns": null,
      "grid_template_rows": null,
      "height": null,
      "justify_content": null,
      "justify_items": null,
      "left": null,
      "margin": null,
      "max_height": null,
      "max_width": null,
      "min_height": null,
      "min_width": null,
      "object_fit": null,
      "object_position": null,
      "order": null,
      "overflow": null,
      "overflow_x": null,
      "overflow_y": null,
      "padding": null,
      "right": null,
      "top": null,
      "visibility": null,
      "width": null
     }
    },
    "f47dbfc47f8647a38c370a2b7be404b2": {
     "model_module": "@jupyter-widgets/base",
     "model_name": "LayoutModel",
     "model_module_version": "1.2.0",
     "state": {
      "_model_module": "@jupyter-widgets/base",
      "_model_module_version": "1.2.0",
      "_model_name": "LayoutModel",
      "_view_count": null,
      "_view_module": "@jupyter-widgets/base",
      "_view_module_version": "1.2.0",
      "_view_name": "LayoutView",
      "align_content": null,
      "align_items": null,
      "align_self": null,
      "border": null,
      "bottom": null,
      "display": null,
      "flex": null,
      "flex_flow": null,
      "grid_area": null,
      "grid_auto_columns": null,
      "grid_auto_flow": null,
      "grid_auto_rows": null,
      "grid_column": null,
      "grid_gap": null,
      "grid_row": null,
      "grid_template_areas": null,
      "grid_template_columns": null,
      "grid_template_rows": null,
      "height": null,
      "justify_content": null,
      "justify_items": null,
      "left": null,
      "margin": null,
      "max_height": null,
      "max_width": null,
      "min_height": null,
      "min_width": null,
      "object_fit": null,
      "object_position": null,
      "order": null,
      "overflow": null,
      "overflow_x": null,
      "overflow_y": null,
      "padding": null,
      "right": null,
      "top": null,
      "visibility": null,
      "width": null
     }
    },
    "f440961da49a4e6c9185ae5f55373df3": {
     "model_module": "@jupyter-widgets/base",
     "model_name": "LayoutModel",
     "model_module_version": "1.2.0",
     "state": {
      "_model_module": "@jupyter-widgets/base",
      "_model_module_version": "1.2.0",
      "_model_name": "LayoutModel",
      "_view_count": null,
      "_view_module": "@jupyter-widgets/base",
      "_view_module_version": "1.2.0",
      "_view_name": "LayoutView",
      "align_content": null,
      "align_items": null,
      "align_self": null,
      "border": null,
      "bottom": null,
      "display": null,
      "flex": null,
      "flex_flow": null,
      "grid_area": null,
      "grid_auto_columns": null,
      "grid_auto_flow": null,
      "grid_auto_rows": null,
      "grid_column": null,
      "grid_gap": null,
      "grid_row": null,
      "grid_template_areas": null,
      "grid_template_columns": null,
      "grid_template_rows": null,
      "height": null,
      "justify_content": null,
      "justify_items": null,
      "left": null,
      "margin": null,
      "max_height": null,
      "max_width": null,
      "min_height": null,
      "min_width": null,
      "object_fit": null,
      "object_position": null,
      "order": null,
      "overflow": null,
      "overflow_x": null,
      "overflow_y": null,
      "padding": null,
      "right": null,
      "top": null,
      "visibility": null,
      "width": null
     }
    },
    "607214ca07174871b459e301eb7ad699": {
     "model_module": "@jupyter-widgets/base",
     "model_name": "LayoutModel",
     "model_module_version": "1.2.0",
     "state": {
      "_model_module": "@jupyter-widgets/base",
      "_model_module_version": "1.2.0",
      "_model_name": "LayoutModel",
      "_view_count": null,
      "_view_module": "@jupyter-widgets/base",
      "_view_module_version": "1.2.0",
      "_view_name": "LayoutView",
      "align_content": null,
      "align_items": null,
      "align_self": null,
      "border": null,
      "bottom": null,
      "display": null,
      "flex": null,
      "flex_flow": null,
      "grid_area": null,
      "grid_auto_columns": null,
      "grid_auto_flow": null,
      "grid_auto_rows": null,
      "grid_column": null,
      "grid_gap": null,
      "grid_row": null,
      "grid_template_areas": null,
      "grid_template_columns": null,
      "grid_template_rows": null,
      "height": null,
      "justify_content": null,
      "justify_items": null,
      "left": null,
      "margin": null,
      "max_height": null,
      "max_width": null,
      "min_height": null,
      "min_width": null,
      "object_fit": null,
      "object_position": null,
      "order": null,
      "overflow": null,
      "overflow_x": null,
      "overflow_y": null,
      "padding": null,
      "right": null,
      "top": null,
      "visibility": null,
      "width": null
     }
    },
    "f1930ef855f844ee947a1c9b07ed95a4": {
     "model_module": "@jupyter-widgets/base",
     "model_name": "LayoutModel",
     "model_module_version": "1.2.0",
     "state": {
      "_model_module": "@jupyter-widgets/base",
      "_model_module_version": "1.2.0",
      "_model_name": "LayoutModel",
      "_view_count": null,
      "_view_module": "@jupyter-widgets/base",
      "_view_module_version": "1.2.0",
      "_view_name": "LayoutView",
      "align_content": null,
      "align_items": null,
      "align_self": null,
      "border": null,
      "bottom": null,
      "display": null,
      "flex": null,
      "flex_flow": null,
      "grid_area": null,
      "grid_auto_columns": null,
      "grid_auto_flow": null,
      "grid_auto_rows": null,
      "grid_column": null,
      "grid_gap": null,
      "grid_row": null,
      "grid_template_areas": null,
      "grid_template_columns": null,
      "grid_template_rows": null,
      "height": null,
      "justify_content": null,
      "justify_items": null,
      "left": null,
      "margin": null,
      "max_height": null,
      "max_width": null,
      "min_height": null,
      "min_width": null,
      "object_fit": null,
      "object_position": null,
      "order": null,
      "overflow": null,
      "overflow_x": null,
      "overflow_y": null,
      "padding": null,
      "right": null,
      "top": null,
      "visibility": null,
      "width": null
     }
    },
    "72eba4c5f11b49fb89df581268cc1ddc": {
     "model_module": "@jupyter-widgets/controls",
     "model_name": "DropdownModel",
     "model_module_version": "1.5.0",
     "state": {
      "_dom_classes": [],
      "_model_module": "@jupyter-widgets/controls",
      "_model_module_version": "1.5.0",
      "_model_name": "DropdownModel",
      "_options_labels": [
       "histogram_localized"
      ],
      "_view_count": null,
      "_view_module": "@jupyter-widgets/controls",
      "_view_module_version": "1.5.0",
      "_view_name": "DropdownView",
      "description": "Kernel:",
      "description_tooltip": null,
      "disabled": false,
      "index": 0,
      "layout": "IPY_MODEL_277a7612626b44a0b009d28fe486ab3d",
      "style": "IPY_MODEL_6f476f6ca14a45699799d56dedbfc4a9"
     }
    },
    "277a7612626b44a0b009d28fe486ab3d": {
     "model_module": "@jupyter-widgets/base",
     "model_name": "LayoutModel",
     "model_module_version": "1.2.0",
     "state": {
      "_model_module": "@jupyter-widgets/base",
      "_model_module_version": "1.2.0",
      "_model_name": "LayoutModel",
      "_view_count": null,
      "_view_module": "@jupyter-widgets/base",
      "_view_module_version": "1.2.0",
      "_view_name": "LayoutView",
      "align_content": null,
      "align_items": null,
      "align_self": null,
      "border": null,
      "bottom": null,
      "display": null,
      "flex": null,
      "flex_flow": null,
      "grid_area": null,
      "grid_auto_columns": null,
      "grid_auto_flow": null,
      "grid_auto_rows": null,
      "grid_column": null,
      "grid_gap": null,
      "grid_row": null,
      "grid_template_areas": null,
      "grid_template_columns": null,
      "grid_template_rows": null,
      "height": null,
      "justify_content": null,
      "justify_items": null,
      "left": null,
      "margin": null,
      "max_height": null,
      "max_width": null,
      "min_height": null,
      "min_width": null,
      "object_fit": null,
      "object_position": null,
      "order": null,
      "overflow": null,
      "overflow_x": null,
      "overflow_y": null,
      "padding": null,
      "right": null,
      "top": null,
      "visibility": null,
      "width": "400px"
     }
    },
    "6f476f6ca14a45699799d56dedbfc4a9": {
     "model_module": "@jupyter-widgets/controls",
     "model_name": "DescriptionStyleModel",
     "model_module_version": "1.5.0",
     "state": {
      "_model_module": "@jupyter-widgets/controls",
      "_model_module_version": "1.5.0",
      "_model_name": "DescriptionStyleModel",
      "_view_count": null,
      "_view_module": "@jupyter-widgets/base",
      "_view_module_version": "1.2.0",
      "_view_name": "StyleView",
      "description_width": "initial"
     }
    },
    "29f54431514146cea6e08d352058ccfd": {
     "model_module": "@jupyter-widgets/output",
     "model_name": "OutputModel",
     "model_module_version": "1.0.0",
     "state": {
      "_dom_classes": [],
      "_model_module": "@jupyter-widgets/output",
      "_model_module_version": "1.0.0",
      "_model_name": "OutputModel",
      "_view_count": null,
      "_view_module": "@jupyter-widgets/output",
      "_view_module_version": "1.0.0",
      "_view_name": "OutputView",
      "layout": "IPY_MODEL_a48f630bb3584ce294f2e79d60c4b40e",
      "msg_id": "",
      "outputs": [
       {
        "output_type": "display_data",
        "data": {
         "text/plain": "<IPython.core.display.Markdown object>",
         "text/markdown": "# histogram_localized"
        },
        "metadata": {}
       },
       {
        "output_type": "display_data",
        "data": {
         "text/plain": "Tab(children=(Output(), Output(), Output(), Output(), Output(), Output(), Output(), Output(), Output(), Output…",
         "application/vnd.jupyter.widget-view+json": {
          "version_major": 2,
          "version_minor": 0,
          "model_id": "a122e99121234ce396fa20aa6e462574"
         }
        },
        "metadata": {}
       }
      ]
     }
    },
    "a48f630bb3584ce294f2e79d60c4b40e": {
     "model_module": "@jupyter-widgets/base",
     "model_name": "LayoutModel",
     "model_module_version": "1.2.0",
     "state": {
      "_model_module": "@jupyter-widgets/base",
      "_model_module_version": "1.2.0",
      "_model_name": "LayoutModel",
      "_view_count": null,
      "_view_module": "@jupyter-widgets/base",
      "_view_module_version": "1.2.0",
      "_view_name": "LayoutView",
      "align_content": null,
      "align_items": null,
      "align_self": null,
      "border": null,
      "bottom": null,
      "display": null,
      "flex": null,
      "flex_flow": null,
      "grid_area": null,
      "grid_auto_columns": null,
      "grid_auto_flow": null,
      "grid_auto_rows": null,
      "grid_column": null,
      "grid_gap": null,
      "grid_row": null,
      "grid_template_areas": null,
      "grid_template_columns": null,
      "grid_template_rows": null,
      "height": null,
      "justify_content": null,
      "justify_items": null,
      "left": null,
      "margin": null,
      "max_height": null,
      "max_width": null,
      "min_height": null,
      "min_width": null,
      "object_fit": null,
      "object_position": null,
      "order": null,
      "overflow": null,
      "overflow_x": null,
      "overflow_y": null,
      "padding": null,
      "right": null,
      "top": null,
      "visibility": null,
      "width": null
     }
    },
    "a122e99121234ce396fa20aa6e462574": {
     "model_module": "@jupyter-widgets/controls",
     "model_name": "TabModel",
     "model_module_version": "1.5.0",
     "state": {
      "_dom_classes": [],
      "_model_module": "@jupyter-widgets/controls",
      "_model_module_version": "1.5.0",
      "_model_name": "TabModel",
      "_titles": {
       "0": "Summary",
       "1": "Speed Of Light",
       "2": "Memory Workload",
       "3": "Compute Workload",
       "4": "Compute & Memory Distribution",
       "5": "Scheduler",
       "6": "Warp State",
       "7": "Instruction",
       "8": "Launch",
       "9": "PM Sampling",
       "10": "Occupancy",
       "11": "Source Counters",
       "12": "WorkloadDistribution"
      },
      "_view_count": null,
      "_view_module": "@jupyter-widgets/controls",
      "_view_module_version": "1.5.0",
      "_view_name": "TabView",
      "box_style": "",
      "children": [
       "IPY_MODEL_ea2f4b91760f475ebc10da01166b63b8",
       "IPY_MODEL_8d3c55d6d03b4d79aba3d5e7b1a73f2e",
       "IPY_MODEL_2a64bde12026429db15794fad73e7759",
       "IPY_MODEL_75a37b0df227406d87849b8ccc0e8cc8",
       "IPY_MODEL_0dcbea49322640a28c4f3459ea50c204",
       "IPY_MODEL_2bf258c6b7734068a20ed1fe5bcacf61",
       "IPY_MODEL_a130d437cec947d3ad49ab36fcfe1ef6",
       "IPY_MODEL_77b1acef7c294c85a13b408d4763b865",
       "IPY_MODEL_b8afefd142c641dd8733d7695d9cf14a",
       "IPY_MODEL_6439cea566ff46e08f08022e1c0d40d6",
       "IPY_MODEL_c799b237ce024a29b2e23307a7ff9e67",
       "IPY_MODEL_c92de1f9425a4f2f85bb07555c3d51a1",
       "IPY_MODEL_16d240c1461a444ea9cdbbd4a856e8f3"
      ],
      "layout": "IPY_MODEL_c8a33b735706409e93422519ca88fd38",
      "selected_index": 0
     }
    },
    "ea2f4b91760f475ebc10da01166b63b8": {
     "model_module": "@jupyter-widgets/output",
     "model_name": "OutputModel",
     "model_module_version": "1.0.0",
     "state": {
      "_dom_classes": [],
      "_model_module": "@jupyter-widgets/output",
      "_model_module_version": "1.0.0",
      "_model_name": "OutputModel",
      "_view_count": null,
      "_view_module": "@jupyter-widgets/output",
      "_view_module_version": "1.0.0",
      "_view_name": "OutputView",
      "layout": "IPY_MODEL_650c0471ffea4b4bad75444a904978b1",
      "msg_id": "",
      "outputs": [
       {
        "output_type": "display_data",
        "data": {
         "text/plain": "<IPython.core.display.Markdown object>",
         "text/markdown": "## Summary\n\n### Speed Of Light\n\n🔧 **OPTIMIZATION**: This kernel exhibits low compute throughput and memory bandwidth utilization relative to the peak performance of this device. Achieved compute throughput and/or memory bandwidth below 60.0% of peak typically indicate latency issues. Look at Scheduler Statistics and Warp State Statistics for potential reasons.\n\nℹ️ **INFO**: The ratio of peak float (fp32) to double (fp64) performance on this device is 32:1. The kernel achieved 0% of this device's fp32 peak performance and 0% of its fp64 peak performance. See the Kernel Profiling Guide (https://docs.nvidia.com/nsight-compute/ProfilingGuide/index.html#roofline) for more details on roofline analysis.\n\n### Memory Workload\n\n⚠️ **WARNING**: The optional metric lts__average_gcomp_input_sector_success_rate.pct could not be found. Collecting it as an additional metric could enable the rule to provide more guidance.\n\n### Compute Workload\n\n🔧 **OPTIMIZATION**: All compute pipelines are under-utilized. Either this kernel is very small or it doesn't issue enough warps per scheduler. Check the Launch Statistics and Scheduler Statistics sections for further details.\n*Estimated Speedup (local): 96.64%*\n\n### Scheduler\n\n🔧 **OPTIMIZATION**: Every scheduler is capable of issuing one instruction per cycle, but for this kernel each scheduler only issues an instruction every 13.2 cycles. This might leave hardware resources underutilized and may lead to less optimal performance. Out of the maximum of 8 warps per scheduler, this kernel allocates an average of 7.66 active warps per scheduler, but only an average of 0.27 warps were eligible per cycle. Eligible warps are the subset of active warps that are ready to issue their next instruction. Every cycle with no eligible warp results in no instruction being issued and the issue slot remains unused. To increase the number of eligible warps, avoid possible load imbalances due to highly different execution durations per warp. Reducing stalls indicated on the Warp State Statistics and Source Counters sections can help, too.\n*Estimated Speedup (local): 54.8%*\n\n### Warp State\n\n🔧 **OPTIMIZATION**: On average, each warp of this kernel spends 66.8 cycles being stalled waiting for the MIO (memory input/output) instruction queue to be not full. This stall reason is high in cases of extreme utilization of the MIO pipelines, which include special math instructions, dynamic branches, as well as shared memory instructions. When caused by shared memory accesses, trying to use fewer but wider loads can reduce pipeline pressure. This stall type represents about 65.8% of the total average of 101.5 cycles between issuing two instructions.\n*Estimated Speedup (global): 54.8%*\n\nℹ️ **INFO**: Check the Warp Stall Sampling (All Samples) table for the top stall locations in your source based on sampling data. The Kernel Profiling Guide (https://docs.nvidia.com/nsight-compute/ProfilingGuide/index.html#metrics-reference) provides more details on each stall reason.\n\n### Source Counters\n\n🔧 **OPTIMIZATION**: This kernel has uncoalesced shared accesses resulting in a total of 2154026 excessive wavefronts (82% of the total 2637674 wavefronts). Check the L1 Wavefronts Shared Excessive table for the primary source locations. The CUDA Best Practices Guide (https://docs.nvidia.com/cuda/cuda-c-best-practices-guide/index.html#shared-memory-in-matrix-multiplication-c-ab) has an example on optimizing shared memory accesses.\n*Estimated Speedup (global): 74.19%*\n\n### WorkloadDistribution\n\n🔧 **OPTIMIZATION**: One or more SMs have a much higher number of active cycles than the average number of active cycles. Maximum instance value is 8.44% above the average, while the minimum instance value is 3.29% below the average.\n*Estimated Speedup (global): 7.666%*\n\n🔧 **OPTIMIZATION**: One or more SMSPs have a much higher number of active cycles than the average number of active cycles. Maximum instance value is 8.37% above the average, while the minimum instance value is 3.25% below the average.\n*Estimated Speedup (global): 7.609%*\n\n🔧 **OPTIMIZATION**: One or more L1 Slices have a much higher number of active cycles than the average number of active cycles. Maximum instance value is 8.44% above the average, while the minimum instance value is 3.29% below the average.\n*Estimated Speedup (global): 7.666%*\n"
        },
        "metadata": {}
       }
      ]
     }
    },
    "8d3c55d6d03b4d79aba3d5e7b1a73f2e": {
     "model_module": "@jupyter-widgets/output",
     "model_name": "OutputModel",
     "model_module_version": "1.0.0",
     "state": {
      "_dom_classes": [],
      "_model_module": "@jupyter-widgets/output",
      "_model_module_version": "1.0.0",
      "_model_name": "OutputModel",
      "_view_count": null,
      "_view_module": "@jupyter-widgets/output",
      "_view_module_version": "1.0.0",
      "_view_name": "OutputView",
      "layout": "IPY_MODEL_da059452a8744262a3ebfec6543107bf",
      "msg_id": "",
      "outputs": [
       {
        "output_type": "display_data",
        "data": {
         "text/plain": "<IPython.core.display.Markdown object>",
         "text/markdown": "## Speed Of Light\n\n| Metric Name | Metric Unit | Metric Value |\n|-------------|-------------|--------------|\n| DRAM Frequency | Ghz | 4.97 |\n| SM Frequency | Mhz | 584.87 |\n| Elapsed Cycles | cycle | 175,527 |\n| Memory Throughput | % | 45.20 |\n| DRAM Throughput | % | 28.01 |\n| Duration | us | 300.10 |\n| L1/TEX Cache Throughput | % | 90.41 |\n| L2 Cache Throughput | % | 6.09 |\n| SM Active Cycles | cycle | 158,097.65 |\n| Compute (SM) Throughput | % | 28.21 |\n\n🔧 **OPTIMIZATION**: This kernel exhibits low compute throughput and memory bandwidth utilization relative to the peak performance of this device. Achieved compute throughput and/or memory bandwidth below 60.0% of peak typically indicate latency issues. Look at Scheduler Statistics and Warp State Statistics for potential reasons.\n\nℹ️ **INFO**: The ratio of peak float (fp32) to double (fp64) performance on this device is 32:1. The kernel achieved 0% of this device's fp32 peak performance and 0% of its fp64 peak performance. See the Kernel Profiling Guide (https://docs.nvidia.com/nsight-compute/ProfilingGuide/index.html#roofline) for more details on roofline analysis.\n"
        },
        "metadata": {}
       }
      ]
     }
    },
    "2a64bde12026429db15794fad73e7759": {
     "model_module": "@jupyter-widgets/output",
     "model_name": "OutputModel",
     "model_module_version": "1.0.0",
     "state": {
      "_dom_classes": [],
      "_model_module": "@jupyter-widgets/output",
      "_model_module_version": "1.0.0",
      "_model_name": "OutputModel",
      "_view_count": null,
      "_view_module": "@jupyter-widgets/output",
      "_view_module_version": "1.0.0",
      "_view_name": "OutputView",
      "layout": "IPY_MODEL_bb74cb5d3eb042e0b148a8554236a950",
      "msg_id": "",
      "outputs": [
       {
        "output_type": "display_data",
        "data": {
         "text/plain": "<IPython.core.display.Markdown object>",
         "text/markdown": "## Memory Workload\n\n| Metric Name | Metric Unit | Metric Value |\n|-------------|-------------|--------------|\n| Memory Throughput | Gbyte/s | 89.06 |\n| Mem Busy | % | 45.20 |\n| Max Bandwidth | % | 28.21 |\n| L1/TEX Hit Rate | % | 0 |\n| L2 Hit Rate | % | 50.38 |\n| Mem Pipes Busy | % | 28.21 |\n\n⚠️ **WARNING**: The optional metric lts__average_gcomp_input_sector_success_rate.pct could not be found. Collecting it as an additional metric could enable the rule to provide more guidance.\n"
        },
        "metadata": {}
       }
      ]
     }
    },
    "75a37b0df227406d87849b8ccc0e8cc8": {
     "model_module": "@jupyter-widgets/output",
     "model_name": "OutputModel",
     "model_module_version": "1.0.0",
     "state": {
      "_dom_classes": [],
      "_model_module": "@jupyter-widgets/output",
      "_model_module_version": "1.0.0",
      "_model_name": "OutputModel",
      "_view_count": null,
      "_view_module": "@jupyter-widgets/output",
      "_view_module_version": "1.0.0",
      "_view_name": "OutputView",
      "layout": "IPY_MODEL_9f7ceb76de8e4d9c8a6d03403fc87038",
      "msg_id": "",
      "outputs": [
       {
        "output_type": "display_data",
        "data": {
         "text/plain": "<IPython.core.display.Markdown object>",
         "text/markdown": "## Compute Workload\n\n| Metric Name | Metric Unit | Metric Value |\n|-------------|-------------|--------------|\n| Executed Ipc Active | inst/cycle | 0.30 |\n| Executed Ipc Elapsed | inst/cycle | 0.27 |\n| Issue Slots Busy | % | 7.55 |\n| Issued Ipc Active | inst/cycle | 0.30 |\n| SM Busy | % | 10.97 |\n\n🔧 **OPTIMIZATION**: All compute pipelines are under-utilized. Either this kernel is very small or it doesn't issue enough warps per scheduler. Check the Launch Statistics and Scheduler Statistics sections for further details.\n*Estimated Speedup (local): 96.64%*\n"
        },
        "metadata": {}
       }
      ]
     }
    },
    "0dcbea49322640a28c4f3459ea50c204": {
     "model_module": "@jupyter-widgets/output",
     "model_name": "OutputModel",
     "model_module_version": "1.0.0",
     "state": {
      "_dom_classes": [],
      "_model_module": "@jupyter-widgets/output",
      "_model_module_version": "1.0.0",
      "_model_name": "OutputModel",
      "_view_count": null,
      "_view_module": "@jupyter-widgets/output",
      "_view_module_version": "1.0.0",
      "_view_name": "OutputView",
      "layout": "IPY_MODEL_cb604331c58f43bda3a0135cc761ef22",
      "msg_id": "",
      "outputs": [
       {
        "output_type": "display_data",
        "data": {
         "text/plain": "<IPython.core.display.Markdown object>",
         "text/markdown": "## Compute & Memory Distribution\n\n| Metric Name | Metric Unit | Metric Value |\n|-------------|-------------|--------------|\n| Average DRAM Active Cycles | cycle | 417,585 |\n| Total DRAM Elapsed Cycles | cycle | 11,925,504 |\n| Average L1 Active Cycles | cycle | 158,097.65 |\n| Total L1 Elapsed Cycles | cycle | 6,961,192 |\n| Average L2 Active Cycles | cycle | 184,213.25 |\n| Total L2 Elapsed Cycles | cycle | 8,208,544 |\n| Average SM Active Cycles | cycle | 158,097.65 |\n| Total SM Elapsed Cycles | cycle | 6,961,192 |\n| Average SMSP Active Cycles | cycle | 158,157.98 |\n| Total SMSP Elapsed Cycles | cycle | 27,844,768 |\n"
        },
        "metadata": {}
       }
      ]
     }
    },
    "2bf258c6b7734068a20ed1fe5bcacf61": {
     "model_module": "@jupyter-widgets/output",
     "model_name": "OutputModel",
     "model_module_version": "1.0.0",
     "state": {
      "_dom_classes": [],
      "_model_module": "@jupyter-widgets/output",
      "_model_module_version": "1.0.0",
      "_model_name": "OutputModel",
      "_view_count": null,
      "_view_module": "@jupyter-widgets/output",
      "_view_module_version": "1.0.0",
      "_view_name": "OutputView",
      "layout": "IPY_MODEL_f2ef2b3576a54144a9faadd4ea42f0f4",
      "msg_id": "",
      "outputs": [
       {
        "output_type": "display_data",
        "data": {
         "text/plain": "<IPython.core.display.Markdown object>",
         "text/markdown": "## Scheduler\n\n| Metric Name | Metric Unit | Metric Value |\n|-------------|-------------|--------------|\n| One or More Eligible | % | 7.55 |\n| Issued Warp Per Scheduler |  | 0.08 |\n| No Eligible | % | 92.45 |\n| Active Warps Per Scheduler | warp | 7.66 |\n| Eligible Warps Per Scheduler | warp | 0.27 |\n\n🔧 **OPTIMIZATION**: Every scheduler is capable of issuing one instruction per cycle, but for this kernel each scheduler only issues an instruction every 13.2 cycles. This might leave hardware resources underutilized and may lead to less optimal performance. Out of the maximum of 8 warps per scheduler, this kernel allocates an average of 7.66 active warps per scheduler, but only an average of 0.27 warps were eligible per cycle. Eligible warps are the subset of active warps that are ready to issue their next instruction. Every cycle with no eligible warp results in no instruction being issued and the issue slot remains unused. To increase the number of eligible warps, avoid possible load imbalances due to highly different execution durations per warp. Reducing stalls indicated on the Warp State Statistics and Source Counters sections can help, too.\n*Estimated Speedup (local): 54.8%*\n"
        },
        "metadata": {}
       }
      ]
     }
    },
    "a130d437cec947d3ad49ab36fcfe1ef6": {
     "model_module": "@jupyter-widgets/output",
     "model_name": "OutputModel",
     "model_module_version": "1.0.0",
     "state": {
      "_dom_classes": [],
      "_model_module": "@jupyter-widgets/output",
      "_model_module_version": "1.0.0",
      "_model_name": "OutputModel",
      "_view_count": null,
      "_view_module": "@jupyter-widgets/output",
      "_view_module_version": "1.0.0",
      "_view_name": "OutputView",
      "layout": "IPY_MODEL_9aee114e6f204e139cad4e9797cd9cc5",
      "msg_id": "",
      "outputs": [
       {
        "output_type": "display_data",
        "data": {
         "text/plain": "<IPython.core.display.Markdown object>",
         "text/markdown": "## Warp State\n\n| Metric Name | Metric Unit | Metric Value |\n|-------------|-------------|--------------|\n| Warp Cycles Per Issued Instruction | cycle | 101.46 |\n| Warp Cycles Per Executed Instruction | cycle | 101.76 |\n| Avg. Active Threads Per Warp |  | 32 |\n| Avg. Not Predicated Off Threads Per Warp |  | 31.75 |\n\n🔧 **OPTIMIZATION**: On average, each warp of this kernel spends 66.8 cycles being stalled waiting for the MIO (memory input/output) instruction queue to be not full. This stall reason is high in cases of extreme utilization of the MIO pipelines, which include special math instructions, dynamic branches, as well as shared memory instructions. When caused by shared memory accesses, trying to use fewer but wider loads can reduce pipeline pressure. This stall type represents about 65.8% of the total average of 101.5 cycles between issuing two instructions.\n*Estimated Speedup (global): 54.8%*\n\nℹ️ **INFO**: Check the Warp Stall Sampling (All Samples) table for the top stall locations in your source based on sampling data. The Kernel Profiling Guide (https://docs.nvidia.com/nsight-compute/ProfilingGuide/index.html#metrics-reference) provides more details on each stall reason.\n"
        },
        "metadata": {}
       }
      ]
     }
    },
    "77b1acef7c294c85a13b408d4763b865": {
     "model_module": "@jupyter-widgets/output",
     "model_name": "OutputModel",
     "model_module_version": "1.0.0",
     "state": {
      "_dom_classes": [],
      "_model_module": "@jupyter-widgets/output",
      "_model_module_version": "1.0.0",
      "_model_name": "OutputModel",
      "_view_count": null,
      "_view_module": "@jupyter-widgets/output",
      "_view_module_version": "1.0.0",
      "_view_name": "OutputView",
      "layout": "IPY_MODEL_9c1ff914f65345ddba6465fc350ffa77",
      "msg_id": "",
      "outputs": [
       {
        "output_type": "display_data",
        "data": {
         "text/plain": "<IPython.core.display.Markdown object>",
         "text/markdown": "## Instruction\n\n| Metric Name | Metric Unit | Metric Value |\n|-------------|-------------|--------------|\n| Avg. Executed Instructions Per Scheduler | inst | 11,908 |\n| Executed Instructions | inst | 1,905,280 |\n| Avg. Issued Instructions Per Scheduler | inst | 11,943.96 |\n| Issued Instructions | inst | 1,911,034 |\n"
        },
        "metadata": {}
       }
      ]
     }
    },
    "b8afefd142c641dd8733d7695d9cf14a": {
     "model_module": "@jupyter-widgets/output",
     "model_name": "OutputModel",
     "model_module_version": "1.0.0",
     "state": {
      "_dom_classes": [],
      "_model_module": "@jupyter-widgets/output",
      "_model_module_version": "1.0.0",
      "_model_name": "OutputModel",
      "_view_count": null,
      "_view_module": "@jupyter-widgets/output",
      "_view_module_version": "1.0.0",
      "_view_name": "OutputView",
      "layout": "IPY_MODEL_2ebcfbe930ca4061a86c8f1ea87b8eb0",
      "msg_id": "",
      "outputs": [
       {
        "output_type": "display_data",
        "data": {
         "text/plain": "<IPython.core.display.Markdown object>",
         "text/markdown": "## Launch\n\n| Metric Name | Metric Unit | Metric Value |\n|-------------|-------------|--------------|\n| Block Size |  | 512 |\n| Function Cache Configuration |  | CachePreferNone |\n| Grid Size |  | 916 |\n| Registers Per Thread | register/thread | 47 |\n| Shared Memory Configuration Size | Kbyte | 32.77 |\n| Driver Shared Memory Per Block | byte/block | 0 |\n| Dynamic Shared Memory Per Block | byte/block | 0 |\n| Static Shared Memory Per Block | Kbyte/block | 1.02 |\n| # SMs | SM | 40 |\n| Threads | thread | 468,992 |\n| Uses Green Context |  | 0 |\n| Waves Per SM |  | 11.45 |\n"
        },
        "metadata": {}
       }
      ]
     }
    },
    "6439cea566ff46e08f08022e1c0d40d6": {
     "model_module": "@jupyter-widgets/output",
     "model_name": "OutputModel",
     "model_module_version": "1.0.0",
     "state": {
      "_dom_classes": [],
      "_model_module": "@jupyter-widgets/output",
      "_model_module_version": "1.0.0",
      "_model_name": "OutputModel",
      "_view_count": null,
      "_view_module": "@jupyter-widgets/output",
      "_view_module_version": "1.0.0",
      "_view_name": "OutputView",
      "layout": "IPY_MODEL_64037d07a15d4e238471eeccce3d0ead",
      "msg_id": "",
      "outputs": [
       {
        "output_type": "display_data",
        "data": {
         "text/plain": "<IPython.core.display.Markdown object>",
         "text/markdown": "## PM Sampling\n\n| Metric Name | Metric Unit | Metric Value |\n|-------------|-------------|--------------|\n| Maximum Buffer Size | Mbyte | 1.05 |\n| Dropped Samples | sample | 0 |\n| Maximum Sampling Interval | cycle | 20,000 |\n| # Pass Groups |  | 1 |\n"
        },
        "metadata": {}
       }
      ]
     }
    },
    "c799b237ce024a29b2e23307a7ff9e67": {
     "model_module": "@jupyter-widgets/output",
     "model_name": "OutputModel",
     "model_module_version": "1.0.0",
     "state": {
      "_dom_classes": [],
      "_model_module": "@jupyter-widgets/output",
      "_model_module_version": "1.0.0",
      "_model_name": "OutputModel",
      "_view_count": null,
      "_view_module": "@jupyter-widgets/output",
      "_view_module_version": "1.0.0",
      "_view_name": "OutputView",
      "layout": "IPY_MODEL_f261d85898c54dc9a72eaf5bda2703ca",
      "msg_id": "",
      "outputs": [
       {
        "output_type": "display_data",
        "data": {
         "text/plain": "<IPython.core.display.Markdown object>",
         "text/markdown": "## Occupancy\n\n| Metric Name | Metric Unit | Metric Value |\n|-------------|-------------|--------------|\n| Block Limit SM | block | 16 |\n| Block Limit Registers | block | 2 |\n| Block Limit Shared Mem | block | 32 |\n| Block Limit Warps | block | 2 |\n| Theoretical Active Warps per SM | warp | 32 |\n| Theoretical Occupancy | % | 100 |\n| Achieved Occupancy | % | 95.92 |\n| Achieved Active Warps Per SM | warp | 30.69 |\n"
        },
        "metadata": {}
       }
      ]
     }
    },
    "c92de1f9425a4f2f85bb07555c3d51a1": {
     "model_module": "@jupyter-widgets/output",
     "model_name": "OutputModel",
     "model_module_version": "1.0.0",
     "state": {
      "_dom_classes": [],
      "_model_module": "@jupyter-widgets/output",
      "_model_module_version": "1.0.0",
      "_model_name": "OutputModel",
      "_view_count": null,
      "_view_module": "@jupyter-widgets/output",
      "_view_module_version": "1.0.0",
      "_view_name": "OutputView",
      "layout": "IPY_MODEL_d7db1b0b42b948ae8c3b97b059f68cdb",
      "msg_id": "",
      "outputs": [
       {
        "output_type": "display_data",
        "data": {
         "text/plain": "<IPython.core.display.Markdown object>",
         "text/markdown": "## Source Counters\n\n| Metric Name | Metric Unit | Metric Value |\n|-------------|-------------|--------------|\n| Branch Instructions Ratio | % | 0.01 |\n| Branch Instructions | inst | 21,984 |\n| Branch Efficiency | % | 0 |\n| Avg. Divergent Branches |  | 0 |\n\n🔧 **OPTIMIZATION**: This kernel has uncoalesced shared accesses resulting in a total of 2154026 excessive wavefronts (82% of the total 2637674 wavefronts). Check the L1 Wavefronts Shared Excessive table for the primary source locations. The CUDA Best Practices Guide (https://docs.nvidia.com/cuda/cuda-c-best-practices-guide/index.html#shared-memory-in-matrix-multiplication-c-ab) has an example on optimizing shared memory accesses.\n*Estimated Speedup (global): 74.19%*\n"
        },
        "metadata": {}
       }
      ]
     }
    },
    "16d240c1461a444ea9cdbbd4a856e8f3": {
     "model_module": "@jupyter-widgets/output",
     "model_name": "OutputModel",
     "model_module_version": "1.0.0",
     "state": {
      "_dom_classes": [],
      "_model_module": "@jupyter-widgets/output",
      "_model_module_version": "1.0.0",
      "_model_name": "OutputModel",
      "_view_count": null,
      "_view_module": "@jupyter-widgets/output",
      "_view_module_version": "1.0.0",
      "_view_name": "OutputView",
      "layout": "IPY_MODEL_fd8251af0c4743e29b89a76a73a27af4",
      "msg_id": "",
      "outputs": [
       {
        "output_type": "display_data",
        "data": {
         "text/plain": "<IPython.core.display.Markdown object>",
         "text/markdown": "## WorkloadDistribution\n\n🔧 **OPTIMIZATION**: One or more SMs have a much higher number of active cycles than the average number of active cycles. Maximum instance value is 8.44% above the average, while the minimum instance value is 3.29% below the average.\n*Estimated Speedup (global): 7.666%*\n\n🔧 **OPTIMIZATION**: One or more SMSPs have a much higher number of active cycles than the average number of active cycles. Maximum instance value is 8.37% above the average, while the minimum instance value is 3.25% below the average.\n*Estimated Speedup (global): 7.609%*\n\n🔧 **OPTIMIZATION**: One or more L1 Slices have a much higher number of active cycles than the average number of active cycles. Maximum instance value is 8.44% above the average, while the minimum instance value is 3.29% below the average.\n*Estimated Speedup (global): 7.666%*\n"
        },
        "metadata": {}
       }
      ]
     }
    },
    "c8a33b735706409e93422519ca88fd38": {
     "model_module": "@jupyter-widgets/base",
     "model_name": "LayoutModel",
     "model_module_version": "1.2.0",
     "state": {
      "_model_module": "@jupyter-widgets/base",
      "_model_module_version": "1.2.0",
      "_model_name": "LayoutModel",
      "_view_count": null,
      "_view_module": "@jupyter-widgets/base",
      "_view_module_version": "1.2.0",
      "_view_name": "LayoutView",
      "align_content": null,
      "align_items": null,
      "align_self": null,
      "border": null,
      "bottom": null,
      "display": null,
      "flex": null,
      "flex_flow": null,
      "grid_area": null,
      "grid_auto_columns": null,
      "grid_auto_flow": null,
      "grid_auto_rows": null,
      "grid_column": null,
      "grid_gap": null,
      "grid_row": null,
      "grid_template_areas": null,
      "grid_template_columns": null,
      "grid_template_rows": null,
      "height": null,
      "justify_content": null,
      "justify_items": null,
      "left": null,
      "margin": null,
      "max_height": null,
      "max_width": null,
      "min_height": null,
      "min_width": null,
      "object_fit": null,
      "object_position": null,
      "order": null,
      "overflow": null,
      "overflow_x": null,
      "overflow_y": null,
      "padding": null,
      "right": null,
      "top": null,
      "visibility": null,
      "width": null
     }
    },
    "650c0471ffea4b4bad75444a904978b1": {
     "model_module": "@jupyter-widgets/base",
     "model_name": "LayoutModel",
     "model_module_version": "1.2.0",
     "state": {
      "_model_module": "@jupyter-widgets/base",
      "_model_module_version": "1.2.0",
      "_model_name": "LayoutModel",
      "_view_count": null,
      "_view_module": "@jupyter-widgets/base",
      "_view_module_version": "1.2.0",
      "_view_name": "LayoutView",
      "align_content": null,
      "align_items": null,
      "align_self": null,
      "border": null,
      "bottom": null,
      "display": null,
      "flex": null,
      "flex_flow": null,
      "grid_area": null,
      "grid_auto_columns": null,
      "grid_auto_flow": null,
      "grid_auto_rows": null,
      "grid_column": null,
      "grid_gap": null,
      "grid_row": null,
      "grid_template_areas": null,
      "grid_template_columns": null,
      "grid_template_rows": null,
      "height": null,
      "justify_content": null,
      "justify_items": null,
      "left": null,
      "margin": null,
      "max_height": null,
      "max_width": null,
      "min_height": null,
      "min_width": null,
      "object_fit": null,
      "object_position": null,
      "order": null,
      "overflow": null,
      "overflow_x": null,
      "overflow_y": null,
      "padding": null,
      "right": null,
      "top": null,
      "visibility": null,
      "width": null
     }
    },
    "da059452a8744262a3ebfec6543107bf": {
     "model_module": "@jupyter-widgets/base",
     "model_name": "LayoutModel",
     "model_module_version": "1.2.0",
     "state": {
      "_model_module": "@jupyter-widgets/base",
      "_model_module_version": "1.2.0",
      "_model_name": "LayoutModel",
      "_view_count": null,
      "_view_module": "@jupyter-widgets/base",
      "_view_module_version": "1.2.0",
      "_view_name": "LayoutView",
      "align_content": null,
      "align_items": null,
      "align_self": null,
      "border": null,
      "bottom": null,
      "display": null,
      "flex": null,
      "flex_flow": null,
      "grid_area": null,
      "grid_auto_columns": null,
      "grid_auto_flow": null,
      "grid_auto_rows": null,
      "grid_column": null,
      "grid_gap": null,
      "grid_row": null,
      "grid_template_areas": null,
      "grid_template_columns": null,
      "grid_template_rows": null,
      "height": null,
      "justify_content": null,
      "justify_items": null,
      "left": null,
      "margin": null,
      "max_height": null,
      "max_width": null,
      "min_height": null,
      "min_width": null,
      "object_fit": null,
      "object_position": null,
      "order": null,
      "overflow": null,
      "overflow_x": null,
      "overflow_y": null,
      "padding": null,
      "right": null,
      "top": null,
      "visibility": null,
      "width": null
     }
    },
    "bb74cb5d3eb042e0b148a8554236a950": {
     "model_module": "@jupyter-widgets/base",
     "model_name": "LayoutModel",
     "model_module_version": "1.2.0",
     "state": {
      "_model_module": "@jupyter-widgets/base",
      "_model_module_version": "1.2.0",
      "_model_name": "LayoutModel",
      "_view_count": null,
      "_view_module": "@jupyter-widgets/base",
      "_view_module_version": "1.2.0",
      "_view_name": "LayoutView",
      "align_content": null,
      "align_items": null,
      "align_self": null,
      "border": null,
      "bottom": null,
      "display": null,
      "flex": null,
      "flex_flow": null,
      "grid_area": null,
      "grid_auto_columns": null,
      "grid_auto_flow": null,
      "grid_auto_rows": null,
      "grid_column": null,
      "grid_gap": null,
      "grid_row": null,
      "grid_template_areas": null,
      "grid_template_columns": null,
      "grid_template_rows": null,
      "height": null,
      "justify_content": null,
      "justify_items": null,
      "left": null,
      "margin": null,
      "max_height": null,
      "max_width": null,
      "min_height": null,
      "min_width": null,
      "object_fit": null,
      "object_position": null,
      "order": null,
      "overflow": null,
      "overflow_x": null,
      "overflow_y": null,
      "padding": null,
      "right": null,
      "top": null,
      "visibility": null,
      "width": null
     }
    },
    "9f7ceb76de8e4d9c8a6d03403fc87038": {
     "model_module": "@jupyter-widgets/base",
     "model_name": "LayoutModel",
     "model_module_version": "1.2.0",
     "state": {
      "_model_module": "@jupyter-widgets/base",
      "_model_module_version": "1.2.0",
      "_model_name": "LayoutModel",
      "_view_count": null,
      "_view_module": "@jupyter-widgets/base",
      "_view_module_version": "1.2.0",
      "_view_name": "LayoutView",
      "align_content": null,
      "align_items": null,
      "align_self": null,
      "border": null,
      "bottom": null,
      "display": null,
      "flex": null,
      "flex_flow": null,
      "grid_area": null,
      "grid_auto_columns": null,
      "grid_auto_flow": null,
      "grid_auto_rows": null,
      "grid_column": null,
      "grid_gap": null,
      "grid_row": null,
      "grid_template_areas": null,
      "grid_template_columns": null,
      "grid_template_rows": null,
      "height": null,
      "justify_content": null,
      "justify_items": null,
      "left": null,
      "margin": null,
      "max_height": null,
      "max_width": null,
      "min_height": null,
      "min_width": null,
      "object_fit": null,
      "object_position": null,
      "order": null,
      "overflow": null,
      "overflow_x": null,
      "overflow_y": null,
      "padding": null,
      "right": null,
      "top": null,
      "visibility": null,
      "width": null
     }
    },
    "cb604331c58f43bda3a0135cc761ef22": {
     "model_module": "@jupyter-widgets/base",
     "model_name": "LayoutModel",
     "model_module_version": "1.2.0",
     "state": {
      "_model_module": "@jupyter-widgets/base",
      "_model_module_version": "1.2.0",
      "_model_name": "LayoutModel",
      "_view_count": null,
      "_view_module": "@jupyter-widgets/base",
      "_view_module_version": "1.2.0",
      "_view_name": "LayoutView",
      "align_content": null,
      "align_items": null,
      "align_self": null,
      "border": null,
      "bottom": null,
      "display": null,
      "flex": null,
      "flex_flow": null,
      "grid_area": null,
      "grid_auto_columns": null,
      "grid_auto_flow": null,
      "grid_auto_rows": null,
      "grid_column": null,
      "grid_gap": null,
      "grid_row": null,
      "grid_template_areas": null,
      "grid_template_columns": null,
      "grid_template_rows": null,
      "height": null,
      "justify_content": null,
      "justify_items": null,
      "left": null,
      "margin": null,
      "max_height": null,
      "max_width": null,
      "min_height": null,
      "min_width": null,
      "object_fit": null,
      "object_position": null,
      "order": null,
      "overflow": null,
      "overflow_x": null,
      "overflow_y": null,
      "padding": null,
      "right": null,
      "top": null,
      "visibility": null,
      "width": null
     }
    },
    "f2ef2b3576a54144a9faadd4ea42f0f4": {
     "model_module": "@jupyter-widgets/base",
     "model_name": "LayoutModel",
     "model_module_version": "1.2.0",
     "state": {
      "_model_module": "@jupyter-widgets/base",
      "_model_module_version": "1.2.0",
      "_model_name": "LayoutModel",
      "_view_count": null,
      "_view_module": "@jupyter-widgets/base",
      "_view_module_version": "1.2.0",
      "_view_name": "LayoutView",
      "align_content": null,
      "align_items": null,
      "align_self": null,
      "border": null,
      "bottom": null,
      "display": null,
      "flex": null,
      "flex_flow": null,
      "grid_area": null,
      "grid_auto_columns": null,
      "grid_auto_flow": null,
      "grid_auto_rows": null,
      "grid_column": null,
      "grid_gap": null,
      "grid_row": null,
      "grid_template_areas": null,
      "grid_template_columns": null,
      "grid_template_rows": null,
      "height": null,
      "justify_content": null,
      "justify_items": null,
      "left": null,
      "margin": null,
      "max_height": null,
      "max_width": null,
      "min_height": null,
      "min_width": null,
      "object_fit": null,
      "object_position": null,
      "order": null,
      "overflow": null,
      "overflow_x": null,
      "overflow_y": null,
      "padding": null,
      "right": null,
      "top": null,
      "visibility": null,
      "width": null
     }
    },
    "9aee114e6f204e139cad4e9797cd9cc5": {
     "model_module": "@jupyter-widgets/base",
     "model_name": "LayoutModel",
     "model_module_version": "1.2.0",
     "state": {
      "_model_module": "@jupyter-widgets/base",
      "_model_module_version": "1.2.0",
      "_model_name": "LayoutModel",
      "_view_count": null,
      "_view_module": "@jupyter-widgets/base",
      "_view_module_version": "1.2.0",
      "_view_name": "LayoutView",
      "align_content": null,
      "align_items": null,
      "align_self": null,
      "border": null,
      "bottom": null,
      "display": null,
      "flex": null,
      "flex_flow": null,
      "grid_area": null,
      "grid_auto_columns": null,
      "grid_auto_flow": null,
      "grid_auto_rows": null,
      "grid_column": null,
      "grid_gap": null,
      "grid_row": null,
      "grid_template_areas": null,
      "grid_template_columns": null,
      "grid_template_rows": null,
      "height": null,
      "justify_content": null,
      "justify_items": null,
      "left": null,
      "margin": null,
      "max_height": null,
      "max_width": null,
      "min_height": null,
      "min_width": null,
      "object_fit": null,
      "object_position": null,
      "order": null,
      "overflow": null,
      "overflow_x": null,
      "overflow_y": null,
      "padding": null,
      "right": null,
      "top": null,
      "visibility": null,
      "width": null
     }
    },
    "9c1ff914f65345ddba6465fc350ffa77": {
     "model_module": "@jupyter-widgets/base",
     "model_name": "LayoutModel",
     "model_module_version": "1.2.0",
     "state": {
      "_model_module": "@jupyter-widgets/base",
      "_model_module_version": "1.2.0",
      "_model_name": "LayoutModel",
      "_view_count": null,
      "_view_module": "@jupyter-widgets/base",
      "_view_module_version": "1.2.0",
      "_view_name": "LayoutView",
      "align_content": null,
      "align_items": null,
      "align_self": null,
      "border": null,
      "bottom": null,
      "display": null,
      "flex": null,
      "flex_flow": null,
      "grid_area": null,
      "grid_auto_columns": null,
      "grid_auto_flow": null,
      "grid_auto_rows": null,
      "grid_column": null,
      "grid_gap": null,
      "grid_row": null,
      "grid_template_areas": null,
      "grid_template_columns": null,
      "grid_template_rows": null,
      "height": null,
      "justify_content": null,
      "justify_items": null,
      "left": null,
      "margin": null,
      "max_height": null,
      "max_width": null,
      "min_height": null,
      "min_width": null,
      "object_fit": null,
      "object_position": null,
      "order": null,
      "overflow": null,
      "overflow_x": null,
      "overflow_y": null,
      "padding": null,
      "right": null,
      "top": null,
      "visibility": null,
      "width": null
     }
    },
    "2ebcfbe930ca4061a86c8f1ea87b8eb0": {
     "model_module": "@jupyter-widgets/base",
     "model_name": "LayoutModel",
     "model_module_version": "1.2.0",
     "state": {
      "_model_module": "@jupyter-widgets/base",
      "_model_module_version": "1.2.0",
      "_model_name": "LayoutModel",
      "_view_count": null,
      "_view_module": "@jupyter-widgets/base",
      "_view_module_version": "1.2.0",
      "_view_name": "LayoutView",
      "align_content": null,
      "align_items": null,
      "align_self": null,
      "border": null,
      "bottom": null,
      "display": null,
      "flex": null,
      "flex_flow": null,
      "grid_area": null,
      "grid_auto_columns": null,
      "grid_auto_flow": null,
      "grid_auto_rows": null,
      "grid_column": null,
      "grid_gap": null,
      "grid_row": null,
      "grid_template_areas": null,
      "grid_template_columns": null,
      "grid_template_rows": null,
      "height": null,
      "justify_content": null,
      "justify_items": null,
      "left": null,
      "margin": null,
      "max_height": null,
      "max_width": null,
      "min_height": null,
      "min_width": null,
      "object_fit": null,
      "object_position": null,
      "order": null,
      "overflow": null,
      "overflow_x": null,
      "overflow_y": null,
      "padding": null,
      "right": null,
      "top": null,
      "visibility": null,
      "width": null
     }
    },
    "64037d07a15d4e238471eeccce3d0ead": {
     "model_module": "@jupyter-widgets/base",
     "model_name": "LayoutModel",
     "model_module_version": "1.2.0",
     "state": {
      "_model_module": "@jupyter-widgets/base",
      "_model_module_version": "1.2.0",
      "_model_name": "LayoutModel",
      "_view_count": null,
      "_view_module": "@jupyter-widgets/base",
      "_view_module_version": "1.2.0",
      "_view_name": "LayoutView",
      "align_content": null,
      "align_items": null,
      "align_self": null,
      "border": null,
      "bottom": null,
      "display": null,
      "flex": null,
      "flex_flow": null,
      "grid_area": null,
      "grid_auto_columns": null,
      "grid_auto_flow": null,
      "grid_auto_rows": null,
      "grid_column": null,
      "grid_gap": null,
      "grid_row": null,
      "grid_template_areas": null,
      "grid_template_columns": null,
      "grid_template_rows": null,
      "height": null,
      "justify_content": null,
      "justify_items": null,
      "left": null,
      "margin": null,
      "max_height": null,
      "max_width": null,
      "min_height": null,
      "min_width": null,
      "object_fit": null,
      "object_position": null,
      "order": null,
      "overflow": null,
      "overflow_x": null,
      "overflow_y": null,
      "padding": null,
      "right": null,
      "top": null,
      "visibility": null,
      "width": null
     }
    },
    "f261d85898c54dc9a72eaf5bda2703ca": {
     "model_module": "@jupyter-widgets/base",
     "model_name": "LayoutModel",
     "model_module_version": "1.2.0",
     "state": {
      "_model_module": "@jupyter-widgets/base",
      "_model_module_version": "1.2.0",
      "_model_name": "LayoutModel",
      "_view_count": null,
      "_view_module": "@jupyter-widgets/base",
      "_view_module_version": "1.2.0",
      "_view_name": "LayoutView",
      "align_content": null,
      "align_items": null,
      "align_self": null,
      "border": null,
      "bottom": null,
      "display": null,
      "flex": null,
      "flex_flow": null,
      "grid_area": null,
      "grid_auto_columns": null,
      "grid_auto_flow": null,
      "grid_auto_rows": null,
      "grid_column": null,
      "grid_gap": null,
      "grid_row": null,
      "grid_template_areas": null,
      "grid_template_columns": null,
      "grid_template_rows": null,
      "height": null,
      "justify_content": null,
      "justify_items": null,
      "left": null,
      "margin": null,
      "max_height": null,
      "max_width": null,
      "min_height": null,
      "min_width": null,
      "object_fit": null,
      "object_position": null,
      "order": null,
      "overflow": null,
      "overflow_x": null,
      "overflow_y": null,
      "padding": null,
      "right": null,
      "top": null,
      "visibility": null,
      "width": null
     }
    },
    "d7db1b0b42b948ae8c3b97b059f68cdb": {
     "model_module": "@jupyter-widgets/base",
     "model_name": "LayoutModel",
     "model_module_version": "1.2.0",
     "state": {
      "_model_module": "@jupyter-widgets/base",
      "_model_module_version": "1.2.0",
      "_model_name": "LayoutModel",
      "_view_count": null,
      "_view_module": "@jupyter-widgets/base",
      "_view_module_version": "1.2.0",
      "_view_name": "LayoutView",
      "align_content": null,
      "align_items": null,
      "align_self": null,
      "border": null,
      "bottom": null,
      "display": null,
      "flex": null,
      "flex_flow": null,
      "grid_area": null,
      "grid_auto_columns": null,
      "grid_auto_flow": null,
      "grid_auto_rows": null,
      "grid_column": null,
      "grid_gap": null,
      "grid_row": null,
      "grid_template_areas": null,
      "grid_template_columns": null,
      "grid_template_rows": null,
      "height": null,
      "justify_content": null,
      "justify_items": null,
      "left": null,
      "margin": null,
      "max_height": null,
      "max_width": null,
      "min_height": null,
      "min_width": null,
      "object_fit": null,
      "object_position": null,
      "order": null,
      "overflow": null,
      "overflow_x": null,
      "overflow_y": null,
      "padding": null,
      "right": null,
      "top": null,
      "visibility": null,
      "width": null
     }
    },
    "fd8251af0c4743e29b89a76a73a27af4": {
     "model_module": "@jupyter-widgets/base",
     "model_name": "LayoutModel",
     "model_module_version": "1.2.0",
     "state": {
      "_model_module": "@jupyter-widgets/base",
      "_model_module_version": "1.2.0",
      "_model_name": "LayoutModel",
      "_view_count": null,
      "_view_module": "@jupyter-widgets/base",
      "_view_module_version": "1.2.0",
      "_view_name": "LayoutView",
      "align_content": null,
      "align_items": null,
      "align_self": null,
      "border": null,
      "bottom": null,
      "display": null,
      "flex": null,
      "flex_flow": null,
      "grid_area": null,
      "grid_auto_columns": null,
      "grid_auto_flow": null,
      "grid_auto_rows": null,
      "grid_column": null,
      "grid_gap": null,
      "grid_row": null,
      "grid_template_areas": null,
      "grid_template_columns": null,
      "grid_template_rows": null,
      "height": null,
      "justify_content": null,
      "justify_items": null,
      "left": null,
      "margin": null,
      "max_height": null,
      "max_width": null,
      "min_height": null,
      "min_width": null,
      "object_fit": null,
      "object_position": null,
      "order": null,
      "overflow": null,
      "overflow_x": null,
      "overflow_y": null,
      "padding": null,
      "right": null,
      "top": null,
      "visibility": null,
      "width": null
     }
    }
   }
  }
 },
 "nbformat": 4,
 "nbformat_minor": 5
}
