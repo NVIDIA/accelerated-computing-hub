{
 "cells": [
  {
   "cell_type": "markdown",
   "id": "b692e38e",
   "metadata": {},
   "source": [
    "## Accelerated Python Tutorial\n",
    "\n",
    "Select the syllabus that you are taking:\n",
    "\n",
    "- [CUDA Python - CuPy, cuDF, CCCL, & Kernels - 8 Hours](./syllabi/cuda_python__cupy_cudf_cccl_kernels__8_hours.ipynb).\n",
    "- [CUDA Python - cuda.core & CCCL - 2 Hours](./syllabi/cuda_python__cuda_core_cccl__2_hours.ipynb)."
   ]
  }
 ],
 "metadata": {
  "colab": {
   "gpuType": "T4",
   "provenance": []
  },
  "kernelspec": {
   "display_name": "Python 3 (ipykernel)",
   "language": "python",
   "name": "python3"
  },
  "language_info": {
   "name": "python"
  }
 },
 "nbformat": 4,
 "nbformat_minor": 5
}
