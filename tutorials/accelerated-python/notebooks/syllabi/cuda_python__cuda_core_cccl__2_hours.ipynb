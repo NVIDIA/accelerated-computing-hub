{
 "cells": [
  {
   "cell_type": "markdown",
   "id": "2f93e5f6",
   "metadata": {},
   "source": [
    "## CUDA Python Tutorial - cuda.core & CCCL - 2 Hours\n",
    "\n",
    "### Notebooks\n",
    "\n",
    "### Introduction\n",
    "\n",
    "In this tutorial we will cover:\n",
    "- What is a GPU and why is it different to a CPU?\n",
    "- An overview of the CUDA development model.\n",
    "- The CUDA Python ecosystem.\n",
    "- Working with NumPy / CuPy style arrays on the GPU.\n",
    "- Writing CUDA kernels using cuda.core.\n",
    "- Using cuda.compute\n",
    "\n",
    "Attendees will be expected to have a general knowledge of Python and programming concepts, as well as a basic understanding of GPU computing."
   ]
  }
 ],
 "metadata": {
  "language_info": {
   "name": "python"
  }
 },
 "nbformat": 4,
 "nbformat_minor": 5
}
