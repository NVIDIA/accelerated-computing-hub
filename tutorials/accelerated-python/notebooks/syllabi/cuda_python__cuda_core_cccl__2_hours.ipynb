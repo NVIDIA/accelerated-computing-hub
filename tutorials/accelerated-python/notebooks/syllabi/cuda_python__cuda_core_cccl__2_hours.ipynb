{
 "cells": [
  {
   "cell_type": "markdown",
   "id": "2f93e5f6",
   "metadata": {},
   "source": [
    "## CUDA Python Tutorial - cuda.core & CCCL - 2 Hours\n",
    "\n",
    "### Notebooks\n",
    "\n",
    "| # | Topic | Solution | Technologies | \n",
    "|---|-------|----------|--------------|\n",
    "| 00 | [What are GPUs?](../fundamentals/00__what_are_gpus.ipynb) | - | - |\n",
    "| 07 | [cuda.core: Devices, Streams and Memory](../fundamentals/07__cuda_core__devices_streams_and_memory.ipynb) | [Click](../fundamentals/solutions/07__cuda_core__devices_streams_and_memory__SOLUTION.ipynb) | cuda.core |\n",
    "| 23 | [CCCL: Customizing Algorithms](../libraries/23__cuda_cccl__customizing_algorithms.ipynb) | [Click](../libraries/solutions/23__cuda_cccl__customizing_algorithms__SOLUTION.ipynb) | cuda.cccl |\n",
    "\n",
    "\n",
    "### Introduction\n",
    "\n",
    "In this tutorial we will cover:\n",
    "- What is a GPU and why is it different to a CPU?\n",
    "- An overview of the CUDA development model.\n",
    "- The CUDA Python ecosystem.\n",
    "- Working with NumPy / CuPy style arrays on the GPU.\n",
    "- Writing CUDA kernels using cuda.core.\n",
    "- Using cuda.compute\n",
    "\n",
    "Attendees will be expected to have a general knowledge of Python and programming concepts, as well as a basic understanding of GPU computing."
   ]
  }
 ],
 "metadata": {
  "colab": {
   "gpuType": "T4",
   "provenance": []
  },
  "kernelspec": {
   "display_name": "Python 3 (ipykernel)",
   "language": "python",
   "name": "python3"
  },
  "language_info": {
   "name": "python"
  }
 },
 "nbformat": 4,
 "nbformat_minor": 5
}
