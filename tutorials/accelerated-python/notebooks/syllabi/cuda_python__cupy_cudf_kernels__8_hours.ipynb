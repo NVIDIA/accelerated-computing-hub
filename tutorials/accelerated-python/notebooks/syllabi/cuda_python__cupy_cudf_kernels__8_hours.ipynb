{
 "cells": [
  {
   "cell_type": "markdown",
   "id": "2424d3c1",
   "metadata": {},
   "source": [
    "## CUDA Python Tutorial - CuPy, cuDF, & Kernels - 8 Hours\n",
    "\n",
    "### Notebooks\n",
    "\n",
    "| # | Topic | Solution | Technologies | \n",
    "|---|-------|----------|--------------|\n",
    "| 01 | [NumPy Intro: `ndarray` Basics](../fundamentals/01__numpy_intro__ndarray_basics.ipynb) | [Click](../fundamentals/solutions/01__numpy_intro__ndarray_basics__SOLUTION.ipynb) | NumPy |\n",
    "| 03 | [NumPy to CuPy: `ndarray` Basics](../fundamentals/03__numpy_to_cupy__ndarray_basics.ipynb) | [Click](../fundamentals/solutions/03__numpy_to_cupy__ndarray_basics__SOLUTION.ipynb) | CuPy |\n",
    "| 05 | [Memory Spaces: Power Iteration](../fundamentals/05__memory_spaces__power_iteration.ipynb) | [Click](../fundamentals/solutions/05__memory_spaces__power_iteration__SOLUTION.ipynb) | CuPy |\n",
    "| 06 | [Asynchrony: Power Iteration](../fundamentals/06__asynchrony__power_iteration.ipynb) | [Click](../fundamentals/solutions/06__asynchrony__power_iteration__SOLUTION.ipynb) | CuPy, Nsight Systems |\n",
    "| 20 | [cuDF: NYC Parking Violations](../libraries/20__cudf__nyc_parking_violations.ipynb) | [Click](../libraries/solutions/20__cudf__nyc_parking_violations__SOLUTION.ipynb) | cuDF |\n",
    "| 23 | [cuda-cccl: Customizing Algorithms](../libraries/23__cuda_cccl__customizing_algorithms.ipynb) | [Click](../libraries/solutions/23__cuda_cccl__customizing_algorithms__SOLUTION.ipynb) | cuda-cccl |\n",
    "| 40 | [Kernels: Copy](../kernels/40__kernel_authoring__copy.ipynb) | [Click](../kernels/solutions/40__kernel_authoring__copy__SOLUTION.ipynb) | Numba CUDA, Nsight Compute |\n",
    "| 41 | [Kernels: Book Histogram](../kernels/41__kernel_authoring__book_histogram.ipynb) | [Click](../kernels/solutions/41__kernel_authoring__book_histogram__SOLUTION.ipynb) | Numba CUDA, Nsight Compute |\n",
    "\n",
    "### Slides\n",
    "\n",
    "| [PPTX](https://github.com/NVIDIA/accelerated-computing-hub/raw/refs/heads/brev-reorg/tutorials/accelerated-python/slides/cuda_python__cupy_cudf_kernels__8_hours__r5.pptx) | [PDF](../../slides/cuda_python__cupy_cudf_kernels__8_hours__r5.pdf) |\n",
    "|-|-|\n",
    "\n",
    "### Introduction\n",
    "\n",
    "Welcome to the CUDA Python tutorial!\n",
    "\n",
    "If you’ve never programmed a GPU before, you’re in the right place. This session is designed for all skill levels - no prior experience with CUDA or GPU programming is necessary.\n",
    "\n",
    "But if you do have experience with CUDA, don't worry – this course will still be valuable to you You'll learn the latest best practices and methodologies.\n",
    "\n",
    "CUDA is a huge topic, and many of the concepts we'll touch on could fill entire courses. Because of that, we won't be able to explore everything in detail. \n",
    "\n",
    "Instead, our goal is to help you develop a solid intuition for how CUDA works. Think of this session as your introduction to the most important ideas and a chance to see the bigger picture of GPU programming.\n",
    "\n",
    "Performance will be a central theme today – throughout the course, you'll be exposed to NVIDIA's developer tools and develop a mental model for how to reason about GPU performance.\n",
    "\n",
    "The specific technologies we'll cover today are:\n",
    "- NumPy.\n",
    "- CuPy.\n",
    "- cuDF.\n",
    "- CUDA Kernels.\n",
    "- Nsight Systems.\n",
    "- Nsight Compute.\n"
   ]
  }
 ],
 "metadata": {
  "colab": {
   "gpuType": "T4",
   "provenance": []
  },
  "kernelspec": {
   "display_name": "Python 3 (ipykernel)",
   "language": "python",
   "name": "python3"
  },
  "language_info": {
   "name": "python"
  }
 },
 "nbformat": 4,
 "nbformat_minor": 5
}
