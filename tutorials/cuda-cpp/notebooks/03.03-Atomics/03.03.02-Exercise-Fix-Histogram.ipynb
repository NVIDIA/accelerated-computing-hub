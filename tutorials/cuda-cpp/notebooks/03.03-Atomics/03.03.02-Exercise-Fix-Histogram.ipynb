{
 "cells": [
  {
   "cell_type": "markdown",
   "metadata": {},
   "source": [
    "\n",
    "## Exercise: Fix Histogram\n",
    "\n",
    "The code below has a data race in it.\n",
    "Multiple threads concurrently increment the same element of the histogram array.\n",
    "Use `cuda::std::atomic_ref` to fix this bug. \n",
    "\n",
    "Interface of `cuda::std::atomic_ref` is equivalent to `std::atomic_ref`:\n",
    "\n",
    "```c++\n",
    "__global__ void kernel(int *count)\n",
    "{\n",
    "  // Wrap data in atomic_ref\n",
    "  cuda::std::atomic_ref<int> ref(count[0]);\n",
    "\n",
    "  // Atomically increment the underlying value\n",
    "  ref.fetch_add(1);\n",
    "}\n",
    "```"
   ]
  },
  {
   "cell_type": "code",
   "execution_count": null,
   "metadata": {
    "cellView": "form"
   },
   "outputs": [],
   "source": [
    "import os\n",
    "\n",
    "if os.getenv(\"COLAB_RELEASE_TAG\"): # If running in Google Colab:\n",
    "  !mkdir -p Sources\n",
    "  !wget https://raw.githubusercontent.com/NVIDIA/accelerated-computing-hub/refs/heads/main/tutorials/cuda-cpp/notebooks/03.03-Atomics/Sources/ach.cuh -nv -O Sources/ach.cuh\n",
    "  !wget https://raw.githubusercontent.com/NVIDIA/accelerated-computing-hub/refs/heads/main/tutorials/cuda-cpp/notebooks/03.03-Atomics/Sources/__init__.py -nv -O Sources/__init__.py\n",
    "  !wget https://raw.githubusercontent.com/NVIDIA/accelerated-computing-hub/refs/heads/main/tutorials/cuda-cpp/notebooks/03.03-Atomics/Sources/ach.py -nv -O Sources/ach.py"
   ]
  },
  {
   "cell_type": "markdown",
   "metadata": {},
   "source": [
    "<details>\n",
    "<summary>Original code in case you need to refer to it.</summary>\n",
    "\n",
    "```c++\n",
    "%%writefile Sources/histogram.cpp\n",
    "#include \"ach.cuh\"\n",
    "\n",
    "constexpr float bin_width = 10;\n",
    "\n",
    "__global__ void histogram_kernel(cuda::std::span<float> temperatures, \n",
    "                                 cuda::std::span<int> histogram)\n",
    "{\n",
    "  int cell = blockIdx.x * blockDim.x + threadIdx.x;\n",
    "  if (cell < temperatures.size()) {\n",
    "    int bin = static_cast<int>(temperatures[cell] / bin_width);\n",
    "\n",
    "    // fix data race in incrementing histogram bins by using `cuda::std::atomic_ref`\n",
    "    int old_count = histogram[bin];\n",
    "    int new_count = old_count + 1;\n",
    "    histogram[bin] = new_count;\n",
    "  }\n",
    "}\n",
    "\n",
    "void histogram(cuda::std::span<float> temperatures, \n",
    "               cuda::std::span<int> histogram,\n",
    "               cudaStream_t stream)\n",
    "{\n",
    "  int block_size = 256;\n",
    "  int grid_size = cuda::ceil_div(temperatures.size(), block_size);\n",
    "  histogram_kernel<<<grid_size, block_size, 0, stream>>>(\n",
    "    temperatures, histogram);\n",
    "}\n",
    "```\n",
    "    \n",
    "</details>"
   ]
  },
  {
   "cell_type": "code",
   "execution_count": null,
   "metadata": {},
   "outputs": [],
   "source": [
    "%%writefile Sources/histogram.cpp\n",
    "#include \"ach.cuh\"\n",
    "\n",
    "constexpr float bin_width = 10;\n",
    "\n",
    "__global__ void histogram_kernel(cuda::std::span<float> temperatures,\n",
    "                                 cuda::std::span<int> histogram)\n",
    "{\n",
    "  int cell = blockIdx.x * blockDim.x + threadIdx.x;\n",
    "  if (cell < temperatures.size()) {\n",
    "    int bin = static_cast<int>(temperatures[cell] / bin_width);\n",
    "\n",
    "    // TODO: fix data race in incrementing histogram bins by using `cuda::std::atomic_ref`\n",
    "    int old_count = histogram[bin];\n",
    "    int new_count = old_count + 1;\n",
    "    histogram[bin] = new_count;\n",
    "  }\n",
    "}\n",
    "\n",
    "void histogram(cuda::std::span<float> temperatures,\n",
    "               cuda::std::span<int> histogram,\n",
    "               cudaStream_t stream)\n",
    "{\n",
    "  int block_size = 256;\n",
    "  int grid_size = cuda::ceil_div(temperatures.size(), block_size);\n",
    "  histogram_kernel<<<grid_size, block_size, 0, stream>>>(\n",
    "    temperatures, histogram);\n",
    "}"
   ]
  },
  {
   "cell_type": "code",
   "execution_count": null,
   "metadata": {},
   "outputs": [],
   "source": [
    "import Sources.ach\n",
    "Sources.ach.run(\"Sources/histogram.cpp\")"
   ]
  },
  {
   "cell_type": "markdown",
   "metadata": {},
   "source": [
    "If you’re unsure how to proceed, consider expanding this section for guidance. Use the hint only after giving the problem a genuine attempt.\n",
    "\n",
    "<details>\n",
    "  <summary>Hints</summary>\n",
    "  \n",
    "  - `cuda::std::atomic_ref` wraps a reference and applies atomic operations to the underlying object\n",
    "  - You can increment a variable atomically using `ref.fetch_add(1)`\n",
    "</details>"
   ]
  },
  {
   "cell_type": "markdown",
   "metadata": {},
   "source": [
    "Open this section only after you’ve made a serious attempt at solving the problem. Once you’ve completed your solution, compare it with the reference provided here to evaluate your approach and identify any potential improvements.\n",
    "\n",
    "<details>\n",
    "  <summary>Solution</summary>\n",
    "\n",
    "  Key points:\n",
    "\n",
    "  - Wrap selected bin in `cuda::std::atomic_ref<int>` for atomic operations\n",
    "  - Use `fetch_add` to increment the bin value atomically\n",
    "\n",
    "  Solution:\n",
    "  ```c++\n",
    "  __global__ void histogram_kernel(cuda::std::span<float> temperatures,\n",
    "                                   cuda::std::span<int> histogram) \n",
    "  {\n",
    "    int cell = blockIdx.x * blockDim.x + threadIdx.x;\n",
    "    int bin = static_cast<int>(temperatures[cell] / 10);\n",
    "\n",
    "    cuda::std::atomic_ref<int> ref(histogram[bin]);\n",
    "    ref.fetch_add(1);\n",
    "  }\n",
    "  ```\n",
    "\n",
    "  You can find full solution [here](Solutions/histogram.cpp).\n",
    "</details>"
   ]
  },
  {
   "cell_type": "markdown",
   "metadata": {},
   "source": [
    "---\n",
    "Congratulations!  Move on to the [next section](../03.04-Synchronization/03.04.01-Sync.ipynb)"
   ]
  }
 ],
 "metadata": {
  "accelerator": "GPU",
  "colab": {
   "gpuType": "T4",
   "provenance": [],
   "toc_visible": true
  },
  "kernelspec": {
   "display_name": "Python 3 (ipykernel)",
   "language": "python",
   "name": "python3"
  },
  "language_info": {
   "codemirror_mode": {
    "name": "ipython",
    "version": 3
   },
   "file_extension": ".py",
   "mimetype": "text/x-python",
   "name": "python",
   "nbconvert_exporter": "python",
   "pygments_lexer": "ipython3",
   "version": "3.10.12"
  }
 },
 "nbformat": 4,
 "nbformat_minor": 4
}
