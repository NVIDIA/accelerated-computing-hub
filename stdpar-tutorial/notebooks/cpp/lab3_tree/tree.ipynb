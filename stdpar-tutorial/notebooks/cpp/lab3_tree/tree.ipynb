{
 "cells": [
  {
   "cell_type": "markdown",
   "metadata": {},
   "source": [
    "Accelerating portable HPC Applications with Standard C++\n",
    "===\n",
    "\n",
    "# Lab 3: Parallel Tree Construction\n",
    "\n",
    "In this tutorial we will learn how to implement starvation-free concurrent algorithms by looking at parallel tree construction (see slides).\n",
    "\n",
    "A working implementation is provided in [starting_point.cpp].\n",
    "Please take 5 minutes to skim through it.\n",
    "\n",
    "Before starting we need to obtain a collection of books to run the example with:\n",
    "\n",
    "[starting_point.cpp]: ./starting_point.cpp"
   ]
  },
  {
   "cell_type": "code",
   "execution_count": null,
   "metadata": {},
   "outputs": [],
   "source": [
    "!./books.sh"
   ]
  },
  {
   "cell_type": "markdown",
   "metadata": {},
   "source": [
    "---\n",
    "\n",
    "Now let's compile and run the starting point:"
   ]
  },
  {
   "cell_type": "code",
   "execution_count": null,
   "metadata": {},
   "outputs": [],
   "source": [
    "!g++ -std=c++20 -Ofast -march=native -o tree starting_point.cpp -ltbb\n",
    "!./tree"
   ]
  },
  {
   "cell_type": "markdown",
   "metadata": {},
   "source": [
    "The input size should be 11451683 chars, and the sample books should have assembled 99743 nodes.\n",
    "\n",
    "This implementation reads all books into a single string of characters, and then processes it as 1 domain.\n",
    "\n",
    "## Exercise 1: process the input in parallel\n",
    "\n",
    "The goal of this exercise is to process the input in parallel using multiple domains.\n",
    "\n",
    "A template for the solution is provided in [exercise1.cpp]. The `TODO`s indicate the parts of the template that must be completed.\n",
    "\n",
    "[exercise1.cpp]: ./exercise1.cpp\n",
    "\n",
    "The example compiles and runs serially as provided.\n",
    "Once you parallelize it, the following blocks should compile and run correctly:"
   ]
  },
  {
   "cell_type": "code",
   "execution_count": null,
   "metadata": {},
   "outputs": [],
   "source": [
    "!g++ -std=c++20 -Ofast -march=native -o tree exercise1.cpp -ltbb\n",
    "!./tree"
   ]
  },
  {
   "cell_type": "code",
   "execution_count": null,
   "metadata": {},
   "outputs": [],
   "source": [
    "!clang++ -std=c++20 -Ofast -march=native -o tree exercise1.cpp -ltbb\n",
    "!./tree"
   ]
  },
  {
   "cell_type": "code",
   "execution_count": null,
   "metadata": {},
   "outputs": [],
   "source": [
    "!nvc++ -std=c++20 -Ofast -march=native -stdpar=multicore -o tree exercise1.cpp\n",
    "!./tree"
   ]
  },
  {
   "cell_type": "markdown",
   "metadata": {},
   "source": [
    "### Solutions Exercise 1\n",
    "\n",
    "The solutions for each example are available in the `solutions/` sub-directory.\n",
    "\n",
    "The following compiles and runs the solutions for Exercise 1 using different compilers."
   ]
  },
  {
   "cell_type": "code",
   "execution_count": null,
   "metadata": {},
   "outputs": [],
   "source": [
    "!g++ -std=c++20 -Ofast -march=native -DNDEBUG -o tree solutions/exercise1.cpp -ltbb\n",
    "!./tree"
   ]
  },
  {
   "cell_type": "code",
   "execution_count": null,
   "metadata": {},
   "outputs": [],
   "source": [
    "!clang++ -std=c++20 -Ofast -march=native -DNDEBUG -o tree solutions/exercise1.cpp -ltbb\n",
    "!./tree"
   ]
  },
  {
   "cell_type": "code",
   "execution_count": null,
   "metadata": {},
   "outputs": [],
   "source": [
    "!nvc++ -std=c++20 -Ofast -march=native -DNDEBUG -stdpar=multicore -o tree solutions/exercise1.cpp\n",
    "!./tree"
   ]
  },
  {
   "cell_type": "markdown",
   "metadata": {},
   "source": [
    "Currently, not all `std::atomic` operations are supported on GPUs.\n",
    "The CUDA Toolkit is included with the HPC SDK and includes [libcudacxx](https://github.com/NVIDIA/libcudacxx), the CUDA C++ standard library.\n",
    "This library provides the `cuda::atomic` and similar types in the `#include <cuda/atomic>` header and those can be used on GPUs."
   ]
  },
  {
   "cell_type": "code",
   "execution_count": null,
   "metadata": {},
   "outputs": [],
   "source": [
    "!g++ -std=c++20 -Ofast -march=native -DNDEBUG -o tree solutions/exercise1_gpu.cpp -ltbb\n",
    "!./tree"
   ]
  },
  {
   "cell_type": "code",
   "execution_count": null,
   "metadata": {},
   "outputs": [],
   "source": [
    "!clang++ -std=c++20 -Ofast -march=native -DNDEBUG -o tree solutions/exercise1_gpu.cpp -ltbb\n",
    "!./tree"
   ]
  },
  {
   "cell_type": "code",
   "execution_count": null,
   "metadata": {},
   "outputs": [],
   "source": [
    "!nvc++ -std=c++20 -Ofast -march=native -DNDEBUG -stdpar=gpu -o tree solutions/exercise1_gpu.cpp\n",
    "!./tree"
   ]
  }
 ],
 "metadata": {
  "kernelspec": {
   "display_name": "Python 3 (ipykernel)",
   "language": "python",
   "name": "python3"
  },
  "language_info": {
   "codemirror_mode": {
    "name": "ipython",
    "version": 3
   },
   "file_extension": ".py",
   "mimetype": "text/x-python",
   "name": "python",
   "nbconvert_exporter": "python",
   "pygments_lexer": "ipython3",
   "version": "3.10.12"
  }
 },
 "nbformat": 4,
 "nbformat_minor": 4
}
