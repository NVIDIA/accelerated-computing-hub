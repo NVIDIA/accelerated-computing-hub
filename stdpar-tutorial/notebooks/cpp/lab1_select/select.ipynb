{
 "cells": [
  {
   "cell_type": "markdown",
   "metadata": {},
   "source": [
    "Accelerating portable HPC Applications with Standard C++\n",
    "===\n",
    "\n",
    "# [Optional] Lab 1: select (aka `copy_if`).\n",
    "\n",
    "If [Lab 1: DAXPY](../lab1_daxpy/daxpy.ipynb) was quick to complete for you, Lab 1 proposes a slightly more advanced example which requires the decomposition of a problem into multiple algorithm calls. You will use different approaches, sequential and parallel, to re-implement the [std::copy_if] algorithm into an API we'll call `select`, which selects some elements of an input vector `v` according to a user-provided criterion, and copies the selected element consecutively into a new vector `w`.\n",
    "\n",
    "This problem is easy to solve sequentially but faces an issue in a concurrent run: the index of write operations into `w` depends on operations performed by other threads.\n",
    "\n",
    "## Initial condition\n",
    "\n",
    "For all the exercises, the vector `v` is initializer with an filled with pseudo-random numbers that are seeded with a constant value and are therefore identical from one execution to another.\n",
    "\n",
    "## Select API\n",
    "\n",
    "The API of select we'll implement is the following:\n",
    "\n",
    "```c++\n",
    "template <class UnaryPredicate>\n",
    "void select(const std::vector<int>& v, UnaryPredicate pred, \n",
    "            std::vector<size_t>& index, std::vector<int>& w);\n",
    "            \n",
    "```\n",
    "- `v` is the input data,\n",
    "- `pred` the predicate used to select which data copied into the output,\n",
    "- `w` is the output,\n",
    "- and `index` is extra temporary storage that our implementation is allowed to use.\n",
    "\n",
    "Both `w` and `index` may be assumed to contain 0 elements.\n",
    "\n",
    "## Problem size and compiler options\n",
    "\n",
    "The following cell fixes the problem size and the compiler options:\n",
    "\n",
    "[std::copy_if]: https://en.cppreference.com/w/cpp/algorithm/copy"
   ]
  },
  {
   "cell_type": "code",
   "execution_count": null,
   "metadata": {},
   "outputs": [],
   "source": [
    "N=100000000\n",
    "flags=\"-std=c++23 -Ofast -march=native -DNDEBUG -o select\""
   ]
  },
  {
   "cell_type": "markdown",
   "metadata": {},
   "source": [
    "## Exercise 1: implementation with parallel `std::count_if` and `std::copy_if`\n",
    "\n",
    "This implementation performs two passes over the input elements of `v`:\n",
    "1. First pass: count the number of elements to copy using parallel [std::count_if] algorithm.\n",
    "2. Resize `w`.\n",
    "3. Second pass: copy the elements from `v` into `w` according to the predicate using parallel [std::copy_if] algorithm.\n",
    "\n",
    "A template for the solution is provided in [exercise1.cpp]. Fix the `TODO`s to complete this exercise:\n",
    "\n",
    "```c++\n",
    "template <class UnaryPredicate>\n",
    "void select(const std::vector<int>& v, UnaryPredicate pred, \n",
    "            std::vector<size_t>& index, std::vector<int>& w)\n",
    "{\n",
    "    // TODO: parallelize \"select\" using parallel \"count_if\" & \"copy_if\" algorithms:\n",
    "    // auto count = std::count_if(std::execution::par, v.begin(), v.end(), pred);\n",
    "    // w.resize(count);\n",
    "    // std::copy_if(std::execution::par, v.begin(), v.end(), w.begin(), pred);\n",
    "}\n",
    "```\n",
    "\n",
    "The following cell compiles and runs [exercise1.cpp] template:\n",
    "\n",
    "[exercise1.cpp]: ./exercise1.cpp\n",
    "[std::execution::par]: https://en.cppreference.com/w/cpp/algorithm/execution_policy_tag\n",
    "[std::count_if]: https://en.cppreference.com/w/cpp/algorithm/count\n",
    "[std::back_inserter]: https://en.cppreference.com/w/cpp/iterator/back_inserter\n",
    "[std::copy_if]: https://en.cppreference.com/w/cpp/algorithm/copy"
   ]
  },
  {
   "cell_type": "code",
   "execution_count": null,
   "metadata": {},
   "outputs": [],
   "source": [
    "!echo -n \"[g++]       \" && rm -f select && g++     {flags} exercise1.cpp -ltbb             && ./select {N}\n",
    "!echo -n \"[clang++]   \" && rm -f select && clang++ {flags} exercise1.cpp -ltbb             && ./select {N}\n",
    "!echo -n \"[nvc++ CPU] \" && rm -f select && nvc++   {flags} exercise1.cpp -stdpar=multicore && ./select {N}\n",
    "!echo -n \"[nvc++ GPU] \" && rm -f select && nvc++   {flags} exercise1.cpp -stdpar=gpu       && ./select {N}"
   ]
  },
  {
   "cell_type": "markdown",
   "metadata": {},
   "source": [
    "### Solutions Exercise 1\n",
    "\n",
    "The solutions for each example are available at [solutions/exercise1.cpp]. The following compiles and runs the solutions for Exercise 1 using different compilers and C++ standard versions:\n",
    "\n",
    "[solutions/exercise1.cpp]: ./solutions/exercise1.cpp"
   ]
  },
  {
   "cell_type": "code",
   "execution_count": null,
   "metadata": {},
   "outputs": [],
   "source": [
    "!echo -n \"[g++]       \" && rm -f select && g++     {flags} solutions/exercise1.cpp -ltbb             && ./select {N}\n",
    "!echo -n \"[clang++]   \" && rm -f select && clang++ {flags} solutions/exercise1.cpp -ltbb             && ./select {N}\n",
    "!echo -n \"[nvc++ CPU] \" && rm -f select && nvc++   {flags} solutions/exercise1.cpp -stdpar=multicore && ./select {N}\n",
    "!echo -n \"[nvc++ GPU] \" && rm -f select && nvc++   {flags} solutions/exercise1.cpp -stdpar=gpu       && ./select {N}"
   ]
  },
  {
   "cell_type": "markdown",
   "metadata": {},
   "source": [
    "## Exercise 2: parallel implementation with `std::transform_inclusive_scan` and `std::for_each`\n",
    "\n",
    "Instead of using [std::copy_if], we'll now re-implement it from scratch in the following steps:\n",
    "1. Resize `index` to the same size as `v`.\n",
    "2. First pass: use parallel [std::transform_inclusive_scan] to write to `index` the indices at which each selected element is to be written.\n",
    "    * `transform` operation should return `1` if `pred(e)` returns `true`, and `0` otherwise.\n",
    "    * `scan` with [std::plus] computes a [prefix sum] of the result of the transfor, i.e., the output index at which each element for which the predicate returns true should be written at,\n",
    "    * `exclusive` vs `inclusive` scan denotes whether the prefix sum starts at 0 (exclusive), or at the value of the first element (inclusive). We'll need the total number of elements to be written in the next step, so we'll use an `inclusive` scan, which writes that value for the last elements of the sequence (so we can access it at `index.back()`; see [std::vector::back]).\n",
    "4. Resize the output `w`; the total number of output elements is the last value of the `inclusive_scan` (i.e. `index.back()`).\n",
    "5. Second pass: use parallel `for_each` statement to copy values from `v` to `w`, depending on the outcome of the unary predicate. Keep in mind that the output index of each element is off by plus one (because we used `inclusive_scan`), so need to subtract one from it.\n",
    "\n",
    "```c++\n",
    "template<class UnaryPredicate>\n",
    "void select(const std::vector<int>& v, UnaryPredicate pred,\n",
    "            std::vector<size_t>& index, std::vector<int>& w)\n",
    "{\n",
    "    // 1. Resize `index` to the same size as `v`. \n",
    "    index.resize(v.size());   \n",
    "    // 2. Use parallel `transform_inclusive_scan` to write to `index` \n",
    "    // the indices at which each selected element is to be written.\n",
    "    std::transform_inclusive_scan(std::execution::par, v.begin(), v.end(), index.begin(), std::plus<size_t>{},\n",
    "                                  [pred](int x) { return pred(x) ? 1 : 0; });\n",
    "    // 3. Resize the output `w`. The total number of output elements \n",
    "    // is the last value of the `inclusive_scan` (i.e. `index.back()`).\n",
    "    w.resize(index.empty() ? 0 : index.back());\n",
    "    // 4. Use parallel `for_each` statement to copy values from `v` to `w`, \n",
    "    // depending on the outcome of the unary predicate. \n",
    "    // The output index of each element is off by plus one, so need to subtract one from it.\n",
    "    std::for_each_n(std::execution::par, std::views::iota(0).begin(), (int)v.size(),\n",
    "        [pred, v = v.data(), w = w.data(), index = index.data()](int i) {\n",
    "            if (pred(v[i])) w[index[i] - 1] = v[i];\n",
    "    });  \n",
    "}\n",
    "```\n",
    "\n",
    "Fix the `TODO`s in [exercise2.cpp] template for the following cell to compile and run correctly:\n",
    "\n",
    "[exercise2.cpp]: ./exercise2.cpp\n",
    "[std::plus]: https://en.cppreference.com/w/cpp/utility/functional/plus\n",
    "[std::copy_if]: https://en.cppreference.com/w/cpp/algorithm/copy\n",
    "[prefix sum]: https://en.wikipedia.org/wiki/Prefix_sum\n",
    "[std::transform_inclusive_scan]: https://en.cppreference.com/w/cpp/algorithm/transform_inclusive_scan\n",
    "[std::vector::back]: https://en.cppreference.com/w/cpp/container/vector/back"
   ]
  },
  {
   "cell_type": "code",
   "execution_count": null,
   "metadata": {},
   "outputs": [],
   "source": [
    "!echo -n \"[g++]       \" && rm -f select && g++     {flags} exercise2.cpp -ltbb             && ./select {N}\n",
    "!echo -n \"[clang++]   \" && rm -f select && clang++ {flags} exercise2.cpp -ltbb             && ./select {N}\n",
    "!echo -n \"[nvc++ CPU] \" && rm -f select && nvc++   {flags} exercise2.cpp -stdpar=multicore && ./select {N}\n",
    "!echo -n \"[nvc++ GPU] \" && rm -f select && nvc++   {flags} exercise2.cpp -stdpar=gpu       && ./select {N}"
   ]
  },
  {
   "cell_type": "markdown",
   "metadata": {},
   "source": [
    "### Solutions Exercise 2\n",
    "\n",
    "The solutions for each example are available at [solutions/exercise2.cpp].\n",
    "\n",
    "[solutions/exercise2.cpp]: ./solutions/exercise2.cpp\n",
    "\n",
    "The following compiles and runs the solutions for Exercise 2 using different compilers and C++ standard versions."
   ]
  },
  {
   "cell_type": "code",
   "execution_count": null,
   "metadata": {},
   "outputs": [],
   "source": [
    "!echo -n \"[g++]       \" && rm -f select && g++     {flags} solutions/exercise2.cpp -ltbb             && ./select {N}\n",
    "!echo -n \"[clang++]   \" && rm -f select && clang++ {flags} solutions/exercise2.cpp -ltbb             && ./select {N}\n",
    "!echo -n \"[nvc++ CPU] \" && rm -f select && nvc++   {flags} solutions/exercise2.cpp -stdpar=multicore && ./select {N}\n",
    "!echo -n \"[nvc++ GPU] \" && rm -f select && nvc++   {flags} solutions/exercise2.cpp -stdpar=gpu       && ./select {N}"
   ]
  },
  {
   "cell_type": "markdown",
   "metadata": {},
   "source": [
    "## How good is parallel `std::copy_if`?\n",
    "\n",
    "In practice, please just use parallel [std::copy_if]. It's much better.\n",
    "\n",
    "[std::copy_if]: https://en.cppreference.com/w/cpp/algorithm/copy"
   ]
  },
  {
   "cell_type": "code",
   "execution_count": null,
   "metadata": {},
   "outputs": [],
   "source": [
    "!echo -n \"[g++]       \" && rm -f select && g++     {flags} solutions/copy_if.cpp -ltbb             && ./select {N}\n",
    "!echo -n \"[clang++]   \" && rm -f select && clang++ {flags} solutions/copy_if.cpp -ltbb             && ./select {N}\n",
    "!echo -n \"[nvc++ CPU] \" && rm -f select && nvc++   {flags} solutions/copy_if.cpp -stdpar=multicore && ./select {N}\n",
    "!echo -n \"[nvc++ GPU] \" && rm -f select && nvc++   {flags} solutions/copy_if.cpp -stdpar=gpu       && ./select {N}"
   ]
  }
 ],
 "metadata": {
  "kernelspec": {
   "display_name": "Python 3 (ipykernel)",
   "language": "python",
   "name": "python3"
  },
  "language_info": {
   "codemirror_mode": {
    "name": "ipython",
    "version": 3
   },
   "file_extension": ".py",
   "mimetype": "text/x-python",
   "name": "python",
   "nbconvert_exporter": "python",
   "pygments_lexer": "ipython3",
   "version": "3.10.12"
  }
 },
 "nbformat": 4,
 "nbformat_minor": 4
}
