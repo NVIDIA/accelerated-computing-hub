{
 "cells": [
  {
   "cell_type": "markdown",
   "id": "42b6145d",
   "metadata": {},
   "source": [
    "# CUDA Parallel Tutorial - High-Level GPU Programming\n",
    "## Table of Contents\n",
    "\n",
    "9. Exercise Solutions"
   ]
  },
  {
   "cell_type": "code",
   "execution_count": 1,
   "id": "31857016-193b-43dd-ada2-586ee4413b34",
   "metadata": {},
   "outputs": [],
   "source": [
    "import numpy as np\n",
    "import cupy as cp\n",
    "\n",
    "import cuda.cccl.parallel.experimental as parallel"
   ]
  },
  {
   "cell_type": "markdown",
   "id": "6467b87d",
   "metadata": {},
   "source": [
    "## 9. Exercises\n",
    "\n",
    "Now it's time to practice. Here are some hands-on exercises to reinforce your learning:\n",
    "\n",
    "### Exercise 1: Compute the minimum value of a sequence\n",
    "Use `reduce_into()` to compute the minimum value of a sequence"
   ]
  },
  {
   "cell_type": "code",
   "execution_count": 2,
   "id": "b0ad355e-a71a-4d95-9314-81fe4a007c1f",
   "metadata": {},
   "outputs": [
    {
     "name": "stdout",
     "output_type": "stream",
     "text": [
      "Min reduction result: -6\n"
     ]
    }
   ],
   "source": [
    "# Prepare the input and output arrays.\n",
    "d_input = cp.array([-2, 3, 5, 1, 7, -6, 8, -4], dtype=np.int32)\n",
    "d_output = cp.empty(1, dtype=np.int32)\n",
    "\n",
    "\n",
    "# begin TODO\n",
    "MAX_INT = np.iinfo(np.int32).max\n",
    "h_init = np.asarray([MAX_INT], dtype=np.int32)\n",
    "parallel.reduce_into(d_input, d_output, parallel.OpKind.MINIMUM, len(d_input), h_init)\n",
    "# end TODO\n",
    "\n",
    "expected_output = -6\n",
    "assert (d_output == expected_output).all()\n",
    "result = d_output[0]\n",
    "print(f\"Min reduction result: {result}\")"
   ]
  },
  {
   "cell_type": "markdown",
   "id": "5c918a54-abaf-40f5-892f-67f3dc2afb40",
   "metadata": {},
   "source": [
    "### Exercise 2: Sort by the last digit\n",
    "Use `merge_sort()` with a custom comparator function to sort elements by the last digit. For example, \n",
    "[9, 23, 1001, 802] -> [1001, 802, 23, 9]."
   ]
  },
  {
   "cell_type": "code",
   "execution_count": 3,
   "id": "f25a919b-0e6e-462c-861b-ea7cd29743e7",
   "metadata": {},
   "outputs": [
    {
     "name": "stdout",
     "output_type": "stream",
     "text": [
      "Result: [1001    1   72   32   24  136   29    9]\n"
     ]
    }
   ],
   "source": [
    "# Prepare the input and output arrays.\n",
    "d_in_keys = cp.asarray([29, 9, 136, 1001, 72, 24, 32, 1], dtype=\"int32\")\n",
    "\n",
    "# define the custom comparator.\n",
    "def comparison_op(lhs, rhs):\n",
    "    return lhs % 10 < rhs % 10\n",
    "\n",
    "# Perform the merge sort.\n",
    "parallel.merge_sort(\n",
    "    d_in_keys,\n",
    "    None,\n",
    "    d_in_keys,\n",
    "    None,\n",
    "    comparison_op,\n",
    "    d_in_keys.size,\n",
    ")\n",
    "\n",
    "print(f\"Result: {d_in_keys}\")\n",
    "expected = np.asarray([1001, 1, 72, 32, 24, 136, 29, 9], dtype=np.int32)\n",
    "assert (d_in_keys.get() == expected).all()"
   ]
  },
  {
   "cell_type": "markdown",
   "id": "55a22e1a",
   "metadata": {},
   "source": [
    "## Resources\n",
    "API Reference: https://nvidia.github.io/cccl/python/parallel_api.html#module-cuda.cccl.parallel.experimental.algorithms"
   ]
  }
 ],
 "metadata": {
  "kernelspec": {
   "display_name": "Python 3 (ipykernel)",
   "language": "python",
   "name": "python3"
  },
  "language_info": {
   "codemirror_mode": {
    "name": "ipython",
    "version": 3
   },
   "file_extension": ".py",
   "mimetype": "text/x-python",
   "name": "python",
   "nbconvert_exporter": "python",
   "pygments_lexer": "ipython3",
   "version": "3.10.12"
  }
 },
 "nbformat": 4,
 "nbformat_minor": 5
}
