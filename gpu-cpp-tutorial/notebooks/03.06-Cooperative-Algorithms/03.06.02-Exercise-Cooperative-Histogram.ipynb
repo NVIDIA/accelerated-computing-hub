{
  "cells": [
    {
      "cell_type": "markdown",
      "metadata": {},
      "source": [
        "<img src=\"Images/nvidia_header.png\" style=\"margin-left: -30px; width: 300px; float: left;\">"
      ]
    },
    {
      "cell_type": "markdown",
      "metadata": {},
      "source": [
        "## Exercise: Coarsening\n",
        "\n",
        "To compute the [block histogram using CUB](https://nvidia.github.io/cccl/cub/api/classcub_1_1BlockHistogram.html) you will need to four following things:\n",
        "\n",
        "1. Declare the histogram parameters as compile time variable: the block size, number of bins, and elements per thread:\n",
        "\n",
        "```c++\n",
        "// block size has to be known at compile time\n",
        "constexpr int block_size = 256;\n",
        "constexpr int items_per_thread = 1;\n",
        "constexpr int num_bins = 10;\n",
        "```\n",
        "\n",
        "2. Declare block histogram type using the previously declared values:\n",
        "```c++\n",
        "using histogram_t =\n",
        "  cub::BlockHistogram<\n",
        "    int,              // type of histogram counters\n",
        "    block_size,       // number of threads in a block\n",
        "    items_per_thread, // number of bin indices that each thread contributes\n",
        "    num_bins>         // number of bins in the histogram\n",
        "```\n",
        "\n",
        "3. Allocate temporary storage in shared memory:\n",
        "\n",
        "```c++\n",
        "__shared__ typename histogram_t::TempStorage temp_storage;\n",
        "```\n",
        "\n",
        "4. Call the histogram member function as such:\n",
        "\n",
        "```c++\n",
        "int thread_bins[items_per_thread] = {...};\n",
        "histogram_t{temp_storage}.Histogram(thread_bins, block_histogram);\n",
        "```\n",
        "\n",
        "Modify the kernel below to compute the average temperature in the tile and write it to the output array:"
      ]
    },
    {
      "cell_type": "code",
      "execution_count": null,
      "metadata": {
        "cellView": "form"
      },
      "outputs": [],
      "source": [
        "#@title Google Colab Setup\n",
        "!mkdir -p Sources\n",
        "!wget https://raw.githubusercontent.com/NVIDIA/accelerated-computing-hub/refs/heads/main/gpu-cpp-tutorial/notebooks/03.06-Cooperative-Algorithms/Sources/ach.cuh -nv -O Sources/ach.cuh\n",
        "!wget https://raw.githubusercontent.com/NVIDIA/accelerated-computing-hub/refs/heads/main/gpu-cpp-tutorial/notebooks/03.06-Cooperative-Algorithms/Sources/__init__.py -nv -O Sources/__init__.py\n",
        "!wget https://raw.githubusercontent.com/NVIDIA/accelerated-computing-hub/refs/heads/main/gpu-cpp-tutorial/notebooks/03.06-Cooperative-Algorithms/Sources/ach.py -nv -O Sources/ach.py"
      ]
    },
    {
      "cell_type": "markdown",
      "metadata": {},
      "source": [
        "<details>\n",
        "<summary>Original code in case you need it</summary>\n",
        "\n",
        "```c++\n",
        "%%writefile Sources/cooperative.cpp\n",
        "#include \"ach.cuh\"\n",
        "\n",
        "constexpr int block_size = 256;\n",
        "constexpr int items_per_thread = 1;\n",
        "constexpr int num_bins = 10;\n",
        "constexpr float bin_width = 10;\n",
        "\n",
        "__global__ void histogram_kernel(cuda::std::span<float> temperatures,\n",
        "                                 cuda::std::span<int> histogram) \n",
        "{\n",
        "  __shared__ int block_histogram[num_bins];\n",
        "\n",
        "  int cell = blockIdx.x * blockDim.x + threadIdx.x;\n",
        "  int bins[items_per_thread] = {static_cast<int>(temperatures[cell] / bin_width)};\n",
        "\n",
        "  ??? // 1. Use `cub::BlockHistogram` to compute the block histogram\n",
        "\n",
        "  __syncthreads();\n",
        "  if (threadIdx.x < num_bins) {\n",
        "    cuda::atomic_ref<int, cuda::thread_scope_device> ref(histogram[threadIdx.x]);\n",
        "    ref.fetch_add(block_histogram[threadIdx.x]);\n",
        "  }\n",
        "}\n",
        "\n",
        "void histogram(cuda::std::span<float> temperatures, \n",
        "               cuda::std::span<int> histogram, \n",
        "               cudaStream_t stream) \n",
        "{\n",
        "  int grid_size = cuda::ceil_div(temperatures.size(), block_size);\n",
        "  histogram_kernel<<<grid_size, block_size, 0, stream>>>(\n",
        "    temperatures, histogram);\n",
        "}\n",
        "\n",
        "```\n",
        "    \n",
        "</details>"
      ]
    },
    {
      "cell_type": "code",
      "execution_count": null,
      "metadata": {},
      "outputs": [],
      "source": [
        "%%writefile Sources/cooperative.cpp\n",
        "#include \"ach.cuh\"\n",
        "\n",
        "constexpr int block_size = 256;\n",
        "constexpr int items_per_thread = 1;\n",
        "constexpr int num_bins = 10;\n",
        "constexpr float bin_width = 10;\n",
        "\n",
        "__global__ void histogram_kernel(cuda::std::span<float> temperatures,\n",
        "                                 cuda::std::span<int> histogram) \n",
        "{\n",
        "  __shared__ int block_histogram[num_bins];\n",
        "\n",
        "  int cell = blockIdx.x * blockDim.x + threadIdx.x;\n",
        "  int bins[items_per_thread] = {static_cast<int>(temperatures[cell] / bin_width)};\n",
        "\n",
        "  // TODO: Use `cub::BlockHistogram` to compute the block histogram\n",
        "\n",
        "  __syncthreads();\n",
        "  if (threadIdx.x < num_bins) {\n",
        "    cuda::atomic_ref<int, cuda::thread_scope_device> ref(histogram[threadIdx.x]);\n",
        "    ref.fetch_add(block_histogram[threadIdx.x]);\n",
        "  }\n",
        "}\n",
        "\n",
        "void histogram(cuda::std::span<float> temperatures, \n",
        "               cuda::std::span<int> histogram, \n",
        "               cudaStream_t stream) \n",
        "{\n",
        "  int grid_size = cuda::ceil_div(temperatures.size(), block_size);\n",
        "  histogram_kernel<<<grid_size, block_size, 0, stream>>>(\n",
        "    temperatures, histogram);\n",
        "}\n"
      ]
    },
    {
      "cell_type": "code",
      "execution_count": null,
      "metadata": {},
      "outputs": [],
      "source": [
        "import Sources.ach\n",
        "Sources.ach.run(\"Sources/cooperative.cpp\")"
      ]
    },
    {
      "cell_type": "markdown",
      "metadata": {},
      "source": [
        "If you’re unsure how to proceed, consider expanding this section for guidance. Use the hint only after giving the problem a genuine attempt.\n",
        "\n",
        "<details>\n",
        "\n",
        "  <summary>Hints</summary>\n",
        "\n",
        "  - `cub::BlockHistogram` needs temporary storage in shared memory\n",
        "\n",
        "</details>"
      ]
    },
    {
      "cell_type": "markdown",
      "metadata": {},
      "source": [
        "Open this section only after you’ve made a serious attempt at solving the problem. Once you’ve completed your solution, compare it with the reference provided here to evaluate your approach and identify any potential improvements.\n",
        "\n",
        "<details>\n",
        "  <summary>Solution</summary>\n",
        "\n",
        "  Key points:\n",
        "\n",
        "  - Use `cub::BlockHistogram` to compute the block histogram\n",
        "  - Allocate temporary storage in shared memory\n",
        "  - Make sure to synchronize before reading the block histogram\n",
        "\n",
        "  Solution:\n",
        "  ```c++\n",
        "  using histogram_t = cub::BlockHistogram<int, block_size, 1, 10>;\n",
        "  __shared__ typename histogram_t::TempStorage temp_storage;\n",
        "  histogram_t(temp_storage).Histogram(bins, block_histogram);\n",
        "  __syncthreads();\n",
        "  ```\n",
        "\n",
        "  You can find full solution [here](Solutions/cooperative.cu).\n",
        "</details>"
      ]
    },
    {
      "cell_type": "markdown",
      "metadata": {},
      "source": [
        "<img src=\"Images/nvidia_header.png\" style=\"margin-left: -30px; width: 300px; float: left;\">"
      ]
    }
  ],
  "metadata": {
    "accelerator": "GPU",
    "colab": {
      "gpuType": "T4",
      "provenance": [],
      "toc_visible": true
    },
    "kernelspec": {
      "display_name": "Python 3 (ipykernel)",
      "language": "python",
      "name": "python3"
    },
    "language_info": {
      "codemirror_mode": {
        "name": "ipython",
        "version": 3
      },
      "file_extension": ".py",
      "mimetype": "text/x-python",
      "name": "python",
      "nbconvert_exporter": "python",
      "pygments_lexer": "ipython3",
      "version": "3.10.12"
    }
  },
  "nbformat": 4,
  "nbformat_minor": 4
}
