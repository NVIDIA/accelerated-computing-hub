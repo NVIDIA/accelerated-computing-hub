{
  "cells": [
    {
      "cell_type": "markdown",
      "metadata": {},
      "source": [
        "<img src=\"Images/nvidia_header.png\" style=\"margin-left: -30px; width: 300px; float: left;\">"
      ]
    },
    {
      "cell_type": "markdown",
      "metadata": {},
      "source": [
        "# Extending Standard Algorithms\n",
        "\n",
        "## Content\n",
        "* [Extended Algorithm Example](#Extended-Algorithm-Example)\n",
        "* [Iterators](#Iterators)\n",
        "* [CUDA Fancy Iterators](#CUDA-Fancy-Iterators)\n",
        "* [Exercise: Computing Variance](01.03.02-Exercise-Computing-Variance.ipynb)\n",
        "\n",
        "---\n",
        "\n",
        "Occasionally, you might encounter a use case that's not directly covered by standard algorithms.\n",
        "In this section, we'll explore techniques that can help you extend existing algorithms to your unique use cases.\n"
      ]
    },
    {
      "cell_type": "code",
      "execution_count": null,
      "metadata": {
        "cellView": "form"
      },
      "outputs": [],
      "source": [
        "import os\n",
        "\n",
        "if os.getenv(\"COLAB_RELEASE_TAG\"): # If running in Google Colab:\n",
        "  !mkdir -p Sources\n",
        "  !wget https://raw.githubusercontent.com/NVIDIA/accelerated-computing-hub/refs/heads/main/gpu-cpp-tutorial/notebooks/01.03-Extending-Algorithms/Sources/ach.h -nv -O Sources/ach.h"
      ]
    },
    {
      "cell_type": "markdown",
      "metadata": {},
      "source": [
        "## Extended Algorithm Example\n",
        "Let's consider a scenario where such customization might be necessary. \n",
        "In our earlier example, we were computing the next temperature based on the previous one.\n",
        "Now let's say we have to find the maximum change in temperature made in the current step.\n",
        "\n",
        "![Max Diff](Images/max-diff.svg \"Max Diff\")\n",
        "\n",
        "In the previous section, you learned how to port standard algorithms to GPU.\n",
        "It's sufficient to use `thrust::` namespace for containers and algorithms as follows."
      ]
    },
    {
      "cell_type": "code",
      "execution_count": null,
      "metadata": {},
      "outputs": [],
      "source": [
        "%%writefile Sources/naive-max-diff.cpp\n",
        "#include \"ach.h\"\n",
        "\n",
        "float naive_max_change(const thrust::universal_vector<float>& a,\n",
        "                       const thrust::universal_vector<float>& b)\n",
        "{\n",
        "    // allocate vector to store `a - b`\n",
        "    thrust::universal_vector<float> unnecessarily_materialized_diff(a.size());\n",
        "\n",
        "    // compute products\n",
        "    thrust::transform(thrust::device,\n",
        "                      a.begin(), a.end(),                       // first input sequence\n",
        "                      b.begin(),                                // second input sequence\n",
        "                      unnecessarily_materialized_diff.begin(),  // result\n",
        "                      []__host__ __device__(float x, float y) { // transformation (abs diff)\n",
        "                         return abs(x - y);\n",
        "                      });\n",
        "\n",
        "    // compute max difference\n",
        "    return thrust::reduce(thrust::device,\n",
        "                          unnecessarily_materialized_diff.begin(),\n",
        "                          unnecessarily_materialized_diff.end(),\n",
        "                          0.0f, thrust::maximum<float>{});\n",
        "}\n",
        "\n",
        "int main()\n",
        "{\n",
        "    float k = 0.5;\n",
        "    float ambient_temp = 20;\n",
        "    thrust::universal_vector<float> temp[] = {{ 42, 24, 50 }, { 0, 0, 0}};\n",
        "    auto transformation = [=] __host__ __device__ (float temp) { return temp + k * (ambient_temp - temp); };\n",
        "\n",
        "    std::printf(\"step  max-change\\n\");\n",
        "    for (int step = 0; step < 3; step++) {\n",
        "        thrust::universal_vector<float> &current = temp[step % 2];\n",
        "        thrust::universal_vector<float> &next = temp[(step + 1) % 2];\n",
        "\n",
        "        thrust::transform(thrust::device, current.begin(), current.end(), next.begin(), transformation);\n",
        "        std::printf(\"%d     %.2f\\n\", step, naive_max_change(current, next));\n",
        "    }\n",
        "}"
      ]
    },
    {
      "cell_type": "code",
      "execution_count": null,
      "metadata": {},
      "outputs": [],
      "source": [
        "!nvcc --extended-lambda -o /tmp/a.out Sources/naive-max-diff.cpp -x cu -arch=native # build executable\n",
        "!/tmp/a.out # run executable"
      ]
    },
    {
      "cell_type": "markdown",
      "metadata": {},
      "source": [
        "In the code above, we started by allocating storage for products:\n",
        "\n",
        "```c++\n",
        "thrust::universal_vector<float> unnecessarily_materialized_diff(a.size());\n",
        "```\n",
        "\n",
        "Then, we used a version of `thrust::transform` algorithm that accepts two sequences.\n",
        "It then applies transformation to each pair of elements in these sequences.\n",
        "In our case, the transformation is computing absolute difference:\n",
        "\n",
        "```c++\n",
        "thrust::transform(thrust::device, \n",
        "                  a.begin(), a.end(),                       // first input sequence\n",
        "                  b.begin(),                                // second input sequence\n",
        "                  diff.begin(),                             // result\n",
        "                  []__host__ __device__(float x, float y) { // transformation (abs diff)\n",
        "                      return abs(x - y); \n",
        "                  });\n",
        "```\n",
        "\n",
        "And finally, we use `thrust::reduce` with the `thrust::maximum` operator to find the maximum absolute difference:\n",
        "\n",
        "```c++\n",
        "    return thrust::reduce(thrust::device, \n",
        "                          unnecessarily_materialized_diff.begin(), \n",
        "                          unnecessarily_materialized_diff.end(), \n",
        "                          0.0f, thrust::maximum<float>{});\n",
        "```\n",
        "\n",
        "Although this implementation is functionally correct, it's far from being performant.\n",
        "To discover this inefficiency, let's consider our algorithm from the memory point of view.\n",
        "Let's count all memory accesses in our naive implementation.\n",
        "As part of the transformation step, \n",
        "we read `2 * n` floats total from `a` and `b` and store `n` elements back to memory.\n",
        "As part of the reduction step, we load `n` integers.\n",
        "In total, our version performs `4 * n` memory accesses. \n",
        "However, if we were to implement this algorithm as a for loop, we'd likely write something along the lines of:\n",
        "\n",
        "```c++\n",
        "float max_diff = 0;\n",
        "for (int i = 0; i < a.size(); i++) {\n",
        "  max_diff = std::max(max_diff, std::abs(a[i] - b[i]));\n",
        "}\n",
        "```\n",
        "\n",
        "This raw loop only performs `2 * n` memory accesses.\n",
        "This means that materialization of products in memory leads to 2x overhead in terms of memory accesses.\n",
        "But how does this affect performance?\n",
        "Like the majority of algorithms, our algorithm is memory bound meaning the ratio of communication (memory accesses) to computation is so large that the overall performance of the code will be limited by the theoretical peak memory performance of the hardware.  As a programmer, this means we will focus performance optimizations on memory usage and data movement specifically.\n",
        "Since our algorithm is memory bound, a two-fold reduction in amount of memory accesses should result in about two-fold speedup. \n",
        "Besides performance implications, the absolute differences that we compute occupy space in memory. \n",
        "If our vectors were large enough, there might be no space left in GPU memory for them and the temporary space we use to compute and save the differences."
      ]
    },
    {
      "cell_type": "markdown",
      "metadata": {},
      "source": [
        "## Iterators\n",
        "Fortunately, there's a way to avoid materializing these differences in memory and address these issues.\n",
        "The workaround consists of using iterators. \n",
        "Using an iterator can be thought of as a generalization of using a pointer: \n",
        "* A pointer, `int* pointer`, points to a sequence of integers in memory. \n",
        "* You can dereference a pointer to get access to the integer it currently points to.\n",
        "* You can advance pointer with `pointer++` to make it point to the next element in the sequence.\n",
        "\n",
        "The following code demonstrates using a pointer to access data in an array."
      ]
    },
    {
      "cell_type": "code",
      "execution_count": null,
      "metadata": {},
      "outputs": [],
      "source": [
        "%%writefile Sources/pointer.cpp\n",
        "#include \"ach.h\"\n",
        "\n",
        "int main()\n",
        "{\n",
        "    std::array<int, 3> a{ 0, 1, 2 };\n",
        "\n",
        "    int *pointer = a.data();\n",
        "\n",
        "    std::printf(\"pointer[0]: %d\\n\", pointer[0]); // prints 0\n",
        "    std::printf(\"pointer[1]: %d\\n\", pointer[1]); // prints 1\n",
        "}"
      ]
    },
    {
      "cell_type": "code",
      "execution_count": null,
      "metadata": {},
      "outputs": [],
      "source": [
        "!nvcc --extended-lambda -o /tmp/a.out Sources/pointer.cpp -x cu -arch=native # build executable\n",
        "!/tmp/a.out # run executable"
      ]
    },
    {
      "cell_type": "markdown",
      "metadata": {},
      "source": [
        "### Simple Counting Iterator"
      ]
    },
    {
      "cell_type": "markdown",
      "metadata": {},
      "source": [
        "C++ allows operator overloading. \n",
        "This means that we can define what operators such as `*` or `++` do.\n",
        "The concept of an iterator builds on top of this idea.\n",
        "With this, we don't even need an underlying container.\n",
        "Here's an example of how we can create an infinite sequence without allocating a single byte.  Note the redefinition of the square brackets `[]` operator."
      ]
    },
    {
      "cell_type": "code",
      "execution_count": null,
      "metadata": {},
      "outputs": [],
      "source": [
        "%%writefile Sources/counting.cpp\n",
        "#include \"ach.h\"\n",
        "\n",
        "struct counting_iterator\n",
        "{\n",
        "  int operator[](int i)\n",
        "  {\n",
        "    return i;\n",
        "  }\n",
        "};\n",
        "\n",
        "int main()\n",
        "{\n",
        "  counting_iterator it;\n",
        "\n",
        "  std::printf(\"it[0]: %d\\n\", it[0]); // prints 0\n",
        "  std::printf(\"it[1]: %d\\n\", it[1]); // prints 1\n",
        "}"
      ]
    },
    {
      "cell_type": "code",
      "execution_count": null,
      "metadata": {},
      "outputs": [],
      "source": [
        "!nvcc --extended-lambda -o /tmp/a.out Sources/counting.cpp -x cu -arch=native # build executable\n",
        "!/tmp/a.out # run executable"
      ]
    },
    {
      "cell_type": "markdown",
      "metadata": {},
      "source": [
        "### Simple Transform Iterator"
      ]
    },
    {
      "cell_type": "markdown",
      "metadata": {},
      "source": [
        "Below we again redefine the square brackets `[]` operator, but this time instead of simple counting, we multiple each input value times 2.  This is an example of applying a simple function to the input before returning a value."
      ]
    },
    {
      "cell_type": "code",
      "execution_count": null,
      "metadata": {},
      "outputs": [],
      "source": [
        "%%writefile Sources/transform.cpp\n",
        "#include \"ach.h\"\n",
        "\n",
        "struct transform_iterator\n",
        "{\n",
        "  int *a;\n",
        "\n",
        "  int operator[](int i)\n",
        "  {\n",
        "    return a[i] * 2;\n",
        "  }\n",
        "};\n",
        "\n",
        "int main()\n",
        "{\n",
        "  std::array<int, 3> a{ 0, 1, 2 };\n",
        "\n",
        "  transform_iterator it{a.data()};\n",
        "\n",
        "  std::printf(\"it[0]: %d\\n\", it[0]); // prints 0 (0 * 2)\n",
        "  std::printf(\"it[1]: %d\\n\", it[1]); // prints 2 (1 * 2)\n",
        "}"
      ]
    },
    {
      "cell_type": "code",
      "execution_count": null,
      "metadata": {},
      "outputs": [],
      "source": [
        "!nvcc --extended-lambda -o /tmp/a.out Sources/transform.cpp -x cu -arch=native # build executable\n",
        "!/tmp/a.out # run executable"
      ]
    },
    {
      "cell_type": "markdown",
      "metadata": {},
      "source": [
        "### Simple Zip Iterator"
      ]
    },
    {
      "cell_type": "markdown",
      "metadata": {},
      "source": [
        "We can continue to redefine the square brackets `[]` operator, to combine multiple sequences.  The zip iterator below takes two arrays and combines them into a sequence of tuples."
      ]
    },
    {
      "cell_type": "code",
      "execution_count": null,
      "metadata": {},
      "outputs": [],
      "source": [
        "%%writefile Sources/zip.cpp\n",
        "#include \"ach.h\"\n",
        "\n",
        "struct zip_iterator\n",
        "{\n",
        "  int *a;\n",
        "  int *b;\n",
        "\n",
        "  std::tuple<int, int> operator[](int i)\n",
        "  {\n",
        "    return {a[i], b[i]};\n",
        "  }\n",
        "};\n",
        "\n",
        "int main()\n",
        "{\n",
        "  std::array<int, 3> a{ 0, 1, 2 };\n",
        "  std::array<int, 3> b{ 5, 4, 2 };\n",
        "\n",
        "  zip_iterator it{a.data(), b.data()};\n",
        "\n",
        "  std::printf(\"it[0]: (%d, %d)\\n\", std::get<0>(it[0]), std::get<1>(it[0])); // prints (0, 5)\n",
        "  std::printf(\"it[0]: (%d, %d)\\n\", std::get<0>(it[1]), std::get<1>(it[1])); // prints (1, 4)\n",
        "}"
      ]
    },
    {
      "cell_type": "code",
      "execution_count": null,
      "metadata": {},
      "outputs": [],
      "source": [
        "!nvcc --extended-lambda -o /tmp/a.out Sources/zip.cpp -x cu -arch=native # build executable\n",
        "!/tmp/a.out # run executable"
      ]
    },
    {
      "cell_type": "markdown",
      "metadata": {},
      "source": [
        "### Combining Input Iterators"
      ]
    },
    {
      "cell_type": "markdown",
      "metadata": {},
      "source": [
        "One very powerful feature of iterators is that you can combine them with each other.  If we think about our original code above where we computed the absolute value of the difference between each element in two arrays, you can see below that we can combine, or nest, the zip_iterator with the transform_iterator to first combine the two arrays `a` and `b` with zip, and then transform them via the transform iterator with our custom operation to compute the absolute value of the differences of each successive element in the original arrays `a` and `b`."
      ]
    },
    {
      "cell_type": "code",
      "execution_count": null,
      "metadata": {},
      "outputs": [],
      "source": [
        "%%writefile Sources/transform-zip.cpp\n",
        "#include \"ach.h\"\n",
        "\n",
        "struct zip_iterator\n",
        "{\n",
        "  int *a;\n",
        "  int *b;\n",
        "\n",
        "  std::tuple<int, int> operator[](int i)\n",
        "  {\n",
        "    return {a[i], b[i]};\n",
        "  }\n",
        "};\n",
        "\n",
        "struct transform_iterator\n",
        "{\n",
        "  zip_iterator zip;\n",
        "\n",
        "  int operator[](int i)\n",
        "  {\n",
        "    auto [a, b] = zip[i];\n",
        "    return abs(a - b);\n",
        "  }\n",
        "};\n",
        "\n",
        "int main()\n",
        "{\n",
        "  std::array<int, 3> a{ 0, 1, 2 };\n",
        "  std::array<int, 3> b{ 5, 4, 2 };\n",
        "\n",
        "  zip_iterator zip{a.data(), b.data()};\n",
        "  transform_iterator it{zip};\n",
        "\n",
        "  std::printf(\"it[0]: %d\\n\", it[0]); // prints 5\n",
        "  std::printf(\"it[0]: %d\\n\", it[1]); // prints 3\n",
        "}"
      ]
    },
    {
      "cell_type": "code",
      "execution_count": null,
      "metadata": {},
      "outputs": [],
      "source": [
        "!nvcc --extended-lambda -o /tmp/a.out Sources/transform-zip.cpp -x cu -arch=native # build executable\n",
        "!/tmp/a.out # run executable"
      ]
    },
    {
      "cell_type": "markdown",
      "metadata": {},
      "source": [
        "### Transform Output Iterator"
      ]
    },
    {
      "cell_type": "markdown",
      "metadata": {},
      "source": [
        "The concept of iterators is not limited to inputs alone.  With another level of indirection one can transform values that are written into a transform output iterator.  Note in the code below, both `=` and `[]` operators are being redefined."
      ]
    },
    {
      "cell_type": "code",
      "execution_count": null,
      "metadata": {},
      "outputs": [],
      "source": [
        "%%writefile Sources/transform-output.cpp\n",
        "#include \"ach.h\"\n",
        "\n",
        "struct wrapper\n",
        "{\n",
        "   int *ptr;\n",
        "\n",
        "   void operator=(int value) {\n",
        "      *ptr = value / 2;\n",
        "   }\n",
        "};\n",
        "\n",
        "struct transform_output_iterator\n",
        "{\n",
        "  int *a;\n",
        "\n",
        "  wrapper operator[](int i)\n",
        "  {\n",
        "    return {a + i};\n",
        "  }\n",
        "};\n",
        "\n",
        "int main()\n",
        "{\n",
        "  std::array<int, 3> a{ 0, 1, 2 };\n",
        "  transform_output_iterator it{a.data()};\n",
        "\n",
        "  it[0] = 10;\n",
        "  it[1] = 20;\n",
        "\n",
        "  std::printf(\"a[0]: %d\\n\", a[0]); // prints 5\n",
        "  std::printf(\"a[1]: %d\\n\", a[1]); // prints 10\n",
        "}"
      ]
    },
    {
      "cell_type": "code",
      "execution_count": null,
      "metadata": {},
      "outputs": [],
      "source": [
        "!nvcc --extended-lambda -o /tmp/a.out Sources/transform-output.cpp -x cu -arch=native # build executable\n",
        "!/tmp/a.out # run executable"
      ]
    },
    {
      "cell_type": "markdown",
      "metadata": {},
      "source": [
        "### Discard Iterator"
      ]
    },
    {
      "cell_type": "code",
      "execution_count": null,
      "metadata": {},
      "outputs": [],
      "source": [
        "%%writefile Sources/discard.cpp\n",
        "#include \"ach.h\"\n",
        "\n",
        "struct wrapper\n",
        "{\n",
        "   void operator=(int value) {\n",
        "      // discard value\n",
        "   }\n",
        "};\n",
        "\n",
        "struct discard_iterator\n",
        "{\n",
        "  wrapper operator[](int i)\n",
        "  {\n",
        "    return {};\n",
        "  }\n",
        "};\n",
        "\n",
        "int main()\n",
        "{\n",
        "  discard_iterator it{};\n",
        "\n",
        "  it[0] = 10;\n",
        "  it[1] = 20;\n",
        "}"
      ]
    },
    {
      "cell_type": "code",
      "execution_count": null,
      "metadata": {},
      "outputs": [],
      "source": [
        "!nvcc --extended-lambda -o /tmp/a.out Sources/discard.cpp -x cu -arch=native # build executable\n",
        "!/tmp/a.out # run executable"
      ]
    },
    {
      "cell_type": "markdown",
      "metadata": {},
      "source": [
        "## CUDA Fancy Iterators\n",
        "\n",
        "CUDA Core Libraries provide a variety of iterators. \n",
        "Let's take a look at some of them as we try to improve the performance of our inner product implementation.\n",
        "The first step is computing the absolute differences of corresponding vector components. \n",
        "To do that, we have to somehow make operator `*` return a pair of values, one taken from `a` and another taken from `b`.\n",
        "This functionality is covered by `thrust::zip_iterator`."
      ]
    },
    {
      "cell_type": "code",
      "execution_count": null,
      "metadata": {},
      "outputs": [],
      "source": [
        "%%writefile Sources/zip.cpp\n",
        "#include \"ach.h\"\n",
        "\n",
        "int main()\n",
        "{\n",
        "    // allocate and initialize input vectors\n",
        "    thrust::universal_vector<float> a{ 31, 22, 35 };\n",
        "    thrust::universal_vector<float> b{ 25, 21, 27 };\n",
        "\n",
        "    // zip two vectors into a single iterator\n",
        "    auto zip = thrust::make_zip_iterator(a.begin(), b.begin());\n",
        "\n",
        "    thrust::tuple<float, float> first = *zip;\n",
        "    std::printf(\"first: (%g, %g)\\n\", thrust::get<0>(first), thrust::get<1>(first));\n",
        "\n",
        "    zip++;\n",
        "\n",
        "    thrust::tuple<float, float> second = *zip;\n",
        "    std::printf(\"second: (%g, %g)\\n\", thrust::get<0>(second), thrust::get<1>(second));\n",
        "}"
      ]
    },
    {
      "cell_type": "code",
      "execution_count": null,
      "metadata": {},
      "outputs": [],
      "source": [
        "!nvcc --extended-lambda -o /tmp/a.out Sources/zip.cpp -x cu -arch=native # build executable\n",
        "!/tmp/a.out # run executable"
      ]
    },
    {
      "cell_type": "markdown",
      "metadata": {},
      "source": [
        "However, we don't need just pairs of vector components.\n",
        "We need their absolute differences.\n",
        "A `thrust::transform_iterator` allows us to attach a function to the dereferencing of an iterator. \n",
        "When combined with the zip iterator, it allows us to compute absolute differences without materializing them in memory."
      ]
    },
    {
      "cell_type": "code",
      "execution_count": null,
      "metadata": {},
      "outputs": [],
      "source": [
        "%%writefile Sources/transform.cpp\n",
        "#include \"ach.h\"\n",
        "\n",
        "int main()\n",
        "{\n",
        "    thrust::universal_vector<float> a{ 31, 22, 35 };\n",
        "    thrust::universal_vector<float> b{ 25, 21, 27 };\n",
        "\n",
        "    auto zip = thrust::make_zip_iterator(a.begin(), b.begin());\n",
        "    auto transform = thrust::make_transform_iterator(zip, []__host__ __device__(thrust::tuple<float, float> t) {\n",
        "        return abs(thrust::get<0>(t) - thrust::get<1>(t));\n",
        "    });\n",
        "\n",
        "    std::printf(\"first: %g\\n\", *transform); // absolute difference of `a[0] = 31` and `b[0] = 25`\n",
        "\n",
        "    transform++;\n",
        "\n",
        "    std::printf(\"second: %g\\n\", *transform); // absolute difference of `a[1] = 22` and `b[1] = 21`\n",
        "}"
      ]
    },
    {
      "cell_type": "code",
      "execution_count": null,
      "metadata": {},
      "outputs": [],
      "source": [
        "!nvcc --extended-lambda -o /tmp/a.out Sources/transform.cpp -x cu -arch=native # build executable\n",
        "!/tmp/a.out # run executable"
      ]
    },
    {
      "cell_type": "markdown",
      "metadata": {},
      "source": [
        "The only remaining part is computing a maximum value.\n",
        "We already know how to do that using `thrust::reduce`.\n",
        "\n",
        "Now, the code below is functionally equivalent to our starting code example at the top of this notebook.  Notice we have eliminated the need for the temporary array to store the differences."
      ]
    },
    {
      "cell_type": "code",
      "execution_count": null,
      "metadata": {},
      "outputs": [],
      "source": [
        "%%writefile Sources/optimized-max-diff.cpp\n",
        "#include \"ach.h\"\n",
        "\n",
        "float max_change(const thrust::universal_vector<float>& a,\n",
        "                 const thrust::universal_vector<float>& b)\n",
        "{\n",
        "    auto zip = thrust::make_zip_iterator(a.begin(), b.begin());\n",
        "    auto transform = thrust::make_transform_iterator(zip, []__host__ __device__(thrust::tuple<float, float> t) {\n",
        "        return abs(thrust::get<0>(t) - thrust::get<1>(t));\n",
        "    });\n",
        "\n",
        "    // compute max difference\n",
        "    return thrust::reduce(thrust::device, transform, transform + a.size(), 0.0f, thrust::maximum<float>{});\n",
        "}\n",
        "\n",
        "int main()\n",
        "{\n",
        "    float k = 0.5;\n",
        "    float ambient_temp = 20;\n",
        "    thrust::universal_vector<float> temp[] = {{ 42, 24, 50 }, { 0, 0, 0}};\n",
        "    auto transformation = [=] __host__ __device__ (float temp) { return temp + k * (ambient_temp - temp); };\n",
        "\n",
        "    std::printf(\"step  max-change\\n\");\n",
        "    for (int step = 0; step < 3; step++) {\n",
        "        thrust::universal_vector<float> &current = temp[step % 2];\n",
        "        thrust::universal_vector<float> &next = temp[(step + 1) % 2];\n",
        "\n",
        "        thrust::transform(thrust::device, current.begin(), current.end(), next.begin(), transformation);\n",
        "        std::printf(\"%d     %.2f\\n\", step, max_change(current, next));\n",
        "    }\n",
        "}"
      ]
    },
    {
      "cell_type": "code",
      "execution_count": null,
      "metadata": {},
      "outputs": [],
      "source": [
        "!nvcc --extended-lambda -o /tmp/a.out Sources/optimized-max-diff.cpp -x cu -arch=native # build executable\n",
        "!/tmp/a.out # run executable"
      ]
    },
    {
      "cell_type": "markdown",
      "metadata": {},
      "source": [
        "Recall that this code is memory bound, so we'd expect that the elimination of unnecessary memory usage (in this case, temporary storage to hold the differences) should improve our performance. Let's evaluate performance of this implementation to see if it matches our intuition. \n",
        "To do that, we'll allocate much larger vectors."
      ]
    },
    {
      "cell_type": "code",
      "execution_count": null,
      "metadata": {},
      "outputs": [],
      "source": [
        "%%writefile Sources/naive-vs-iterators.cpp\n",
        "#include \"ach.h\"\n",
        "\n",
        "float naive_max_change(const thrust::universal_vector<float>& a,\n",
        "                       const thrust::universal_vector<float>& b)\n",
        "{\n",
        "    thrust::universal_vector<float> diff(a.size());\n",
        "    thrust::transform(thrust::device, a.begin(), a.end(), b.begin(), diff.begin(),\n",
        "                      []__host__ __device__(float x, float y) {\n",
        "                         return abs(x - y);\n",
        "                      });\n",
        "    return thrust::reduce(thrust::device, diff.begin(), diff.end(), 0.0f, thrust::maximum<float>{});\n",
        "}\n",
        "\n",
        "float max_change(const thrust::universal_vector<float>& a,\n",
        "                 const thrust::universal_vector<float>& b)\n",
        "{\n",
        "    auto zip = thrust::make_zip_iterator(a.begin(), b.begin());\n",
        "    auto transform = thrust::make_transform_iterator(zip, []__host__ __device__(thrust::tuple<float, float> t) {\n",
        "        return abs(thrust::get<0>(t) - thrust::get<1>(t));\n",
        "    });\n",
        "    return thrust::reduce(thrust::device, transform, transform + a.size(), 0.0f, thrust::maximum<float>{});\n",
        "}\n",
        "\n",
        "int main()\n",
        "{\n",
        "    // allocate vectors containing 2^28 elements\n",
        "    thrust::universal_vector<float> a(1 << 28);\n",
        "    thrust::universal_vector<float> b(1 << 28);\n",
        "\n",
        "    thrust::sequence(a.begin(), a.end());\n",
        "    thrust::sequence(b.rbegin(), b.rend());\n",
        "\n",
        "    auto start_naive = std::chrono::high_resolution_clock::now();\n",
        "    naive_max_change(a, b);\n",
        "    auto end_naive = std::chrono::high_resolution_clock::now();\n",
        "    const double naive_duration = std::chrono::duration_cast<std::chrono::milliseconds>(end_naive - start_naive).count();\n",
        "\n",
        "    auto start = std::chrono::high_resolution_clock::now();\n",
        "    max_change(a, b);\n",
        "    auto end = std::chrono::high_resolution_clock::now();\n",
        "    const double duration = std::chrono::duration_cast<std::chrono::milliseconds>(end - start).count();\n",
        "\n",
        "    std::printf(\"iterators are %g times faster than naive approach\\n\", naive_duration / duration);\n",
        "}"
      ]
    },
    {
      "cell_type": "code",
      "execution_count": null,
      "metadata": {},
      "outputs": [],
      "source": [
        "!nvcc --extended-lambda -o /tmp/a.out Sources/naive-vs-iterators.cpp -x cu -arch=native # build executable\n",
        "!/tmp/a.out # run executable"
      ]
    },
    {
      "cell_type": "markdown",
      "metadata": {},
      "source": [
        "The resulting speedup exceeds our expectations because we included memory allocation in our measurements.\n",
        "\n",
        "---\n",
        "Proceed to [the exercise](01.03.02-Exercise-Computing-Variance.ipynb)."
      ]
    },
    {
      "cell_type": "markdown",
      "metadata": {},
      "source": [
        "<img src=\"Images/nvidia_header.png\" style=\"margin-left: -30px; width: 300px; float: left;\">"
      ]
    }
  ],
  "metadata": {
    "accelerator": "GPU",
    "colab": {
      "gpuType": "T4",
      "provenance": [],
      "toc_visible": true
    },
    "kernelspec": {
      "display_name": "Python 3",
      "language": "python",
      "name": "python3"
    },
    "language_info": {
      "codemirror_mode": {
        "name": "ipython",
        "version": 3
      },
      "file_extension": ".py",
      "mimetype": "text/x-python",
      "name": "python",
      "nbconvert_exporter": "python",
      "pygments_lexer": "ipython3",
      "version": "3.10.12"
    }
  },
  "nbformat": 4,
  "nbformat_minor": 4
}
