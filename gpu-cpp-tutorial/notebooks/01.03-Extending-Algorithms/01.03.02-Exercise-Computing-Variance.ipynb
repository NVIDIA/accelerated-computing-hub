{
 "cells": [
  {
   "cell_type": "markdown",
   "metadata": {},
   "source": [
    "## Exercise: Computing Variance\n",
    "\n",
    "So far, you've learned how to compute mean variance and maximal difference.\n",
    "In this exercise, you'll apply techniques of extending standard algorithms that we just covered.\n",
    "This time, you'll be implementing an efficient variance algorithm.\n",
    "Variance is computed on a sequence of data.\n",
    "It measures how far the values in the sequence are spread from the mean:\n",
    "\n",
    "$$\n",
    "\\frac{\\sum\\left(x_{i} - \\overline{x} \\right)^{2}}{N}\n",
    "$$\n",
    "\n",
    "As the equation above suggests, for each value in the sequence we have to compute the squared difference between this value and mean.\n",
    "We then add all those squared differences together and divide the resulting sum by `N`. \n",
    "\n",
    "The next exercise consists of using a transform iterator to compute the squared differences.\n",
    "\n",
    "Transform iterator API for your reference:\n",
    "\n",
    "```c++\n",
    "int constant = 2;\n",
    "auto transform_it = thrust::make_transform_iterator(\n",
    "    // iterator to the beginning of the input sequence\n",
    "    vector.begin(), \n",
    "    // capture constant in the lambda by value with `[name]`\n",
    "    [constant]__host__ __device__(float value_from_input_sequence) { \n",
    "      // transformation of each element\n",
    "      return value_from_input_sequence * constant; \n",
    "    });\n",
    "```\n",
    "\n",
    "Use `thrust::reduce` to compute the sum of squared differences. "
   ]
  },
  {
   "cell_type": "code",
   "execution_count": null,
   "metadata": {
    "cellView": "form"
   },
   "outputs": [],
   "source": [
    "import os\n",
    "\n",
    "if os.getenv(\"COLAB_RELEASE_TAG\"): # If running in Google Colab:\n",
    "  !mkdir -p Sources\n",
    "  !wget https://raw.githubusercontent.com/NVIDIA/accelerated-computing-hub/refs/heads/main/gpu-cpp-tutorial/notebooks/01.03-Extending-Algorithms/Sources/ach.h -nv -O Sources/ach.h"
   ]
  },
  {
   "cell_type": "code",
   "execution_count": null,
   "metadata": {},
   "outputs": [],
   "source": [
    "%%writefile Sources/variance.cpp\n",
    "#include \"ach.h\"\n",
    "\n",
    "float variance(const thrust::universal_vector<float> &x, float mean) {\n",
    "  // TODO: Update the following line so that dereferencing\n",
    "  // `squared_differences` returns `(xi - mean) * (xi - mean)`\n",
    "  auto squared_differences = ...;\n",
    "\n",
    "  return thrust::reduce(thrust::device, squared_differences,\n",
    "                        squared_differences + x.size()) /\n",
    "         x.size();\n",
    "}\n",
    "\n",
    "float mean(thrust::universal_vector<float> vec) {\n",
    "  return thrust::reduce(thrust::device, vec.begin(), vec.end()) / vec.size();\n",
    "}\n",
    "\n",
    "int main() {\n",
    "  float ambient_temp = 20;\n",
    "  thrust::universal_vector<float> prev{42, 24, 50};\n",
    "  thrust::universal_vector<float> next{0, 0, 0};\n",
    "\n",
    "  std::printf(\"step  variance\\n\");\n",
    "  for (int step = 0; step < 3; step++) {\n",
    "    thrust::transform(thrust::device, prev.begin(), prev.end(), next.begin(),\n",
    "                      [=] __host__ __device__(float temp) {\n",
    "                        return temp + 0.5 * (ambient_temp - temp);\n",
    "                      });\n",
    "    std::printf(\"%d     %.2f\\n\", step, variance(next, mean(next)));\n",
    "    next.swap(prev);\n",
    "  }\n",
    "}"
   ]
  },
  {
   "cell_type": "code",
   "execution_count": null,
   "metadata": {},
   "outputs": [],
   "source": [
    "!nvcc --extended-lambda -o /tmp/a.out Sources/variance.cpp -x cu -arch=native # build executable\n",
    "!/tmp/a.out # run executable"
   ]
  },
  {
   "cell_type": "markdown",
   "metadata": {},
   "source": [
    "The output of your program should be:\n",
    "\n",
    "| Step | Variance |\n",
    "|------|----------|\n",
    "| 0    | 29.56    |\n",
    "| 1    | 7.39     |\n",
    "| 2    | 1.85     |"
   ]
  },
  {
   "cell_type": "markdown",
   "metadata": {},
   "source": [
    "If you’re unsure how to proceed, consider expanding this section for guidance. Use the hint only after giving the problem a genuine attempt.\n",
    "\n",
    "<details>\n",
    "  <summary>Hints</summary>\n",
    "  \n",
    "  - You can capture mean in a lambda function with `[mean]__host__ __device__ (...` \n",
    "  - You can transform the input sequence into squared differences with `thrust::transform_iterator`\n",
    "  - You can create a transform iterator with `thrust::make_transform_iterator`\n",
    "</details>"
   ]
  },
  {
   "cell_type": "markdown",
   "metadata": {},
   "source": [
    "Open this section only after you’ve made a serious attempt at solving the problem. Once you’ve completed your solution, compare it with the reference provided here to evaluate your approach and identify any potential improvements.\n",
    "\n",
    "<details>\n",
    "  <summary>Solution</summary>\n",
    "\n",
    "  Key points:\n",
    "  - use `thrust::make_transform_iterator`\n",
    "  - capture mean by value in lambda\n",
    "\n",
    "  Solution:\n",
    "  ```c++\n",
    "  auto squared_differences = thrust::make_transform_iterator(\n",
    "    x.begin(), [mean] __host__ __device__(float value) {\n",
    "      return (value - mean) * (value - mean);\n",
    "    });\n",
    "  ```\n",
    "\n",
    "  You can find full solution [here](Solutions/variance.cpp).\n",
    "</details>"
   ]
  },
  {
   "cell_type": "markdown",
   "metadata": {},
   "source": [
    "---\n",
    "Congratulations!  Now that you know how to extend standard algorithms, proceed to the [next section](../01.04-Vocabulary-Types/01.04.01-Vocabulary-Types.ipynb)."
   ]
  }
 ],
 "metadata": {
  "accelerator": "GPU",
  "colab": {
   "gpuType": "T4",
   "provenance": [],
   "toc_visible": true
  },
  "kernelspec": {
   "display_name": "Python 3",
   "language": "python",
   "name": "python3"
  },
  "language_info": {
   "codemirror_mode": {
    "name": "ipython",
    "version": 3
   },
   "file_extension": ".py",
   "mimetype": "text/x-python",
   "name": "python",
   "nbconvert_exporter": "python",
   "pygments_lexer": "ipython3",
   "version": "3.10.12"
  }
 },
 "nbformat": 4,
 "nbformat_minor": 4
}
