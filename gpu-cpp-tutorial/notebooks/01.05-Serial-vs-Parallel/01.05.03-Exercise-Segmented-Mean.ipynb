{
 "cells": [
  {
   "cell_type": "markdown",
   "metadata": {},
   "source": [
    "## Exercise: Segmented Mean\n",
    "\n",
    "The total raw temperature was a bit hard to read. \n",
    "What we are actually interested in is the mean temperature rather than total temperature.\n",
    "So far, we've used different input iterators to extend algorithms.\n",
    "But fancy iterators are not limited to that.\n",
    "\n",
    "Here's an example of the usage of a transform output iterator:\n",
    "\n",
    "```c++\n",
    "struct functor {\n",
    "  __host__ __device__ \n",
    "  float operator()(float value_about_to_be_stored_in_output_sequence) const \n",
    "  { \n",
    "    // will store value / 2 in the output sequence instead of the original value\n",
    "    return value_about_to_be_stored_in_output_sequence / 2; \n",
    "  }\n",
    "};\n",
    "\n",
    "auto transform_output_it = \n",
    "  thrust::make_transform_output_iterator(\n",
    "    // iterator to the beginning of the output sequence\n",
    "    vector.begin(), \n",
    "    // functor to apply to value before it's written to the `vector`\n",
    "    functor{});\n",
    "```\n",
    "\n",
    "In this exercise, you'll have to modify `row_temperature` so it computes the segmented mean. \n",
    "Use `transform_output_iterator` to turn the total temperature into the mean and remove the `thrust::transform` call."
   ]
  },
  {
   "cell_type": "markdown",
   "metadata": {},
   "source": [
    "<details>\n",
    "    <summary>Original code in case you need to refer back to it</summary>\n",
    "    \n",
    "```c++\n",
    "%%writefile Sources/segmented-mean.cpp\n",
    "#include \"ach.h\"\n",
    "\n",
    "struct mean_functor {\n",
    "    int width;\n",
    "    __host__ __device__ float operator()(float x) const {\n",
    "        return x / width;\n",
    "    }\n",
    "};\n",
    "\n",
    "thrust::universal_vector<float> row_temperatures(\n",
    "    int height, int width,\n",
    "    thrust::universal_vector<int>& row_ids,\n",
    "    thrust::universal_vector<float>& temp)\n",
    "{\n",
    "    thrust::universal_vector<float> means(height);\n",
    "\n",
    "    // use `transform_output_iterator` instead of `means.begin()`\n",
    "    auto means_output = means.begin(); \n",
    "\n",
    "    auto row_ids_begin = thrust::make_transform_iterator(\n",
    "        thrust::make_counting_iterator(0), \n",
    "        [=]__host__ __device__(int i) {\n",
    "            return i / width;\n",
    "        });\n",
    "    auto row_ids_end = row_ids_begin + temp.size();\n",
    "\n",
    "    thrust::reduce_by_key(thrust::device, \n",
    "                          row_ids_begin, \n",
    "                          row_ids_end, \n",
    "                          temp.begin(), \n",
    "                          thrust::make_discard_iterator(), \n",
    "                          means_output);\n",
    "\n",
    "    auto transform_op = mean_functor{width};\n",
    "\n",
    "    // remove this `transform` call\n",
    "    thrust::transform(thrust::device, \n",
    "                      means.begin(), \n",
    "                      means.end(), \n",
    "                      means.begin(), \n",
    "                      transform_op);\n",
    "\n",
    "    return means;\n",
    "}   \n",
    "```\n",
    "\n",
    "</details>"
   ]
  },
  {
   "cell_type": "code",
   "execution_count": null,
   "metadata": {
    "cellView": "form"
   },
   "outputs": [],
   "source": [
    "import os\n",
    "\n",
    "if os.getenv(\"COLAB_RELEASE_TAG\"): # If running in Google Colab:\n",
    "  !mkdir -p Sources\n",
    "  !wget https://raw.githubusercontent.com/NVIDIA/accelerated-computing-hub/refs/heads/main/gpu-cpp-tutorial/notebooks/01.05-Serial-vs-Parallel/Sources/ach.h -nv -O Sources/ach.h"
   ]
  },
  {
   "cell_type": "code",
   "execution_count": null,
   "metadata": {},
   "outputs": [],
   "source": [
    "%%writefile Sources/segmented-mean.cpp\n",
    "#include \"ach.h\"\n",
    "\n",
    "struct mean_functor {\n",
    "    int width;\n",
    "    __host__ __device__ float operator()(float x) const {\n",
    "        return x / width;\n",
    "    }\n",
    "};\n",
    "\n",
    "thrust::universal_vector<float> row_temperatures(\n",
    "    int height, int width,\n",
    "    thrust::universal_vector<int>& row_ids,\n",
    "    thrust::universal_vector<float>& temp)\n",
    "{\n",
    "    thrust::universal_vector<float> means(height);\n",
    "\n",
    "    // TODO: Replace `means.begin()` by a `transform_output_iterator` using\n",
    "    // the provided `mean_functor` functor\n",
    "    auto means_output = means.begin();\n",
    "\n",
    "    auto row_ids_begin = thrust::make_transform_iterator(\n",
    "        thrust::make_counting_iterator(0),\n",
    "        [=]__host__ __device__(int i) {\n",
    "            return i / width;\n",
    "        });\n",
    "    auto row_ids_end = row_ids_begin + temp.size();\n",
    "\n",
    "    thrust::reduce_by_key(thrust::device,\n",
    "                          row_ids_begin,\n",
    "                          row_ids_end,\n",
    "                          temp.begin(),\n",
    "                          thrust::make_discard_iterator(),\n",
    "                          means_output);\n",
    "\n",
    "    auto transform_op = mean_functor{width};\n",
    "\n",
    "    // TODO: remove this `transform` call after adding the\n",
    "    // `transform_output_iterator`\n",
    "    thrust::transform(thrust::device,\n",
    "                      means.begin(),\n",
    "                      means.end(),\n",
    "                      means.begin(),\n",
    "                      transform_op);\n",
    "\n",
    "    return means;\n",
    "}"
   ]
  },
  {
   "cell_type": "code",
   "execution_count": null,
   "metadata": {},
   "outputs": [],
   "source": [
    "!nvcc --extended-lambda -o /tmp/a.out Sources/segmented-mean.cpp -x cu -arch=native # build executable\n",
    "!/tmp/a.out # run executable"
   ]
  },
  {
   "cell_type": "markdown",
   "metadata": {},
   "source": [
    "The output of your program should end with:\n",
    "\n",
    "```\n",
    "row 0: { 90, 90, ..., 90 } = 90\n",
    "row 1: { 15, 15, ..., 15 } = 15\n",
    "row 2: { 15, 15, ..., 15 } = 15\n",
    "```"
   ]
  },
  {
   "cell_type": "markdown",
   "metadata": {},
   "source": [
    "If you’re unsure how to proceed, consider expanding this section for guidance. Use the hint only after giving the problem a genuine attempt.\n",
    "\n",
    "<details>\n",
    "  <summary>Hints</summary>\n",
    "  \n",
    "  - The `transform_output_iterator` has the same API as the `transform` iterator\n",
    "</details>"
   ]
  },
  {
   "cell_type": "markdown",
   "metadata": {},
   "source": [
    "Open this section only after you’ve made a serious attempt at solving the problem. Once you’ve completed your solution, compare it with the reference provided here to evaluate your approach and identify any potential improvements.\n",
    "\n",
    "<details>\n",
    "  <summary>Solution</summary>\n",
    "\n",
    "  Key points:\n",
    "\n",
    "  - We need to divide the sum by the number of elements in each segment to get the mean\n",
    "  - We can use a `transform_output_iterator` to divide the sum by the number of elements in each segment\n",
    "\n",
    "  Solution:\n",
    "  ```c++\n",
    "  auto means_output =\n",
    "      thrust::make_transform_output_iterator(\n",
    "        means.begin(), \n",
    "        mean_functor{width});\n",
    "  ```\n",
    "\n",
    "  You can find full solution [here](Solutions/segmented-mean.cu).\n",
    "</details>"
   ]
  },
  {
   "cell_type": "markdown",
   "metadata": {},
   "source": [
    "---\n",
    "Congratulations!\n",
    "\n",
    "Now that you understand the difference between serial and parallel execution, \n",
    "proceed to [the next section](../01.06-Memory-Spaces/01.06.01-Memory-Spaces.ipynb)."
   ]
  }
 ],
 "metadata": {
  "accelerator": "GPU",
  "colab": {
   "gpuType": "T4",
   "provenance": [],
   "toc_visible": true
  },
  "kernelspec": {
   "display_name": "Python 3",
   "language": "python",
   "name": "python3"
  },
  "language_info": {
   "codemirror_mode": {
    "name": "ipython",
    "version": 3
   },
   "file_extension": ".py",
   "mimetype": "text/x-python",
   "name": "python",
   "nbconvert_exporter": "python",
   "pygments_lexer": "ipython3",
   "version": "3.10.12"
  }
 },
 "nbformat": 4,
 "nbformat_minor": 4
}
