{
 "cells": [
  {
   "cell_type": "markdown",
   "metadata": {},
   "source": [
    "# Unlocking the GPU’s Full Potential: Asynchrony and CUDA Streams\n",
    "\n",
    "In the previous lab, you learned how to use parallel algorithms. \n",
    "However, the concept of parallelism is not sufficient for accelerating your applications. \n",
    "To fully utilize GPUs, this lab will teach you another fundamental concept: asynchrony. \n",
    "In this lab, you'll learn how and when to leverage asynchrony. \n",
    "You’ll use [NVIDIA Nsight Systems](https://developer.nvidia.com/nsight-systems) to distinguish synchronous and asynchronous algorithms and identify performance bottlenecks. \n",
    "\n",
    "---\n",
    "## Prerequisites\n",
    "\n",
    "To get the most out of this lab, you should already be able to:\n",
    "\n",
    "- Use lambda expressions (unnamed functions)\n",
    "- Declare variables, write loops, and use if / else statements in C++\n",
    "- Leverage high-level parallel algorithms from CUDA core libraries\n",
    "- Control memory space to put your data in CPU or GPU memory\n",
    "\n",
    "---\n",
    "## Objectives\n",
    "\n",
    "By the time you complete this lab, you will be able to:\n",
    "\n",
    "- Distinguish synchronous and asynchronous algorithms\n",
    "- Use CUDA streams to overlap execution and memory transfers\n",
    "- Use CUDA events for asynchronous dependency management \n",
    "- Use NVIDIA Nsight Systems to visually profile the timeline of GPU-accelerated GPU applications"
   ]
  },
  {
   "cell_type": "markdown",
   "metadata": {},
   "source": [
    "---\n",
    "\n",
    "## Content\n",
    "\n",
    "* [2.1 Introduction](../02.01-Introduction/02.01.01-Introduction.ipynb)\n",
    "* [2.2 Asynchrony](../02.02-Asynchrony/02.02.01-Asynchrony.ipynb)\n",
    "* [2.3 Streams](../02.03-Streams/02.03.01-Streams.ipynb)\n",
    "* [2.4 Pinned Memory](../02.04-Pinned-Memory/02.04.01-Pinned.ipynb)\n"
   ]
  },
  {
   "cell_type": "markdown",
   "metadata": {},
   "source": [
    "---\n",
    "To begin this lab, jump to the [Asynchrony notebook](../02.02-Asynchrony/02.02.01-Asynchrony.ipynb)."
   ]
  }
 ],
 "metadata": {
  "accelerator": "GPU",
  "colab": {
   "gpuType": "T4",
   "provenance": [],
   "toc_visible": true
  },
  "kernelspec": {
   "display_name": "Python 3 (ipykernel)",
   "language": "python",
   "name": "python3"
  },
  "language_info": {
   "codemirror_mode": {
    "name": "ipython",
    "version": 3
   },
   "file_extension": ".py",
   "mimetype": "text/x-python",
   "name": "python",
   "nbconvert_exporter": "python",
   "pygments_lexer": "ipython3",
   "version": "3.10.12"
  }
 },
 "nbformat": 4,
 "nbformat_minor": 4
}
