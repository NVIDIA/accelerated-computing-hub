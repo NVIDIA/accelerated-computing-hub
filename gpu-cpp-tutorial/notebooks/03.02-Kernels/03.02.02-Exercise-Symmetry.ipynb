{
 "cells": [
  {
   "cell_type": "markdown",
   "metadata": {},
   "source": [
    "## Exercise: Symmetry\n",
    "\n",
    "For your reference, the following is an example of launching a simple kernel.  Execute the next two cells to view the results."
   ]
  },
  {
   "cell_type": "code",
   "execution_count": null,
   "metadata": {
    "cellView": "form"
   },
   "outputs": [],
   "source": [
    "import os\n",
    "\n",
    "if os.getenv(\"COLAB_RELEASE_TAG\"): # If running in Google Colab:\n",
    "  !mkdir -p Sources\n",
    "  !wget https://raw.githubusercontent.com/NVIDIA/accelerated-computing-hub/refs/heads/main/gpu-cpp-tutorial/notebooks/03.02-Kernels/Sources/ach.cuh -nv -O Sources/ach.cuh"
   ]
  },
  {
   "cell_type": "code",
   "execution_count": null,
   "metadata": {},
   "outputs": [],
   "source": [
    "%%writefile Sources/kernel-launch.cpp\n",
    "#include <cstdio>\n",
    "\n",
    "__global__ void kernel(int value) {\n",
    "  std::printf(\"value on device = %d\\n\", value);\n",
    "}\n",
    "\n",
    "int main() {\n",
    "  int blocks_in_grid = 1;\n",
    "  int threads_in_block = 1;\n",
    "  cudaStream_t stream = 0;\n",
    "  kernel<<<blocks_in_grid, threads_in_block, 0, stream>>>(42);\n",
    "  cudaStreamSynchronize(stream);\n",
    "}"
   ]
  },
  {
   "cell_type": "code",
   "execution_count": null,
   "metadata": {},
   "outputs": [],
   "source": [
    "!nvcc -o /tmp/a.out Sources/kernel-launch.cpp -x cu -arch=native && /tmp/a.out"
   ]
  },
  {
   "cell_type": "markdown",
   "metadata": {},
   "source": [
    "Change the code below the image to launch a kernel with a single thread that checks if the input array is symmetric.  If the code does NOT obtain the correct answer, an error message will be printed.\n",
    "\n",
    "![Symmetry Check](Images/symmetry.png \"Symmetry Check\")"
   ]
  },
  {
   "cell_type": "markdown",
   "metadata": {},
   "source": [
    "<details>\n",
    "<summary>Original code if you need to refer back.</summary>\n",
    "\n",
    "```c++\n",
    "%%writefile Sources/symmetry-check.cpp\n",
    "#include \"ach.cuh\"\n",
    "\n",
    "// 1. convert the function below from a CPU function into a CUDA kernel\n",
    "void symmetry_check_kernel(ach::temperature_grid_f temp, int row)\n",
    "{\n",
    "  int column = 0;\n",
    "\n",
    "  if (abs(temp(row, column) - temp(temp.extent(0) - 1 - row, column)) > 0.1)\n",
    "  {\n",
    "    printf(\"Error: asymmetry in %d / %d\\n\", column, temp.extent(1));\n",
    "  }\n",
    "}\n",
    "\n",
    "void symmetry_check(ach::temperature_grid_f temp, cudaStream_t stream)\n",
    "{\n",
    "  int target_row = 0;\n",
    "  // 2. use triple chevron to launch the kernel\n",
    "  symmetry_check_kernel(temp, target_row);\n",
    "}\n",
    "```\n",
    "    \n",
    "</details>"
   ]
  },
  {
   "cell_type": "code",
   "execution_count": null,
   "metadata": {},
   "outputs": [],
   "source": [
    "%%writefile Sources/symmetry-check.cpp\n",
    "#include \"ach.cuh\"\n",
    "\n",
    "// TODO: convert the function below from a CPU function into a CUDA kernel\n",
    "void symmetry_check_kernel(ach::temperature_grid_f temp, int row)\n",
    "{\n",
    "  int column = 0;\n",
    "\n",
    "  if (abs(temp(row, column) - temp(temp.extent(0) - 1 - row, column)) > 0.1)\n",
    "  {\n",
    "    printf(\"Error: asymmetry in %d / %d\\n\", column, temp.extent(1));\n",
    "  }\n",
    "}\n",
    "\n",
    "void symmetry_check(ach::temperature_grid_f temp, cudaStream_t stream)\n",
    "{\n",
    "  int target_row = 0;\n",
    "  // TODO: use triple chevron to launch the single threaded kernel\n",
    "  symmetry_check_kernel(temp, target_row);\n",
    "}"
   ]
  },
  {
   "cell_type": "code",
   "execution_count": null,
   "metadata": {},
   "outputs": [],
   "source": [
    "!nvcc --extended-lambda -o /tmp/a.out Sources/symmetry-check.cpp -x cu -arch=native # build executable\n",
    "!/tmp/a.out # run executable"
   ]
  },
  {
   "cell_type": "markdown",
   "metadata": {},
   "source": [
    "If you’re unsure how to proceed, consider expanding this section for guidance. Use the hint only after giving the problem a genuine attempt.\n",
    "\n",
    "<details>\n",
    "  <summary>Hints</summary>\n",
    "  \n",
    "  - Kernels are functions that are executed on the GPU but launched from the CPU\n",
    "  - Kernels are annotated with `__global__` and launched with triple chevrons `<<<1, 1, 0, stream>>>`\n",
    "</details>"
   ]
  },
  {
   "cell_type": "markdown",
   "metadata": {},
   "source": [
    "Open this section only after you’ve made a serious attempt at solving the problem. Once you’ve completed your solution, compare it with the reference provided here to evaluate your approach and identify any potential improvements.\n",
    "\n",
    "<details>\n",
    "  <summary>Solution</summary>\n",
    "\n",
    "  Key points:\n",
    "\n",
    "  - Annotate the kernel with `__global__`\n",
    "  - Launch the kernel with triple chevrons `<<<1, 1, 0, stream>>>`\n",
    "\n",
    "  Solution:\n",
    "  ```c++\n",
    "  __global__ void symmetry_check_kernel(ach::temperature_grid_f temp, int row)\n",
    "  {\n",
    "    int column = 0;\n",
    "\n",
    "    if (abs(temp(row, column) - temp(temp.extent(0) - 1 - row, column)) > 0.1)\n",
    "    {\n",
    "      printf(\"Error: asymmetry in %d / %d\\n\", column, temp.extent(1));\n",
    "    }\n",
    "  }\n",
    "\n",
    "  void symmetry_check(ach::temperature_grid_f temp, cudaStream_t stream)\n",
    "  {\n",
    "    int target_row = 0;\n",
    "    symmetry_check_kernel<<<1, 1, 0, stream>>>(temp, target_row);\n",
    "  }\n",
    "  ```\n",
    "\n",
    "  You can find full solution [here](Solutions/symmetry-check.cpp).\n",
    "</details>"
   ]
  },
  {
   "cell_type": "markdown",
   "metadata": {},
   "source": [
    "---\n",
    "Congratulations!  Move on to the [next exercise](03.02.03-Exercise-Row-Symmetry.ipynb)."
   ]
  }
 ],
 "metadata": {
  "accelerator": "GPU",
  "colab": {
   "gpuType": "T4",
   "provenance": [],
   "toc_visible": true
  },
  "kernelspec": {
   "display_name": "Python 3 (ipykernel)",
   "language": "python",
   "name": "python3"
  },
  "language_info": {
   "codemirror_mode": {
    "name": "ipython",
    "version": 3
   },
   "file_extension": ".py",
   "mimetype": "text/x-python",
   "name": "python",
   "nbconvert_exporter": "python",
   "pygments_lexer": "ipython3",
   "version": "3.10.12"
  }
 },
 "nbformat": 4,
 "nbformat_minor": 4
}
