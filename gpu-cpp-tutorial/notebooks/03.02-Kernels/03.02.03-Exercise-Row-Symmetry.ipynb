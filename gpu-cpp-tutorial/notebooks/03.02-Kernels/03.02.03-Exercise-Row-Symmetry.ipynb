{
  "cells": [
    {
      "cell_type": "markdown",
      "metadata": {},
      "source": [
        "<img src=\"Images/nvidia_header.png\" style=\"margin-left: -30px; width: 300px; float: left;\">"
      ]
    },
    {
      "cell_type": "markdown",
      "metadata": {},
      "source": [
        "# Exercise: Row Symmetry\n",
        "\n",
        "Threads are grouped into blocks, \n",
        "and each thread in a block has a unique ID `threadIdx.x` ranging from `0` to `blockDim.x - 1`. \n",
        "Blocks themselves are indexed by `blockIdx.x` within a grid, which ranges from `0` to `gridDim.x - 1`.\n",
        "\n",
        "![Grid](Images/grid.png \"Grid\")\n",
        "\n",
        "The global (grid-level) thread index is:\n",
        "\n",
        "```c++\n",
        "int thread_index = blockIdx.x * blockDim.x + threadIdx.x;\n",
        "```\n",
        "\n",
        "And the total number of threads in the entire grid is:\n",
        "\n",
        "```c++\n",
        "int num_threads = gridDim.x * blockDim.x;\n",
        "```\n",
        "\n",
        "Given a problem size `N` and thread block size, we can compute the number of blocks we need in a grid as:\n",
        "For a problem of size `N`, if block size is `threads_per_block` threads, you can compute the number of blocks as:\n",
        "\n",
        "```c++\n",
        "int threads_per_block = 256;\n",
        "int num_blocks = cuda::ceil_div(N, threads_per_block);\n",
        "```\n",
        "\n",
        "This ensures you launch enough threads to cover all N elements in the problem.\n",
        "Using this information, modify the code below to launch a grid of threads, checking for symmetry of a given row:\n",
        "\n",
        "![Symmetry Check](Images/row-symmetry.png \"Symmetry Check\")\n",
        "\n",
        "Assign each thread to a unique column index.  An error will be printed if your code does not obtain the correct answer."
      ]
    },
    {
      "cell_type": "markdown",
      "metadata": {},
      "source": [
        "<details>\n",
        "<summary>Original code if you need to refer back</summary>\n",
        "\n",
        "```c++\n",
        "%%writefile Sources/row-symmetry-check.cpp\n",
        "#include \"ach.cuh\"\n",
        "\n",
        "__global__ void symmetry_check_kernel(ach::temperature_grid_f temp, int row)\n",
        "{\n",
        "  // 1. change the line below so that each thread in a grid \n",
        "  //    checks exactly one column\n",
        "  int column = 0;\n",
        "\n",
        "  if (abs(temp(row, column) - temp(temp.extent(0) - 1 - row, column)) > 0.1)\n",
        "  {\n",
        "    printf(\"Error: asymmetry in %d / %d\\n\", column, temp.extent(1));\n",
        "  }\n",
        "}\n",
        "\n",
        "void symmetry_check(ach::temperature_grid_f temp, cudaStream_t stream)\n",
        "{\n",
        "  int width      = temp.extent(1);\n",
        "  // 2. launch sufficient number of threads to assign one thread per column\n",
        "\n",
        "  int target_row = 0;\n",
        "  symmetry_check_kernel<<<1, 1, 0, stream>>>(temp, target_row);\n",
        "}\n",
        "```\n",
        "    \n",
        "</details>"
      ]
    },
    {
      "cell_type": "code",
      "execution_count": null,
      "metadata": {
        "cellView": "form"
      },
      "outputs": [],
      "source": [
        "import os\n",
        "\n",
        "if os.getenv(\"COLAB_RELEASE_TAG\"): # If running in Google Colab:\n",
        "  !mkdir -p Sources\n",
        "  !wget https://raw.githubusercontent.com/NVIDIA/accelerated-computing-hub/refs/heads/main/gpu-cpp-tutorial/notebooks/03.02-Kernels/Sources/ach.cuh -nv -O Sources/ach.cuh"
      ]
    },
    {
      "cell_type": "code",
      "execution_count": null,
      "metadata": {},
      "outputs": [],
      "source": [
        "%%writefile Sources/row-symmetry-check.cpp\n",
        "#include \"ach.cuh\"\n",
        "\n",
        "__global__ void symmetry_check_kernel(ach::temperature_grid_f temp, int row)\n",
        "{\n",
        "  // TODO: change the line below so that each thread in a grid checks exactly\n",
        "  // one column\n",
        "  int column = 0;\n",
        "\n",
        "  if (abs(temp(row, column) - temp(temp.extent(0) - 1 - row, column)) > 0.1)\n",
        "  {\n",
        "    printf(\"Error: asymmetry in %d / %d\\n\", column, temp.extent(1));\n",
        "  }\n",
        "}\n",
        "\n",
        "void symmetry_check(ach::temperature_grid_f temp, cudaStream_t stream)\n",
        "{\n",
        "  int width      = temp.extent(1);\n",
        "  // TODO: launch sufficient number of threads to assign one thread per column\n",
        "\n",
        "  int target_row = 0;\n",
        "  symmetry_check_kernel<<<1, 1, 0, stream>>>(temp, target_row);\n",
        "}"
      ]
    },
    {
      "cell_type": "code",
      "execution_count": null,
      "metadata": {},
      "outputs": [],
      "source": [
        "!nvcc --extended-lambda -g -G -o /tmp/a.out Sources/row-symmetry-check.cpp -x cu -arch=native # build executable\n",
        "!/tmp/a.out # run executable"
      ]
    },
    {
      "cell_type": "markdown",
      "metadata": {},
      "source": [
        "If you’re unsure how to proceed, consider expanding this section for guidance. Use the hint only after giving the problem a genuine attempt.\n",
        "\n",
        "<details>\n",
        "  <summary>Hints</summary>\n",
        "  \n",
        "  - Modify the `int column = 0` line such that every thread checks a different column\n",
        "  - Modify the triple chevron to launch a grid of threads\n",
        "</details>"
      ]
    },
    {
      "cell_type": "markdown",
      "metadata": {},
      "source": [
        "Open this section only after you’ve made a serious attempt at solving the problem. Once you’ve completed your solution, compare it with the reference provided here to evaluate your approach and identify any potential improvements.\n",
        "\n",
        "<details>\n",
        "  <summary>Solution</summary>\n",
        "\n",
        "  Key points:\n",
        "\n",
        "  - Launch a grid of threads\n",
        "  - Use thread index as column index\n",
        "\n",
        "  Solution:\n",
        "  ```c++\n",
        "  __global__ void symmetry_check_kernel(ach::temperature_grid_f temp, int row)\n",
        "  {\n",
        "    int column = blockIdx.x * blockDim.x + threadIdx.x;\n",
        "\n",
        "    if (abs(temp(row, column) - temp(temp.extent(0) - 1 - row, column)) > 0.1)\n",
        "    {\n",
        "      printf(\"Error: asymmetry in %d / %d\\n\", column, temp.extent(1));\n",
        "    }\n",
        "  }\n",
        "\n",
        "  void symmetry_check(ach::temperature_grid_f temp, cudaStream_t stream)\n",
        "  {\n",
        "    int width      = temp.extent(1);\n",
        "    int block_size = 1024;\n",
        "    int grid_size  = cuda::ceil_div(width, block_size);\n",
        "\n",
        "    int target_row = 0;\n",
        "    symmetry_check_kernel<<<grid_size, block_size, 0, stream>>>(temp, target_row);\n",
        "  }\n",
        "  ```\n",
        "\n",
        "  You can find full solution [here](Solutions/row-symmetry-check.cu).\n",
        "</details>"
      ]
    },
    {
      "cell_type": "markdown",
      "metadata": {},
      "source": [
        "---\n",
        "Great job!  Move on to the [next exercise](03.02.04-Dev-Tools.ipynb)."
      ]
    },
    {
      "cell_type": "markdown",
      "metadata": {},
      "source": [
        "<img src=\"Images/nvidia_header.png\" style=\"margin-left: -30px; width: 300px; float: left;\">"
      ]
    }
  ],
  "metadata": {
    "accelerator": "GPU",
    "colab": {
      "gpuType": "T4",
      "provenance": [],
      "toc_visible": true
    },
    "kernelspec": {
      "display_name": "Python 3 (ipykernel)",
      "language": "python",
      "name": "python3"
    },
    "language_info": {
      "codemirror_mode": {
        "name": "ipython",
        "version": 3
      },
      "file_extension": ".py",
      "mimetype": "text/x-python",
      "name": "python",
      "nbconvert_exporter": "python",
      "pygments_lexer": "ipython3",
      "version": "3.10.12"
    }
  },
  "nbformat": 4,
  "nbformat_minor": 4
}
