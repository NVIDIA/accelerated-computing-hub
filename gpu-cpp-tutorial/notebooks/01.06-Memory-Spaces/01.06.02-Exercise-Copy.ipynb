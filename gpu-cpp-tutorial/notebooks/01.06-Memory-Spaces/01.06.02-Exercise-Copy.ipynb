{
  "cells": [
    {
      "cell_type": "markdown",
      "metadata": {},
      "source": [
        "<img src=\"Images/nvidia_header.png\" style=\"margin-left: -30px; width: 300px; float: left;\">"
      ]
    },
    {
      "cell_type": "markdown",
      "metadata": {},
      "source": [
        "## Exercise: Explicit Memory Spaces\n",
        "\n",
        "Usage of `thrust::copy` for your reference:\n",
        "\n",
        "```c++\n",
        "thrust::copy(src_vector.begin(), src_vector.end(), dst_vector.begin());\n",
        "```\n",
        "\n",
        "Rewrite the code below to use `thrust::device_vector` and `thrust::host_vector`:"
      ]
    },
    {
      "cell_type": "markdown",
      "metadata": {},
      "source": [
        "<details>\n",
        "<summary>Original code in case you need to refer to it.</summary>\n",
        "\n",
        "```c++\n",
        "%%writefile Sources/heat-2D-explicit-memory-spaces.cpp\n",
        "#include \"ach.h\"\n",
        "\n",
        "int main()\n",
        "{\n",
        "  int height = 4096;\n",
        "  int width  = 4096;\n",
        "\n",
        "  thrust::universal_vector<float> prev = ach::init(height, width);\n",
        "  thrust::universal_vector<float> next(height * width);\n",
        "\n",
        "  for (int write_step = 0; write_step < 3; write_step++) {\n",
        "    std::printf(\"   write step %d\\n\", write_step);\n",
        "    ach::store(write_step, height, width, prev);\n",
        "    \n",
        "    for (int compute_step = 0; compute_step < 3; compute_step++) {\n",
        "      auto begin = std::chrono::high_resolution_clock::now();\n",
        "      ach::simulate(height, width, prev, next);\n",
        "      auto end = std::chrono::high_resolution_clock::now();\n",
        "      auto seconds = std::chrono::duration<double>(end - begin).count();\n",
        "      std::printf(\"computed step %d in %g s\\n\", compute_step, seconds);\n",
        "      prev.swap(next);\n",
        "    }\n",
        "  }\n",
        "}\n",
        "```\n",
        "    \n",
        "</details>"
      ]
    },
    {
      "cell_type": "code",
      "execution_count": null,
      "metadata": {
        "cellView": "form"
      },
      "outputs": [],
      "source": [
        "#@title Google Colab Setup\n",
        "!mkdir -p Sources\n",
        "!wget https://raw.githubusercontent.com/NVIDIA/accelerated-computing-hub/refs/heads/main/gpu-cpp-tutorial/notebooks/01.06-Memory-Spaces/Sources/ach.h -nv -O Sources/ach.h"
      ]
    },
    {
      "cell_type": "code",
      "execution_count": null,
      "metadata": {},
      "outputs": [],
      "source": [
        "%%writefile Sources/heat-2D-explicit-memory-spaces.cpp\n",
        "#include \"ach.h\"\n",
        "\n",
        "int main()\n",
        "{\n",
        "  int height = 4096;\n",
        "  int width  = 4096;\n",
        "\n",
        "  // TODO: Use explicit memory space containers\n",
        "  thrust::universal_vector<float> prev = ach::init(height, width);\n",
        "  thrust::universal_vector<float> next(height * width);\n",
        "\n",
        "  for (int write_step = 0; write_step < 3; write_step++) {\n",
        "    std::printf(\"   write step %d\\n\", write_step);\n",
        "    ach::store(write_step, height, width, prev);\n",
        "    \n",
        "    for (int compute_step = 0; compute_step < 3; compute_step++) {\n",
        "      auto begin = std::chrono::high_resolution_clock::now();\n",
        "      ach::simulate(height, width, prev, next);\n",
        "      auto end = std::chrono::high_resolution_clock::now();\n",
        "      auto seconds = std::chrono::duration<double>(end - begin).count();\n",
        "      std::printf(\"computed step %d in %g s\\n\", compute_step, seconds);\n",
        "      prev.swap(next);\n",
        "    }\n",
        "  }\n",
        "}"
      ]
    },
    {
      "cell_type": "code",
      "execution_count": null,
      "metadata": {},
      "outputs": [],
      "source": [
        "!nvcc --extended-lambda -o /tmp/a.out Sources/heat-2D-explicit-memory-spaces.cpp -x cu -arch=native # build executable\n",
        "!/tmp/a.out # run executable"
      ]
    },
    {
      "cell_type": "markdown",
      "metadata": {},
      "source": [
        "If you’re unsure how to proceed, consider expanding this section for guidance. Use the hint only after giving the problem a genuine attempt.\n",
        "\n",
        "<details>\n",
        "  <summary>Hints</summary>\n",
        "  \n",
        "  - `ach::simulate` should accept `thrust::device_vector` as input and output\n",
        "  - `ach::store` should accept `thrust::host_vector` as input\n",
        "  - You can use `thrust::copy` to copy data between `thrust::device_vector` and `thrust::host_vector`\n",
        "</details>"
      ]
    },
    {
      "cell_type": "markdown",
      "metadata": {},
      "source": [
        "Open this section only after you’ve made a serious attempt at solving the problem. Once you’ve completed your solution, compare it with the reference provided here to evaluate your approach and identify any potential improvements.\n",
        "\n",
        "<details>\n",
        "  <summary>Solution</summary>\n",
        "\n",
        "  Key points:\n",
        "\n",
        "  - \n",
        "\n",
        "  Solution:\n",
        "  ```c++\n",
        "  thrust::device_vector<float> d_prev = ach::init(height, width);\n",
        "  thrust::device_vector<float> d_next(height * width);\n",
        "  thrust::host_vector<float> h_prev(height * width);\n",
        "\n",
        "  for (int write_step = 0; write_step < 3; write_step++) {\n",
        "    std::printf(\"   write step %d\\n\", write_step);\n",
        "    thrust::copy(d_prev.begin(), d_prev.end(), h_prev.begin());\n",
        "    ach::store(write_step, height, width, h_prev);\n",
        "\n",
        "    for (int compute_step = 0; compute_step < 3; compute_step++) {\n",
        "      auto begin = std::chrono::high_resolution_clock::now();\n",
        "      ach::simulate(height, width, d_prev, d_next);\n",
        "      auto end = std::chrono::high_resolution_clock::now();\n",
        "      auto seconds = std::chrono::duration<double>(end - begin).count();\n",
        "      std::printf(\"computed step %d in %g s\\n\", compute_step, seconds);\n",
        "      d_prev.swap(d_next);\n",
        "    }\n",
        "  }\n",
        "  ```\n",
        "\n",
        "  You can find full solution [here](Solutions/heat-2D-explicit-memory-spaces.cu).\n",
        "</details>"
      ]
    },
    {
      "cell_type": "markdown",
      "metadata": {},
      "source": [
        "\n",
        "---\n",
        "\n",
        "Great job!  Understanding of the memory spaces concept concludes the first part of the course.\n",
        "Proceed to [the summary](../01.07-Summary/01.07.01-Summary.ipynb)."
      ]
    },
    {
      "cell_type": "markdown",
      "metadata": {},
      "source": [
        "<img src=\"Images/nvidia_header.png\" style=\"margin-left: -30px; width: 300px; float: left;\">"
      ]
    }
  ],
  "metadata": {
    "accelerator": "GPU",
    "colab": {
      "gpuType": "T4",
      "provenance": [],
      "toc_visible": true
    },
    "kernelspec": {
      "display_name": "Python 3",
      "language": "python",
      "name": "python3"
    },
    "language_info": {
      "codemirror_mode": {
        "name": "ipython",
        "version": 3
      },
      "file_extension": ".py",
      "mimetype": "text/x-python",
      "name": "python",
      "nbconvert_exporter": "python",
      "pygments_lexer": "ipython3",
      "version": "3.10.12"
    }
  },
  "nbformat": 4,
  "nbformat_minor": 4
}
