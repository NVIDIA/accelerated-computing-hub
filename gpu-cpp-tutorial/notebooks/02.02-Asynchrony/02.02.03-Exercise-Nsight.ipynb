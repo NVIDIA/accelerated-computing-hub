{
 "cells": [
  {
   "cell_type": "markdown",
   "metadata": {},
   "source": [
    "## Exercise: Profile Your Code with Nsight Systems\n",
    "\n",
    "In this exercise, you will learn how to profile your code with Nsight Systems. \n",
    "Nsight Systems is a system-wide performance analysis tool, designed to visualize CPU and GPU activities. \n",
    "\n",
    "To run Nsight Systems, you can use the command-line interface provided by `nsys`:"
   ]
  },
  {
   "cell_type": "code",
   "execution_count": null,
   "metadata": {
    "cellView": "form"
   },
   "outputs": [],
   "source": [
    "import os\n",
    "\n",
    "if os.getenv(\"COLAB_RELEASE_TAG\"): # If running in Google Colab:\n",
    "  !mkdir -p Solutions\n",
    "  !wget https://raw.githubusercontent.com/NVIDIA/accelerated-computing-hub/refs/heads/main/gpu-cpp-tutorial/notebooks/02.02-Asynchrony/Solutions/ach.h -nv -O Solutions/ach.h\n",
    "  !wget https://raw.githubusercontent.com/NVIDIA/accelerated-computing-hub/refs/heads/main/gpu-cpp-tutorial/notebooks/02.02-Asynchrony/Solutions/nvtx3.hpp -nv -O Solutions/nvtx3.hpp\n",
    "  !wget https://raw.githubusercontent.com/NVIDIA/accelerated-computing-hub/refs/heads/main/gpu-cpp-tutorial/notebooks/02.02-Asynchrony/Sources/compute-io-overlap.cpp -nv -O Solutions/compute-io-overlap.cpp\n",
    "  !sudo apt-key adv --fetch-keys https://developer.download.nvidia.com/compute/cuda/repos/ubuntu1804/x86_64/7fa2af80.pub > /dev/null 2>&1\n",
    "  !sudo add-apt-repository -y \"deb https://developer.download.nvidia.com/devtools/repos/ubuntu$(source /etc/lsb-release; echo \"$DISTRIB_RELEASE\" | tr -d .)/$(dpkg --print-architecture)/ /\" > /dev/null 2>&1\n",
    "  !sudo apt install -y nsight-systems > /dev/null 2>&1"
   ]
  },
  {
   "cell_type": "code",
   "execution_count": null,
   "metadata": {},
   "outputs": [],
   "source": [
    "!nvcc --extended-lambda -o /tmp/a.out Solutions/compute-io-overlap.cpp -x cu -arch=native # build executable\n",
    "!nsys profile --force-overwrite true -o compute-io-overlap /tmp/a.out # run and profile executable"
   ]
  },
  {
   "cell_type": "markdown",
   "metadata": {},
   "source": [
    "The code above stores the output in a file called `compute-io-overlap` in the current directory.\n",
    "To download the report file to your local machine:\n",
    "\n",
    "1. Click on the \"Files\" tab on the left\n",
    "2. Click on the three dots on the right of the file `compute-io-overlap.nsys-rep`\n",
    "3. Click on \"Download\"\n",
    "\n",
    "<img src=\"Images/download.png\" alt=\"Download Report\" width=600>\n",
    "\n",
    "Then, install Nsight Systems on your local machine following the instructions [here](https://developer.nvidia.com/nsight-systems/get-started).\n",
    "Launch Nsight Systems and open the report file that you downloaded.\n",
    "Your task is to navigate the report and identify:\n",
    "- when GPU compute is launched\n",
    "- when CPU writes data on disk\n",
    "- when CPU waits for GPU\n",
    "- when data is transferred between CPU and GPU"
   ]
  },
  {
   "cell_type": "markdown",
   "metadata": {},
   "source": [
    "If you’re unsure how to proceed, consider expanding this section for guidance. Use the hint only after giving the problem a genuine attempt.\n",
    "\n",
    "<details>\n",
    "  <summary>Hints</summary>\n",
    "  \n",
    "  - Try unfolding \"CUDA HW\" section to see more detail on what is happening on the GPU\n",
    "  - Memory transfers between CPU and GPU will be under \"CUDA HW / Memory\" section\n",
    "  - IO-related activities on CPU should express themselves as `writev` and `fclose` system calls\n",
    "</details>"
   ]
  },
  {
   "cell_type": "markdown",
   "metadata": {},
   "source": [
    "Open this section only after you’ve made a serious attempt at solving the problem. Once you’ve completed your solution, compare it with the reference provided here to evaluate your approach and identify any potential improvements.\n",
    "\n",
    "<details>\n",
    "  <summary>Solution</summary>\n",
    "\n",
    "  Launch of computation happens on the CPU side:\n",
    "  ![Compute](Images/compute.png \"Compute\")\n",
    "\n",
    "  Data transfer between CPU and GPU can be located in the \"CUDA HW / Memory\" section:\n",
    "\n",
    "  ![Copy](Images/copy.png \"Copy\")\n",
    "\n",
    "  CPU writes data on disk can be found in the \"OS runtime libraries\" section:\n",
    "  ![Write](Images/write.png \"Write\")\n",
    "\n",
    "</details>"
   ]
  },
  {
   "cell_type": "markdown",
   "metadata": {},
   "source": [
    "---\n",
    "Congratulations! Proceed to the [next exercise](02.02.04-Exercise-NVTX.ipynb)."
   ]
  }
 ],
 "metadata": {
  "accelerator": "GPU",
  "colab": {
   "gpuType": "T4",
   "provenance": [],
   "toc_visible": true
  },
  "kernelspec": {
   "display_name": "Python 3",
   "language": "python",
   "name": "python3"
  },
  "language_info": {
   "codemirror_mode": {
    "name": "ipython",
    "version": 3
   },
   "file_extension": ".py",
   "mimetype": "text/x-python",
   "name": "python",
   "nbconvert_exporter": "python",
   "pygments_lexer": "ipython3",
   "version": "3.10.12"
  }
 },
 "nbformat": 4,
 "nbformat_minor": 4
}
