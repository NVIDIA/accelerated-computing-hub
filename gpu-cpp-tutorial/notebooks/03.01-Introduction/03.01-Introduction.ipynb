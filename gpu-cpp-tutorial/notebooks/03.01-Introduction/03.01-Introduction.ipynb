{
 "cells": [
  {
   "cell_type": "markdown",
   "metadata": {},
   "source": [
    "# Implementing New Algorithms with CUDA Kernels\n",
    "\n",
    "Previous labs equipped you with a necessary understanding of how using standard parallel algorithms can provide both convenient and speed-of-light GPU acceleration. \n",
    "However, sometimes your unique use cases are not covered by accelerated libraries. \n",
    "In this lab, you’ll learn the CUDA SIMT (Single Instruction Multiple Threads) programming model to program the GPU directly using CUDA kernels. \n",
    "In addition, this lab will cover utilities provided by the CUDA ecosystem to facilitate development of custom CUDA kernels.\n",
    "\n",
    "---\n",
    "## Prerequisites\n",
    "\n",
    "To get the most out of this lab you should already be able to:\n",
    "\n",
    "- Distinguish synchronous and asynchronous algorithms\n",
    "- Declare variables, write loops, and use if / else statements in C++\n",
    "- Control the execution space of your C++ code and run it on CPU or GPU\n",
    "- Control the memory space to put your data in CPU or GPU memory\n",
    "\n",
    "\n",
    "---\n",
    "## Objectives\n",
    "\n",
    "By the time you complete this lab, you will be able to:\n",
    "\n",
    "- Write custom CUDA kernels\n",
    "- Control thread hierarchy\n",
    "- Leverage shared memory\n",
    "- Use cooperative algorithms\n",
    "- Advanced: leverage efficient memory loading techniques\n",
    "- Advanced: use atomic operations"
   ]
  },
  {
   "cell_type": "markdown",
   "metadata": {},
   "source": [
    "---\n",
    "\n",
    "## Content\n",
    "\n",
    "* [3.1 Introduction](../03.01-Introduction/03.01-Introduction.ipynb)\n",
    "* [3.2 CUDA Kernels](../03.02-Kernels/03.02.01-Kernels.ipynb)\n",
    "* [3.3 Atomics](../03.03-Atomics/03.03.01-Histogram.ipynb)\n",
    "* [3.4 Synchronization](../03.04-Synchronization/03.04.01-Sync.ipynb)\n",
    "* [3.5 Shared Memory](../03.05-Shared-Memory/03.05.01-Shared.ipynb)\n",
    "* [3.6 Cooperative Algorithms](../03.06-Cooperative-Algorithms/03.06.01-Cooperative.ipynb)\n"
   ]
  }
 ],
 "metadata": {
  "accelerator": "GPU",
  "colab": {
   "gpuType": "T4",
   "provenance": [],
   "toc_visible": true
  },
  "kernelspec": {
   "display_name": "Python 3 (ipykernel)",
   "language": "python",
   "name": "python3"
  },
  "language_info": {
   "codemirror_mode": {
    "name": "ipython",
    "version": 3
   },
   "file_extension": ".py",
   "mimetype": "text/x-python",
   "name": "python",
   "nbconvert_exporter": "python",
   "pygments_lexer": "ipython3",
   "version": "3.10.12"
  }
 },
 "nbformat": 4,
 "nbformat_minor": 4
}
