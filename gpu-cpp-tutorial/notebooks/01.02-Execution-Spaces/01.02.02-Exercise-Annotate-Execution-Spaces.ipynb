{
  "cells": [
    {
      "cell_type": "markdown",
      "metadata": {},
      "source": [
        "<img src=\"Images/nvidia_header.png\" style=\"margin-left: -30px; width: 300px; float: left;\">"
      ]
    },
    {
      "cell_type": "markdown",
      "metadata": {},
      "source": [
        "## Exercise: Annotate Execution Spaces\n",
        "\n",
        "The notion of execution space is a foundational concept of accelerated computing. \n",
        "In this exercise you will verify your expectation of *where* any given code is executed.\n",
        "\n",
        "Replace all `???` with `CPU` or `GPU`, based on where you think that specific line of code is executing.  The `ach::where_am_I` function is a helper function for you in this exercise.\n",
        "\n",
        "After making all the changes, run the subsequent cell to verify your expectations.  "
      ]
    },
    {
      "cell_type": "code",
      "execution_count": null,
      "metadata": {
        "cellView": "form"
      },
      "outputs": [],
      "source": [
        "#@title Google Colab Setup\n",
        "!mkdir -p Sources\n",
        "!wget https://raw.githubusercontent.com/NVIDIA/accelerated-computing-hub/refs/heads/main/gpu-cpp-tutorial/notebooks/01.02-Execution-Spaces/Sources/ach.h -nv -O Sources/ach.h"
      ]
    },
    {
      "cell_type": "code",
      "execution_count": null,
      "metadata": {},
      "outputs": [],
      "source": [
        "%%writefile Sources/no-magic-execution-space-changes.cpp\n",
        "#include \"ach.h\"\n",
        "\n",
        "int main() {\n",
        "  // TODO: Replace ??? with CPU or GPU\n",
        "  ach::where_am_I(\"???\");\n",
        "\n",
        "  thrust::universal_vector<int> vec{1};\n",
        "  thrust::for_each(thrust::device, vec.begin(), vec.end(),\n",
        "                   [] __host__ __device__(int) { ach::where_am_I(\"???\"); });\n",
        "\n",
        "  thrust::for_each(thrust::host, vec.begin(), vec.end(),\n",
        "                   [] __host__ __device__(int) { ach::where_am_I(\"???\"); });\n",
        "\n",
        "  ach::where_am_I(\"???\");\n",
        "}"
      ]
    },
    {
      "cell_type": "code",
      "execution_count": null,
      "metadata": {},
      "outputs": [],
      "source": [
        "!nvcc -o /tmp/a.out --extended-lambda Sources/no-magic-execution-space-changes.cpp -x cu -arch=native # build executable\n",
        "!/tmp/a.out # run executable"
      ]
    },
    {
      "cell_type": "markdown",
      "metadata": {},
      "source": [
        "If you’re unsure how to proceed, consider expanding this section for guidance. Use the hint only after giving the problem a genuine attempt.\n",
        "\n",
        "<details>\n",
        "  <summary>Hints</summary>\n",
        "  \n",
        "  - for invocations in the main function consult [heterogeneous programming model](01.02.01-Execution-Spaces.ipynb#Heterogeneous-Programming-Model) section\n",
        "  - for invocations in lambdas consult [execution policy](01.02.01-Execution-Spaces.ipynb#Execution-Policy) section\n",
        "</details>"
      ]
    },
    {
      "cell_type": "markdown",
      "metadata": {},
      "source": [
        "Open this section only after you’ve made a serious attempt at solving the problem. Once you’ve completed your solution, compare it with the reference provided here to evaluate your approach and identify any potential improvements.\n",
        "\n",
        "<details>\n",
        "  <summary>Solution</summary>\n",
        "\n",
        "  Key points:\n",
        "  - The main function always runs on the CPU\n",
        "  - According to `thrust::device` execution policy, the first `thrust::for_each` call invokes lambda on the GPU\n",
        "  - According to `thrust::host` execution policy, the second `thrust::for_each` call invokes lambda on the CPU\n",
        "\n",
        "  Solution:\n",
        "  ```c++\n",
        "  ach::where_am_I(\"CPU\");\n",
        "\n",
        "  thrust::universal_vector<int> vec{1};\n",
        "  thrust::for_each(thrust::device, vec.begin(), vec.end(),\n",
        "                   [] __host__ __device__(int) { dli::where_am_I(\"GPU\"); });\n",
        "\n",
        "  thrust::for_each(thrust::host, vec.begin(), vec.end(),\n",
        "                   [] __host__ __device__(int) { dli::where_am_I(\"CPU\"); });\n",
        "\n",
        "  ach::where_am_I(\"CPU\");\n",
        "  ```\n",
        "\n",
        "  You can find full solution [here](Solutions/no-magic-execution-space-changes.cu).\n",
        "</details>"
      ]
    },
    {
      "cell_type": "markdown",
      "metadata": {},
      "source": [
        "\n",
        "---\n",
        "Congratulations! You are now familiar with the concept of execution spaces in CUDA.\n",
        "Proceed to the [next exercise](01.02.03-Exercise-Changing-Execution-Space.ipynb)."
      ]
    },
    {
      "cell_type": "markdown",
      "metadata": {},
      "source": [
        "<img src=\"Images/nvidia_header.png\" style=\"margin-left: -30px; width: 300px; float: left;\">"
      ]
    }
  ],
  "metadata": {
    "accelerator": "GPU",
    "colab": {
      "gpuType": "T4",
      "provenance": [],
      "toc_visible": true
    },
    "kernelspec": {
      "display_name": "Python 3",
      "language": "python",
      "name": "python3"
    },
    "language_info": {
      "codemirror_mode": {
        "name": "ipython",
        "version": 3
      },
      "file_extension": ".py",
      "mimetype": "text/x-python",
      "name": "python",
      "nbconvert_exporter": "python",
      "pygments_lexer": "ipython3",
      "version": "3.10.12"
    }
  },
  "nbformat": 4,
  "nbformat_minor": 4
}
