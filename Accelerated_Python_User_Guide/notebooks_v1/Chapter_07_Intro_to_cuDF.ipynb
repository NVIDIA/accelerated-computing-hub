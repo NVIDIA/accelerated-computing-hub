{
 "cells": [
  {
   "cell_type": "markdown",
   "id": "190c98b6-4238-44d2-8578-012db6b89035",
   "metadata": {},
   "source": [
    "# Chapter 7: Dataframes with cuDF\n",
    "\n",
    "<img src=\"images/chapter-07/RAPIDS-logo-purple.png\" style=\"width:600px;\"/>\n",
    "\n",
    "cuDF is a DataFrame library for GPU-accelerated computing with Python. cuDF provides a pandas-like API that will be familiar to data engineers & data scientists, so they can use it to easily accelerate their workflows without going into the details of CUDA programming.\n",
    "\n",
    "cuDF is part of the NVIDIA RAPIDS suite of GPU-accelerated data science and AI libraries with APIs that match the most popular open-source data tools.  They serve to act as near drop-in replacements for popular scientific computing libraries detailed in Chapter 3: Python on the GPU.\n",
    "\n",
    "You can use cuDF for manipulating large datasets using the computational power of GPUs. It offers a familiar interface similar to pandas but can handle much larger datasets faster.\n",
    "\n"
   ]
  },
  {
   "cell_type": "markdown",
   "id": "9fdb7f74-2aab-416e-97ad-d35bb12623aa",
   "metadata": {},
   "source": [
    "## DataFrames Basics\n",
    "\n",
    "cuDF primarily acts upon the DataFrame data structure.  A DataFrame is a 2-dimensional data structure that can store data of different types (including characters, integers, floating point values, categorical data and more) in columns. It is similar to a spreadsheet, a SQL table or the `data.frame` in R.\n",
    "\n",
    "<img src=\"images/chapter-07/dataframe.png\" style=\"width:600px;\"/>\n",
    "\n"
   ]
  },
  {
   "cell_type": "markdown",
   "id": "c5bc81b7-e5d5-4ecb-9c71-3bb4833869ae",
   "metadata": {},
   "source": [
    "## cuDF Basics\n",
    "\n",
    "cuDF is designed for ease of use.  Python scientific computing developers will find that cuDF is comparable to Pandas in many ways, but it's important to keep in mind that there are some key differences as well.\n",
    "\n",
    "**Performance:**\n",
    "- cuDF:\n",
    "Leverages the parallel processing power of GPUs, making it significantly faster for large datasets (gigabytes to terabytes) and computationally intensive operations like joins, aggregations, and sorting.\n",
    "- Pandas:\n",
    "Runs on CPUs, limiting its performance for large datasets and complex operations.\n",
    "\n",
    "**Hardware Requirements:**\n",
    "- cuDF: Requires an NVIDIA GPU and the RAPIDS software suite.\n",
    "- Pandas: Works on any system with a CPU.\n",
    "\n",
    "**Functionality:**\n",
    "- cuDF:\n",
    "Supports most Pandas functionality, including data structures like Series and DataFrames, as well as common operations. However, certain features might differ slightly, and some Pandas functions may not be implemented or may have different behavior.\n",
    "- Pandas:\n",
    "Offers a wider range of functions and features, including advanced indexing and time series manipulation.\n",
    "\n",
    "**Compatibility:**\n",
    "- cuDF:\n",
    "Can be integrated with other RAPIDS libraries for GPU-accelerated data science workflows.\n",
    "- Pandas:\n",
    "Works seamlessly with the broader Python ecosystem, including NumPy, Scikit-learn, and Matplotlib.\n",
    "\n",
    "**Pandas Accelerator Mode:**\n",
    "cuDF provides a cudf.pandas mode, which enables users to leverage GPU acceleration with minimal code changes. It acts as a proxy, automatically switching between cuDF and Pandas based on data size and operation.\n",
    "\n",
    "### Key differences to remember:\n",
    "- Column Names: cuDF doesn't support duplicate column names, unlike Pandas.\n",
    "- Data Types: While cuDF supports most Pandas data types, there might be differences in handling certain types like strings and categoricals.\n",
    "- Indexing: cuDF might handle indexing and multi-index operations differently compared to Pandas.\n",
    "\n",
    "### Choosing the Right Library:\n",
    "\n",
    "For small datasets or CPU-bound tasks: Pandas is a good choice due to its wider functionality and compatibility.\n",
    "\n",
    "For large datasets and GPU-accelerated computations: cuDF offers significant performance improvements, especially for data-intensive operations.\n",
    "\n",
    "### cuDF vs. cudf.pandas\n",
    "You may notice that the cuDF library has a `cudf.pandas` module available which can be confusing when importing and using cuDF.  While both cuDF and `cudf.pandas` are part of RAPIDS, designed to accelerate data science workflows by leveraging the power of GPUs, there are key differences to take into consideration.  Most importantly, users should be aware that cudf executes primarily on the GPU while cudf.pandas might fall back to using pandas on the CPU sometimes.  \n",
    "\n",
    "**cuDF:**\n",
    "- Core library:  It's a GPU DataFrame library, offering a subset of the Pandas API optimized for GPU execution.\n",
    "- Direct access: Use it directly when you need full control over GPU-specific features and operations.\n",
    "- Performance: Can offer superior performance for supported operations due to direct GPU optimization.\n",
    "- API compatibility: Not 100% compatible with Pandas, so some Pandas functions may not be available or behave differently.\n",
    "  \n",
    "**cudf.pandas:**\n",
    "- Pandas accelerator:  A layer on top of cuDF that enables GPU acceleration for your existing Pandas code.\n",
    "- Seamless transition:  Use it to accelerate your Pandas code without significant modifications.\n",
    "- Automatic fallback:  If a particular operation isn't supported by cuDF, it automatically falls back to the CPU-based Pandas implementation.\n",
    "- API compatibility:  Aims for 100% compatibility with the Pandas API, providing a drop-in replacement for most workflows.\n",
    "\n",
    "**When to use each:**\n",
    "- cuDF:\n",
    "If you need maximum performance and are comfortable working with a slightly different API, or need to leverage GPU-specific features.\n",
    "- cudf.pandas:\n",
    "If you want to accelerate your existing Pandas code with minimal changes and rely on the full Pandas API."
   ]
  },
  {
   "cell_type": "markdown",
   "id": "b48d43f7-92ff-4e44-a41f-db07f08b3e1d",
   "metadata": {},
   "source": [
    "<img src=\"images/chapter-07/inference-data-analytics-featured.jpg\" style=\"width:600px;\"/>\n",
    "\n",
    "## The latest in cuDF integration: Polars GPU engine\n",
    "Polars is one of the fastest growing Python libraries for data scientists and engineers, and was designed from the ground up to address these challenges. It uses advanced query optimizations to reduce unnecessary data movement and processing, allowing data scientists to smoothly handle workloads of hundreds of millions of rows in scale on a single machine. Polars bridges the gap where single-threaded solutions are too slow, and distributed systems add unnecessary complexity, offering an appealing “medium-scale” data processing solution.\n",
    "\n",
    "cuDF provides an in-memory, GPU-accelerated execution engine for Python users of the Polars Lazy API. The engine supports most of the core expressions and data types as well as a growing set of more advanced dataframe manipulations and data file formats. \n",
    "\n",
    "When using the GPU engine, Polars will convert expressions into an optimized query plan and determine whether the plan is supported on the GPU. If it is not, the execution will transparently fall back to the standard Polars engine and run on the CPU."
   ]
  },
  {
   "cell_type": "markdown",
   "id": "2316090a-c4df-4efd-880c-f89c85742e99",
   "metadata": {},
   "source": [
    "## Links to Handy References\n",
    "\n",
    "cuDF Documentation: https://docs.rapids.ai/api/cudf/stable/ \n",
    "\n",
    "cuDF User Guide: https://docs.rapids.ai/api/cudf/stable/user_guide/ \n",
    "\n",
    "Pandas Documentation: https://pandas.pydata.org/docs/ \n",
    "\n",
    "Pandas API Reference: https://pandas.pydata.org/docs/reference/index.html \n",
    "\n",
    "Differences between cuDF and Pandas: https://docs.rapids.ai/api/cudf/stable/user_guide/pandas-comparison/ \n",
    "\n",
    "Data Exploration with cuDF: https://developer.nvidia.com/blog/accelerated-data-analytics-speed-up-data-exploration-with-rapids-cudf/ \n",
    "\n",
    "Polars GPU Engine Powered by RAPIDS cuDF Now Available in Open Beta https://developer.nvidia.com/blog/polars-gpu-engine-powered-by-rapids-cudf-now-available-in-open-beta/\n",
    "\n",
    "NVIDIA CUDA-X Now Accelerates the Polars Data Processing Library: https://developer.nvidia.com/blog/nvidia-cuda-x-now-accelerates-the-polars-data-processing-library/\n",
    "\n",
    "Polars Docs: https://docs.pola.rs/ \n"
   ]
  },
  {
   "cell_type": "markdown",
   "id": "8f058210-907a-4218-9e6c-8da8034750b1",
   "metadata": {},
   "source": [
    "## Coding Guide\n",
    "\n",
    "### Installation \n",
    "Please use the cuDF RAPIDS Installation Guide for intallation instructions appropriate to your hardware and Python environment: https://docs.rapids.ai/install/ \n",
    "\n",
    "For the sake of our examples, we are using pip below:"
   ]
  },
  {
   "cell_type": "code",
   "execution_count": null,
   "id": "2781ba74-e341-4e2e-9317-a64967fcabc5",
   "metadata": {},
   "outputs": [],
   "source": [
    "!pip install \\\n",
    "    --extra-index-url=https://pypi.nvidia.com \\\n",
    "    cudf-cu12==24.8.*"
   ]
  },
  {
   "cell_type": "markdown",
   "id": "d30de7fc-3733-45f9-a9e3-6f2af2fc60fa",
   "metadata": {},
   "source": [
    "# Examples:\n",
    "\n",
    "## Create a cuDF Dataframe"
   ]
  },
  {
   "cell_type": "code",
   "execution_count": null,
   "id": "3cf43262-e9cd-42a3-b907-cded8cdf2880",
   "metadata": {},
   "outputs": [],
   "source": [
    "import cudf\n",
    "import numpy as np\n",
    "\n",
    "numRows = 1000000\n",
    "# Create a DataFrame with cuDF\n",
    "data = {\n",
    "    'A': np.random.rand(numRows),\n",
    "    'B': np.random.rand(numRows),\n",
    "    'C': np.random.rand(numRows)\n",
    "}\n",
    "gdf = cudf.DataFrame(data)\n",
    "\n",
    "# Display the first few rows\n",
    "print(gdf.head())\n"
   ]
  },
  {
   "cell_type": "markdown",
   "id": "48a8e6b1-084e-4bc8-839a-d15376053e6f",
   "metadata": {},
   "source": [
    "## Explore the DataFrame\n",
    "\n",
    "**Shape:**"
   ]
  },
  {
   "cell_type": "code",
   "execution_count": null,
   "id": "e242afbc-3645-464a-bd65-d2c7f72a24a1",
   "metadata": {},
   "outputs": [],
   "source": [
    "gdf.shape"
   ]
  },
  {
   "cell_type": "markdown",
   "id": "f64c458e-5989-4d8d-be44-a81d63c5fcbc",
   "metadata": {},
   "source": [
    "As you can see, the first value corresponds to the number of rows we have, while the second indicates the number of columns we created.\n",
    "\n",
    "Get a more comprehensive view of the dataframe using the .info method!"
   ]
  },
  {
   "cell_type": "code",
   "execution_count": null,
   "id": "cc82a31c-08c1-47de-b84c-8093c3dcca46",
   "metadata": {
    "scrolled": true
   },
   "outputs": [],
   "source": [
    "gdf.info"
   ]
  },
  {
   "cell_type": "markdown",
   "id": "24c438c7-65b8-44d5-aef9-0a648e78a905",
   "metadata": {},
   "source": [
    "## Filtering Data\n",
    "\n",
    "Filtering all rows where column 'A' is greater than 0.5:"
   ]
  },
  {
   "cell_type": "code",
   "execution_count": null,
   "id": "d29f1439-5326-4de0-b9e2-339edc5c30b2",
   "metadata": {},
   "outputs": [],
   "source": [
    "filtered_gdf = gdf[gdf['A'] > 0.5]\n",
    "filtered_gdf.shape\n",
    "print(f\"As you can tell from the shape of the new filtered dataframe, the number of rows reduced from {numRows} to {filtered_gdf.shape[0]}. That's {numRows - filtered_gdf.shape[0]} rows that we've filtered out with 'A' values less than 0.5!\")"
   ]
  },
  {
   "cell_type": "markdown",
   "id": "bb154ae9-1482-4b0d-8def-a263074b5a96",
   "metadata": {},
   "source": [
    "## Grouping & Aggregating\n",
    "\n",
    "Creating a new dataframe with categories:"
   ]
  },
  {
   "cell_type": "code",
   "execution_count": null,
   "id": "95135154-8214-4a4e-9bff-43c974d00117",
   "metadata": {},
   "outputs": [],
   "source": [
    "data = {\n",
    "    'Category': ['A', 'B', 'A', 'B', 'A'],\n",
    "    'Value': [10, 20, 30, 40, 50]\n",
    "}\n",
    "gdf = cudf.DataFrame(data)\n",
    "gdf"
   ]
  },
  {
   "cell_type": "markdown",
   "id": "279fa4a7-378f-46c8-98f7-95699d713ab8",
   "metadata": {},
   "source": [
    "Group by category and calculate the mean:"
   ]
  },
  {
   "cell_type": "code",
   "execution_count": null,
   "id": "bf1bae60-1f4d-4d16-bffd-41844159c5e6",
   "metadata": {},
   "outputs": [],
   "source": [
    "grouped = gdf.groupby('Category')['Value'].mean().reset_index()\n",
    "print(grouped)"
   ]
  },
  {
   "cell_type": "markdown",
   "id": "1e517ac0-dda2-46e6-acfa-7ad4813473c3",
   "metadata": {},
   "source": [
    "## Using cudf vs. cudf.pandas"
   ]
  },
  {
   "cell_type": "code",
   "execution_count": null,
   "id": "13ead37e-9aad-4964-b99b-6c82a25558ef",
   "metadata": {},
   "outputs": [],
   "source": [
    "import pandas as pd\n",
    "import cudf.pandas as xpd\n",
    "\n",
    "df = pd.DataFrame({'A': [1, 2, 3], 'B': [4, 5, 6]})\n",
    "\n",
    "# Using cuDF directly - moving dataframe to the GPU\n",
    "gdf = cudf.DataFrame.from_pandas(df)\n",
    "result = gdf.sum()\n",
    "\n",
    "# Using cudf.pandas\n",
    "xpd_df = xpd.DataFrame(df)\n",
    "result = xpd_df.sum() "
   ]
  }
 ],
 "metadata": {
  "kernelspec": {
   "display_name": "Python 3 (ipykernel)",
   "language": "python",
   "name": "python3"
  },
  "language_info": {
   "codemirror_mode": {
    "name": "ipython",
    "version": 3
   },
   "file_extension": ".py",
   "mimetype": "text/x-python",
   "name": "python",
   "nbconvert_exporter": "python",
   "pygments_lexer": "ipython3",
   "version": "3.11.7"
  }
 },
 "nbformat": 4,
 "nbformat_minor": 5
}
