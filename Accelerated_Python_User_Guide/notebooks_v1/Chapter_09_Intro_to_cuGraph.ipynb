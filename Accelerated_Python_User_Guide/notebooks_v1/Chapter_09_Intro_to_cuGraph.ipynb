{
 "cells": [
  {
   "cell_type": "markdown",
   "metadata": {},
   "source": [
    "# Chapter 9: Graphs with cuGraph\n",
    "\n",
    "<img src=\"images/chapter-09/cugraph_logo_2.png\" style=\"width:600px;\"/>\n",
    "\n",
    "cuGRAPH is part of the RAPIDS AI suite and provides a set of graph analytics algorithms optimized for GPU performance. It supports various graph data structures and algorithms, enabling rapid processing of large-scale graph data.\n",
    "\n",
    "It allows for a seamless passing of data between ETL tasks in cuDF and machine learning tasks in cuML.\n",
    "\n",
    "\n",
    "## Key Benefits:\n",
    "- Performance: Accelerate your graph computations.\n",
    "- Scalability: Process large datasets that are infeasible for CPU-only solutions.\n",
    "- Integration: Easily combine with other RAPIDS libraries"
   ]
  },
  {
   "cell_type": "markdown",
   "metadata": {},
   "source": [
    "## cuGraph Using NetworkX Code\n",
    "cuGraph is now available as a NetworkX backend using nx-cugraph. This integration effort with NetworkX offers NetworkX users a zero code change option to accelerate their existing NetworkX code using an NVIDIA GPU and cuGraph.\n"
   ]
  },
  {
   "cell_type": "markdown",
   "metadata": {},
   "source": [
    "## Links to Handy References\n",
    "\n",
    "cuGraph Documentation: https://docs.rapids.ai/api/cugraph/stable/ \n",
    "\n",
    "NetworkX Introduces Zero Code Change Acceleration Using NVIDIA cuGraph: https://developer.nvidia.com/blog/networkx-introduces-zero-code-change-acceleration-using-nvidia-cugraph/\n",
    "\n",
    "NetworkX Documentation: https://networkx.org/ "
   ]
  },
  {
   "cell_type": "markdown",
   "metadata": {},
   "source": [
    "## Coding Guide\n",
    "\n",
    "### Prerequisites\n",
    "- CUDA-capable GPU: Ensure your system has a compatible NVIDIA GPU.\n",
    "- Software: Install the RAPIDS AI libraries, including cuGRAPH.\n",
    "\n",
    "### Installation via Conda\n",
    "\n",
    "``` \n",
    "conda create -n rapids-24.10 -c rapidsai -c conda-forge -c nvidia  \\\n",
    "    cudf=24.10 cugraph=24.10 python=3.12 'cuda-version>=12.0,<=12.5' \n",
    "```\n",
    "\n",
    "### Installation via Pip\n",
    "\n",
    "```\n",
    "pip install \\\n",
    "    --extra-index-url=https://pypi.nvidia.com \\\n",
    "    cudf-cu12==24.10.* cugraph-cu12==24.10.* \n",
    "```\n",
    "\n",
    "\n",
    "### Installation via Docker\n",
    "\n",
    "``` \n",
    "docker run --gpus all --pull always --rm -it \\\n",
    "    --shm-size=1g --ulimit memlock=-1 --ulimit stack=67108864 \\\n",
    "    nvcr.io/nvidia/rapidsai/base:24.10-cuda12.5-py3.12\n",
    "```"
   ]
  },
  {
   "cell_type": "code",
   "execution_count": null,
   "metadata": {
    "vscode": {
     "languageId": "plaintext"
    }
   },
   "outputs": [],
   "source": [
    "!pip install \\\n",
    "    --extra-index-url=https://pypi.nvidia.com \\\n",
    "    cudf-cu12==24.10.* cugraph-cu12==24.10.* "
   ]
  },
  {
   "cell_type": "markdown",
   "metadata": {},
   "source": [
    "### Verify Installation\n",
    "\n",
    "Run the following command in Python:\n",
    "\n",
    "```\n",
    "import cugraph\n",
    "print(cugraph.__version__)\n",
    "```"
   ]
  },
  {
   "cell_type": "markdown",
   "metadata": {},
   "source": [
    "## Core Features\n",
    "\n",
    "\n",
    "1. Graph Creation\n",
    "Create graphs from various formats (edge lists, adjacency matrices).\n",
    "\n",
    "2. Algorithms\n",
    "Key algorithms include:\n",
    "    - PageRank\n",
    "    - Connected Components\n",
    "    - Shortest Path\n",
    "    - Community Detection\n",
    "\n",
    "3. Visualization\n",
    "Integrate with visualization libraries for graph representation."
   ]
  },
  {
   "cell_type": "markdown",
   "metadata": {},
   "source": [
    "## Hands-On Examples\n",
    "\n",
    "### Example 1: Creating a Graph\n",
    "\n",
    "Create a simple graph from an edge list.\n",
    "\n",
    "An edge list is a simple way to represent a graph. It consists of pairs of nodes, where each pair indicates a connection (or edge) between two nodes.\n",
    "\n",
    "In our example, we'll create a small graph represented by the following edge list:\n",
    "\n",
    "Node 0 connects to Node 1\n",
    "Node 0 connects to Node 2\n",
    "Node 1 connects to Node 2\n",
    "Node 2 connects back to Node 0"
   ]
  },
  {
   "cell_type": "code",
   "execution_count": null,
   "metadata": {
    "vscode": {
     "languageId": "plaintext"
    }
   },
   "outputs": [],
   "source": [
    "import cudf\n",
    "import cugraph\n",
    "\n",
    "# Create a sample edge list\n",
    "edge_list = cudf.DataFrame({\n",
    "    'src': [0, 0, 1, 2],\n",
    "    'dst': [1, 2, 2, 0]\n",
    "})\n",
    "\n",
    "# Create the graph\n",
    "G = cugraph.Graph()\n",
    "G.from_cudf_edgelist(edge_list, source='src', destination='dst')"
   ]
  },
  {
   "cell_type": "markdown",
   "metadata": {},
   "source": [
    "As seen above, the value at each index in 'src' corresponds to the source node that connects to the value at the same index in 'dst'. \n",
    "\n",
    "Next, we create an instance of the Graph class from cuGRAPH. This object will hold our graph structure.\n",
    "\n",
    "To load the edge list into our graph object, we use the from_cudf_edgelist method. This method requires specifying which columns of the DataFrame represent the source and destination nodes.\n",
    "\n",
    "\n",
    "### Optional : Visualizing Graph \n",
    "\n",
    "- Install required libraries : NetworkX and Matplotlib\n",
    "```\n",
    "pip install networkx matplotlib\n",
    "```\n",
    "\n",
    "- Convert graph to NetworkX format : "
   ]
  },
  {
   "cell_type": "code",
   "execution_count": null,
   "metadata": {
    "vscode": {
     "languageId": "plaintext"
    }
   },
   "outputs": [],
   "source": [
    "import networkx as nx\n",
    "import matplotlib.pyplot as plt\n",
    "\n",
    "#creates empty NetworkX graph \n",
    "\n",
    "nx_graph = nx.DiGraph()\n",
    "\n",
    "\n",
    "# Add edges from cuGRAPH to NetworkX\n",
    "for u, v in zip(edge_list['src'].to_arrow().to_pylist(), edge_list['dst'].to_arrow().to_pylist()):\n",
    "    nx_graph.add_edge(u, v)\n",
    "\n",
    "# visualize the graph\n",
    "\n",
    "plt.figure(figsize=(8, 6))\n",
    "pos = nx.spring_layout(nx_graph)  # Positioning algorithm\n",
    "nx.draw(nx_graph, pos, with_labels=True, node_color='lightblue', node_size=1000, font_size=15, font_weight='bold', arrows=True)\n",
    "plt.title(\"Graph Visualization using NetworkX\")\n",
    "plt.show()"
   ]
  },
  {
   "cell_type": "markdown",
   "metadata": {},
   "source": [
    "### 💡 Challenge: Modify Graph \n",
    "Now that you can visualize the graph, try modifying the edge list to create a more complex graph and visualize it again. How does the layout change with different structures?"
   ]
  },
  {
   "cell_type": "code",
   "execution_count": null,
   "metadata": {
    "vscode": {
     "languageId": "plaintext"
    }
   },
   "outputs": [],
   "source": []
  },
  {
   "cell_type": "markdown",
   "metadata": {},
   "source": [
    "## Example 2: Running PageRank Algorithm\n",
    "\n",
    "Using the graph we created, let’s run the PageRank algorithm to determine the importance of each node."
   ]
  },
  {
   "cell_type": "code",
   "execution_count": null,
   "metadata": {
    "vscode": {
     "languageId": "plaintext"
    }
   },
   "outputs": [],
   "source": [
    "# Perform PageRank on the weighted graph\n",
    "pagerank_result = cugraph.pagerank(G)\n",
    "\n",
    "# Display the PageRank values\n",
    "print(pagerank_result)\n",
    "\n",
    "G = karate.get_graph(download=True)\n",
    "\n",
    "# Call cugraph.pagerank to get the pagerank scores\n",
    "gdf_page = cugraph.pagerank(G)\n"
   ]
  },
  {
   "cell_type": "markdown",
   "metadata": {},
   "source": [
    "## NetworkX x cuGraph\n",
    "\n",
    "Let's start by installing the zero-code change NetworkX cuGraph package:"
   ]
  },
  {
   "cell_type": "code",
   "execution_count": null,
   "metadata": {
    "vscode": {
     "languageId": "plaintext"
    }
   },
   "outputs": [],
   "source": [
    "!pip install nx-cugraph-cu12 --extra-index-url=https://pypi.nvidia.com"
   ]
  },
  {
   "cell_type": "markdown",
   "metadata": {},
   "source": [
    "We begin by using the default networkx setting on the CPU: "
   ]
  },
  {
   "cell_type": "code",
   "execution_count": null,
   "metadata": {
    "vscode": {
     "languageId": "plaintext"
    }
   },
   "outputs": [],
   "source": [
    "#%env NX_CUGRAPH_AUTOCONFIG=True\n",
    "\n",
    "import networkx as nx\n",
    "print(f\"using networkx version {nx.__version__}\")\n",
    "\n",
    "#nx.config.warnings_to_ignore.add(\"cache\")"
   ]
  },
  {
   "cell_type": "code",
   "execution_count": null,
   "metadata": {
    "vscode": {
     "languageId": "plaintext"
    }
   },
   "outputs": [],
   "source": [
    "G = nx.gnm_random_graph(5000, 40000)\n",
    "\n",
    "import time \n",
    "start_time = time.time()\n",
    "pr = nx.pagerank(G)\n",
    "elapsed_time = time.time() - start_time\n",
    "print(elapsed_time)"
   ]
  },
  {
   "cell_type": "markdown",
   "metadata": {},
   "source": [
    "Then let's try to set the backend to cuGraph by default instead of using the non-accelerated backend: "
   ]
  },
  {
   "cell_type": "code",
   "execution_count": null,
   "metadata": {
    "vscode": {
     "languageId": "plaintext"
    }
   },
   "outputs": [],
   "source": [
    "%env NX_CUGRAPH_AUTOCONFIG=True\n",
    "\n",
    "import networkx as nx\n",
    "print(f\"using networkx version {nx.__version__}\")\n",
    "\n",
    "#nx.config.warnings_to_ignore.add(\"cache\")\n",
    "\n",
    "\n",
    "import time \n",
    "start_time = time.time()\n",
    "pr = nx.pagerank(G)\n",
    "elapsed_time = time.time() - start_time\n",
    "print(elapsed_time)"
   ]
  },
  {
   "cell_type": "markdown",
   "metadata": {},
   "source": [
    "Now that we've configured our cuGraph setup with NetworkX, let's start experimenting with its functionalities using a real-world example!\n"
   ]
  },
  {
   "cell_type": "markdown",
   "metadata": {},
   "source": [
    "## 🎬 cuGraph for Movie Recommendations \n",
    "\n",
    "### Getting Started \n",
    "\n",
    "In a saturated market where movie viewers are often overwhelmed by choices, we want to ensure that users receive tailored suggestions that highlight hidden gems and foster discovery, ultimately enhancing viewer satisfaction and engagement. cuGraph comes in handy for movie recommendations, since we can use built-in recommendation algorithms such as PageRank to recommend movies to users based on their past preferences and rankings. \n",
    "\n",
    "The MovieLens dataset is a rich collection of movie ratings and user preferences featuring millions of ratings from a diverse user base, capturing insights into how individuals interact with thousands of films. This dataset not only includes user-generated ratings but also metadata about the movies, such as genres, titles, and release years, making it a comprehensive resource for building and testing recommendation algorithms.\n",
    "\n",
    "Let's begin by loading in the dataset! \n",
    "\n",
    "#### Dataset for User Ratings\n",
    "\n",
    "This dataset accummulates 100000 multiple different ratings by 943 users on 1682 distinct movies, where each user has rated at least 20 movies. "
   ]
  },
  {
   "cell_type": "code",
   "execution_count": null,
   "metadata": {
    "vscode": {
     "languageId": "plaintext"
    }
   },
   "outputs": [],
   "source": [
    "import pandas as pd \n",
    "\n",
    "columns = ['user_id', 'item_id', 'rating', 'timestamp']\n",
    "df = pd.read_csv('u.data', sep='\\t', names=columns)\n",
    "df.head()"
   ]
  },
  {
   "cell_type": "markdown",
   "metadata": {},
   "source": [
    "#### Dataset for Movie Information \n",
    "\n",
    "The movie dataset includes information about movie id, title, release dates, genre, etc. We are particular interested in using this dataset to match movie id to the title after coming up with the recommendations. "
   ]
  },
  {
   "cell_type": "code",
   "execution_count": null,
   "metadata": {
    "vscode": {
     "languageId": "plaintext"
    }
   },
   "outputs": [],
   "source": [
    "item_cols = ['movie_id','movie_title','release_date', 'video_release_date',\n",
    "              'MDb_URL', 'unknown','Action','Adventure','Animation',\n",
    "              'Childrens','Comedy','Crime', 'Documentary', 'Drama', 'Fantasy',\n",
    "              'Film-Noir', 'Horror', 'Musical', 'Mystery','Romance','Sci-Fi',\n",
    "              'Thriller','War', 'Western' ]\n",
    "\n",
    "item_df = pd.read_csv('u.item', encoding= 'ISO-8859-1', sep = '|', names = item_cols)\n",
    "\n",
    "item_df.head()"
   ]
  },
  {
   "cell_type": "markdown",
   "metadata": {},
   "source": [
    "### 🕸️ Constructing our Graph \n",
    "\n",
    "Let's constsruct a bipartite graph using `nx.Graph()`, where individual users are nodes in one partition and all the unique movies are in the other partition. We then add edges from users to the movies they rated, connected with the actual rating. "
   ]
  },
  {
   "cell_type": "code",
   "execution_count": null,
   "metadata": {
    "vscode": {
     "languageId": "plaintext"
    }
   },
   "outputs": [],
   "source": [
    "\n",
    "C = nx.Graph()\n",
    "df['user_id'] = df['user_id'].apply(lambda x: str(x) + '_user')\n",
    "df['item_id'] = df['item_id'].apply(lambda x: str(x) + '_item')\n",
    "user_ids = df['user_id'].unique()\n",
    "#user_ids = user_ids + \"-user\"  #convert to string so that there are no dupulicates with the user_ids\n",
    "\n",
    "print(f\"Number of unique users : {len(user_ids)}\")\n",
    "item_ids =df['item_id'].unique()\n",
    "\n",
    "print(f\"Number of unique movies : {len(item_ids)}\")\n",
    "\n",
    "\n",
    "C.add_nodes_from(user_ids, bipartite = 0)\n",
    "C.add_nodes_from(item_ids, bipartite = 1)\n",
    "\n",
    "edges = [(row['user_id'], row['item_id'], {'rating': row['rating']}) for _, row in df.iterrows()]\n",
    "\n",
    "\n",
    "\n",
    "C.add_edges_from(edges)\n",
    "\n",
    "\n",
    "print(f\"Number of nodes: {C.number_of_nodes()}\")\n",
    "print(f\"Number of edges: {C.number_of_edges()}\")\n"
   ]
  },
  {
   "cell_type": "markdown",
   "metadata": {},
   "source": [
    "As shown in the output above, some conclusions can be made. \n",
    "\n",
    "We have: \n",
    "- 943 unique movie viewers ranking 1682 unique movies\n",
    "- Each 943 unique viewers represent a node in `bipartite = 0` of the graph\n",
    "- Each 1682 unique movie is a node in `bipartite = 1`\n",
    "- There are a total of 100000 ratings across all users and movies, which correspond to the number of edges\n",
    "- Each rating represents an edge. "
   ]
  },
  {
   "cell_type": "markdown",
   "metadata": {},
   "source": [
    "### 🕸️ Running the PageRank Algorithm\n",
    "\n",
    "In the realm of movie recommendations, leveraging algorithms like PageRank can significantly enhance user experience. PageRank, originally developed for ranking web pages, analyzes the relationships between movies based on user interactions, creating a network of preferences. By prioritizing films that are not only popular but also connected through user ratings and viewing habits, PageRank can provide more nuanced and relevant suggestions.\n",
    "\n",
    "What movies are the most popular? \n",
    "\n",
    "Let's compute the PageRank scores with `nx.pagerank()`. \n"
   ]
  },
  {
   "cell_type": "code",
   "execution_count": null,
   "metadata": {
    "vscode": {
     "languageId": "plaintext"
    }
   },
   "outputs": [],
   "source": [
    "pagerank_scores = nx.pagerank(C)\n",
    "pagerank_df = cudf.DataFrame({'node_id': pagerank_scores.keys(), 'score': pagerank_scores.values()})\n",
    "pagerank_df.tail()"
   ]
  },
  {
   "cell_type": "markdown",
   "metadata": {},
   "source": [
    "As you can see, each item is tagged with their scores. Let's filter out the scores for each item and sort them from highest to lowest. The top 10 highest movies are displayed here: "
   ]
  },
  {
   "cell_type": "code",
   "execution_count": null,
   "metadata": {
    "vscode": {
     "languageId": "plaintext"
    }
   },
   "outputs": [],
   "source": [
    "item_scores_df = pagerank_df[pagerank_df['node_id'].str.endswith('item')]\n",
    "sorted_scores_df = item_scores_df.sort_values(by='score', ascending=False).head(10)\n",
    "sorted_scores_df"
   ]
  },
  {
   "cell_type": "markdown",
   "metadata": {},
   "source": [
    "Now let's figure out their respective movie titles using the item_df that we loaded in before. "
   ]
  },
  {
   "cell_type": "code",
   "execution_count": null,
   "metadata": {
    "vscode": {
     "languageId": "plaintext"
    }
   },
   "outputs": [],
   "source": [
    "top_10_movies = []\n",
    "for _, row in sorted_scores_df.to_pandas().iterrows():\n",
    "    movie_id = int(row['node_id'].split('_')[0])\n",
    "    movie_title = item_df[item_df['movie_id'] == movie_id].iloc[0]['movie_title']\n",
    "    top_10_movies.append(movie_title)\n",
    "\n",
    "top_10_movies"
   ]
  },
  {
   "cell_type": "markdown",
   "metadata": {},
   "source": [
    "## Conclusion \n",
    "\n",
    "In this tutorial, we explored the powerful capabilities of cuGraph, a GPU-accelerated library designed for efficient graph analytics. We started by setting up the environment and importing necessary libraries, then moved on to loading and constructing graph structures using various data formats.\n",
    "\n",
    "We delved into key algorithms, such as PageRank and community detection, demonstrating how to apply these techniques to real-world datasets. By leveraging cuGraph's ability to handle large-scale graphs, we showcased the significant performance benefits of using GPU acceleration compared to traditional CPU-based methods.\n",
    "\n",
    "As you continue your journey with cuGraph, consider exploring additional algorithms and functionalities, as well as integrating graph analytics into larger data processing pipelines. The potential applications are vast, ranging from social network analysis to recommendation systems and beyond.\n",
    "\n",
    "We hope this tutorial has equipped you with the foundational knowledge and skills to effectively utilize cuGraph in your own projects. Happy graphing!"
   ]
  }
 ],
 "metadata": {
  "kernelspec": {
   "display_name": "Python 3 (ipykernel)",
   "language": "python",
   "name": "python3"
  },
  "language_info": {
   "codemirror_mode": {
    "name": "ipython",
    "version": 3
   },
   "file_extension": ".py",
   "mimetype": "text/x-python",
   "name": "python",
   "nbconvert_exporter": "python",
   "pygments_lexer": "ipython3",
   "version": "3.11.7"
  }
 },
 "nbformat": 4,
 "nbformat_minor": 4
}
