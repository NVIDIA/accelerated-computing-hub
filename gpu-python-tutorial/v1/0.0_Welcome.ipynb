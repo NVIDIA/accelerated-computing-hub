{
 "cells": [
  {
   "cell_type": "markdown",
   "id": "11150e25-024f-46cb-8ec5-992864291646",
   "metadata": {},
   "source": [
    "<img src=\"images/cuda-python.jpg\" style=\"float: right;\" />\n",
    "\n",
    "# GPU Development in Python 101\n",
    "\n",
    "_Written by [Jacob Tomlinson](https://jacobtomlinson.dev)_\n",
    "\n",
    "**Welcome to the GPU Development in Python 101 tutorial.**\n",
    "\n",
    "I joined NVIDIA in 2019 and since then I’ve gotten to grips with the fundamentals of writing accelerated code in Python. I was amazed to discover that I didn’t need to learn C++ and I didn’t need new development tools. Writing GPU code in Python is easier today than ever, and in this tutorial, I will share what I’ve learned and how you can get started with accelerating your code.\n",
    "\n",
    "In this tutorial we will cover:\n",
    "- What is a GPU and why is it different to a CPU?\n",
    "- An overview of the CUDA development model.\n",
    "- Numba: A high performance compiler for Python.\n",
    "- Writing your first GPU code in Python.\n",
    "- Managing memory.\n",
    "- Understanding what your GPU is doing with pyNVML (memory usage, utilization, etc).\n",
    "- RAPIDS: A suite of GPU accelerated data science libraries.\n",
    "- Working with NumPy style arrays on the GPU.\n",
    "- Working with Pandas style dataframes on the GPU.\n",
    "- Performing some scikit-learn style machine learning on the GPU.\n",
    "\n",
    "Attendees will be expected to have a general knowledge of Python and programming concepts, but no GPU experience will be necessary. The key takeaway for attendees will be the knowledge that they don’t have to do much differently to get their code running on a GPU."
   ]
  },
  {
   "cell_type": "markdown",
   "id": "6cee88d4-a78d-4013-be48-d30834a9becd",
   "metadata": {},
   "source": [
    "### Outline\n",
    "\n",
    "- **Chapter 1** - Intro to GPUs (30 mins)\n",
    "- **Chapter 2** - Writing low level GPU code in Python with Numba (30 mins)\n",
    "- **Chapter 3** - More Numba (30 mins)\n",
    "- **Chapter 4** - Observability and interoperability (30 mins)\n",
    "- **Chapter 5** - Working with NumPy style arrays in Cupy (30 mins)\n",
    "- **Chapter 6** - Accelerating DataFrames with cuDF (30 mins)\n",
    "- **Chapter 7** - High performance machine learning with cuML (30 mins)\n",
    "- **Chapter 8** - Distributing GPU Python code with Dask (30 mins)"
   ]
  },
  {
   "cell_type": "markdown",
   "id": "4fb48fd6-d4d4-4ce7-b1fb-37e9470fb25e",
   "metadata": {},
   "source": [
    "### Requirements\n",
    "\n",
    "#### At a conference\n",
    "\n",
    "Generally when this tutorial is run as part of a conference a compute platform will be provided for attendees. Usually this is a custom [Binder](https://mybinder.org/) platform with GPUs available and dependencies such as drivers preinstalled. If you are following along with this tutorial at a conference right now then refer to your instructor for platform details.\n",
    "\n",
    "#### Running it locally\n",
    "\n",
    "Alternatively you can use your own environment. All workshop material is compatible with systems that meet the [RAPIDS system requirements](https://docs.rapids.ai/install/). If you have a system that meets these requirements, you can install RAPIDS with conda, pip, or docker using the [RAPIDS installation instructions](https://docs.rapids.ai/install/).\n"
   ]
  }
 ],
 "metadata": {
  "accelerator": "GPU",
  "colab": {
    "gpuType": "T4",
    "provenance": [],
    "toc_visible": true
  },

  "kernelspec": {
   "display_name": "Python 3 (ipykernel)",
   "language": "python",
   "name": "python3"
  },
  "language_info": {
   "codemirror_mode": {
    "name": "ipython",
    "version": 3
   },
   "file_extension": ".py",
   "mimetype": "text/x-python",
   "name": "python",
   "nbconvert_exporter": "python",
   "pygments_lexer": "ipython3",
   "version": "3.10.12"
  }
 },
 "nbformat": 4,
 "nbformat_minor": 5
}
