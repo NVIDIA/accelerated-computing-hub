{
  "cells": [
    {
      "cell_type": "markdown",
      "id": "d2e341ff-0c1e-40e8-8c33-9e3039de8013",
      "metadata": {
        "id": "d2e341ff-0c1e-40e8-8c33-9e3039de8013"
      },
      "source": [
        "# Exercise - NumPy to CuPy - `ndarray` Basics\n",
        "\n",
        "Let's revisit our first NumPy exercise and try porting it to CuPy.\n",
        "\n",
        "**TODO: Add an import of CuPy, update `xp`, and rerun the cells one by one to see if there's any issues.**"
      ]
    },
    {
      "cell_type": "code",
      "execution_count": null,
      "id": "cc4596d8-d9ff-4c66-8822-246c0fc830c7",
      "metadata": {
        "id": "cc4596d8-d9ff-4c66-8822-246c0fc830c7"
      },
      "outputs": [],
      "source": [
        "import numpy as np\n",
        "\n",
        "xp = np"
      ]
    },
    {
      "cell_type": "markdown",
      "id": "7535d7ab-1dd8-407a-bd30-7422e8391fc7",
      "metadata": {
        "id": "7535d7ab-1dd8-407a-bd30-7422e8391fc7"
      },
      "source": [
        "Create the input data array with the numbers `1` to `500_000_000`."
      ]
    },
    {
      "cell_type": "code",
      "execution_count": null,
      "id": "5f1a613f-bc87-4950-b195-a66bb5bc05d3",
      "metadata": {
        "id": "5f1a613f-bc87-4950-b195-a66bb5bc05d3"
      },
      "outputs": [],
      "source": [
        "arr = xp.arange(1, 500_000_001)\n",
        "arr"
      ]
    },
    {
      "cell_type": "markdown",
      "id": "9b2a320b-b202-4d62-88de-981130756987",
      "metadata": {
        "id": "9b2a320b-b202-4d62-88de-981130756987"
      },
      "source": [
        "Calculate how large the array is in GB with `nbytes`."
      ]
    },
    {
      "cell_type": "code",
      "execution_count": null,
      "id": "50530f2c-29bf-4061-8f84-bc5be00a5622",
      "metadata": {
        "id": "50530f2c-29bf-4061-8f84-bc5be00a5622"
      },
      "outputs": [],
      "source": [
        "arr.nbytes / 1e9"
      ]
    },
    {
      "cell_type": "markdown",
      "id": "8dfdc34c-f616-491f-a0c6-8add195412f8",
      "metadata": {
        "id": "8dfdc34c-f616-491f-a0c6-8add195412f8"
      },
      "source": [
        "How many dimensions does the array have?"
      ]
    },
    {
      "cell_type": "code",
      "execution_count": null,
      "id": "ffc15dad-e2fd-4b96-8b39-3496519d0656",
      "metadata": {
        "id": "ffc15dad-e2fd-4b96-8b39-3496519d0656"
      },
      "outputs": [],
      "source": [
        "arr.ndim # `len(arr.shape)` also works, but is longer to type."
      ]
    },
    {
      "cell_type": "markdown",
      "id": "ee24ecbe-2b39-43ea-9319-cdfa08f52fb1",
      "metadata": {
        "id": "ee24ecbe-2b39-43ea-9319-cdfa08f52fb1"
      },
      "source": [
        "How many elements does the array have?"
      ]
    },
    {
      "cell_type": "code",
      "execution_count": null,
      "id": "b15cdf25-eb35-4926-b306-90ffd62b3d28",
      "metadata": {
        "id": "b15cdf25-eb35-4926-b306-90ffd62b3d28"
      },
      "outputs": [],
      "source": [
        "arr.size # For 1D array, `arr.shape[0]` also works, but `arr.size` multiplies the size of all dimensions."
      ]
    },
    {
      "cell_type": "markdown",
      "id": "c6cb7de1-20ef-4edf-a4b1-3abe40e83ab8",
      "metadata": {
        "id": "c6cb7de1-20ef-4edf-a4b1-3abe40e83ab8"
      },
      "source": [
        "What is the shape of the array?"
      ]
    },
    {
      "cell_type": "code",
      "execution_count": null,
      "id": "63887722-c9d7-405e-a019-e75646115541",
      "metadata": {
        "id": "63887722-c9d7-405e-a019-e75646115541"
      },
      "outputs": [],
      "source": [
        "arr.shape"
      ]
    },
    {
      "cell_type": "markdown",
      "id": "35f4e58d-9cbe-4e71-8b65-42f9460531e3",
      "metadata": {
        "id": "35f4e58d-9cbe-4e71-8b65-42f9460531e3"
      },
      "source": [
        "Create a new array with `5_000_000` elements containing equally spaced values between `0` to `1000` (inclusive)."
      ]
    },
    {
      "cell_type": "code",
      "execution_count": null,
      "id": "1527b4f6-5d75-47d4-97e0-d0e78bbc59f9",
      "metadata": {
        "id": "1527b4f6-5d75-47d4-97e0-d0e78bbc59f9"
      },
      "outputs": [],
      "source": [
        "arr = xp.linspace(0, 1000, 5_000_000, endpoint=True)\n",
        "arr"
      ]
    },
    {
      "cell_type": "markdown",
      "id": "1e0b80a2-4bb0-40a0-82e6-366a47f26b43",
      "metadata": {
        "id": "1e0b80a2-4bb0-40a0-82e6-366a47f26b43"
      },
      "source": [
        "Create a random array that is `10_000` by `5_000`."
      ]
    },
    {
      "cell_type": "code",
      "execution_count": null,
      "id": "2f51aa2e-b994-4a91-aed6-4a4632eb7050",
      "metadata": {
        "id": "2f51aa2e-b994-4a91-aed6-4a4632eb7050"
      },
      "outputs": [],
      "source": [
        "arr = xp.random.rand(10_000, 5_000)\n",
        "arr"
      ]
    },
    {
      "cell_type": "markdown",
      "id": "f8ab4e20-cc42-4335-8a8a-bb695631185a",
      "metadata": {
        "id": "f8ab4e20-cc42-4335-8a8a-bb695631185a"
      },
      "source": [
        "Sort that array."
      ]
    },
    {
      "cell_type": "code",
      "execution_count": null,
      "id": "4ec06270-6e08-4cce-9385-9dc8b53e95fd",
      "metadata": {
        "id": "4ec06270-6e08-4cce-9385-9dc8b53e95fd"
      },
      "outputs": [],
      "source": [
        "arr = xp.sort(arr)\n",
        "arr"
      ]
    },
    {
      "cell_type": "markdown",
      "id": "dc675e4c-66e6-4a9e-8f68-96802c7f96ad",
      "metadata": {
        "id": "dc675e4c-66e6-4a9e-8f68-96802c7f96ad"
      },
      "source": [
        "Reshape the CuPy array to have the last dimension of length `5`."
      ]
    },
    {
      "cell_type": "code",
      "execution_count": null,
      "id": "cdde560b-5ba6-484c-a601-00b7ef71273d",
      "metadata": {
        "id": "cdde560b-5ba6-484c-a601-00b7ef71273d"
      },
      "outputs": [],
      "source": [
        "arr = arr.reshape((-1, 5))\n",
        "# -1 will infer the size of that dimension from the rest.  Would also accept: arr.reshape((10_000_000, 5))\n",
        "arr"
      ]
    },
    {
      "cell_type": "markdown",
      "id": "32cf6010-c6d0-45a3-ae7c-1a8a88d0efc0",
      "metadata": {
        "id": "32cf6010-c6d0-45a3-ae7c-1a8a88d0efc0"
      },
      "source": [
        "Find the sum of each row. Rows are axis 0, but the sum is being applied across columns, which are axis 1."
      ]
    },
    {
      "cell_type": "code",
      "execution_count": null,
      "id": "8e8c9ce0-c2ee-463c-a609-2da7fa0f61ec",
      "metadata": {
        "id": "8e8c9ce0-c2ee-463c-a609-2da7fa0f61ec"
      },
      "outputs": [],
      "source": [
        "arr_sum = xp.sum(arr, axis=1) # You could also write `arr.sum(axis=1)`.\n",
        "arr_sum"
      ]
    },
    {
      "cell_type": "markdown",
      "id": "93a890db-ca42-456c-9813-9c22a6f15fd7",
      "metadata": {
        "id": "93a890db-ca42-456c-9813-9c22a6f15fd7"
      },
      "source": [
        "Normalize each row of the original random array by dividing by the sum you just computed using broadcasting."
      ]
    },
    {
      "cell_type": "code",
      "execution_count": null,
      "id": "31da458f-abdd-4694-9b52-6f7495e9b6cc",
      "metadata": {
        "id": "31da458f-abdd-4694-9b52-6f7495e9b6cc"
      },
      "outputs": [],
      "source": [
        "arr_normalized = arr / arr_sum[:, xp.newaxis]\n",
        "arr_normalized"
      ]
    },
    {
      "cell_type": "markdown",
      "id": "4525c0ac-dc5c-4255-a104-77fbca22bef4",
      "metadata": {
        "id": "4525c0ac-dc5c-4255-a104-77fbca22bef4"
      },
      "source": [
        "Prove that your normalized array is actually normalized by checking that every row sums to 1.\n",
        "\n",
        "**TODO: Try changing `xp.testing.assert_allclose` to `np.testing.assert_allclose`. What happens?**"
      ]
    },
    {
      "cell_type": "code",
      "execution_count": null,
      "id": "d84a0db9-9983-4c25-ae10-7a5b937afb59",
      "metadata": {
        "id": "d84a0db9-9983-4c25-ae10-7a5b937afb59"
      },
      "outputs": [],
      "source": [
        "xp.testing.assert_allclose(xp.sum(arr_normalized, axis=1), 1.0)"
      ]
    },
    {
      "cell_type": "markdown",
      "source": [
        "**TODO: Create two arrays (one NumPy, one CuPy) that discretize the sine function from 0 to 2π with `50_000_000` points. Benchmark how long it takes NumPy and CuPy to sort the array.**\n",
        "\n",
        "_Hint: You can use `linspace` to help generate the data - see the example in earlier cells._\n",
        "\n",
        "_Hint: To accurately time both NumPy and CuPy calls, use [`cupyx.profiler.benchmark`](https://docs.cupy.dev/en/stable/reference/generated/cupyx.profiler.benchmark.html). Don't go overboard with the `n_repeat` parameter._"
      ],
      "metadata": {
        "id": "AxU_hG5M-LKS"
      },
      "id": "AxU_hG5M-LKS"
    },
    {
      "cell_type": "code",
      "source": [
        "import cupyx as cpx\n",
        "\n",
        "arr_np = ...\n",
        "arr_cp = ...\n",
        "\n",
        "..."
      ],
      "metadata": {
        "id": "EKwfS_iM9Yps"
      },
      "id": "EKwfS_iM9Yps",
      "execution_count": null,
      "outputs": []
    },
    {
      "cell_type": "markdown",
      "source": [
        "**EXTRA CREDIT: Benchmark with different array sizes and find the size at which CuPy and NumPy take the same amount of time. Try to extract the timing data from `cupyx.profiler.benchmark`'s return value and customize how the output is displayed. You could even make a graph.**"
      ],
      "metadata": {
        "id": "qnAvEk5QFAA8"
      },
      "id": "qnAvEk5QFAA8"
    },
    {
      "cell_type": "code",
      "source": [
        "..."
      ],
      "metadata": {
        "id": "42YwwyrJFTyV"
      },
      "id": "42YwwyrJFTyV",
      "execution_count": null,
      "outputs": []
    }
  ],
  "metadata": {
    "kernelspec": {
     "display_name": "training-pyhpc-2025",
     "language": "python",
     "name": "pyhpc-2025"
    },
    "language_info": {
      "codemirror_mode": {
        "name": "ipython",
        "version": 3
      },
      "file_extension": ".py",
      "mimetype": "text/x-python",
      "name": "python",
      "nbconvert_exporter": "python",
      "pygments_lexer": "ipython3",
      "version": "3.12.11"
    },
    "colab": {
      "provenance": [],
      "gpuType": "T4"
    },
    "accelerator": "GPU"
  },
  "nbformat": 4,
  "nbformat_minor": 5
}
