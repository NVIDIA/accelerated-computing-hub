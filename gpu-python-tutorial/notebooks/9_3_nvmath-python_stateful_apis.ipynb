{
  "cells": [
    {
      "cell_type": "markdown",
      "id": "80a4975b",
      "metadata": {
        "id": "80a4975b"
      },
      "source": [
        "# 9.3. `nvmath-python` stateful APIs: Amortizing task preparation costs\n",
        "\n",
        "This example illustrates the use of *stateful* class-form FFT APIs with CuPy ndarrays. Unlike *stateless* functional-form APIs, which are convenience wrappers around respective stateful APIs, the stateful APIs provide the greatest versatility and control. Stateful APIs are particularly useful in workflows that have expensive planning and/or autotuning phases intermixed with multiple executions.\n",
        "\n",
        "We illustrate such a workflow using the example of the fast Fourier transformation:"
      ]
    },
    {
      "cell_type": "code",
      "execution_count": null,
      "id": "ad02decc",
      "metadata": {
        "id": "ad02decc"
      },
      "outputs": [],
      "source": [
        "import cupy as cp\n",
        "import nvmath\n",
        "\n",
        "shape = 512, 512, 512\n",
        "axes = 0, 1\n",
        "\n",
        "a = cp.ones(shape, dtype=cp.complex64)"
      ]
    },
    {
      "cell_type": "markdown",
      "id": "404d935c",
      "metadata": {
        "id": "404d935c"
      },
      "source": [
        "FFT planning may be expensive compared to the computational work. With multiple executions we can amortize the planning cost by separating the planning from execution:"
      ]
    },
    {
      "cell_type": "code",
      "execution_count": null,
      "id": "0cdf344b",
      "metadata": {
        "id": "0cdf344b"
      },
      "outputs": [],
      "source": [
        "# Create a stateful FFT object 'f'.\n",
        "with nvmath.fft.FFT(a, axes=axes) as f:\n",
        "    # Plan the FFT.\n",
        "    f.plan()\n",
        "\n",
        "    # Execute the FFT.\n",
        "    b = f.execute()\n",
        "\n",
        "    # Synchronize the default stream\n",
        "    cp.cuda.get_current_stream().synchronize()"
      ]
    },
    {
      "cell_type": "markdown",
      "id": "0d4e3536",
      "metadata": {
        "id": "0d4e3536"
      },
      "source": [
        "**TODO: Extend the above example to perform multiple batched FFTs inplace**"
      ]
    }
  ],
  "metadata": {
    "kernelspec": {
     "display_name": "training-pyhpc-2025",
     "language": "python",
     "name": "pyhpc-2025"
    },
    "language_info": {
      "codemirror_mode": {
        "name": "ipython",
        "version": 3
      },
      "file_extension": ".py",
      "mimetype": "text/x-python",
      "name": "python",
      "nbconvert_exporter": "python",
      "pygments_lexer": "ipython3",
      "version": "3.13.5"
    },
    "colab": {
      "provenance": []
    }
  },
  "nbformat": 4,
  "nbformat_minor": 5
}
