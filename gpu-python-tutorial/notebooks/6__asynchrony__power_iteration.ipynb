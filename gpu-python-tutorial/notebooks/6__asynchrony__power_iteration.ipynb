{
  "nbformat": 4,
  "nbformat_minor": 0,
  "metadata": {
    "kernelspec": {
     "display_name": "training-pyhpc-2025",
     "language": "python",
     "name": "pyhpc-2025"
    },
    "language_info": {
      "name": "python"
    },
    "colab": {
      "provenance": [],
      "gpuType": "T4"
    },
    "accelerator": "GPU"
  },
  "cells": [
    {
      "cell_type": "markdown",
      "source": [
        "# Exercise - Asynchrony - Power Iteration - SOLUTION\n",
        "\n",
        "GPU programming is inherently asynchronous - in this exercise, we'll learn the implications that has when using CuPy, and how we can understand and analyze the flow of execution in our code.\n",
        "\n",
        "We'll revisit our power iteration example from earlier for this exercise.\n",
        "\n",
        "First, we need to make sure the Nsight Systems profiler, Nsightful, and NVTX are available in our notebook:"
      ],
      "metadata": {
        "id": "8KP1pYqmtXdr"
      }
    },
    {
      "cell_type": "code",
      "source": [
        "import os\n",
        "\n",
        "if os.getenv(\"COLAB_RELEASE_TAG\"): # If running in Google Colab\n",
        "  !curl -s -L -O https://developer.nvidia.com/downloads/assets/tools/secure/nsight-systems/2025_3/NsightSystems-linux-cli-public-2025.3.1.90-3582212.deb\n",
        "  !sudo dpkg -i NsightSystems-linux-cli-public-2025.3.1.90-3582212.deb > /dev/null\n",
        "  !pip install \"nvtx\" \"nsightful[notebook] @ git+https://github.com/brycelelbach/nsightful.git\" > /dev/null 2>&1"
      ],
      "metadata": {
        "id": "rO4kOPuP_0JG"
      },
      "execution_count": null,
      "outputs": []
    },
    {
      "cell_type": "markdown",
      "source": [
        "All GPU work is launched asynchronously on a stream. The work items in a stream are executed in order. If you launch `f` on a stream and later launch `g` on that same stream, then `f` will be executed before `g`. But if `f` and `g` are launched on different streams, then their execution might overlap.\n",
        "\n",
        "With CuPy, much of this is hidden from us. Unless you specify otherwise, CuPy launches work on the default CUDA stream. That means that by default, all CuPy work is executed sequentially on the device, but with respect to the host, it's all happening asynchronously.\n",
        "\n",
        "CuPy supports explicitly synchronizing, creating, and manipulating streams.\n",
        "\n",
        "**TODO: However, there are also a few common operations in CuPy that will implicitly synchronize with the device. What operations do you think these are?**\n",
        "\n",
        "Let's run our code throught Nsight Systems profiler, which will help us visualize what's going on.\n",
        "\n",
        "**NOTE: The next cell won't actually run any code, it will just write its contents to a file. This is necessary because we have to run the code with the Nsight Systems profiler.**"
      ],
      "metadata": {
        "id": "6sUvjAtMxI3h"
      }
    },
    {
      "cell_type": "code",
      "source": [
        "%%writefile power_iteration__baseline.py\n",
        "\n",
        "import numpy as np\n",
        "import cupy as cp\n",
        "import cupyx as cpx\n",
        "import nvtx\n",
        "from dataclasses import dataclass\n",
        "\n",
        "@dataclass\n",
        "class PowerIterationConfig:\n",
        "  dim: int = 8192\n",
        "  dominance: float = 0.05\n",
        "  max_steps: int = 1000\n",
        "  check_frequency: int = 10\n",
        "  progress: bool = True\n",
        "  residual_threshold: float = 1e-10\n",
        "\n",
        "def generate_device(cfg=PowerIterationConfig()):\n",
        "  cp.random.seed(42)\n",
        "  weak_lam = cp.random.random(cfg.dim - 1) * (1.0 - cfg.dominance)\n",
        "  lam = cp.random.permutation(cp.concatenate((cp.asarray([1.0]), weak_lam)))\n",
        "  P = cp.random.random((cfg.dim, cfg.dim))\n",
        "  D = cp.diag(cp.random.permutation(lam))\n",
        "  A = ((P @ D) @ cp.linalg.inv(P))\n",
        "  return A\n",
        "\n",
        "def estimate_device(A, cfg=PowerIterationConfig()):\n",
        "  A_gpu = cp.asarray(A) # If `A` is on the host, copy from host to device.\n",
        "                        # Otherwise, does nothing.\n",
        "\n",
        "  x = cp.ones(A_gpu.shape[0], dtype=np.float64)\n",
        "\n",
        "  for i in range(0, cfg.max_steps, cfg.check_frequency):\n",
        "    y = A_gpu @ x\n",
        "    lam = (x @ y) / (x @ x)            # Rayleigh quotient.\n",
        "    res = cp.linalg.norm(y - lam * x)\n",
        "    x = y / cp.linalg.norm(y)          # Normalize for next step.\n",
        "\n",
        "    if cfg.progress:\n",
        "      print(f\"step {i}: residual = {res:.3e}\")\n",
        "\n",
        "    np.savetxt(f\"device_{i}.txt\", cp.asnumpy(x)) # Copy from device to host\n",
        "                                                  # and save a checkpoint.\n",
        "\n",
        "    if res < cfg.residual_threshold:\n",
        "      break\n",
        "\n",
        "    for _ in range(cfg.check_frequency - 1):\n",
        "      y = A_gpu @ x # We have to use `A_gpu` here as well.\n",
        "      x = y / cp.linalg.norm(y) # Normalize for next step.\n",
        "\n",
        "  return cp.asnumpy((x.T @ (A_gpu @ x)) / (x.T @ x)) # Copy from device to host.\n",
        "\n",
        "A_device = generate_device()\n",
        "\n",
        "# Warmup to ensure modules are loaded and code is JIT compiled before timing.\n",
        "estimate_device(A_device, cfg=PowerIterationConfig(progress=False))\n",
        "\n",
        "start = cp.cuda.get_current_stream().record()\n",
        "lam_est_device = estimate_device(A_device).item()\n",
        "stop = cp.cuda.get_current_stream().record()\n",
        "\n",
        "duration = cp.cuda.get_elapsed_time(start, stop) / 1e3\n",
        "\n",
        "print()\n",
        "print(f\"GPU Execution Time: {duration:.3f} s\")"
      ],
      "metadata": {
        "id": "sEicxhLO_9G9"
      },
      "execution_count": null,
      "outputs": []
    },
    {
      "cell_type": "markdown",
      "source": [
        "Now let's profile our code by running it under the Nsight Systems `nsys` tool. The syntax for this is `nsys <nsys flags> <your program> <your program args>`. It will run your program while collecting a birdseye view of everything going on in your program."
      ],
      "metadata": {
        "id": "1lyhHnzrdXzI"
      }
    },
    {
      "cell_type": "code",
      "source": [
        "!nsys profile --force-overwrite true -o power_iteration__baseline python power_iteration__baseline.py"
      ],
      "metadata": {
        "id": "1HU5p1IhAkTA"
      },
      "execution_count": null,
      "outputs": []
    },
    {
      "cell_type": "markdown",
      "source": [
        "Now let's view our report and explore what's going on in our program.\n",
        "\n",
        "**TODO: Run the next cell, which will generate the report and create a button that when clicked will open it up in [Perfetto](https://ui.perfetto.dev/), a web-based no-install visual profiler.**\n",
        "\n",
        "**EXTRA CREDIT: Download the [Nsight Systems GUI](https://developer.nvidia.com/nsight-systems) and open the report in it to see even more information.**"
      ],
      "metadata": {
        "id": "IlGIAIEPe3SV"
      }
    },
    {
      "cell_type": "code",
      "source": [
        "import nsightful\n",
        "\n",
        "!nsys export --type sqlite --quiet true --force-overwrite true power_iteration__baseline.nsys-rep\n",
        "nsightful.display_nsys_sqlite_file_in_notebook(\"power_iteration__baseline.sqlite\", title=\"Power Iteration - Baseline\")"
      ],
      "metadata": {
        "id": "s6VVOnGQR3Ph"
      },
      "execution_count": null,
      "outputs": []
    },
    {
      "cell_type": "markdown",
      "source": [
        "Nsight Systems shows us a lot of information - sometimes it's too much and not all relevant.\n",
        "\n",
        "There's two ways that we can filter and annotate what we see in Nsight systems.\n",
        "\n",
        "The first is to limit when we start and stop profiling in the program. In Python, we can do this with `cupyx.profiler.profile()`, which give us a Python context manager. Any CUDA code used during scope will be included in the profile.\n",
        "\n",
        "```\n",
        "not_in_the profile()\n",
        "with cpx.profiler.profile():\n",
        "  in_the_profile()\n",
        "not_in_the_profile()\n",
        "```\n",
        "\n",
        "For this to work, we have to pass `--capture-range=cudaProfilerApi --capture-range-end=stop` as flags to `nsys`.\n",
        "\n",
        "We can also annotate specific regions of our code, which will show up in the profiler. We can even add categories, domains, and colors to these regions, and they can be nested. To add these annotations, we use `nvtx.annnotate()`, another Python context manager, this time from a library called [NVTX](http://nvtx.readthedocs.io/en/latest/reference.html).\n",
        "\n",
        "```\n",
        "with nvtx.annotate(\"Loop\")\n",
        "  for i in range(20):\n",
        "     with nvtx.annotate(f\"Step {i}\"):\n",
        "       pass\n",
        "```"
      ],
      "metadata": {
        "id": "bGxz6-spplcU"
      }
    },
    {
      "cell_type": "markdown",
      "source": [
        "**TODO: Go back to the earlier cells and improve the profile results by adding:**\n",
        "- **`nvtx.annotate()` regions. Remember, you can nest them.**\n",
        "- **A `cpx.profiler.profile()` around the `start =`/`stop =` lines that run the solver.**\n",
        "- **`--capture-range=cudaProfilerApi --capture-range-end=stop` to the `nsys` flags.**\n",
        "\n",
        "**Then, capture another profile and see if you can identify how we can improve the code. Specifically, think about how we could add more asynchrony.**\n",
        "\n",
        "**After that, copy the kernel to the cell below and try improving it:**"
      ],
      "metadata": {
        "id": "PF7PUALVfX3A"
      }
    },
    {
      "cell_type": "code",
      "source": [
        "%%writefile power_iteration__async.py\n",
        "\n",
        "import numpy as np\n",
        "import cupy as cp\n",
        "import cupyx as cpx\n",
        "import nvtx\n",
        "from dataclasses import dataclass\n",
        "\n",
        "@dataclass\n",
        "class PowerIterationConfig:\n",
        "  dim: int = 8192\n",
        "  dominance: float = 0.05\n",
        "  max_steps: int = 1000\n",
        "  check_frequency: int = 10\n",
        "  progress: bool = True\n",
        "  residual_threshold: float = 1e-10\n",
        "\n",
        "def generate_device(cfg=PowerIterationConfig()):\n",
        "  cp.random.seed(42)\n",
        "  weak_lam = cp.random.random(cfg.dim - 1) * (1.0 - cfg.dominance)\n",
        "  lam = cp.random.permutation(cp.concatenate((cp.asarray([1.0]), weak_lam)))\n",
        "  P = cp.random.random((cfg.dim, cfg.dim))\n",
        "  D = cp.diag(cp.random.permutation(lam))\n",
        "  A = ((P @ D) @ cp.linalg.inv(P))\n",
        "  return A\n",
        "\n",
        "def estimate_device(A, cfg=PowerIterationConfig()):\n",
        "  raise NotImplementedError(\"TODO: You need to implement this kernel!\")\n",
        "\n",
        "A_device = generate_device()\n",
        "\n",
        "# Warmup to ensure modules are loaded and code is JIT compiled before timing.\n",
        "estimate_device(A_device, cfg=PowerIterationConfig(progress=False))\n",
        "\n",
        "start = cp.cuda.get_current_stream().record()\n",
        "lam_est_device = estimate_device(A_device).item()\n",
        "stop = cp.cuda.get_current_stream().record()\n",
        "\n",
        "duration = cp.cuda.get_elapsed_time(start, stop) / 1e3\n",
        "\n",
        "print()\n",
        "print(f\"GPU Execution Time: {duration:.3f} s\")"
      ],
      "metadata": {
        "id": "pszz-k8cDfqy"
      },
      "execution_count": null,
      "outputs": []
    },
    {
      "cell_type": "markdown",
      "source": [
        "Now let's make sure it works:"
      ],
      "metadata": {
        "id": "VFCYIqwaKYqy"
      }
    },
    {
      "cell_type": "code",
      "source": [
        "!python power_iteration__async.py"
      ],
      "metadata": {
        "id": "uSPFNIb9KcPb"
      },
      "execution_count": null,
      "outputs": []
    },
    {
      "cell_type": "markdown",
      "source": [
        "Before we profile the improved code, let's compare the execution times of both."
      ],
      "metadata": {
        "id": "o4WJVFBkkRaN"
      }
    },
    {
      "cell_type": "code",
      "source": [
        "power_iteration_baseline_output   = !python power_iteration__baseline.py\n",
        "power_iteration_baseline_duration = float(power_iteration_baseline_output[-1].split()[-2])\n",
        "power_iteration_async_output      = !python power_iteration__async.py\n",
        "power_iteration_async_duration    = float(power_iteration_async_output[-1].split()[-2])\n",
        "speedup = power_iteration_baseline_duration / power_iteration_async_duration\n",
        "\n",
        "print(f\"GPU Execution Time\")\n",
        "print()\n",
        "print(f\"power_iteration_baseline: {power_iteration_baseline_duration:.3f} s\")\n",
        "print(f\"power_iteration_async:    {power_iteration_async_duration:.3f} s\")\n",
        "print(f\"power_iteration_async speedup over power_iteration_baseline: {speedup:.2f}\")"
      ],
      "metadata": {
        "id": "BtQR4CHikWFK"
      },
      "execution_count": null,
      "outputs": []
    },
    {
      "cell_type": "markdown",
      "source": [
        "Next, let's capture a profile report of our improved code."
      ],
      "metadata": {
        "id": "Pnvne_F4jYTh"
      }
    },
    {
      "cell_type": "code",
      "source": [
        "!nsys profile --capture-range=cudaProfilerApi --capture-range-end=stop --force-overwrite true -o power_iteration__async python power_iteration__async.py"
      ],
      "metadata": {
        "id": "mWXBvi-hFGhU"
      },
      "execution_count": null,
      "outputs": []
    },
    {
      "cell_type": "markdown",
      "source": [
        "Finally, let's look at the profile in Perfetto and confirm we've gotten rid of the idling."
      ],
      "metadata": {
        "id": "b1sI3RPojxP1"
      }
    },
    {
      "cell_type": "code",
      "source": [
        "!nsys export --type sqlite --quiet true --force-overwrite true power_iteration__async.nsys-rep\n",
        "nsightful.display_nsys_sqlite_file_in_notebook(\"power_iteration__async.sqlite\", title=\"Power Iteration - Async Event\")"
      ],
      "metadata": {
        "id": "KANrefszlkmF"
      },
      "execution_count": null,
      "outputs": []
    }
  ]
}
