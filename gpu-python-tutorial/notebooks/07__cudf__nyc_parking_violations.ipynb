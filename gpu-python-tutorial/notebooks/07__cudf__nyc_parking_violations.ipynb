{
 "cells": [
  {
   "cell_type": "markdown",
   "id": "c1032e41-4396-4ef7-b58a-8c592ad9226f",
   "metadata": {},
   "source": [
    "# Exercise - cuDF - NYC Parking Violations"
   ]
  },
  {
   "cell_type": "markdown",
   "id": "b2ca1821-ab7d-4f35-8c00-4452e7384901",
   "metadata": {},
   "source": [
    "We've learned how to work with numeric data using CuPy. But many applications, in data science and machine learning involve other kinds of data, like dates and strings. \n",
    "\n",
    "[cuDF](https://docs.rapids.ai/api/cudf/stable/) is a DataFrame library for loading, joining, aggregating, filtering, and otherwise manipulating data. It offers both a [Pandas](https://docs.rapids.ai/api/cudf/stable/cudf_pandas/) and a [Polars](https://docs.rapids.ai/api/cudf/stable/cudf_polars/) API."
   ]
  },
  {
   "cell_type": "markdown",
   "id": "6db517aa-5cb9-415f-b1b1-fd9cd9b2f97f",
   "metadata": {},
   "source": [
    "## A quick Pandas introduction"
   ]
  },
  {
   "cell_type": "code",
   "execution_count": null,
   "id": "68edd7ee-1724-46c5-b301-217665bde5de",
   "metadata": {},
   "outputs": [],
   "source": [
    "import pandas as pd"
   ]
  },
  {
   "cell_type": "markdown",
   "id": "2ca65219-e77e-4513-9074-89ed031fb9dc",
   "metadata": {},
   "source": [
    "### Series and DataFrame objects"
   ]
  },
  {
   "cell_type": "code",
   "execution_count": null,
   "id": "a3bbb246-324a-4385-a3b8-fb4cb12161e2",
   "metadata": {},
   "outputs": [],
   "source": [
    "s = pd.Series([1, 2, 3])\n",
    "s"
   ]
  },
  {
   "cell_type": "code",
   "execution_count": null,
   "id": "9bb1ccdc-f96e-4737-ba83-44218ac4ab94",
   "metadata": {},
   "outputs": [],
   "source": [
    "print(\"Max value: \", s.max())\n",
    "print(\"Mean value: \", s.mean())"
   ]
  },
  {
   "cell_type": "code",
   "execution_count": null,
   "id": "ffed09f3-e90a-4bcf-a673-5460c9e51936",
   "metadata": {},
   "outputs": [],
   "source": [
    "s = pd.Series([\"one\", \"two\", \"three\"])"
   ]
  },
  {
   "cell_type": "code",
   "execution_count": null,
   "id": "ea45fd58-4450-4679-85b9-eaa0a8434c13",
   "metadata": {},
   "outputs": [],
   "source": [
    "print(\"Max value: \", s.max())"
   ]
  },
  {
   "cell_type": "code",
   "execution_count": null,
   "id": "02d9e821-89c5-494b-a700-16effae5f80d",
   "metadata": {},
   "outputs": [],
   "source": [
    "df = pd.DataFrame({\n",
    "    \"a\" : [1, 2, 1, 3, 2],\n",
    "    \"b\" : [1, 4, 7, 2, 0],\n",
    "    \"c\" : [3, 3, 3, 4, 5]\n",
    "}, index = [1, 2, 3, 4, 5])\n",
    "df"
   ]
  },
  {
   "cell_type": "code",
   "execution_count": null,
   "id": "26089526-5486-48ed-a2e3-d1771dcb5647",
   "metadata": {},
   "outputs": [],
   "source": [
    "df.index"
   ]
  },
  {
   "cell_type": "code",
   "execution_count": null,
   "id": "ce752fbe-20bd-4f76-89cb-1e31d8fbd758",
   "metadata": {},
   "outputs": [],
   "source": [
    "df.columns"
   ]
  },
  {
   "cell_type": "markdown",
   "id": "cbea2a91-09da-448f-82bb-fb037c6de9b0",
   "metadata": {},
   "source": [
    "### Selecting and filtering data"
   ]
  },
  {
   "cell_type": "code",
   "execution_count": null,
   "id": "039116b6-8f7a-4ca8-a388-6b39ecc437ff",
   "metadata": {},
   "outputs": [],
   "source": [
    "df.head(2)"
   ]
  },
  {
   "cell_type": "code",
   "execution_count": null,
   "id": "16b8f18f-ef86-4481-827e-bcfcac16a794",
   "metadata": {},
   "outputs": [],
   "source": [
    "df.tail(2)"
   ]
  },
  {
   "cell_type": "code",
   "execution_count": null,
   "id": "1e427550-57bf-4125-a0a0-5204f6311744",
   "metadata": {},
   "outputs": [],
   "source": [
    "df[\"a\"]"
   ]
  },
  {
   "cell_type": "code",
   "execution_count": null,
   "id": "d1be2de2-7468-4e5f-a95e-a086dd6feed4",
   "metadata": {},
   "outputs": [],
   "source": [
    "df[[\"b\", \"c\"]]"
   ]
  },
  {
   "cell_type": "code",
   "execution_count": null,
   "id": "f86e8a29-a718-4d1d-b2fc-f818a52fef63",
   "metadata": {},
   "outputs": [],
   "source": [
    "df.iloc[0:2]"
   ]
  },
  {
   "cell_type": "code",
   "execution_count": null,
   "id": "e699a355-37cc-49d4-b673-8ef178d490d7",
   "metadata": {},
   "outputs": [],
   "source": [
    "df.iloc[0, 1:3]"
   ]
  },
  {
   "cell_type": "code",
   "execution_count": null,
   "id": "638b4090-a650-4447-8227-1d659a96178f",
   "metadata": {},
   "outputs": [],
   "source": [
    "df.loc[2:3, \"b\":\"c\"]"
   ]
  },
  {
   "cell_type": "code",
   "execution_count": null,
   "id": "08e001b8-47ec-4609-9b49-d887abaaa14d",
   "metadata": {},
   "outputs": [],
   "source": [
    "df[df['a'] > 1]"
   ]
  },
  {
   "cell_type": "markdown",
   "id": "b3d72acc-7c32-4e6e-aab7-ec6b3d5e71c5",
   "metadata": {},
   "source": [
    "### Sorting"
   ]
  },
  {
   "cell_type": "code",
   "execution_count": null,
   "id": "30f331f7-b7f6-4fc3-a0bc-fe7b07ff1f10",
   "metadata": {},
   "outputs": [],
   "source": [
    "df.sort_values(\"a\")"
   ]
  },
  {
   "cell_type": "markdown",
   "id": "e308b639-7b7f-45ba-977c-66ab018d5bcf",
   "metadata": {},
   "source": [
    "### Summarizing Data"
   ]
  },
  {
   "cell_type": "code",
   "execution_count": null,
   "id": "f3be893b-ddab-4bff-bac4-a822174aed86",
   "metadata": {},
   "outputs": [],
   "source": [
    "df.sum()"
   ]
  },
  {
   "cell_type": "code",
   "execution_count": null,
   "id": "b0fce8b9-21ed-4bad-a416-9c8b5b323e28",
   "metadata": {},
   "outputs": [],
   "source": [
    "df[\"a\"].mean()"
   ]
  },
  {
   "cell_type": "markdown",
   "id": "a09f30d8-1a81-45fa-b919-00ce75337d5c",
   "metadata": {},
   "source": [
    "### Grouped aggregations"
   ]
  },
  {
   "cell_type": "code",
   "execution_count": null,
   "id": "d7d7a8bc-0b00-4dbe-89de-f6119b305594",
   "metadata": {},
   "outputs": [],
   "source": [
    "df[\"a\"].value_counts()"
   ]
  },
  {
   "cell_type": "code",
   "execution_count": null,
   "id": "81f81052-7e85-4697-a3f3-f602990f963f",
   "metadata": {},
   "outputs": [],
   "source": [
    "df[\"c\"].value_counts()"
   ]
  },
  {
   "cell_type": "code",
   "execution_count": null,
   "id": "a1f1a795-2db1-4411-8e70-9f98b096f956",
   "metadata": {},
   "outputs": [],
   "source": [
    "df.groupby(\"a\").mean()"
   ]
  },
  {
   "cell_type": "code",
   "execution_count": null,
   "id": "80f73c53-bcb3-48cf-b456-fba8faafe021",
   "metadata": {},
   "outputs": [],
   "source": [
    "df.groupby(\"c\").count()"
   ]
  },
  {
   "cell_type": "code",
   "execution_count": null,
   "id": "18a5723a-629e-424c-9d59-bc2c0c315a31",
   "metadata": {},
   "outputs": [],
   "source": [
    "df.groupby(\"a\").agg({\"b\": [\"min\", \"mean\"], \"c\": [\"max\"]})"
   ]
  },
  {
   "cell_type": "markdown",
   "id": "a5d0979a-d6e8-45a3-856b-d3d5ad52be4a",
   "metadata": {},
   "source": [
    "### String operations"
   ]
  },
  {
   "cell_type": "code",
   "execution_count": null,
   "id": "e0707c98-9178-46f4-8ef9-fe75786b7f4b",
   "metadata": {},
   "outputs": [],
   "source": [
    "df[\"d\"] = [\"mario\", \"luigi\", \"yoshi\", \"peach\", \"toad\"]\n",
    "df"
   ]
  },
  {
   "cell_type": "code",
   "execution_count": null,
   "id": "98379444-e924-4bd1-a2d5-cfd86bd551a4",
   "metadata": {},
   "outputs": [],
   "source": [
    "df[\"d\"].str.upper()"
   ]
  },
  {
   "cell_type": "markdown",
   "id": "36586199-7a07-406b-b92b-f17f5f6ecee9",
   "metadata": {},
   "source": [
    "### Time Series"
   ]
  },
  {
   "cell_type": "code",
   "execution_count": null,
   "id": "4a6166f7-b6b1-453f-97da-e79a6e178f5c",
   "metadata": {},
   "outputs": [],
   "source": [
    "import numpy as np\n",
    "\n",
    "date_df = pd.DataFrame()\n",
    "date_df[\"date\"] = pd.date_range(\"11/20/2018\", periods=72, freq=\"D\")\n",
    "date_df[\"value\"] = np.random.sample(len(date_df))\n",
    "date_df"
   ]
  },
  {
   "cell_type": "code",
   "execution_count": null,
   "id": "c8ee517e-f016-4547-8cb1-0715c456236d",
   "metadata": {},
   "outputs": [],
   "source": [
    "date_df[date_df[\"date\"] < \"2018-11-24\"]"
   ]
  },
  {
   "cell_type": "code",
   "execution_count": null,
   "id": "56ae6716-a0f0-42f2-b701-e3b86c1d6f06",
   "metadata": {},
   "outputs": [],
   "source": [
    "date_df[\"year\"] = date_df[\"date\"].dt.year\n",
    "date_df"
   ]
  },
  {
   "cell_type": "markdown",
   "id": "70b8dec0-140c-4f1c-b9af-4aa2df6f79ca",
   "metadata": {},
   "source": [
    "### User-defined operations"
   ]
  },
  {
   "cell_type": "code",
   "execution_count": null,
   "id": "dac6501e-fe69-4028-84e3-d77e3bb79321",
   "metadata": {},
   "outputs": [],
   "source": [
    "def add_ten(x):\n",
    "    return x + 10\n",
    "\n",
    "df[\"a\"] = df[\"a\"].apply(add_ten)\n",
    "df"
   ]
  },
  {
   "cell_type": "markdown",
   "id": "d1cc177a-809f-4033-8017-74a698635663",
   "metadata": {},
   "source": [
    "## Now let's do the same thing with cuDF"
   ]
  },
  {
   "cell_type": "code",
   "execution_count": null,
   "id": "a9c1c477-4cd9-4320-8341-891385ba1ca0",
   "metadata": {},
   "outputs": [],
   "source": [
    "import cudf"
   ]
  },
  {
   "cell_type": "code",
   "execution_count": null,
   "id": "b078f895-6bc9-447d-8f7e-5e414bdaa77d",
   "metadata": {},
   "outputs": [],
   "source": [
    "df = cudf.DataFrame({\n",
    "    \"a\" : [1, 2, 1, 3, 2],\n",
    "    \"b\" : [1, 4, 7, 2, 0],\n",
    "    \"c\" : [1, 1, 8, 2, 9]\n",
    "}, index = [1, 2, 3, 4, 5])\n",
    "df"
   ]
  },
  {
   "cell_type": "code",
   "execution_count": null,
   "id": "6f992143-c99a-481a-8130-b9f2106aa91c",
   "metadata": {},
   "outputs": [],
   "source": [
    "type(df)"
   ]
  },
  {
   "cell_type": "code",
   "execution_count": null,
   "id": "336eaeac-49d9-4fa9-bd9b-888eec5d9f60",
   "metadata": {},
   "outputs": [],
   "source": [
    "df.loc[2:3, \"b\":\"c\"]"
   ]
  },
  {
   "cell_type": "code",
   "execution_count": null,
   "id": "51f48410-e149-4014-b2f5-7969c2e70c9b",
   "metadata": {},
   "outputs": [],
   "source": [
    "df.groupby(\"a\").agg({\"b\": [\"min\", \"mean\"], \"c\": [\"max\"]})"
   ]
  },
  {
   "cell_type": "markdown",
   "id": "37b94b6f-92b2-4369-831b-2d9e3347d0ca",
   "metadata": {},
   "source": [
    "Some things are different though!"
   ]
  },
  {
   "cell_type": "code",
   "execution_count": null,
   "id": "b98f6e24-6dd7-4375-b8a3-c665d15f3cf0",
   "metadata": {},
   "outputs": [],
   "source": [
    "import numpy as np\n",
    "\n",
    "date_df = cudf.DataFrame()\n",
    "date_df[\"date\"] = cudf.date_range(\"11/20/2018\", periods=72, freq=\"D\")\n",
    "date_df[\"value\"] = np.random.sample(len(date_df))\n",
    "date_df"
   ]
  },
  {
   "cell_type": "markdown",
   "id": "0f8d1a62-bb1a-497e-a6dc-745548d33626",
   "metadata": {},
   "source": [
    "Unlike Pandas, cuDF does not (yet) have the ability to interpret the date `\"11/20/2018\"`, instead use the more standard `\"2018-11-20\"`:"
   ]
  },
  {
   "cell_type": "code",
   "execution_count": null,
   "id": "09bd617a-b60c-4452-8974-4d74a30cd4da",
   "metadata": {},
   "outputs": [],
   "source": [
    "date_df = cudf.DataFrame()\n",
    "date_df[\"date\"] = cudf.date_range(\"2018-11-20\", periods=72, freq=\"D\")\n",
    "date_df[\"value\"] = np.random.sample(len(date_df))\n",
    "date_df"
   ]
  },
  {
   "cell_type": "code",
   "execution_count": null,
   "id": "7bc1ecd6-80ef-403e-a624-737efc63fb11",
   "metadata": {},
   "outputs": [],
   "source": [
    "date_df[date_df[\"date\"] < \"2018-11-24\"]"
   ]
  },
  {
   "cell_type": "code",
   "execution_count": null,
   "id": "ad359f13-f070-4e0f-a9b6-8d02451e7aab",
   "metadata": {},
   "outputs": [],
   "source": [
    "def add_ten(x):\n",
    "    return x + 10\n",
    "\n",
    "df[\"a\"] = df[\"a\"].apply(add_ten)\n",
    "df"
   ]
  },
  {
   "cell_type": "markdown",
   "id": "f6aee7a6-925c-46b9-bc4a-8d019416923f",
   "metadata": {},
   "source": [
    "## Exercise: Working With Real Data\n",
    "\n",
    "In this exercise, you'll use Pandas to analyze some real-world data, and then repeat the analysis with cuDF.\n",
    "\n",
    "### Download the data\n",
    "\n",
    "The data we'll be working with is the [Parking Violations Issued - Fiscal Year 2022](https://data.cityofnewyork.us/City-Government/Parking-Violations-Issued-Fiscal-Year-2022/7mxj-7a6y) dataset from NYC Open Data.\n",
    "\n",
    "We're downloading a copy of this dataset from an s3 bucket hosted by NVIDIA to provide faster download speeds. We'll start by downloading the data. This should take about 30 seconds.\n",
    "\n",
    "### Data License and Terms\n",
    "As this dataset originates from the NYC Open Data Portal, it's governed by their license and terms of use.\n",
    "\n",
    "##### Are there restrictions on how I can use Open Data?\n",
    "\n",
    "> Open Data belongs to all New Yorkers. There are no restrictions on the use of Open Data. Refer to Terms of Use for more information.\n",
    "\n",
    "#### [Terms of Use](https://opendata.cityofnewyork.us/overview/#termsofuse)\n",
    "\n",
    "> By accessing datasets and feeds available through NYC Open Data, the user agrees to all of the Terms of Use of NYC.gov as well as the Privacy Policy for NYC.gov. The user also agrees to any additional terms of use defined by the agencies, bureaus, and offices providing data. Public data sets made available on NYC Open Data are provided for informational purposes. The City does not warranty the completeness, accuracy, content, or fitness for any particular purpose or use of any public data set made available on NYC Open Data, nor are any such warranties to be implied or inferred with respect to the public data sets furnished therein.\n",
    "\n",
    "> The City is not liable for any deficiencies in the completeness, accuracy, content, or fitness for any particular purpose or use of any public data set, or application utilizing such data set, provided by any third party.\n",
    "\n",
    "> Submitting City Agencies are the authoritative source of data available on NYC Open Data. These entities are responsible for data quality and retain version control of data sets and feeds accessed on the Site. Data may be updated, corrected, or refreshed at any time."
   ]
  },
  {
   "cell_type": "code",
   "execution_count": null,
   "id": "f474db87-88af-4b66-9172-f36492aa7ebc",
   "metadata": {},
   "outputs": [],
   "source": [
    "!wget -nc https://data.rapids.ai/datasets/nyc_parking/nyc_parking_violations_2022.parquet -O nyc_parking_violations_2022.parquet"
   ]
  },
  {
   "cell_type": "code",
   "execution_count": null,
   "id": "ea5747dc-a442-4a3e-b2ee-56fcf7a0d40b",
   "metadata": {},
   "outputs": [],
   "source": [
    "import pandas as pd\n",
    "\n",
    "data = pd.read_parquet(\"nyc_parking_violations_2022.parquet\")\n",
    "data.head()"
   ]
  },
  {
   "cell_type": "markdown",
   "id": "89a143e5-03a7-4cf5-8bb7-834b58e7528f",
   "metadata": {},
   "source": [
    "### Task 1"
   ]
  },
  {
   "cell_type": "markdown",
   "id": "b08b88b2-b191-4298-b251-be4c9e8faf75",
   "metadata": {},
   "source": [
    "This dataset is relatively large, with lots of columns.\n",
    "\n",
    "* How many columns are there?\n",
    "* Extract a subset of the data with just the following columns:\n",
    "  * `\"Registration State\"`\n",
    "  * `\"Violation Description\"`\n",
    "  * `\"Vehicle Body Type\"`\n",
    "  * `\"Issue Date\"`"
   ]
  },
  {
   "cell_type": "markdown",
   "id": "c08782ac-662b-473d-a103-3ec82af66091",
   "metadata": {},
   "source": [
    "### Task 2"
   ]
  },
  {
   "cell_type": "markdown",
   "id": "41c3b975-0968-43fa-b11f-cc6804cc15ba",
   "metadata": {},
   "source": [
    "For vehicles with body type `\"TAXI\"`, what is the number of vehicles from each state?"
   ]
  },
  {
   "cell_type": "markdown",
   "id": "c1a964b5-5f20-40b9-8989-7241f1a3c1a7",
   "metadata": {},
   "source": [
    "### Task 3\n",
    "\n",
    "Now, repeat the analysis (starting from `read_parquet`) using cuDF. How much faster is it compared to Pandas? To measure the execution of a cell in Jupyter Notebook, you can add the line `%%time` at the top of a cell. For example:\n",
    "\n",
    "```python\n",
    "%%time\n",
    "\n",
    "import cudf\n",
    "data = cudf.read_parquet(\"nyc_parking_violations_2022.parquet\")\n",
    "data.head()\n",
    "````"
   ]
  },
  {
   "cell_type": "markdown",
   "id": "e6922342-bb99-4cbf-8b22-412ac6249fd7",
   "metadata": {},
   "source": [
    "## Resources"
   ]
  },
  {
   "cell_type": "markdown",
   "id": "4759d32d-57c2-4454-8acc-d98072fd38b3",
   "metadata": {},
   "source": [
    "* `cudf.pandas` docs: https://docs.rapids.ai/api/cudf/stable/cudf_pandas/\n",
    "* cuDF documentation: https://docs.rapids.ai/api/cudf/stable\n",
    "* cuDF API reference: https://docs.rapids.ai/api/cudf/stable/user_guide/api_docs/"
   ]
  }
 ],
 "metadata": {
  "kernelspec": {
   "display_name": "Python 3 (cuDF 25.8)",
   "language": "python",
   "name": "python3-cudf25.8-cu12"
  },
  "language_info": {
   "codemirror_mode": {
    "name": "ipython",
    "version": 3
   },
   "file_extension": ".py",
   "mimetype": "text/x-python",
   "name": "python",
   "nbconvert_exporter": "python",
   "pygments_lexer": "ipython3",
   "version": "3.10.12"
  }
 },
 "nbformat": 4,
 "nbformat_minor": 5
}
