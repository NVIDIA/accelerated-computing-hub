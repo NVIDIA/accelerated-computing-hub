{
  "cells": [
    {
      "cell_type": "markdown",
      "id": "408743ad",
      "metadata": {
        "id": "408743ad"
      },
      "source": [
        "# 9.4. `nvmath-python` scaling to many GPUs\n",
        "\n",
        "This example illustrates the use of function-form distributed FFT APIs with NumPy ndarrays, using the default cuFFTMp Slab distributions. The NumPy ndarrays reside in CPU memory, and are copied transparently to GPU symmetric memory to process them with cuFFTMp.\n",
        "\n",
        "The input as well as the result from the FFT operations are NumPy ndarrays, resulting in effortless interoperability between nvmath-python and NumPy.\n",
        "\n",
        "We start with a few lines of required initialization code:"
      ]
    },
    {
      "cell_type": "code",
      "execution_count": null,
      "id": "ba65aef9",
      "metadata": {
        "id": "ba65aef9"
      },
      "outputs": [],
      "source": [
        "!source /global/common/software/trn018/init-training-pyhpc-2025.sh"
      ]
    },
    {
      "cell_type": "code",
      "execution_count": null,
      "id": "b3f7f01e",
      "metadata": {
        "id": "b3f7f01e"
      },
      "outputs": [],
      "source": [
        "!unset SLURM_NTASKS_PER_NODE"
      ]
    },
    {
      "cell_type": "code",
      "execution_count": null,
      "id": "f52c5c3f",
      "metadata": {
        "id": "f52c5c3f"
      },
      "outputs": [],
      "source": [
        "%%writefile scaling-nvmath-python.py\n",
        "\n",
        "import numpy as np\n",
        "import cuda.core.experimental\n",
        "from mpi4py import MPI\n",
        "\n",
        "import nvmath.distributed\n",
        "\n",
        "# Initialize nvmath.distributed.\n",
        "comm = MPI.COMM_WORLD\n",
        "rank = comm.Get_rank()\n",
        "nranks = comm.Get_size()\n",
        "device_id = rank % cuda.core.experimental.system.num_devices\n",
        "nvmath.distributed.initialize(device_id, comm)"
      ]
    },
    {
      "cell_type": "markdown",
      "id": "7b311204",
      "metadata": {
        "id": "7b311204"
      },
      "source": [
        "We use 3D FFT problem. In this example, the input data is distributed across processes according to the cuFFTMp Slab distribution on the Y axis (second dimension):"
      ]
    },
    {
      "cell_type": "code",
      "execution_count": null,
      "id": "c2492bf2",
      "metadata": {
        "id": "c2492bf2"
      },
      "outputs": [],
      "source": [
        "%%writefile -a scaling-nvmath-python.py\n",
        "\n",
        "shape = 64, 256 // nranks, 128\n",
        "\n",
        "# NumPy ndarray, on the CPU.\n",
        "a = np.random.rand(*shape) + 1j * np.random.rand(*shape)"
      ]
    },
    {
      "cell_type": "markdown",
      "id": "a11a7913",
      "metadata": {
        "id": "a11a7913"
      },
      "source": [
        "Here we perform the forward FFT. By default, the `reshape` option is `True`, which means that the output of the distributed FFT will be re-distributed to retain the same distribution as the input (in this case `Slab.Y`)."
      ]
    },
    {
      "cell_type": "code",
      "execution_count": null,
      "id": "3a6414d2",
      "metadata": {
        "id": "3a6414d2"
      },
      "outputs": [],
      "source": [
        "%%writefile -a scaling-nvmath-python.py\n",
        "\n",
        "b = nvmath.distributed.fft.fft(a, nvmath.distributed.fft.Slab.Y)"
      ]
    },
    {
      "cell_type": "markdown",
      "id": "12404259",
      "metadata": {
        "id": "12404259"
      },
      "source": [
        "Note the same shape of a and b (they are both using the same distribution):"
      ]
    },
    {
      "cell_type": "code",
      "execution_count": null,
      "id": "ce238d01",
      "metadata": {
        "id": "ce238d01"
      },
      "outputs": [],
      "source": [
        "%%writefile -a scaling-nvmath-python.py\n",
        "\n",
        "if rank == 0:\n",
        "    print(f\"Shape of a on rank {rank} is {a.shape}\")\n",
        "    print(f\"Shape of b on rank {rank} is {b.shape}\")\n",
        "\n",
        "    print(f\"Input type = {type(a)}, FFT output type = {type(b)}\")"
      ]
    },
    {
      "cell_type": "markdown",
      "id": "a9b71f55",
      "metadata": {
        "id": "a9b71f55"
      },
      "source": [
        "List available GPUs:"
      ]
    },
    {
      "cell_type": "code",
      "execution_count": null,
      "id": "7d704b0e",
      "metadata": {
        "id": "7d704b0e"
      },
      "outputs": [],
      "source": [
        "!srun -l nvidia-smi -L"
      ]
    },
    {
      "cell_type": "markdown",
      "id": "ca6d6f02",
      "metadata": {
        "id": "ca6d6f02"
      },
      "source": [
        "Launch the computation:"
      ]
    },
    {
      "cell_type": "code",
      "execution_count": null,
      "id": "bbd5b6ae",
      "metadata": {
        "id": "bbd5b6ae"
      },
      "outputs": [],
      "source": [
        "!srun -n 4 --gres-flags=allow-task-sharing -l python scaling-nvmath-python.py"
      ]
    },
    {
      "cell_type": "markdown",
      "id": "ee2c5281",
      "metadata": {
        "id": "ee2c5281"
      },
      "source": [
        "Note that the code is very similar to the single GPU FFT examples we considered earlier."
      ]
    }
  ],
  "metadata": {
    "kernelspec": {
     "display_name": "training-pyhpc-2025",
     "language": "python",
     "name": "pyhpc-2025"
    },
    "language_info": {
      "codemirror_mode": {
        "name": "ipython",
        "version": 3
      },
      "file_extension": ".py",
      "mimetype": "text/x-python",
      "name": "python",
      "nbconvert_exporter": "python",
      "pygments_lexer": "ipython3",
      "version": "3.13.5"
    },
    "colab": {
      "provenance": []
    }
  },
  "nbformat": 4,
  "nbformat_minor": 5
}
