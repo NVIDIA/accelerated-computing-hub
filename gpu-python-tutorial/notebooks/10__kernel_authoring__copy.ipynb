{
  "nbformat": 4,
  "nbformat_minor": 0,
  "metadata": {
    "colab": {
      "provenance": [],
      "gpuType": "T4"
    },
    "kernelspec": {
     "display_name": "training-pyhpc-2025",
     "language": "python",
     "name": "pyhpc-2025"
    },
    "language_info": {
      "name": "python"
    },
    "accelerator": "GPU"
  },
  "cells": [
    {
      "cell_type": "markdown",
      "source": [
        "# Exercise - Kernel Authoring - Copy\n",
        "\n",
        "In this exercise, we'll learn how to analyze and reason about the performance of CUDA kernels using the NVIDIA Nsight Compute profiler.\n",
        "\n",
        "We'll look at a few different ways of writing a simple kernel that copies items from one array to another.\n",
        "\n",
        "First, we need to make sure the Nsight Compute profiler, Nsightful, Numba CUDA, and CuPy are available in our notebook:"
      ],
      "metadata": {
        "id": "-JpGaP7-D_5W"
      }
    },
    {
      "cell_type": "code",
      "source": [
        "import os\n",
        "\n",
        "if os.getenv(\"COLAB_RELEASE_TAG\"): # If running in Google Colab:\n",
        "  !curl -s -L -O https://developer.nvidia.com/downloads/assets/tools/secure/nsight-systems/2025_3/NsightSystems-linux-cli-public-2025.3.1.90-3582212.deb\n",
        "  !sudo dpkg -i NsightSystems-linux-cli-public-2025.3.1.90-3582212.deb > /dev/null\n",
        "  !pip install \"numba-cuda\" \"cupy-cuda12x\" \"nsightful[notebook] @ git+https://github.com/brycelelbach/nsightful.git\" > /dev/null 2>&1\n",
        "  os.environ[\"NUMBA_CUDA_ENABLE_PYNVJITLINK\"] = \"1\""
      ],
      "metadata": {
        "id": "AoHkvSPMC5Fs",
        "collapsed": true
      },
      "execution_count": null,
      "outputs": []
    },
    {
      "cell_type": "markdown",
      "source": [
        "Now, we'll write our first kernel. Each thread will copy `items_per_thread` items from the `src` array to the `dst` array. We'll set the number of threads per block to a constant, `threads_per_block`. We'll calculate how many blocks to launch based on `items_per_thread` and `threads_per_block`. We use `cuda.grid(1)` to get the unique global 1D index of each thread.\n",
        "\n",
        "Each thread will copy a contiguous set of items, e.g. the items with indices `[base, base + items_per_thread)`:\n",
        "\n",
        "![image.png](data:image/png;base64,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)\n",
        "\n",
        "**NOTE: The next cell won't actually run any code, it will just write its contents to a file. This is necessary because we have to run the code with the Nsight Compute profiler.**"
      ],
      "metadata": {
        "id": "A1SfTQk0EwUl"
      }
    },
    {
      "cell_type": "code",
      "source": [
        "%%writefile copy_blocked.py\n",
        "\n",
        "from numba import cuda\n",
        "import cupy as cp\n",
        "import cupyx as cpx\n",
        "import sys\n",
        "import os\n",
        "\n",
        "threads_per_block = 256 if len(sys.argv) < 2 else int(sys.argv[1])\n",
        "items_per_thread = 64 if len(sys.argv) < 3 else int(sys.argv[2])\n",
        "total_items = 2**28 if len(sys.argv) < 4 else int(sys.argv[3])\n",
        "blocks = int(total_items / (threads_per_block * items_per_thread))\n",
        "\n",
        "src = cp.arange(total_items)\n",
        "dst = cp.empty_like(src)\n",
        "\n",
        "@cuda.jit\n",
        "def copy_blocked(src, dst, items_per_thread):\n",
        " base = cuda.grid(1) * items_per_thread\n",
        " for i in range(items_per_thread):\n",
        "   dst[base + i] = src[base + i]\n",
        "\n",
        "def launch():\n",
        "  copy_blocked[blocks, threads_per_block](src, dst, items_per_thread)\n",
        "\n",
        "if os.getenv(\"NV_COMPUTE_PROFILER_PERFWORKS_DIR\"): # Running under `ncu`.\n",
        "  launch() # `ncu` slows things down; so just launch once when running under it.\n",
        "else:\n",
        "  D = cpx.profiler.benchmark(launch, n_repeat=15, n_warmup=1).gpu_times[0]\n",
        "  print(f\"{D.mean():.3g} s ± {(D.std() / D.mean()):.2%} (mean ± relative stdev of {D.size} runs)\")"
      ],
      "metadata": {
        "id": "I9Tz2hG-_tBj"
      },
      "execution_count": null,
      "outputs": []
    },
    {
      "cell_type": "markdown",
      "source": [
        "Next, we'll actually run the code, by invoking the Nsight Compute `ncu` command line tool. The basic syntax for this tool is `ncu <ncu flags> <your program> <your program args>`, which will run `<your program> <your program args>` while gathering a profile on how your kernels are performing. We're passing it some flags that describe what data it should collect and where it should save the results.\n",
        "\n",
        "There is an overhead to running code under the profiler. Your program may execute noticably slower.\n",
        "\n",
        "When profiling and benchmarking, we need to run with a sufficient workload to get meaningful and representative results. If your runtime is too short, the profiler may not be able to report some metrics or the results may be inaccurate.\n",
        "\n",
        "**NOTE: To modify and rerun the above code, you must execute the previous cell to write the file and this one to execute it.**"
      ],
      "metadata": {
        "id": "TuR4yDV4H6IB"
      }
    },
    {
      "cell_type": "code",
      "source": [
        "!ncu -f --kernel-name regex:copy_blocked --set full -o copy_blocked python copy_blocked.py\n",
        "copy_blocked_csv = !ncu --import copy_blocked.ncu-rep --csv"
      ],
      "metadata": {
        "id": "5pyHvJtxVnDB"
      },
      "execution_count": null,
      "outputs": []
    },
    {
      "cell_type": "markdown",
      "source": [
        "Let's take a look at the profiling report on the kernel. When you run the next cell, a number of tabs will be displayed. The first tab will have a summary of all of the Nsight recommendations and advisories. Subsequent tabs will have more detailed information on a particular area.\n",
        "\n",
        "**TODO: Spend a few minutes reviewing the report. What stands out to you? Based on the information in the report, how can the kernel be improved?**\n",
        "\n",
        "**EXTRA CREDIT: Download the [Nsight Compute GUI](https://developer.nvidia.com/nsight-compute) and open the report in it to see even more information.**"
      ],
      "metadata": {
        "id": "ijEtNGHhpLPu"
      }
    },
    {
      "cell_type": "code",
      "source": [
        "import nsightful\n",
        "\n",
        "nsightful.display_ncu_csv_in_notebook(copy_blocked_csv)"
      ],
      "metadata": {
        "id": "40w07iG5k6Vl"
      },
      "execution_count": null,
      "outputs": []
    },
    {
      "cell_type": "markdown",
      "source": [
        "**TODO: Now try to write a better version of our copy kernel.**\n",
        "\n",
        "As a hint, given that this kernel does no compute and just moves data, our memory access patterns are probably important!\n",
        "\n",
        "Instead of using the `cuda.grid` utility, you may want to use the hierachical coordinates of our thread to calculate the index:\n",
        "\n",
        "- `cuda.blockDim.x`: The number of threads per block.\n",
        "- `cuda.blockIdx.x`: The global index of the current thread block.\n",
        "- `cuda.threadIdx.x`: The local index of the current thread within this block."
      ],
      "metadata": {
        "id": "mL_9xT44qbMA"
      }
    },
    {
      "cell_type": "code",
      "source": [
        "%%writefile copy_optimized.py\n",
        "\n",
        "from numba import cuda\n",
        "import cupy as cp\n",
        "import cupyx as cpx\n",
        "import sys\n",
        "import os\n",
        "\n",
        "threads_per_block = 256 if len(sys.argv) < 2 else int(sys.argv[1])\n",
        "items_per_thread = 64 if len(sys.argv) < 3 else int(sys.argv[2])\n",
        "total_items = 2**28 if len(sys.argv) < 4 else int(sys.argv[3])\n",
        "blocks = int(total_items / (threads_per_block * items_per_thread))\n",
        "\n",
        "src = cp.arange(total_items)\n",
        "dst = cp.empty_like(src)\n",
        "\n",
        "@cuda.jit\n",
        "def copy_optimized(src, dst, items_per_thread):\n",
        "  TODO() # TODO: You need to implement this kernel! DELETE THIS LINE.\n",
        "\n",
        "def launch():\n",
        "  copy_optimized[blocks, threads_per_block](src, dst, items_per_thread)\n",
        "\n",
        "if os.getenv(\"NV_COMPUTE_PROFILER_PERFWORKS_DIR\"): # Running under `ncu`.\n",
        "  launch() # `ncu` slows things down; so just launch once when running under it.\n",
        "else:\n",
        "  D = cpx.profiler.benchmark(launch, n_repeat=15, n_warmup=1).gpu_times[0]\n",
        "  print(f\"{D.mean():.3g} s ± {(D.std() / D.mean()):.2%} (mean ± relative stdev of {D.size} runs)\")"
      ],
      "metadata": {
        "id": "B5PBpaY2HnE0"
      },
      "execution_count": null,
      "outputs": []
    },
    {
      "cell_type": "markdown",
      "source": [
        "Now, let's make sure our code works:"
      ],
      "metadata": {
        "id": "qco9XOsTkPEJ"
      }
    },
    {
      "cell_type": "code",
      "source": [
        "!python copy_optimized.py"
      ],
      "metadata": {
        "id": "thgSpsCQkN2-"
      },
      "execution_count": null,
      "outputs": []
    },
    {
      "cell_type": "markdown",
      "source": [
        "Before we look at the report, let's compare the runtimes of both versions:"
      ],
      "metadata": {
        "id": "kC3Moh2m02-q"
      }
    },
    {
      "cell_type": "code",
      "source": [
        "copy_blocked_duration   = !python copy_blocked.py\n",
        "copy_optimized_duration = !python copy_optimized.py\n",
        "speedup = float(copy_blocked_duration[0].split()[0]) / float(copy_optimized_duration[0].split()[0])\n",
        "\n",
        "print(f\"copy_blocked:   {copy_blocked_duration[0]}\")\n",
        "print(f\"copy_optimized: {copy_optimized_duration[0]}\")\n",
        "print(f\"copy_optimized speedup over copy_blocked: {speedup:.2f}\")"
      ],
      "metadata": {
        "id": "kJ7viF-i06qd"
      },
      "execution_count": null,
      "outputs": []
    },
    {
      "cell_type": "markdown",
      "source": [
        "Hopefully you see quite a speedup! Now let's profile the optimized variant:"
      ],
      "metadata": {
        "id": "mfrqUdzozGeU"
      }
    },
    {
      "cell_type": "code",
      "source": [
        "!ncu -f --kernel-name regex:copy_optimized --set full -o copy_optimized python copy_optimized.py\n",
        "copy_optimized_csv = !ncu --import copy_optimized.ncu-rep --csv"
      ],
      "metadata": {
        "id": "zO_y6ObXV_wX"
      },
      "execution_count": null,
      "outputs": []
    },
    {
      "cell_type": "markdown",
      "source": [
        "Now let's look at the report to better understand what's going on."
      ],
      "metadata": {
        "id": "DjPJRzXTD6uF"
      }
    },
    {
      "cell_type": "code",
      "source": [
        "nsightful.display_ncu_csv_in_notebook(copy_optimized_csv)"
      ],
      "metadata": {
        "id": "KjE0Vgu_zgs3"
      },
      "execution_count": null,
      "outputs": []
    },
    {
      "cell_type": "markdown",
      "source": [
        "**EXTRA CREDIT: Experiment with different problem sizes, threads per block, and items per thread. You can pass them as command line arguments to the Python scripts. If you're feeling really ambitious, do a parameter sweep to study the impact these knobs have on performance.**"
      ],
      "metadata": {
        "id": "Xn6IPpuxD_kz"
      }
    }
  ]
}
