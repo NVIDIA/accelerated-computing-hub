{
  "cells": [
    {
      "cell_type": "markdown",
      "id": "d2e341ff-0c1e-40e8-8c33-9e3039de8013",
      "metadata": {
        "id": "d2e341ff-0c1e-40e8-8c33-9e3039de8013"
      },
      "source": [
        "# Exercise - NumPy to CuPy - `ndarray` Basics\n",
        "\n",
        "Let's revisit our first NumPy exercise and try porting it to CuPy."
      ]
    },
    {
      "cell_type": "code",
      "execution_count": 1,
      "id": "cc4596d8-d9ff-4c66-8822-246c0fc830c7",
      "metadata": {
        "id": "cc4596d8-d9ff-4c66-8822-246c0fc830c7"
      },
      "outputs": [],
      "source": [
        "import numpy as np\n",
        "import cupy as cp\n",
        "\n",
        "xp = cp"
      ]
    },
    {
      "cell_type": "markdown",
      "id": "7535d7ab-1dd8-407a-bd30-7422e8391fc7",
      "metadata": {
        "id": "7535d7ab-1dd8-407a-bd30-7422e8391fc7"
      },
      "source": [
        "Create the input data array with the numbers `1` to `500_000_000`."
      ]
    },
    {
      "cell_type": "code",
      "execution_count": 2,
      "id": "5f1a613f-bc87-4950-b195-a66bb5bc05d3",
      "metadata": {
        "id": "5f1a613f-bc87-4950-b195-a66bb5bc05d3",
        "outputId": "46dd0e40-7783-42cd-ae39-62870cc31bb6",
        "colab": {
          "base_uri": "https://localhost:8080/"
        }
      },
      "outputs": [
        {
          "output_type": "execute_result",
          "data": {
            "text/plain": [
              "array([        1,         2,         3, ..., 499999998, 499999999,\n",
              "       500000000])"
            ]
          },
          "metadata": {},
          "execution_count": 2
        }
      ],
      "source": [
        "arr = xp.arange(1, 500_000_001)\n",
        "arr"
      ]
    },
    {
      "cell_type": "markdown",
      "id": "9b2a320b-b202-4d62-88de-981130756987",
      "metadata": {
        "id": "9b2a320b-b202-4d62-88de-981130756987"
      },
      "source": [
        "Calculate how large the array is in GB with `nbytes`."
      ]
    },
    {
      "cell_type": "code",
      "execution_count": 3,
      "id": "50530f2c-29bf-4061-8f84-bc5be00a5622",
      "metadata": {
        "id": "50530f2c-29bf-4061-8f84-bc5be00a5622",
        "outputId": "bd3dd7e0-30f9-42b9-d7f9-30f5f55048da",
        "colab": {
          "base_uri": "https://localhost:8080/"
        }
      },
      "outputs": [
        {
          "output_type": "execute_result",
          "data": {
            "text/plain": [
              "4.0"
            ]
          },
          "metadata": {},
          "execution_count": 3
        }
      ],
      "source": [
        "arr.nbytes / 1e9"
      ]
    },
    {
      "cell_type": "markdown",
      "id": "8dfdc34c-f616-491f-a0c6-8add195412f8",
      "metadata": {
        "id": "8dfdc34c-f616-491f-a0c6-8add195412f8"
      },
      "source": [
        "How many dimensions does the array have?"
      ]
    },
    {
      "cell_type": "code",
      "execution_count": 4,
      "id": "ffc15dad-e2fd-4b96-8b39-3496519d0656",
      "metadata": {
        "id": "ffc15dad-e2fd-4b96-8b39-3496519d0656",
        "outputId": "f9119121-08df-4bcb-d4c8-2d46e0ce6e20",
        "colab": {
          "base_uri": "https://localhost:8080/"
        }
      },
      "outputs": [
        {
          "output_type": "execute_result",
          "data": {
            "text/plain": [
              "1"
            ]
          },
          "metadata": {},
          "execution_count": 4
        }
      ],
      "source": [
        "arr.ndim # `len(arr.shape)` also works, but is longer to type."
      ]
    },
    {
      "cell_type": "markdown",
      "id": "ee24ecbe-2b39-43ea-9319-cdfa08f52fb1",
      "metadata": {
        "id": "ee24ecbe-2b39-43ea-9319-cdfa08f52fb1"
      },
      "source": [
        "How many elements does the array have?"
      ]
    },
    {
      "cell_type": "code",
      "execution_count": 5,
      "id": "b15cdf25-eb35-4926-b306-90ffd62b3d28",
      "metadata": {
        "id": "b15cdf25-eb35-4926-b306-90ffd62b3d28",
        "outputId": "64b4da0a-82f9-4a51-f491-dff927cc3a19",
        "colab": {
          "base_uri": "https://localhost:8080/"
        }
      },
      "outputs": [
        {
          "output_type": "execute_result",
          "data": {
            "text/plain": [
              "500000000"
            ]
          },
          "metadata": {},
          "execution_count": 5
        }
      ],
      "source": [
        "arr.size # For 1D array, `arr.shape[0]` also works, but `arr.size` multiplies the size of all dimensions."
      ]
    },
    {
      "cell_type": "markdown",
      "id": "c6cb7de1-20ef-4edf-a4b1-3abe40e83ab8",
      "metadata": {
        "id": "c6cb7de1-20ef-4edf-a4b1-3abe40e83ab8"
      },
      "source": [
        "What is the shape of the array?"
      ]
    },
    {
      "cell_type": "code",
      "execution_count": 6,
      "id": "63887722-c9d7-405e-a019-e75646115541",
      "metadata": {
        "id": "63887722-c9d7-405e-a019-e75646115541",
        "outputId": "a8cdf9ef-ac1c-4029-8911-b820058eab06",
        "colab": {
          "base_uri": "https://localhost:8080/"
        }
      },
      "outputs": [
        {
          "output_type": "execute_result",
          "data": {
            "text/plain": [
              "(500000000,)"
            ]
          },
          "metadata": {},
          "execution_count": 6
        }
      ],
      "source": [
        "arr.shape"
      ]
    },
    {
      "cell_type": "markdown",
      "id": "35f4e58d-9cbe-4e71-8b65-42f9460531e3",
      "metadata": {
        "id": "35f4e58d-9cbe-4e71-8b65-42f9460531e3"
      },
      "source": [
        "Create a new array with `5_000_000` elements containing equally spaced values between `0` to `1000` (inclusive)."
      ]
    },
    {
      "cell_type": "code",
      "execution_count": 7,
      "id": "1527b4f6-5d75-47d4-97e0-d0e78bbc59f9",
      "metadata": {
        "id": "1527b4f6-5d75-47d4-97e0-d0e78bbc59f9",
        "outputId": "d8af058f-3b33-4679-b82f-c3212164413d",
        "colab": {
          "base_uri": "https://localhost:8080/"
        }
      },
      "outputs": [
        {
          "output_type": "execute_result",
          "data": {
            "text/plain": [
              "array([0.0000000e+00, 2.0000004e-04, 4.0000008e-04, ..., 9.9999960e+02,\n",
              "       9.9999980e+02, 1.0000000e+03])"
            ]
          },
          "metadata": {},
          "execution_count": 7
        }
      ],
      "source": [
        "arr = xp.linspace(0, 1000, 5_000_000, endpoint=True)\n",
        "arr"
      ]
    },
    {
      "cell_type": "markdown",
      "id": "1e0b80a2-4bb0-40a0-82e6-366a47f26b43",
      "metadata": {
        "id": "1e0b80a2-4bb0-40a0-82e6-366a47f26b43"
      },
      "source": [
        "Create a random array that is `10_000` by `5_000`."
      ]
    },
    {
      "cell_type": "code",
      "execution_count": 8,
      "id": "2f51aa2e-b994-4a91-aed6-4a4632eb7050",
      "metadata": {
        "id": "2f51aa2e-b994-4a91-aed6-4a4632eb7050",
        "outputId": "ae2441a1-ebf1-40b4-f21c-1ef758901ed3",
        "colab": {
          "base_uri": "https://localhost:8080/"
        }
      },
      "outputs": [
        {
          "output_type": "execute_result",
          "data": {
            "text/plain": [
              "array([[0.08697936, 0.35322981, 0.62015544, ..., 0.2891082 , 0.40311846,\n",
              "        0.71151503],\n",
              "       [0.82498787, 0.77415564, 0.24219944, ..., 0.65722375, 0.95176224,\n",
              "        0.6986505 ],\n",
              "       [0.48013527, 0.86062076, 0.48969006, ..., 0.27731673, 0.47629988,\n",
              "        0.72536677],\n",
              "       ...,\n",
              "       [0.68989286, 0.28204957, 0.17000424, ..., 0.58732222, 0.77870015,\n",
              "        0.10759341],\n",
              "       [0.4248917 , 0.45121514, 0.68189309, ..., 0.44954367, 0.86652203,\n",
              "        0.76741138],\n",
              "       [0.11071949, 0.57219722, 0.12184321, ..., 0.44095288, 0.61739194,\n",
              "        0.40693866]])"
            ]
          },
          "metadata": {},
          "execution_count": 8
        }
      ],
      "source": [
        "arr = xp.random.rand(10_000, 5_000)\n",
        "arr"
      ]
    },
    {
      "cell_type": "markdown",
      "id": "f8ab4e20-cc42-4335-8a8a-bb695631185a",
      "metadata": {
        "id": "f8ab4e20-cc42-4335-8a8a-bb695631185a"
      },
      "source": [
        "Sort that array."
      ]
    },
    {
      "cell_type": "code",
      "execution_count": 9,
      "id": "4ec06270-6e08-4cce-9385-9dc8b53e95fd",
      "metadata": {
        "id": "4ec06270-6e08-4cce-9385-9dc8b53e95fd",
        "outputId": "91044444-9d20-48b9-b547-1dbcd8f567a7",
        "colab": {
          "base_uri": "https://localhost:8080/"
        }
      },
      "outputs": [
        {
          "output_type": "execute_result",
          "data": {
            "text/plain": [
              "array([[1.16741233e-04, 1.17541646e-04, 4.15504557e-04, ...,\n",
              "        9.99734881e-01, 9.99744017e-01, 9.99885151e-01],\n",
              "       [1.80565349e-04, 5.82297860e-04, 8.57890525e-04, ...,\n",
              "        9.99160672e-01, 9.99569890e-01, 9.99837684e-01],\n",
              "       [6.96403225e-05, 1.27802546e-04, 1.38072396e-04, ...,\n",
              "        9.99500184e-01, 9.99525861e-01, 9.99832929e-01],\n",
              "       ...,\n",
              "       [7.72478791e-05, 1.06358384e-03, 1.13901437e-03, ...,\n",
              "        9.99594387e-01, 9.99671377e-01, 9.99918528e-01],\n",
              "       [2.37144345e-04, 2.76253449e-04, 3.04364566e-04, ...,\n",
              "        9.99856679e-01, 9.99919582e-01, 9.99984767e-01],\n",
              "       [2.69970582e-04, 3.45351393e-04, 4.04881067e-04, ...,\n",
              "        9.99422333e-01, 9.99462723e-01, 9.99806676e-01]])"
            ]
          },
          "metadata": {},
          "execution_count": 9
        }
      ],
      "source": [
        "arr = xp.sort(arr)\n",
        "arr"
      ]
    },
    {
      "cell_type": "markdown",
      "id": "dc675e4c-66e6-4a9e-8f68-96802c7f96ad",
      "metadata": {
        "id": "dc675e4c-66e6-4a9e-8f68-96802c7f96ad"
      },
      "source": [
        "Reshape the CuPy array to have the last dimension of length `5`."
      ]
    },
    {
      "cell_type": "code",
      "execution_count": 10,
      "id": "cdde560b-5ba6-484c-a601-00b7ef71273d",
      "metadata": {
        "id": "cdde560b-5ba6-484c-a601-00b7ef71273d",
        "outputId": "5bcd30c0-fad5-4214-8961-1808a380ea31",
        "colab": {
          "base_uri": "https://localhost:8080/"
        }
      },
      "outputs": [
        {
          "output_type": "execute_result",
          "data": {
            "text/plain": [
              "array([[1.16741233e-04, 1.17541646e-04, 4.15504557e-04, 5.81784838e-04,\n",
              "        1.00899970e-03],\n",
              "       [1.72214471e-03, 1.79522131e-03, 1.81555425e-03, 2.64073945e-03,\n",
              "        2.72353152e-03],\n",
              "       [2.95934746e-03, 3.16724068e-03, 3.25417426e-03, 3.94284855e-03,\n",
              "        4.03170970e-03],\n",
              "       ...,\n",
              "       [9.97026304e-01, 9.97039507e-01, 9.97300173e-01, 9.97518830e-01,\n",
              "        9.97749822e-01],\n",
              "       [9.98397399e-01, 9.98412355e-01, 9.98623190e-01, 9.98625603e-01,\n",
              "        9.98942490e-01],\n",
              "       [9.99060315e-01, 9.99178188e-01, 9.99422333e-01, 9.99462723e-01,\n",
              "        9.99806676e-01]])"
            ]
          },
          "metadata": {},
          "execution_count": 10
        }
      ],
      "source": [
        "arr = arr.reshape((-1, 5))\n",
        "# -1 will infer the size of that dimension from the rest. Would also accept: arr.reshape((10_000_000, 5))\n",
        "arr"
      ]
    },
    {
      "cell_type": "markdown",
      "id": "32cf6010-c6d0-45a3-ae7c-1a8a88d0efc0",
      "metadata": {
        "id": "32cf6010-c6d0-45a3-ae7c-1a8a88d0efc0"
      },
      "source": [
        "Find the sum of each row. Rows are axis 0, but the sum is being applied across columns, which are axis 1."
      ]
    },
    {
      "cell_type": "code",
      "execution_count": 11,
      "id": "8e8c9ce0-c2ee-463c-a609-2da7fa0f61ec",
      "metadata": {
        "id": "8e8c9ce0-c2ee-463c-a609-2da7fa0f61ec",
        "outputId": "e7ed8bac-97aa-47fa-a201-6148485b257c",
        "colab": {
          "base_uri": "https://localhost:8080/"
        }
      },
      "outputs": [
        {
          "output_type": "execute_result",
          "data": {
            "text/plain": [
              "array([2.24057198e-03, 1.06971912e-02, 1.73553206e-02, ...,\n",
              "       4.98663464e+00, 4.99300104e+00, 4.99693023e+00])"
            ]
          },
          "metadata": {},
          "execution_count": 11
        }
      ],
      "source": [
        "arr_sum = xp.sum(arr, axis=1) # You could also write `arr.sum(axis=1)`.\n",
        "arr_sum"
      ]
    },
    {
      "cell_type": "markdown",
      "id": "93a890db-ca42-456c-9813-9c22a6f15fd7",
      "metadata": {
        "id": "93a890db-ca42-456c-9813-9c22a6f15fd7"
      },
      "source": [
        "Normalize each row of the original random array by dividing by the sum you just computed using broadcasting."
      ]
    },
    {
      "cell_type": "code",
      "execution_count": 12,
      "id": "31da458f-abdd-4694-9b52-6f7495e9b6cc",
      "metadata": {
        "id": "31da458f-abdd-4694-9b52-6f7495e9b6cc",
        "outputId": "9e603804-6a8f-4e8c-a0fc-52900504dcc5",
        "colab": {
          "base_uri": "https://localhost:8080/"
        }
      },
      "outputs": [
        {
          "output_type": "execute_result",
          "data": {
            "text/plain": [
              "array([[0.05210332, 0.05246055, 0.18544575, 0.25965907, 0.45033131],\n",
              "       [0.16099036, 0.16782175, 0.16972252, 0.24686288, 0.25460249],\n",
              "       [0.17051529, 0.18249393, 0.18750298, 0.22718385, 0.23230396],\n",
              "       ...,\n",
              "       [0.19993971, 0.19994236, 0.19999463, 0.20003848, 0.20008481],\n",
              "       [0.19995938, 0.19996238, 0.2000046 , 0.20000509, 0.20006855],\n",
              "       [0.19993481, 0.1999584 , 0.20000726, 0.20001534, 0.20008418]])"
            ]
          },
          "metadata": {},
          "execution_count": 12
        }
      ],
      "source": [
        "arr_normalized = arr / arr_sum[:, xp.newaxis]\n",
        "arr_normalized"
      ]
    },
    {
      "cell_type": "markdown",
      "id": "4525c0ac-dc5c-4255-a104-77fbca22bef4",
      "metadata": {
        "id": "4525c0ac-dc5c-4255-a104-77fbca22bef4"
      },
      "source": [
        "Prove that your normalized array is actually normalized by checking that every row sums to 1.\n",
        "\n",
        "If we try to use `np.testing.assert_allclose` with CuPy arrays, we get an error because CuPy arrays don't implicitly convert to NumPy arrays. We'll learn more about this in the next section."
      ]
    },
    {
      "cell_type": "code",
      "execution_count": 13,
      "id": "d84a0db9-9983-4c25-ae10-7a5b937afb59",
      "metadata": {
        "id": "d84a0db9-9983-4c25-ae10-7a5b937afb59"
      },
      "outputs": [],
      "source": [
        "xp.testing.assert_allclose(xp.sum(arr_normalized, axis=1), 1.0)"
      ]
    },
    {
      "cell_type": "markdown",
      "source": [
        "Let's benchmark CuPy's sort against NumPy's sort by discretizing a sine function with `50_000_000` elements."
      ],
      "metadata": {
        "id": "AxU_hG5M-LKS"
      },
      "id": "AxU_hG5M-LKS"
    },
    {
      "cell_type": "code",
      "source": [
        "import cupyx as cpx\n",
        "\n",
        "arr_np = np.sin(np.linspace(0, 2 * np.pi, 50_000, endpoint=False))\n",
        "arr_cp = cp.sin(cp.linspace(0, 2 * cp.pi, 50_000, endpoint=False))\n",
        "\n",
        "print(\"NumPy Execution Time\")\n",
        "print(cpx.profiler.benchmark(lambda: np.sort(arr_np), n_repeat=10, n_warmup=1))\n",
        "\n",
        "print()\n",
        "\n",
        "print(\"CuPy Execution Time\")\n",
        "print(cpx.profiler.benchmark(lambda: cp.sort(arr_cp), n_repeat=10, n_warmup=1))"
      ],
      "metadata": {
        "id": "EKwfS_iM9Yps",
        "outputId": "76fc8ef1-b483-4103-cfe6-0c368d406f17",
        "colab": {
          "base_uri": "https://localhost:8080/"
        }
      },
      "id": "EKwfS_iM9Yps",
      "execution_count": 14,
      "outputs": [
        {
          "output_type": "stream",
          "name": "stdout",
          "text": [
            "NumPy Execution Time\n",
            "<lambda>            :    CPU:  1261.982 us   +/- 189.131 (min:  1124.969 / max:  1809.100) us     GPU-0:  1281.686 us   +/- 189.990 (min:  1144.960 / max:  1830.912) us\n",
            "\n",
            "CuPy Execution Time\n",
            "<lambda>            :    CPU:   173.710 us   +/- 13.717 (min:   157.797 / max:   203.904) us     GPU-0:   181.472 us   +/- 14.138 (min:   165.280 / max:   210.944) us\n"
          ]
        }
      ]
    },
    {
      "cell_type": "markdown",
      "source": [
        "Notice how both the CPU and GPU times are reported? This requires a little explanation.\n",
        "\n",
        "`cupyx.profiler.benchmark` will synchronize with the GPU before launching the benchmark,\n",
        "\n",
        "The CPU time is the overall time - how long the entire operation took. If you timed the operation yourself on your watch, this is the time you'd get. It includes:\n",
        "- The time spent running code on the CPU.\n",
        "- The time spent launching work on the GPU.\n",
        "- The time spent waiting for the work on the GPU to finish.\n",
        "\n",
        "The GPU time is how long the GPU spent doing computations. It excludes launch and synchronization costs.\n",
        "\n",
        "Now, let's do a parameter sweep to find the size at which CuPy will beat NumPy for this problem."
      ],
      "metadata": {
        "id": "RqRvPAHTSvb2"
      },
      "id": "RqRvPAHTSvb2"
    },
    {
      "cell_type": "code",
      "source": [
        "repeat = 10\n",
        "warmup = 1\n",
        "sizes = [5_000, 50_000, 500_000, 5_000_000, 50_000_000]\n",
        "times_np = []\n",
        "times_cp = []\n",
        "\n",
        "for n in sizes:\n",
        "  arr_np = np.sin(np.linspace(0, 2 * np.pi, n, endpoint=False))\n",
        "  arr_cp = cp.sin(cp.linspace(0, 2 * cp.pi, n, endpoint=False))\n",
        "\n",
        "  b_np = cpx.profiler.benchmark(\n",
        "    lambda: np.sort(arr_np), n_repeat=repeat, n_warmup=warmup\n",
        "  )\n",
        "  b_cp = cpx.profiler.benchmark(\n",
        "    lambda: cp.sort(arr_cp), n_repeat=repeat, n_warmup=warmup\n",
        "  )\n",
        "  times_np.append(b_np.cpu_times.mean())\n",
        "  times_cp.append(b_cp.cpu_times.mean())"
      ],
      "metadata": {
        "id": "ygAPXtEGUz9H"
      },
      "id": "ygAPXtEGUz9H",
      "execution_count": 15,
      "outputs": []
    },
    {
      "cell_type": "code",
      "source": [
        "import matplotlib.pyplot as plt\n",
        "\n",
        "plt.plot(sizes, times_np, marker='o', label='NumPy')\n",
        "plt.plot(sizes, times_cp, marker='o', label='CuPy')\n",
        "\n",
        "for x, y in zip(sizes, times_np):\n",
        "  plt.text(x, y, f'{y:.3g}', va='bottom', ha='right')\n",
        "for x, y in zip(sizes, times_cp):\n",
        "  plt.text(x, y, f'{y:.3g}', va='top', ha='left')\n",
        "\n",
        "plt.xscale('log')\n",
        "plt.yscale('log')\n",
        "\n",
        "plt.title('CuPy vs Numpy Sort (Overall Execution Time)')\n",
        "plt.xlabel('Size [elements]')\n",
        "plt.ylabel('Time [s]')\n",
        "\n",
        "plt.legend()\n",
        "\n",
        "plt.grid(True)\n",
        "\n",
        "plt.show()"
      ],
      "metadata": {
        "id": "vHp3Eb5WXSWM",
        "outputId": "1a731ccd-1f52-4cb5-dc1d-a61b0376ee6d",
        "colab": {
          "base_uri": "https://localhost:8080/",
          "height": 476
        }
      },
      "id": "vHp3Eb5WXSWM",
      "execution_count": 16,
      "outputs": [
        {
          "output_type": "display_data",
          "data": {
            "text/plain": [
              "<Figure size 640x480 with 1 Axes>"
            ],
            "image/png": "[encoded data removed]"
          },
          "metadata": {}
        }
      ]
    }
  ],
  "metadata": {
    "kernelspec": {
     "display_name": "training-pyhpc-2025",
     "language": "python",
     "name": "pyhpc-2025"
    },
    "language_info": {
      "codemirror_mode": {
        "name": "ipython",
        "version": 3
      },
      "file_extension": ".py",
      "mimetype": "text/x-python",
      "name": "python",
      "nbconvert_exporter": "python",
      "pygments_lexer": "ipython3",
      "version": "3.12.11"
    },
    "colab": {
      "provenance": [],
      "gpuType": "T4"
    },
    "accelerator": "GPU"
  },
  "nbformat": 4,
  "nbformat_minor": 5
}
