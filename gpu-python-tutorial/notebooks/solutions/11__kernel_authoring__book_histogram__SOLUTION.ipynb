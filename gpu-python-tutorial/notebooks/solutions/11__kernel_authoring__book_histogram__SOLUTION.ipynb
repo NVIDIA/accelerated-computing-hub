{
  "cells": [
    {
      "cell_type": "markdown",
      "id": "f1a8560a-c91b-48db-af1c-18fcd4892448",
      "metadata": {
        "id": "f1a8560a-c91b-48db-af1c-18fcd4892448"
      },
      "source": [
        "# Exercise - Kernel Authoring - Book Histogram - SOLUTION\n",
        "\n",
        "Let's learn to use some advanced CUDA features like shared memory, atomics, and [cuda.cooperative](https://nvidia.github.io/cccl/python/cooperative.html) to write an efficient histogram kernel to determine the most frequent characters in a collection of books.\n",
        "\n",
        "First, let's download our dataset."
      ]
    },
    {
      "cell_type": "code",
      "execution_count": 1,
      "id": "ce42d5e5-db1e-46da-a64a-831d0f3d59ff",
      "metadata": {
        "collapsed": true,
        "id": "ce42d5e5-db1e-46da-a64a-831d0f3d59ff",
        "outputId": "82476ba6-de3a-459e-9fab-aa382de4e9c0",
        "colab": {
          "base_uri": "https://localhost:8080/"
        }
      },
      "outputs": [
        {
          "output_type": "stream",
          "name": "stdout",
          "text": [
            "  % Total    % Received % Xferd  Average Speed   Time    Time     Time  Current\n",
            "                                 Dload  Upload   Total   Spent    Left  Speed\n",
            "  0     0    0     0    0     0      0      0 --:--:-- --:--:-- --:--:--     0\n",
            "100  167M  100  167M    0     0  30.1M      0  0:00:05  0:00:05 --:--:-- 34.8M\n",
            "Selecting previously unselected package nsight-systems-cli-2025.3.1.\n",
            "(Reading database ... 126666 files and directories currently installed.)\n",
            "Preparing to unpack NsightSystems-linux-cli-public-2025.3.1.90-3582212.deb ...\n",
            "Unpacking nsight-systems-cli-2025.3.1 (2025.3.1.90-253135822126v0) ...\n",
            "Setting up nsight-systems-cli-2025.3.1 (2025.3.1.90-253135822126v0) ...\n",
            "update-alternatives: using /opt/nvidia/nsight-systems-cli/2025.3.1/target-linux-x64/nsys to provide /usr/local/bin/nsys (nsys) in auto mode\n",
            "Found existing installation: cuda-python 12.6.2.post1\n",
            "Uninstalling cuda-python-12.6.2.post1:\n",
            "  Successfully uninstalled cuda-python-12.6.2.post1\n",
            "Collecting nsightful@ git+https://github.com/brycelelbach/nsightful.git (from nsightful[notebook]@ git+https://github.com/brycelelbach/nsightful.git)\n",
            "  Cloning https://github.com/brycelelbach/nsightful.git to /tmp/pip-install-4goihj_9/nsightful_3af8ed2dc1f549f9b22f3b6b00cdcd65\n",
            "  Running command git clone --filter=blob:none --quiet https://github.com/brycelelbach/nsightful.git /tmp/pip-install-4goihj_9/nsightful_3af8ed2dc1f549f9b22f3b6b00cdcd65\n",
            "  Resolved https://github.com/brycelelbach/nsightful.git to commit 0f20399625eda42b6edd6c1d258b88315e27a433\n",
            "  Installing build dependencies ... \u001b[?25l\u001b[?25hdone\n",
            "  Getting requirements to build wheel ... \u001b[?25l\u001b[?25hdone\n",
            "  Preparing metadata (pyproject.toml) ... \u001b[?25l\u001b[?25hdone\n",
            "Requirement already satisfied: numba-cuda in /usr/local/lib/python3.12/dist-packages (0.11.0)\n",
            "Collecting cuda-cccl[test-cu12]\n",
            "  Downloading cuda_cccl-0.2.1-cp312-cp312-manylinux_2_26_x86_64.whl.metadata (1.7 kB)\n",
            "Requirement already satisfied: numba>=0.59.1 in /usr/local/lib/python3.12/dist-packages (from numba-cuda) (0.60.0)\n",
            "Requirement already satisfied: numpy in /usr/local/lib/python3.12/dist-packages (from cuda-cccl[test-cu12]) (2.0.2)\n",
            "Collecting cuda-pathfinder>=1.2.3 (from cuda-cccl[test-cu12])\n",
            "  Downloading cuda_pathfinder-1.3.0-py3-none-any.whl.metadata (3.4 kB)\n",
            "Collecting cuda-core (from cuda-cccl[test-cu12])\n",
            "  Downloading cuda_core-0.3.2-cp312-cp312-manylinux_2_24_x86_64.manylinux_2_28_x86_64.whl.metadata (3.6 kB)\n",
            "Collecting numba-cuda\n",
            "  Downloading numba_cuda-0.20.0-py3-none-any.whl.metadata (3.7 kB)\n",
            "Collecting llvmlite==0.44 (from cuda-cccl[test-cu12])\n",
            "  Downloading llvmlite-0.44.0-cp312-cp312-manylinux_2_17_x86_64.manylinux2014_x86_64.whl.metadata (5.0 kB)\n",
            "Requirement already satisfied: pytest in /usr/local/lib/python3.12/dist-packages (from cuda-cccl[test-cu12]) (8.4.2)\n",
            "Collecting pytest-xdist (from cuda-cccl[test-cu12])\n",
            "  Downloading pytest_xdist-3.8.0-py3-none-any.whl.metadata (3.0 kB)\n",
            "Requirement already satisfied: cupy-cuda12x in /usr/local/lib/python3.12/dist-packages (from cuda-cccl[test-cu12]) (13.3.0)\n",
            "Requirement already satisfied: typing_extensions in /usr/local/lib/python3.12/dist-packages (from cuda-cccl[test-cu12]) (4.15.0)\n",
            "Collecting pytest-benchmark (from cuda-cccl[test-cu12])\n",
            "  Downloading pytest_benchmark-5.1.0-py3-none-any.whl.metadata (25 kB)\n",
            "Requirement already satisfied: ipywidgets>=7.0.0 in /usr/local/lib/python3.12/dist-packages (from nsightful@ git+https://github.com/brycelelbach/nsightful.git->nsightful[notebook]@ git+https://github.com/brycelelbach/nsightful.git) (7.7.1)\n",
            "Requirement already satisfied: IPython>=7.0.0 in /usr/local/lib/python3.12/dist-packages (from nsightful@ git+https://github.com/brycelelbach/nsightful.git->nsightful[notebook]@ git+https://github.com/brycelelbach/nsightful.git) (7.34.0)\n",
            "Requirement already satisfied: setuptools>=18.5 in /usr/local/lib/python3.12/dist-packages (from IPython>=7.0.0->nsightful@ git+https://github.com/brycelelbach/nsightful.git->nsightful[notebook]@ git+https://github.com/brycelelbach/nsightful.git) (75.2.0)\n",
            "Collecting jedi>=0.16 (from IPython>=7.0.0->nsightful@ git+https://github.com/brycelelbach/nsightful.git->nsightful[notebook]@ git+https://github.com/brycelelbach/nsightful.git)\n",
            "  Downloading jedi-0.19.2-py2.py3-none-any.whl.metadata (22 kB)\n",
            "Requirement already satisfied: decorator in /usr/local/lib/python3.12/dist-packages (from IPython>=7.0.0->nsightful@ git+https://github.com/brycelelbach/nsightful.git->nsightful[notebook]@ git+https://github.com/brycelelbach/nsightful.git) (4.4.2)\n",
            "Requirement already satisfied: pickleshare in /usr/local/lib/python3.12/dist-packages (from IPython>=7.0.0->nsightful@ git+https://github.com/brycelelbach/nsightful.git->nsightful[notebook]@ git+https://github.com/brycelelbach/nsightful.git) (0.7.5)\n",
            "Requirement already satisfied: traitlets>=4.2 in /usr/local/lib/python3.12/dist-packages (from IPython>=7.0.0->nsightful@ git+https://github.com/brycelelbach/nsightful.git->nsightful[notebook]@ git+https://github.com/brycelelbach/nsightful.git) (5.7.1)\n",
            "Requirement already satisfied: prompt-toolkit!=3.0.0,!=3.0.1,<3.1.0,>=2.0.0 in /usr/local/lib/python3.12/dist-packages (from IPython>=7.0.0->nsightful@ git+https://github.com/brycelelbach/nsightful.git->nsightful[notebook]@ git+https://github.com/brycelelbach/nsightful.git) (3.0.52)\n",
            "Requirement already satisfied: pygments in /usr/local/lib/python3.12/dist-packages (from IPython>=7.0.0->nsightful@ git+https://github.com/brycelelbach/nsightful.git->nsightful[notebook]@ git+https://github.com/brycelelbach/nsightful.git) (2.19.2)\n",
            "Requirement already satisfied: backcall in /usr/local/lib/python3.12/dist-packages (from IPython>=7.0.0->nsightful@ git+https://github.com/brycelelbach/nsightful.git->nsightful[notebook]@ git+https://github.com/brycelelbach/nsightful.git) (0.2.0)\n",
            "Requirement already satisfied: matplotlib-inline in /usr/local/lib/python3.12/dist-packages (from IPython>=7.0.0->nsightful@ git+https://github.com/brycelelbach/nsightful.git->nsightful[notebook]@ git+https://github.com/brycelelbach/nsightful.git) (0.1.7)\n",
            "Requirement already satisfied: pexpect>4.3 in /usr/local/lib/python3.12/dist-packages (from IPython>=7.0.0->nsightful@ git+https://github.com/brycelelbach/nsightful.git->nsightful[notebook]@ git+https://github.com/brycelelbach/nsightful.git) (4.9.0)\n",
            "Requirement already satisfied: ipykernel>=4.5.1 in /usr/local/lib/python3.12/dist-packages (from ipywidgets>=7.0.0->nsightful@ git+https://github.com/brycelelbach/nsightful.git->nsightful[notebook]@ git+https://github.com/brycelelbach/nsightful.git) (6.17.1)\n",
            "Requirement already satisfied: ipython-genutils~=0.2.0 in /usr/local/lib/python3.12/dist-packages (from ipywidgets>=7.0.0->nsightful@ git+https://github.com/brycelelbach/nsightful.git->nsightful[notebook]@ git+https://github.com/brycelelbach/nsightful.git) (0.2.0)\n",
            "Requirement already satisfied: widgetsnbextension~=3.6.0 in /usr/local/lib/python3.12/dist-packages (from ipywidgets>=7.0.0->nsightful@ git+https://github.com/brycelelbach/nsightful.git->nsightful[notebook]@ git+https://github.com/brycelelbach/nsightful.git) (3.6.10)\n",
            "Requirement already satisfied: jupyterlab-widgets>=1.0.0 in /usr/local/lib/python3.12/dist-packages (from ipywidgets>=7.0.0->nsightful@ git+https://github.com/brycelelbach/nsightful.git->nsightful[notebook]@ git+https://github.com/brycelelbach/nsightful.git) (3.0.15)\n",
            "INFO: pip is looking at multiple versions of numba to determine which version is compatible with other requirements. This could take a while.\n",
            "Collecting numba>=0.60.0 (from cuda-cccl[test-cu12])\n",
            "  Downloading numba-0.62.1-cp312-cp312-manylinux2014_x86_64.manylinux_2_17_x86_64.whl.metadata (2.8 kB)\n",
            "  Downloading numba-0.62.0-cp312-cp312-manylinux2014_x86_64.manylinux_2_17_x86_64.whl.metadata (2.8 kB)\n",
            "  Downloading numba-0.61.2-cp312-cp312-manylinux2014_x86_64.manylinux_2_17_x86_64.whl.metadata (2.8 kB)\n",
            "Collecting cuda-bindings<13.0.0,>=12.9.1 (from cuda-cccl[test-cu12])\n",
            "  Downloading cuda_bindings-12.9.2-cp312-cp312-manylinux_2_24_x86_64.manylinux_2_28_x86_64.whl.metadata (2.6 kB)\n",
            "Collecting cuda-toolkit==12.* (from cuda-toolkit[cudart,nvcc,nvjitlink,nvrtc]==12.*; extra == \"cu12\"->cuda-cccl[test-cu12])\n",
            "  Downloading cuda_toolkit-12.9.1-py2.py3-none-any.whl.metadata (8.6 kB)\n",
            "Collecting nvidia-cuda-runtime-cu12==12.9.79.* (from cuda-toolkit[cudart,nvcc,nvjitlink,nvrtc]==12.*; extra == \"cu12\"->cuda-cccl[test-cu12])\n",
            "  Downloading nvidia_cuda_runtime_cu12-12.9.79-py3-none-manylinux2014_x86_64.manylinux_2_17_x86_64.whl.metadata (1.7 kB)\n",
            "Collecting nvidia-cuda-nvcc-cu12==12.9.86.* (from cuda-toolkit[cudart,nvcc,nvjitlink,nvrtc]==12.*; extra == \"cu12\"->cuda-cccl[test-cu12])\n",
            "  Downloading nvidia_cuda_nvcc_cu12-12.9.86-py3-none-manylinux2010_x86_64.manylinux_2_12_x86_64.whl.metadata (1.7 kB)\n",
            "Collecting nvidia-nvjitlink-cu12==12.9.86.* (from cuda-toolkit[cudart,nvcc,nvjitlink,nvrtc]==12.*; extra == \"cu12\"->cuda-cccl[test-cu12])\n",
            "  Downloading nvidia_nvjitlink_cu12-12.9.86-py3-none-manylinux2010_x86_64.manylinux_2_12_x86_64.whl.metadata (1.7 kB)\n",
            "Collecting nvidia-cuda-nvrtc-cu12==12.9.86.* (from cuda-toolkit[cudart,nvcc,nvjitlink,nvrtc]==12.*; extra == \"cu12\"->cuda-cccl[test-cu12])\n",
            "  Downloading nvidia_cuda_nvrtc_cu12-12.9.86-py3-none-manylinux2010_x86_64.manylinux_2_12_x86_64.whl.metadata (1.7 kB)\n",
            "Requirement already satisfied: fastrlock>=0.5 in /usr/local/lib/python3.12/dist-packages (from cupy-cuda12x->cuda-cccl[test-cu12]) (0.8.3)\n",
            "Requirement already satisfied: iniconfig>=1 in /usr/local/lib/python3.12/dist-packages (from pytest->cuda-cccl[test-cu12]) (2.1.0)\n",
            "Requirement already satisfied: packaging>=20 in /usr/local/lib/python3.12/dist-packages (from pytest->cuda-cccl[test-cu12]) (25.0)\n",
            "Requirement already satisfied: pluggy<2,>=1.5 in /usr/local/lib/python3.12/dist-packages (from pytest->cuda-cccl[test-cu12]) (1.6.0)\n",
            "Requirement already satisfied: py-cpuinfo in /usr/local/lib/python3.12/dist-packages (from pytest-benchmark->cuda-cccl[test-cu12]) (9.0.0)\n",
            "Collecting execnet>=2.1 (from pytest-xdist->cuda-cccl[test-cu12])\n",
            "  Downloading execnet-2.1.1-py3-none-any.whl.metadata (2.9 kB)\n",
            "Requirement already satisfied: debugpy>=1.0 in /usr/local/lib/python3.12/dist-packages (from ipykernel>=4.5.1->ipywidgets>=7.0.0->nsightful@ git+https://github.com/brycelelbach/nsightful.git->nsightful[notebook]@ git+https://github.com/brycelelbach/nsightful.git) (1.8.15)\n",
            "Requirement already satisfied: jupyter-client>=6.1.12 in /usr/local/lib/python3.12/dist-packages (from ipykernel>=4.5.1->ipywidgets>=7.0.0->nsightful@ git+https://github.com/brycelelbach/nsightful.git->nsightful[notebook]@ git+https://github.com/brycelelbach/nsightful.git) (7.4.9)\n",
            "Requirement already satisfied: nest-asyncio in /usr/local/lib/python3.12/dist-packages (from ipykernel>=4.5.1->ipywidgets>=7.0.0->nsightful@ git+https://github.com/brycelelbach/nsightful.git->nsightful[notebook]@ git+https://github.com/brycelelbach/nsightful.git) (1.6.0)\n",
            "Requirement already satisfied: psutil in /usr/local/lib/python3.12/dist-packages (from ipykernel>=4.5.1->ipywidgets>=7.0.0->nsightful@ git+https://github.com/brycelelbach/nsightful.git->nsightful[notebook]@ git+https://github.com/brycelelbach/nsightful.git) (5.9.5)\n",
            "Requirement already satisfied: pyzmq>=17 in /usr/local/lib/python3.12/dist-packages (from ipykernel>=4.5.1->ipywidgets>=7.0.0->nsightful@ git+https://github.com/brycelelbach/nsightful.git->nsightful[notebook]@ git+https://github.com/brycelelbach/nsightful.git) (26.2.1)\n",
            "Requirement already satisfied: tornado>=6.1 in /usr/local/lib/python3.12/dist-packages (from ipykernel>=4.5.1->ipywidgets>=7.0.0->nsightful@ git+https://github.com/brycelelbach/nsightful.git->nsightful[notebook]@ git+https://github.com/brycelelbach/nsightful.git) (6.4.2)\n",
            "Requirement already satisfied: parso<0.9.0,>=0.8.4 in /usr/local/lib/python3.12/dist-packages (from jedi>=0.16->IPython>=7.0.0->nsightful@ git+https://github.com/brycelelbach/nsightful.git->nsightful[notebook]@ git+https://github.com/brycelelbach/nsightful.git) (0.8.5)\n",
            "Requirement already satisfied: ptyprocess>=0.5 in /usr/local/lib/python3.12/dist-packages (from pexpect>4.3->IPython>=7.0.0->nsightful@ git+https://github.com/brycelelbach/nsightful.git->nsightful[notebook]@ git+https://github.com/brycelelbach/nsightful.git) (0.7.0)\n",
            "Requirement already satisfied: wcwidth in /usr/local/lib/python3.12/dist-packages (from prompt-toolkit!=3.0.0,!=3.0.1,<3.1.0,>=2.0.0->IPython>=7.0.0->nsightful@ git+https://github.com/brycelelbach/nsightful.git->nsightful[notebook]@ git+https://github.com/brycelelbach/nsightful.git) (0.2.13)\n",
            "Requirement already satisfied: notebook>=4.4.1 in /usr/local/lib/python3.12/dist-packages (from widgetsnbextension~=3.6.0->ipywidgets>=7.0.0->nsightful@ git+https://github.com/brycelelbach/nsightful.git->nsightful[notebook]@ git+https://github.com/brycelelbach/nsightful.git) (6.5.7)\n",
            "Collecting cuda-python==12.9.* (from numba-cuda[cu12]; extra == \"cu12\"->cuda-cccl[test-cu12])\n",
            "  Downloading cuda_python-12.9.2-py3-none-any.whl.metadata (4.7 kB)\n",
            "Collecting nvidia-cuda-cccl-cu12 (from numba-cuda[cu12]; extra == \"cu12\"->cuda-cccl[test-cu12])\n",
            "  Downloading nvidia_cuda_cccl_cu12-12.9.27-py3-none-manylinux2014_x86_64.manylinux_2_17_x86_64.whl.metadata (1.7 kB)\n",
            "Requirement already satisfied: entrypoints in /usr/local/lib/python3.12/dist-packages (from jupyter-client>=6.1.12->ipykernel>=4.5.1->ipywidgets>=7.0.0->nsightful@ git+https://github.com/brycelelbach/nsightful.git->nsightful[notebook]@ git+https://github.com/brycelelbach/nsightful.git) (0.4)\n",
            "Requirement already satisfied: jupyter-core>=4.9.2 in /usr/local/lib/python3.12/dist-packages (from jupyter-client>=6.1.12->ipykernel>=4.5.1->ipywidgets>=7.0.0->nsightful@ git+https://github.com/brycelelbach/nsightful.git->nsightful[notebook]@ git+https://github.com/brycelelbach/nsightful.git) (5.8.1)\n",
            "Requirement already satisfied: python-dateutil>=2.8.2 in /usr/local/lib/python3.12/dist-packages (from jupyter-client>=6.1.12->ipykernel>=4.5.1->ipywidgets>=7.0.0->nsightful@ git+https://github.com/brycelelbach/nsightful.git->nsightful[notebook]@ git+https://github.com/brycelelbach/nsightful.git) (2.9.0.post0)\n",
            "Requirement already satisfied: jinja2 in /usr/local/lib/python3.12/dist-packages (from notebook>=4.4.1->widgetsnbextension~=3.6.0->ipywidgets>=7.0.0->nsightful@ git+https://github.com/brycelelbach/nsightful.git->nsightful[notebook]@ git+https://github.com/brycelelbach/nsightful.git) (3.1.6)\n",
            "Requirement already satisfied: argon2-cffi in /usr/local/lib/python3.12/dist-packages (from notebook>=4.4.1->widgetsnbextension~=3.6.0->ipywidgets>=7.0.0->nsightful@ git+https://github.com/brycelelbach/nsightful.git->nsightful[notebook]@ git+https://github.com/brycelelbach/nsightful.git) (25.1.0)\n",
            "Requirement already satisfied: nbformat in /usr/local/lib/python3.12/dist-packages (from notebook>=4.4.1->widgetsnbextension~=3.6.0->ipywidgets>=7.0.0->nsightful@ git+https://github.com/brycelelbach/nsightful.git->nsightful[notebook]@ git+https://github.com/brycelelbach/nsightful.git) (5.10.4)\n",
            "Requirement already satisfied: nbconvert>=5 in /usr/local/lib/python3.12/dist-packages (from notebook>=4.4.1->widgetsnbextension~=3.6.0->ipywidgets>=7.0.0->nsightful@ git+https://github.com/brycelelbach/nsightful.git->nsightful[notebook]@ git+https://github.com/brycelelbach/nsightful.git) (7.16.6)\n",
            "Requirement already satisfied: Send2Trash>=1.8.0 in /usr/local/lib/python3.12/dist-packages (from notebook>=4.4.1->widgetsnbextension~=3.6.0->ipywidgets>=7.0.0->nsightful@ git+https://github.com/brycelelbach/nsightful.git->nsightful[notebook]@ git+https://github.com/brycelelbach/nsightful.git) (1.8.3)\n",
            "Requirement already satisfied: terminado>=0.8.3 in /usr/local/lib/python3.12/dist-packages (from notebook>=4.4.1->widgetsnbextension~=3.6.0->ipywidgets>=7.0.0->nsightful@ git+https://github.com/brycelelbach/nsightful.git->nsightful[notebook]@ git+https://github.com/brycelelbach/nsightful.git) (0.18.1)\n",
            "Requirement already satisfied: prometheus-client in /usr/local/lib/python3.12/dist-packages (from notebook>=4.4.1->widgetsnbextension~=3.6.0->ipywidgets>=7.0.0->nsightful@ git+https://github.com/brycelelbach/nsightful.git->nsightful[notebook]@ git+https://github.com/brycelelbach/nsightful.git) (0.22.1)\n",
            "Requirement already satisfied: nbclassic>=0.4.7 in /usr/local/lib/python3.12/dist-packages (from notebook>=4.4.1->widgetsnbextension~=3.6.0->ipywidgets>=7.0.0->nsightful@ git+https://github.com/brycelelbach/nsightful.git->nsightful[notebook]@ git+https://github.com/brycelelbach/nsightful.git) (1.3.3)\n",
            "Requirement already satisfied: platformdirs>=2.5 in /usr/local/lib/python3.12/dist-packages (from jupyter-core>=4.9.2->jupyter-client>=6.1.12->ipykernel>=4.5.1->ipywidgets>=7.0.0->nsightful@ git+https://github.com/brycelelbach/nsightful.git->nsightful[notebook]@ git+https://github.com/brycelelbach/nsightful.git) (4.4.0)\n",
            "Requirement already satisfied: notebook-shim>=0.2.3 in /usr/local/lib/python3.12/dist-packages (from nbclassic>=0.4.7->notebook>=4.4.1->widgetsnbextension~=3.6.0->ipywidgets>=7.0.0->nsightful@ git+https://github.com/brycelelbach/nsightful.git->nsightful[notebook]@ git+https://github.com/brycelelbach/nsightful.git) (0.2.4)\n",
            "Requirement already satisfied: beautifulsoup4 in /usr/local/lib/python3.12/dist-packages (from nbconvert>=5->notebook>=4.4.1->widgetsnbextension~=3.6.0->ipywidgets>=7.0.0->nsightful@ git+https://github.com/brycelelbach/nsightful.git->nsightful[notebook]@ git+https://github.com/brycelelbach/nsightful.git) (4.13.5)\n",
            "Requirement already satisfied: bleach!=5.0.0 in /usr/local/lib/python3.12/dist-packages (from bleach[css]!=5.0.0->nbconvert>=5->notebook>=4.4.1->widgetsnbextension~=3.6.0->ipywidgets>=7.0.0->nsightful@ git+https://github.com/brycelelbach/nsightful.git->nsightful[notebook]@ git+https://github.com/brycelelbach/nsightful.git) (6.2.0)\n",
            "Requirement already satisfied: defusedxml in /usr/local/lib/python3.12/dist-packages (from nbconvert>=5->notebook>=4.4.1->widgetsnbextension~=3.6.0->ipywidgets>=7.0.0->nsightful@ git+https://github.com/brycelelbach/nsightful.git->nsightful[notebook]@ git+https://github.com/brycelelbach/nsightful.git) (0.7.1)\n",
            "Requirement already satisfied: jupyterlab-pygments in /usr/local/lib/python3.12/dist-packages (from nbconvert>=5->notebook>=4.4.1->widgetsnbextension~=3.6.0->ipywidgets>=7.0.0->nsightful@ git+https://github.com/brycelelbach/nsightful.git->nsightful[notebook]@ git+https://github.com/brycelelbach/nsightful.git) (0.3.0)\n",
            "Requirement already satisfied: markupsafe>=2.0 in /usr/local/lib/python3.12/dist-packages (from nbconvert>=5->notebook>=4.4.1->widgetsnbextension~=3.6.0->ipywidgets>=7.0.0->nsightful@ git+https://github.com/brycelelbach/nsightful.git->nsightful[notebook]@ git+https://github.com/brycelelbach/nsightful.git) (3.0.2)\n",
            "Requirement already satisfied: mistune<4,>=2.0.3 in /usr/local/lib/python3.12/dist-packages (from nbconvert>=5->notebook>=4.4.1->widgetsnbextension~=3.6.0->ipywidgets>=7.0.0->nsightful@ git+https://github.com/brycelelbach/nsightful.git->nsightful[notebook]@ git+https://github.com/brycelelbach/nsightful.git) (3.1.4)\n",
            "Requirement already satisfied: nbclient>=0.5.0 in /usr/local/lib/python3.12/dist-packages (from nbconvert>=5->notebook>=4.4.1->widgetsnbextension~=3.6.0->ipywidgets>=7.0.0->nsightful@ git+https://github.com/brycelelbach/nsightful.git->nsightful[notebook]@ git+https://github.com/brycelelbach/nsightful.git) (0.10.2)\n",
            "Requirement already satisfied: pandocfilters>=1.4.1 in /usr/local/lib/python3.12/dist-packages (from nbconvert>=5->notebook>=4.4.1->widgetsnbextension~=3.6.0->ipywidgets>=7.0.0->nsightful@ git+https://github.com/brycelelbach/nsightful.git->nsightful[notebook]@ git+https://github.com/brycelelbach/nsightful.git) (1.5.1)\n",
            "Requirement already satisfied: fastjsonschema>=2.15 in /usr/local/lib/python3.12/dist-packages (from nbformat->notebook>=4.4.1->widgetsnbextension~=3.6.0->ipywidgets>=7.0.0->nsightful@ git+https://github.com/brycelelbach/nsightful.git->nsightful[notebook]@ git+https://github.com/brycelelbach/nsightful.git) (2.21.2)\n",
            "Requirement already satisfied: jsonschema>=2.6 in /usr/local/lib/python3.12/dist-packages (from nbformat->notebook>=4.4.1->widgetsnbextension~=3.6.0->ipywidgets>=7.0.0->nsightful@ git+https://github.com/brycelelbach/nsightful.git->nsightful[notebook]@ git+https://github.com/brycelelbach/nsightful.git) (4.25.1)\n",
            "Requirement already satisfied: six>=1.5 in /usr/local/lib/python3.12/dist-packages (from python-dateutil>=2.8.2->jupyter-client>=6.1.12->ipykernel>=4.5.1->ipywidgets>=7.0.0->nsightful@ git+https://github.com/brycelelbach/nsightful.git->nsightful[notebook]@ git+https://github.com/brycelelbach/nsightful.git) (1.17.0)\n",
            "Requirement already satisfied: argon2-cffi-bindings in /usr/local/lib/python3.12/dist-packages (from argon2-cffi->notebook>=4.4.1->widgetsnbextension~=3.6.0->ipywidgets>=7.0.0->nsightful@ git+https://github.com/brycelelbach/nsightful.git->nsightful[notebook]@ git+https://github.com/brycelelbach/nsightful.git) (25.1.0)\n",
            "Requirement already satisfied: webencodings in /usr/local/lib/python3.12/dist-packages (from bleach!=5.0.0->bleach[css]!=5.0.0->nbconvert>=5->notebook>=4.4.1->widgetsnbextension~=3.6.0->ipywidgets>=7.0.0->nsightful@ git+https://github.com/brycelelbach/nsightful.git->nsightful[notebook]@ git+https://github.com/brycelelbach/nsightful.git) (0.5.1)\n",
            "Requirement already satisfied: tinycss2<1.5,>=1.1.0 in /usr/local/lib/python3.12/dist-packages (from bleach[css]!=5.0.0->nbconvert>=5->notebook>=4.4.1->widgetsnbextension~=3.6.0->ipywidgets>=7.0.0->nsightful@ git+https://github.com/brycelelbach/nsightful.git->nsightful[notebook]@ git+https://github.com/brycelelbach/nsightful.git) (1.4.0)\n",
            "Requirement already satisfied: attrs>=22.2.0 in /usr/local/lib/python3.12/dist-packages (from jsonschema>=2.6->nbformat->notebook>=4.4.1->widgetsnbextension~=3.6.0->ipywidgets>=7.0.0->nsightful@ git+https://github.com/brycelelbach/nsightful.git->nsightful[notebook]@ git+https://github.com/brycelelbach/nsightful.git) (25.3.0)\n",
            "Requirement already satisfied: jsonschema-specifications>=2023.03.6 in /usr/local/lib/python3.12/dist-packages (from jsonschema>=2.6->nbformat->notebook>=4.4.1->widgetsnbextension~=3.6.0->ipywidgets>=7.0.0->nsightful@ git+https://github.com/brycelelbach/nsightful.git->nsightful[notebook]@ git+https://github.com/brycelelbach/nsightful.git) (2025.9.1)\n",
            "Requirement already satisfied: referencing>=0.28.4 in /usr/local/lib/python3.12/dist-packages (from jsonschema>=2.6->nbformat->notebook>=4.4.1->widgetsnbextension~=3.6.0->ipywidgets>=7.0.0->nsightful@ git+https://github.com/brycelelbach/nsightful.git->nsightful[notebook]@ git+https://github.com/brycelelbach/nsightful.git) (0.36.2)\n",
            "Requirement already satisfied: rpds-py>=0.7.1 in /usr/local/lib/python3.12/dist-packages (from jsonschema>=2.6->nbformat->notebook>=4.4.1->widgetsnbextension~=3.6.0->ipywidgets>=7.0.0->nsightful@ git+https://github.com/brycelelbach/nsightful.git->nsightful[notebook]@ git+https://github.com/brycelelbach/nsightful.git) (0.27.1)\n",
            "Requirement already satisfied: jupyter-server<3,>=1.8 in /usr/local/lib/python3.12/dist-packages (from notebook-shim>=0.2.3->nbclassic>=0.4.7->notebook>=4.4.1->widgetsnbextension~=3.6.0->ipywidgets>=7.0.0->nsightful@ git+https://github.com/brycelelbach/nsightful.git->nsightful[notebook]@ git+https://github.com/brycelelbach/nsightful.git) (2.14.0)\n",
            "Requirement already satisfied: cffi>=1.0.1 in /usr/local/lib/python3.12/dist-packages (from argon2-cffi-bindings->argon2-cffi->notebook>=4.4.1->widgetsnbextension~=3.6.0->ipywidgets>=7.0.0->nsightful@ git+https://github.com/brycelelbach/nsightful.git->nsightful[notebook]@ git+https://github.com/brycelelbach/nsightful.git) (2.0.0)\n",
            "Requirement already satisfied: soupsieve>1.2 in /usr/local/lib/python3.12/dist-packages (from beautifulsoup4->nbconvert>=5->notebook>=4.4.1->widgetsnbextension~=3.6.0->ipywidgets>=7.0.0->nsightful@ git+https://github.com/brycelelbach/nsightful.git->nsightful[notebook]@ git+https://github.com/brycelelbach/nsightful.git) (2.8)\n",
            "Requirement already satisfied: pycparser in /usr/local/lib/python3.12/dist-packages (from cffi>=1.0.1->argon2-cffi-bindings->argon2-cffi->notebook>=4.4.1->widgetsnbextension~=3.6.0->ipywidgets>=7.0.0->nsightful@ git+https://github.com/brycelelbach/nsightful.git->nsightful[notebook]@ git+https://github.com/brycelelbach/nsightful.git) (2.23)\n",
            "Requirement already satisfied: anyio>=3.1.0 in /usr/local/lib/python3.12/dist-packages (from jupyter-server<3,>=1.8->notebook-shim>=0.2.3->nbclassic>=0.4.7->notebook>=4.4.1->widgetsnbextension~=3.6.0->ipywidgets>=7.0.0->nsightful@ git+https://github.com/brycelelbach/nsightful.git->nsightful[notebook]@ git+https://github.com/brycelelbach/nsightful.git) (4.10.0)\n",
            "Requirement already satisfied: jupyter-events>=0.9.0 in /usr/local/lib/python3.12/dist-packages (from jupyter-server<3,>=1.8->notebook-shim>=0.2.3->nbclassic>=0.4.7->notebook>=4.4.1->widgetsnbextension~=3.6.0->ipywidgets>=7.0.0->nsightful@ git+https://github.com/brycelelbach/nsightful.git->nsightful[notebook]@ git+https://github.com/brycelelbach/nsightful.git) (0.12.0)\n",
            "Requirement already satisfied: jupyter-server-terminals>=0.4.4 in /usr/local/lib/python3.12/dist-packages (from jupyter-server<3,>=1.8->notebook-shim>=0.2.3->nbclassic>=0.4.7->notebook>=4.4.1->widgetsnbextension~=3.6.0->ipywidgets>=7.0.0->nsightful@ git+https://github.com/brycelelbach/nsightful.git->nsightful[notebook]@ git+https://github.com/brycelelbach/nsightful.git) (0.5.3)\n",
            "Requirement already satisfied: overrides>=5.0 in /usr/local/lib/python3.12/dist-packages (from jupyter-server<3,>=1.8->notebook-shim>=0.2.3->nbclassic>=0.4.7->notebook>=4.4.1->widgetsnbextension~=3.6.0->ipywidgets>=7.0.0->nsightful@ git+https://github.com/brycelelbach/nsightful.git->nsightful[notebook]@ git+https://github.com/brycelelbach/nsightful.git) (7.7.0)\n",
            "Requirement already satisfied: websocket-client>=1.7 in /usr/local/lib/python3.12/dist-packages (from jupyter-server<3,>=1.8->notebook-shim>=0.2.3->nbclassic>=0.4.7->notebook>=4.4.1->widgetsnbextension~=3.6.0->ipywidgets>=7.0.0->nsightful@ git+https://github.com/brycelelbach/nsightful.git->nsightful[notebook]@ git+https://github.com/brycelelbach/nsightful.git) (1.8.0)\n",
            "Requirement already satisfied: idna>=2.8 in /usr/local/lib/python3.12/dist-packages (from anyio>=3.1.0->jupyter-server<3,>=1.8->notebook-shim>=0.2.3->nbclassic>=0.4.7->notebook>=4.4.1->widgetsnbextension~=3.6.0->ipywidgets>=7.0.0->nsightful@ git+https://github.com/brycelelbach/nsightful.git->nsightful[notebook]@ git+https://github.com/brycelelbach/nsightful.git) (3.10)\n",
            "Requirement already satisfied: sniffio>=1.1 in /usr/local/lib/python3.12/dist-packages (from anyio>=3.1.0->jupyter-server<3,>=1.8->notebook-shim>=0.2.3->nbclassic>=0.4.7->notebook>=4.4.1->widgetsnbextension~=3.6.0->ipywidgets>=7.0.0->nsightful@ git+https://github.com/brycelelbach/nsightful.git->nsightful[notebook]@ git+https://github.com/brycelelbach/nsightful.git) (1.3.1)\n",
            "Requirement already satisfied: python-json-logger>=2.0.4 in /usr/local/lib/python3.12/dist-packages (from jupyter-events>=0.9.0->jupyter-server<3,>=1.8->notebook-shim>=0.2.3->nbclassic>=0.4.7->notebook>=4.4.1->widgetsnbextension~=3.6.0->ipywidgets>=7.0.0->nsightful@ git+https://github.com/brycelelbach/nsightful.git->nsightful[notebook]@ git+https://github.com/brycelelbach/nsightful.git) (3.3.0)\n",
            "Requirement already satisfied: pyyaml>=5.3 in /usr/local/lib/python3.12/dist-packages (from jupyter-events>=0.9.0->jupyter-server<3,>=1.8->notebook-shim>=0.2.3->nbclassic>=0.4.7->notebook>=4.4.1->widgetsnbextension~=3.6.0->ipywidgets>=7.0.0->nsightful@ git+https://github.com/brycelelbach/nsightful.git->nsightful[notebook]@ git+https://github.com/brycelelbach/nsightful.git) (6.0.2)\n",
            "Requirement already satisfied: rfc3339-validator in /usr/local/lib/python3.12/dist-packages (from jupyter-events>=0.9.0->jupyter-server<3,>=1.8->notebook-shim>=0.2.3->nbclassic>=0.4.7->notebook>=4.4.1->widgetsnbextension~=3.6.0->ipywidgets>=7.0.0->nsightful@ git+https://github.com/brycelelbach/nsightful.git->nsightful[notebook]@ git+https://github.com/brycelelbach/nsightful.git) (0.1.4)\n",
            "Requirement already satisfied: rfc3986-validator>=0.1.1 in /usr/local/lib/python3.12/dist-packages (from jupyter-events>=0.9.0->jupyter-server<3,>=1.8->notebook-shim>=0.2.3->nbclassic>=0.4.7->notebook>=4.4.1->widgetsnbextension~=3.6.0->ipywidgets>=7.0.0->nsightful@ git+https://github.com/brycelelbach/nsightful.git->nsightful[notebook]@ git+https://github.com/brycelelbach/nsightful.git) (0.1.1)\n",
            "Requirement already satisfied: fqdn in /usr/local/lib/python3.12/dist-packages (from jsonschema[format-nongpl]>=4.18.0->jupyter-events>=0.9.0->jupyter-server<3,>=1.8->notebook-shim>=0.2.3->nbclassic>=0.4.7->notebook>=4.4.1->widgetsnbextension~=3.6.0->ipywidgets>=7.0.0->nsightful@ git+https://github.com/brycelelbach/nsightful.git->nsightful[notebook]@ git+https://github.com/brycelelbach/nsightful.git) (1.5.1)\n",
            "Requirement already satisfied: isoduration in /usr/local/lib/python3.12/dist-packages (from jsonschema[format-nongpl]>=4.18.0->jupyter-events>=0.9.0->jupyter-server<3,>=1.8->notebook-shim>=0.2.3->nbclassic>=0.4.7->notebook>=4.4.1->widgetsnbextension~=3.6.0->ipywidgets>=7.0.0->nsightful@ git+https://github.com/brycelelbach/nsightful.git->nsightful[notebook]@ git+https://github.com/brycelelbach/nsightful.git) (20.11.0)\n",
            "Requirement already satisfied: jsonpointer>1.13 in /usr/local/lib/python3.12/dist-packages (from jsonschema[format-nongpl]>=4.18.0->jupyter-events>=0.9.0->jupyter-server<3,>=1.8->notebook-shim>=0.2.3->nbclassic>=0.4.7->notebook>=4.4.1->widgetsnbextension~=3.6.0->ipywidgets>=7.0.0->nsightful@ git+https://github.com/brycelelbach/nsightful.git->nsightful[notebook]@ git+https://github.com/brycelelbach/nsightful.git) (3.0.0)\n",
            "Requirement already satisfied: rfc3987-syntax>=1.1.0 in /usr/local/lib/python3.12/dist-packages (from jsonschema[format-nongpl]>=4.18.0->jupyter-events>=0.9.0->jupyter-server<3,>=1.8->notebook-shim>=0.2.3->nbclassic>=0.4.7->notebook>=4.4.1->widgetsnbextension~=3.6.0->ipywidgets>=7.0.0->nsightful@ git+https://github.com/brycelelbach/nsightful.git->nsightful[notebook]@ git+https://github.com/brycelelbach/nsightful.git) (1.1.0)\n",
            "Requirement already satisfied: uri-template in /usr/local/lib/python3.12/dist-packages (from jsonschema[format-nongpl]>=4.18.0->jupyter-events>=0.9.0->jupyter-server<3,>=1.8->notebook-shim>=0.2.3->nbclassic>=0.4.7->notebook>=4.4.1->widgetsnbextension~=3.6.0->ipywidgets>=7.0.0->nsightful@ git+https://github.com/brycelelbach/nsightful.git->nsightful[notebook]@ git+https://github.com/brycelelbach/nsightful.git) (1.3.0)\n",
            "Requirement already satisfied: webcolors>=24.6.0 in /usr/local/lib/python3.12/dist-packages (from jsonschema[format-nongpl]>=4.18.0->jupyter-events>=0.9.0->jupyter-server<3,>=1.8->notebook-shim>=0.2.3->nbclassic>=0.4.7->notebook>=4.4.1->widgetsnbextension~=3.6.0->ipywidgets>=7.0.0->nsightful@ git+https://github.com/brycelelbach/nsightful.git->nsightful[notebook]@ git+https://github.com/brycelelbach/nsightful.git) (24.11.1)\n",
            "Requirement already satisfied: lark>=1.2.2 in /usr/local/lib/python3.12/dist-packages (from rfc3987-syntax>=1.1.0->jsonschema[format-nongpl]>=4.18.0->jupyter-events>=0.9.0->jupyter-server<3,>=1.8->notebook-shim>=0.2.3->nbclassic>=0.4.7->notebook>=4.4.1->widgetsnbextension~=3.6.0->ipywidgets>=7.0.0->nsightful@ git+https://github.com/brycelelbach/nsightful.git->nsightful[notebook]@ git+https://github.com/brycelelbach/nsightful.git) (1.2.2)\n",
            "Requirement already satisfied: arrow>=0.15.0 in /usr/local/lib/python3.12/dist-packages (from isoduration->jsonschema[format-nongpl]>=4.18.0->jupyter-events>=0.9.0->jupyter-server<3,>=1.8->notebook-shim>=0.2.3->nbclassic>=0.4.7->notebook>=4.4.1->widgetsnbextension~=3.6.0->ipywidgets>=7.0.0->nsightful@ git+https://github.com/brycelelbach/nsightful.git->nsightful[notebook]@ git+https://github.com/brycelelbach/nsightful.git) (1.3.0)\n",
            "Requirement already satisfied: types-python-dateutil>=2.8.10 in /usr/local/lib/python3.12/dist-packages (from arrow>=0.15.0->isoduration->jsonschema[format-nongpl]>=4.18.0->jupyter-events>=0.9.0->jupyter-server<3,>=1.8->notebook-shim>=0.2.3->nbclassic>=0.4.7->notebook>=4.4.1->widgetsnbextension~=3.6.0->ipywidgets>=7.0.0->nsightful@ git+https://github.com/brycelelbach/nsightful.git->nsightful[notebook]@ git+https://github.com/brycelelbach/nsightful.git) (2.9.0.20250822)\n",
            "Downloading llvmlite-0.44.0-cp312-cp312-manylinux_2_17_x86_64.manylinux2014_x86_64.whl (42.4 MB)\n",
            "\u001b[2K   \u001b[90m━━━━━━━━━━━━━━━━━━━━━━━━━━━━━━━━━━━━━━━━\u001b[0m \u001b[32m42.4/42.4 MB\u001b[0m \u001b[31m29.2 MB/s\u001b[0m eta \u001b[36m0:00:00\u001b[0m\n",
            "\u001b[?25hDownloading numba_cuda-0.20.0-py3-none-any.whl (1.1 MB)\n",
            "\u001b[2K   \u001b[90m━━━━━━━━━━━━━━━━━━━━━━━━━━━━━━━━━━━━━━━━\u001b[0m \u001b[32m1.1/1.1 MB\u001b[0m \u001b[31m71.4 MB/s\u001b[0m eta \u001b[36m0:00:00\u001b[0m\n",
            "\u001b[?25hDownloading cuda_pathfinder-1.3.0-py3-none-any.whl (27 kB)\n",
            "Downloading numba-0.61.2-cp312-cp312-manylinux2014_x86_64.manylinux_2_17_x86_64.whl (3.9 MB)\n",
            "\u001b[2K   \u001b[90m━━━━━━━━━━━━━━━━━━━━━━━━━━━━━━━━━━━━━━━━\u001b[0m \u001b[32m3.9/3.9 MB\u001b[0m \u001b[31m123.2 MB/s\u001b[0m eta \u001b[36m0:00:00\u001b[0m\n",
            "\u001b[?25hDownloading cuda_cccl-0.2.1-cp312-cp312-manylinux_2_26_x86_64.whl (5.1 MB)\n",
            "\u001b[2K   \u001b[90m━━━━━━━━━━━━━━━━━━━━━━━━━━━━━━━━━━━━━━━━\u001b[0m \u001b[32m5.1/5.1 MB\u001b[0m \u001b[31m132.5 MB/s\u001b[0m eta \u001b[36m0:00:00\u001b[0m\n",
            "\u001b[?25hDownloading cuda_toolkit-12.9.1-py2.py3-none-any.whl (2.3 kB)\n",
            "Downloading nvidia_cuda_nvcc_cu12-12.9.86-py3-none-manylinux2010_x86_64.manylinux_2_12_x86_64.whl (40.5 MB)\n",
            "\u001b[2K   \u001b[90m━━━━━━━━━━━━━━━━━━━━━━━━━━━━━━━━━━━━━━━━\u001b[0m \u001b[32m40.5/40.5 MB\u001b[0m \u001b[31m21.8 MB/s\u001b[0m eta \u001b[36m0:00:00\u001b[0m\n",
            "\u001b[?25hDownloading nvidia_cuda_nvrtc_cu12-12.9.86-py3-none-manylinux2010_x86_64.manylinux_2_12_x86_64.whl (89.6 MB)\n",
            "\u001b[2K   \u001b[90m━━━━━━━━━━━━━━━━━━━━━━━━━━━━━━━━━━━━━━━━\u001b[0m \u001b[32m89.6/89.6 MB\u001b[0m \u001b[31m8.7 MB/s\u001b[0m eta \u001b[36m0:00:00\u001b[0m\n",
            "\u001b[?25hDownloading nvidia_cuda_runtime_cu12-12.9.79-py3-none-manylinux2014_x86_64.manylinux_2_17_x86_64.whl (3.5 MB)\n",
            "\u001b[2K   \u001b[90m━━━━━━━━━━━━━━━━━━━━━━━━━━━━━━━━━━━━━━━━\u001b[0m \u001b[32m3.5/3.5 MB\u001b[0m \u001b[31m96.0 MB/s\u001b[0m eta \u001b[36m0:00:00\u001b[0m\n",
            "\u001b[?25hDownloading nvidia_nvjitlink_cu12-12.9.86-py3-none-manylinux2010_x86_64.manylinux_2_12_x86_64.whl (39.7 MB)\n",
            "\u001b[2K   \u001b[90m━━━━━━━━━━━━━━━━━━━━━━━━━━━━━━━━━━━━━━━━\u001b[0m \u001b[32m39.7/39.7 MB\u001b[0m \u001b[31m20.1 MB/s\u001b[0m eta \u001b[36m0:00:00\u001b[0m\n",
            "\u001b[?25hDownloading cuda_core-0.3.2-cp312-cp312-manylinux_2_24_x86_64.manylinux_2_28_x86_64.whl (3.1 MB)\n",
            "\u001b[2K   \u001b[90m━━━━━━━━━━━━━━━━━━━━━━━━━━━━━━━━━━━━━━━━\u001b[0m \u001b[32m3.1/3.1 MB\u001b[0m \u001b[31m79.0 MB/s\u001b[0m eta \u001b[36m0:00:00\u001b[0m\n",
            "\u001b[?25hDownloading pytest_benchmark-5.1.0-py3-none-any.whl (44 kB)\n",
            "\u001b[2K   \u001b[90m━━━━━━━━━━━━━━━━━━━━━━━━━━━━━━━━━━━━━━━━\u001b[0m \u001b[32m44.3/44.3 kB\u001b[0m \u001b[31m2.9 MB/s\u001b[0m eta \u001b[36m0:00:00\u001b[0m\n",
            "\u001b[?25hDownloading pytest_xdist-3.8.0-py3-none-any.whl (46 kB)\n",
            "\u001b[2K   \u001b[90m━━━━━━━━━━━━━━━━━━━━━━━━━━━━━━━━━━━━━━━━\u001b[0m \u001b[32m46.4/46.4 kB\u001b[0m \u001b[31m3.4 MB/s\u001b[0m eta \u001b[36m0:00:00\u001b[0m\n",
            "\u001b[?25hDownloading cuda_bindings-12.9.2-cp312-cp312-manylinux_2_24_x86_64.manylinux_2_28_x86_64.whl (12.5 MB)\n",
            "\u001b[2K   \u001b[90m━━━━━━━━━━━━━━━━━━━━━━━━━━━━━━━━━━━━━━━━\u001b[0m \u001b[32m12.5/12.5 MB\u001b[0m \u001b[31m99.2 MB/s\u001b[0m eta \u001b[36m0:00:00\u001b[0m\n",
            "\u001b[?25hDownloading execnet-2.1.1-py3-none-any.whl (40 kB)\n",
            "\u001b[2K   \u001b[90m━━━━━━━━━━━━━━━━━━━━━━━━━━━━━━━━━━━━━━━━\u001b[0m \u001b[32m40.6/40.6 kB\u001b[0m \u001b[31m3.7 MB/s\u001b[0m eta \u001b[36m0:00:00\u001b[0m\n",
            "\u001b[?25hDownloading jedi-0.19.2-py2.py3-none-any.whl (1.6 MB)\n",
            "\u001b[2K   \u001b[90m━━━━━━━━━━━━━━━━━━━━━━━━━━━━━━━━━━━━━━━━\u001b[0m \u001b[32m1.6/1.6 MB\u001b[0m \u001b[31m67.3 MB/s\u001b[0m eta \u001b[36m0:00:00\u001b[0m\n",
            "\u001b[?25hDownloading cuda_python-12.9.2-py3-none-any.whl (7.6 kB)\n",
            "Downloading nvidia_cuda_cccl_cu12-12.9.27-py3-none-manylinux2014_x86_64.manylinux_2_17_x86_64.whl (3.2 MB)\n",
            "\u001b[2K   \u001b[90m━━━━━━━━━━━━━━━━━━━━━━━━━━━━━━━━━━━━━━━━\u001b[0m \u001b[32m3.2/3.2 MB\u001b[0m \u001b[31m107.2 MB/s\u001b[0m eta \u001b[36m0:00:00\u001b[0m\n",
            "\u001b[?25hBuilding wheels for collected packages: nsightful\n",
            "  Building wheel for nsightful (pyproject.toml) ... \u001b[?25l\u001b[?25hdone\n",
            "  Created wheel for nsightful: filename=nsightful-0.1.0-py3-none-any.whl size=19631 sha256=30d35f913f8a6326028994f26be17eb214848f15de4506ba753235c0338f1286\n",
            "  Stored in directory: /tmp/pip-ephem-wheel-cache-volpddsl/wheels/91/34/2c/034b3087c974236a22422c2fd109ee7076a1be3bc82d5dd057\n",
            "Successfully built nsightful\n",
            "Installing collected packages: cuda-toolkit, nvidia-nvjitlink-cu12, nvidia-cuda-runtime-cu12, nvidia-cuda-nvrtc-cu12, nvidia-cuda-nvcc-cu12, nvidia-cuda-cccl-cu12, nsightful, llvmlite, jedi, execnet, cuda-pathfinder, cuda-core, pytest-xdist, pytest-benchmark, numba, cuda-bindings, numba-cuda, cuda-python, cuda-cccl\n",
            "  Attempting uninstall: nvidia-nvjitlink-cu12\n",
            "    Found existing installation: nvidia-nvjitlink-cu12 12.6.85\n",
            "    Uninstalling nvidia-nvjitlink-cu12-12.6.85:\n",
            "      Successfully uninstalled nvidia-nvjitlink-cu12-12.6.85\n",
            "  Attempting uninstall: nvidia-cuda-runtime-cu12\n",
            "    Found existing installation: nvidia-cuda-runtime-cu12 12.6.77\n",
            "    Uninstalling nvidia-cuda-runtime-cu12-12.6.77:\n",
            "      Successfully uninstalled nvidia-cuda-runtime-cu12-12.6.77\n",
            "  Attempting uninstall: nvidia-cuda-nvrtc-cu12\n",
            "    Found existing installation: nvidia-cuda-nvrtc-cu12 12.6.77\n",
            "    Uninstalling nvidia-cuda-nvrtc-cu12-12.6.77:\n",
            "      Successfully uninstalled nvidia-cuda-nvrtc-cu12-12.6.77\n",
            "  Attempting uninstall: nvidia-cuda-nvcc-cu12\n",
            "    Found existing installation: nvidia-cuda-nvcc-cu12 12.5.82\n",
            "    Uninstalling nvidia-cuda-nvcc-cu12-12.5.82:\n",
            "      Successfully uninstalled nvidia-cuda-nvcc-cu12-12.5.82\n",
            "  Attempting uninstall: llvmlite\n",
            "    Found existing installation: llvmlite 0.43.0\n",
            "    Uninstalling llvmlite-0.43.0:\n",
            "      Successfully uninstalled llvmlite-0.43.0\n",
            "  Attempting uninstall: numba\n",
            "    Found existing installation: numba 0.60.0\n",
            "    Uninstalling numba-0.60.0:\n",
            "      Successfully uninstalled numba-0.60.0\n",
            "  Attempting uninstall: numba-cuda\n",
            "    Found existing installation: numba-cuda 0.11.0\n",
            "    Uninstalling numba-cuda-0.11.0:\n",
            "      Successfully uninstalled numba-cuda-0.11.0\n",
            "\u001b[31mERROR: pip's dependency resolver does not currently take into account all the packages that are installed. This behaviour is the source of the following dependency conflicts.\n",
            "torch 2.8.0+cu126 requires nvidia-cuda-nvrtc-cu12==12.6.77; platform_system == \"Linux\" and platform_machine == \"x86_64\", but you have nvidia-cuda-nvrtc-cu12 12.9.86 which is incompatible.\n",
            "torch 2.8.0+cu126 requires nvidia-cuda-runtime-cu12==12.6.77; platform_system == \"Linux\" and platform_machine == \"x86_64\", but you have nvidia-cuda-runtime-cu12 12.9.79 which is incompatible.\n",
            "torch 2.8.0+cu126 requires nvidia-nvjitlink-cu12==12.6.85; platform_system == \"Linux\" and platform_machine == \"x86_64\", but you have nvidia-nvjitlink-cu12 12.9.86 which is incompatible.\n",
            "cudf-cu12 25.6.0 requires numba-cuda<0.12.0a0,>=0.11.0, but you have numba-cuda 0.20.0 which is incompatible.\u001b[0m\u001b[31m\n",
            "\u001b[0mSuccessfully installed cuda-bindings-12.9.2 cuda-cccl-0.2.1 cuda-core-0.3.2 cuda-pathfinder-1.3.0 cuda-python-12.9.2 cuda-toolkit-12.9.1 execnet-2.1.1 jedi-0.19.2 llvmlite-0.44.0 nsightful-0.1.0 numba-0.61.2 numba-cuda-0.20.0 nvidia-cuda-cccl-cu12-12.9.27 nvidia-cuda-nvcc-cu12-12.9.86 nvidia-cuda-nvrtc-cu12-12.9.86 nvidia-cuda-runtime-cu12-12.9.79 nvidia-nvjitlink-cu12-12.9.86 pytest-benchmark-5.1.0 pytest-xdist-3.8.0\n"
          ]
        }
      ],
      "source": [
        "import os\n",
        "\n",
        "if os.getenv(\"COLAB_RELEASE_TAG\") and not os.path.exists(\"/ach-installed\"): # If running in Google Colab:\n",
        "  !curl -s -L -O https://developer.nvidia.com/downloads/assets/tools/secure/nsight-systems/2025_3/NsightSystems-linux-cli-public-2025.3.1.90-3582212.deb\n",
        "  !sudo dpkg -i NsightSystems-linux-cli-public-2025.3.1.90-3582212.deb > /dev/null\n",
        "  !pip uninstall \"cuda-python\" --yes > /dev/null 2>&1\n",
        "  !pip install \"numba-cuda\" \"cuda-cccl[test-cu12]\" \"nsightful[notebook] @ git+https://github.com/brycelelbach/nsightful.git\" > /dev/null 2>&1\n",
        "  open(\"/ach-installed\", \"a\").close()\n",
        "\n",
        "import numpy as np\n",
        "import matplotlib.pyplot as plt\n",
        "import nsightful\n",
        "import urllib.request"
      ]
    },
    {
      "cell_type": "code",
      "execution_count": 2,
      "id": "6e1ae9dc-39f1-4c93-b923-85a96b45a057",
      "metadata": {
        "colab": {
          "base_uri": "https://localhost:8080/"
        },
        "id": "6e1ae9dc-39f1-4c93-b923-85a96b45a057",
        "outputId": "a94013fd-80bf-4786-b2e8-d6ec19d16cdd"
      },
      "outputs": [
        {
          "output_type": "execute_result",
          "data": {
            "text/plain": [
              "('books__15m.txt', <http.client.HTTPMessage at 0x7c385dfe5520>)"
            ]
          },
          "metadata": {},
          "execution_count": 2
        }
      ],
      "source": [
        "urllib.request.urlretrieve(\n",
        "  \"https://drive.usercontent.google.com/download?id=1MW1lPgkTq3YG9ikuq6u3d9sfpt-wKQZ0&export=download\",\n",
        "  \"books__15m.txt\")"
      ]
    },
    {
      "cell_type": "markdown",
      "id": "9109d3c0-e276-44cc-9f36-f8c79eb48b31",
      "metadata": {
        "id": "9109d3c0-e276-44cc-9f36-f8c79eb48b31"
      },
      "source": [
        "A histogram kernel counts the number of times a value occurs in a dataset. To implement this, we create an array that is large enough to store all possible values (in the case of counting 1-byte ASCII characters, 256 elements). Then for the value of each element in the dataset, we increment its location in the array.\n",
        "\n",
        "Let's try a simple way to implement this:"
      ]
    },
    {
      "cell_type": "code",
      "execution_count": 3,
      "id": "61c12795-b14a-4447-9dcf-9748616cc453",
      "metadata": {
        "colab": {
          "base_uri": "https://localhost:8080/"
        },
        "id": "61c12795-b14a-4447-9dcf-9748616cc453",
        "outputId": "93ca8f5e-a5b8-4920-ed11-e6c99e0312b6"
      },
      "outputs": [
        {
          "output_type": "stream",
          "name": "stdout",
          "text": [
            "Writing histogram_global.py\n"
          ]
        }
      ],
      "source": [
        "%%writefile histogram_global.py\n",
        "\n",
        "from numba import cuda\n",
        "import cupy as cp\n",
        "import cupyx as cpx\n",
        "import sys\n",
        "import os\n",
        "\n",
        "bins = 256\n",
        "\n",
        "values = cp.fromfile(\"books__15m.txt\", dtype=cp.uint8)\n",
        "histogram = cp.zeros((bins), dtype=cp.int32)\n",
        "\n",
        "threads_per_block = 512 if len(sys.argv) < 3 else int(sys.argv[2])\n",
        "items_per_thread = 8 if len(sys.argv) < 4 else int(sys.argv[3])\n",
        "items_per_block = threads_per_block * items_per_thread\n",
        "blocks = int(len(values) / (threads_per_block * items_per_thread))\n",
        "assert values.size % items_per_block == 0\n",
        "\n",
        "@cuda.jit\n",
        "def histogram_global(values, histogram):\n",
        "  for i in range(items_per_thread):\n",
        "    value = values[cuda.grid(1) * items_per_thread + i]\n",
        "    cuda.atomic.add(histogram, value, 1)\n",
        "\n",
        "def launch(check, output):\n",
        "  histogram[:] = 0 # Reset histogram to 0 each trial.\n",
        "  histogram_global[blocks, threads_per_block](values, histogram)\n",
        "\n",
        "  if (check):\n",
        "    assert cp.sum(histogram) == len(values)\n",
        "\n",
        "  if (output):\n",
        "    cp.savetxt(sys.stdout, histogram, delimiter=\",\", fmt=\"%i\")\n",
        "\n",
        "if len(sys.argv) >= 2 and sys.argv[1] == \"output\":\n",
        "  launch(check=True, output=True)\n",
        "elif os.getenv(\"NV_COMPUTE_PROFILER_PERFWORKS_DIR\"): # Running under `ncu`.\n",
        "  launch(check=False, output=False) # `ncu` slows things down; so just launch once when running under it.\n",
        "else:\n",
        "  launch(check=True, output=False)\n",
        "  D = cpx.profiler.benchmark(launch, (False, False), n_repeat=15, n_warmup=4).gpu_times[0]\n",
        "  print(f\"{D.mean():.3g} s ± {(D.std() / D.mean()):.2%} (mean ± relative stdev of {D.size} runs)\")"
      ]
    },
    {
      "cell_type": "markdown",
      "id": "27e30efa-3a37-402f-9414-e444214d8ce6",
      "metadata": {
        "id": "27e30efa-3a37-402f-9414-e444214d8ce6"
      },
      "source": [
        "Now let's make sure it runs and check the output."
      ]
    },
    {
      "cell_type": "code",
      "execution_count": 4,
      "id": "b3f32240-ad7b-4717-98b3-82b0298a099a",
      "metadata": {
        "colab": {
          "base_uri": "https://localhost:8080/"
        },
        "id": "b3f32240-ad7b-4717-98b3-82b0298a099a",
        "outputId": "a284aab0-273c-405a-87e0-c693e2ae0f0b"
      },
      "outputs": [
        {
          "output_type": "stream",
          "name": "stdout",
          "text": [
            "0.0103 s ± 17.89% (mean ± relative stdev of 15 runs)\n"
          ]
        }
      ],
      "source": [
        "!python histogram_global.py"
      ]
    },
    {
      "cell_type": "code",
      "execution_count": 5,
      "id": "815cb072-b3a0-47aa-af6c-dd66c626a440",
      "metadata": {
        "colab": {
          "base_uri": "https://localhost:8080/",
          "height": 487
        },
        "id": "815cb072-b3a0-47aa-af6c-dd66c626a440",
        "outputId": "53b08237-6289-4a97-eb80-85ec1472a7b7"
      },
      "outputs": [
        {
          "output_type": "display_data",
          "data": {
            "text/plain": [
              "<Figure size 640x480 with 1 Axes>"
            ],
            "image/png": "[encoded data removed]"
          },
          "metadata": {}
        }
      ],
      "source": [
        "histogram_output = !python histogram_global.py output\n",
        "histogram = np.loadtxt(histogram_output, delimiter=\",\")\n",
        "\n",
        "# Print most frequently occuring characters.\n",
        "pairs = sorted(((i,c) for i,c in enumerate(histogram) if c), key=lambda x: x[1], reverse=True)[:20]\n",
        "labels = [('SPACE' if i==32 else chr(i)) if 32<=i<=126 else f'0x{i:02X}' for i,_ in pairs]\n",
        "plt.barh(labels[::-1], [c for _,c in pairs][::-1]); plt.xlabel('count'); plt.tight_layout(); plt.show()"
      ]
    },
    {
      "cell_type": "markdown",
      "id": "b14fa522-b41b-4538-8c34-ecc355e55116",
      "metadata": {
        "id": "b14fa522-b41b-4538-8c34-ecc355e55116"
      },
      "source": [
        "It looks like something is wrong - our counts are very low, and the most common characters don't make a lot of sense. Many of our increments seem to get lost!\n",
        "\n",
        "What's happening here is called a data race. Many different threads are trying to access the bins of the histogram at the same time.\n",
        "\n",
        "Imagine that two threads are trying to update the same bin.\n",
        "\n",
        "- Thread 0 reads the count of the bin, which is 0, and stores it in its local variable `old_count`.\n",
        "- Thread 0 adds 1 to its `old_count`, producing a `new_count` of 1.\n",
        "- Thread 1 reads the count of the bin, which is still 0, and stores it in its local variable `old_count`.\n",
        "- Thread 1 adds 1 to its `old_count`, producing a `new_count` of 1.\n",
        "- Thread 0 stores `new_count` to the bin, setting it to 1.\n",
        "- Thread 1 stores `new_count` to the bin, setting it to 1, and losing the increment from thread 0!\n",
        "\n",
        "To fix this, we need to use atomic operations. `cuda.atomic.add(array, index, value)` will perform `array[index] += value` as a single indivisible operation. This will ensure that no increments get lost."
      ]
    },
    {
      "cell_type": "markdown",
      "id": "08f4dded-26a7-4ef8-b981-e00c569ca4d0",
      "metadata": {
        "id": "08f4dded-26a7-4ef8-b981-e00c569ca4d0"
      },
      "source": [
        "Now let's profile our code."
      ]
    },
    {
      "cell_type": "code",
      "execution_count": 6,
      "id": "8dbd226c-66f2-43df-868a-6b024b1de24c",
      "metadata": {
        "id": "8dbd226c-66f2-43df-868a-6b024b1de24c",
        "outputId": "5f4b7509-322d-4459-fb15-14120e0e3223",
        "colab": {
          "base_uri": "https://localhost:8080/"
        }
      },
      "outputs": [
        {
          "output_type": "stream",
          "name": "stdout",
          "text": [
            "==PROF== Connected to process 2222 (/usr/bin/python3.12)\n",
            "==PROF== Profiling \"histogram_global[abi:v1,cw51cXTLSUwv1sDUaKthrqNgqqmjgOR3W3Cw6igA9duC0hkwnNGiHEkYkrqQBFBTDEwCyQe21eqwcFW3UoDGjzpQEsgzrtUEAA_3d_3d]\": 0%....50%....100% - 30 passes\n",
            "==PROF== Disconnected from process 2222\n",
            "==PROF== Report: /content/histogram_global.ncu-rep\n"
          ]
        }
      ],
      "source": [
        "!ncu -f --kernel-name regex:histogram_global --set full -o histogram_global python histogram_global.py\n",
        "histogram_global_csv = !ncu --import histogram_global.ncu-rep --csv"
      ]
    },
    {
      "cell_type": "code",
      "execution_count": 7,
      "id": "ad12380e-253b-4410-ab34-9479411fdf81",
      "metadata": {
        "id": "ad12380e-253b-4410-ab34-9479411fdf81",
        "outputId": "7879dd11-32a4-49d4-fbd5-456625556fcf",
        "colab": {
          "base_uri": "https://localhost:8080/",
          "height": 1084,
          "referenced_widgets": [
            "9d727acd5e4d4a72847b14146a2f9c46",
            "58a372e3b53c46d084eeee1dd33ff3d3",
            "cdcfd07f7bb14740adb5a3dd5cd4c55c",
            "4e2536164cc44cf196986cefb53597dc",
            "3d9705abcea44225883841cb66ff6655",
            "35aa94c05ec84c448c70d9de16858393",
            "f9b370139d664d4f9208aa07ba2cb879",
            "b62bf1f729dd4916a9cf6de24c0dc92a",
            "0779978c006d47269871dee48846e52b",
            "f0304b34f10f41c4bc67793ab77c9cff",
            "c498ee4816af489c862f8b05628855ed",
            "39c8c915e1be4443b85584738e037054",
            "2b2039ac21c74f5da88edd374ceb48eb",
            "b61478876f7d446dafbdaa6e6ed26406",
            "5c4e4140bfa044e3b7b31def84fb783d",
            "55417dc171514ae5911e01e86d591a93",
            "769722e285eb428b8914ab2756f2a37e",
            "0b7d2a0798064edeb16d2205287b6997",
            "22a5434a1fa548d582b6053d40203740",
            "753515bab1a9446a8458618e10768f36",
            "06fafe7de8bc4665b10d539f5202fffc",
            "7baea17834f74a10a6e4f870295af53f",
            "ae2846a2d4414368b83e2931e1661594",
            "13b7e34f29b345f9bfe647cd3962231c",
            "5ad4019c5456498a949cbc95412e168a",
            "ec5592c2e2cc425195716cd8465a451e",
            "b662cdbbd44c486b9a32454677205279",
            "c61500633b01451686d5894206068480",
            "b08dc18e23ac47a49bd44e30a1447e04",
            "3a40190fc25649a88c2bd92c4e86c615",
            "891e79c2daf44067abcc3344bc198a35",
            "fc4ff827054d4b1ba9372c878ca8f34d",
            "792750e684dc402c9f32da7fef62e2bf"
          ]
        }
      },
      "outputs": [
        {
          "output_type": "display_data",
          "data": {
            "text/plain": [
              "<IPython.core.display.Javascript object>"
            ],
            "application/javascript": [
              "window[\"586646fa-9ed3-11f0-b8a0-0242ac1c000c\"] = google.colab.output.setIframeHeight(-1, true, {\"interactive\": true, \"maxHeight\": 99999});\n",
              "//# sourceURL=js_12cbc200e3"
            ]
          },
          "metadata": {}
        },
        {
          "output_type": "display_data",
          "data": {
            "text/plain": [
              "<IPython.core.display.HTML object>"
            ],
            "text/html": [
              "\n",
              "    <style>\n",
              "    /* Use JupyterLab theme variables when available */\n",
              "    .widget-tab .p-TabBar .p-TabBar-tabLabel {\n",
              "      color: var(--jp-ui-font-color1, inherit);\n",
              "    }\n",
              "    .widget-tab .p-TabBar-tab.p-mod-current .p-TabBar-tabLabel {\n",
              "      color: var(--jp-ui-font-color0, inherit);\n",
              "    }\n",
              "\n",
              "    /* Fallback for classic notebook / VS Code: follow OS theme */\n",
              "    @media (prefers-color-scheme: dark) {\n",
              "      .widget-tab .p-TabBar .p-TabBar-tabLabel { color: #eee; }\n",
              "      .widget-tab .p-TabBar-tab.p-mod-current .p-TabBar-tabLabel { color: #fff; }\n",
              "    }\n",
              "    @media (prefers-color-scheme: light) {\n",
              "      .widget-tab .p-TabBar .p-TabBar-tabLabel { color: #111; }\n",
              "      .widget-tab .p-TabBar-tab.p-mod-current .p-TabBar-tabLabel { color: #000; }\n",
              "    }\n",
              "\n",
              "    /* Make borders theme-aware too */\n",
              "    .widget-output, .widget-tab .p-TabBar {\n",
              "      border-color: var(--jp-border-color2, #ddd) !important;\n",
              "    }\n",
              "\n",
              "    /* Fit tab title to the length of text */\n",
              "    .widget-tab .p-TabBar-tab {\n",
              "      min-width: auto !important;\n",
              "      width: auto !important;\n",
              "      flex: 0 0 auto !important;\n",
              "    }\n",
              "\n",
              "    .widget-tab .p-TabBar-tabLabel {\n",
              "      white-space: nowrap !important;\n",
              "      text-overflow: clip !important;\n",
              "      overflow: visible !important;\n",
              "      padding: 0 0 !important;\n",
              "    }\n",
              "    </style>\n",
              "    "
            ]
          },
          "metadata": {}
        },
        {
          "output_type": "display_data",
          "data": {
            "text/plain": [
              "Dropdown(description='Kernel:', layout=Layout(width='400px'), options=('histogram_global',), style=Description…"
            ],
            "application/vnd.jupyter.widget-view+json": {
              "version_major": 2,
              "version_minor": 0,
              "model_id": "9d727acd5e4d4a72847b14146a2f9c46"
            }
          },
          "metadata": {}
        },
        {
          "output_type": "display_data",
          "data": {
            "text/plain": [
              "Output()"
            ],
            "application/vnd.jupyter.widget-view+json": {
              "version_major": 2,
              "version_minor": 0,
              "model_id": "4e2536164cc44cf196986cefb53597dc"
            }
          },
          "metadata": {}
        }
      ],
      "source": [
        "nsightful.display_ncu_csv_in_notebook(histogram_global_csv)"
      ]
    },
    {
      "cell_type": "markdown",
      "id": "e1f72831-780f-4cf5-8ff1-2092ecb193d9",
      "metadata": {
        "id": "e1f72831-780f-4cf5-8ff1-2092ecb193d9"
      },
      "source": [
        "We improved the code by separating loading from values from the histogram update and to perform striped loads using [cuda.cooperative](https://nvidia.github.io/cccl/python/cooperative.html)'s block load instead of doing the I/O by hand.\n",
        "\n",
        "While that helps a bit, our code still has major issues. It's taking thousand of cycles to issue a single operation!\n",
        "\n",
        "This is happening due to contention - we have hundreds of thousands of threads performing atomic updates to just 256 bins of a global histogram. All of those atomic operations have to happen in order, so they are serialized by the memory subsystem, destroying our parallelism.\n",
        "\n",
        "Instead, we can construct a local histogram for each block, which we will update atomically within the block. Then, we synchronize all of the threads within the block, and we perform atomic updates of the global histogram with the aggregate counts t"
      ]
    },
    {
      "cell_type": "code",
      "execution_count": 8,
      "id": "cf7c9865-646a-4bbd-9b41-61cadfc5484c",
      "metadata": {
        "colab": {
          "base_uri": "https://localhost:8080/"
        },
        "id": "cf7c9865-646a-4bbd-9b41-61cadfc5484c",
        "outputId": "f48d95c0-7e4b-41f6-8ff9-a4bd771896ac"
      },
      "outputs": [
        {
          "output_type": "stream",
          "name": "stdout",
          "text": [
            "Writing histogram_localized.py\n"
          ]
        }
      ],
      "source": [
        "%%writefile histogram_localized.py\n",
        "\n",
        "from numba import cuda\n",
        "import cupy as cp\n",
        "import cupyx as cpx\n",
        "import cuda.cccl.cooperative.experimental as coop\n",
        "import sys\n",
        "import os\n",
        "\n",
        "bins = 256\n",
        "\n",
        "values = cp.fromfile(\"books__15m.txt\", dtype=cp.uint8)\n",
        "histogram = cp.zeros((bins), dtype=cp.int32)\n",
        "\n",
        "threads_per_block = 512 if len(sys.argv) < 3 else int(sys.argv[2])\n",
        "items_per_thread = 32 if len(sys.argv) < 4 else int(sys.argv[3])\n",
        "items_per_block = threads_per_block * items_per_thread\n",
        "blocks = int(len(values) / (threads_per_block * items_per_thread))\n",
        "assert values.size % items_per_block == 0\n",
        "\n",
        "block_load = coop.block.load(cp.uint8, threads_per_block, items_per_thread, 'striped')\n",
        "\n",
        "@cuda.jit(link=block_load.files)\n",
        "def histogram_localized(values, histogram):\n",
        "  items = cuda.local.array(items_per_thread, dtype=values.dtype)\n",
        "\n",
        "  base = cuda.blockIdx.x * items_per_block\n",
        "\n",
        "  block_load(values[base : base + items_per_block], items)\n",
        "\n",
        "  local_histogram = cuda.shared.array(bins, dtype=histogram.dtype)\n",
        "\n",
        "  for i in range(0, bins, threads_per_block):\n",
        "    bin = i + cuda.threadIdx.x\n",
        "    if bin < local_histogram.size:\n",
        "      local_histogram[bin] = 0\n",
        "\n",
        "  cuda.syncthreads()\n",
        "\n",
        "  for i in range(items_per_thread):\n",
        "    cuda.atomic.add(local_histogram, items[i], 1)\n",
        "\n",
        "  cuda.syncthreads()\n",
        "\n",
        "  for i in range(0, bins, threads_per_block):\n",
        "    bin = i + cuda.threadIdx.x\n",
        "    if bin < histogram.size:\n",
        "      cuda.atomic.add(histogram, bin, local_histogram[bin])\n",
        "\n",
        "def launch(check, output):\n",
        "  histogram[:] = 0 # Reset histogram to 0 each trial.\n",
        "  histogram_localized[blocks, threads_per_block](values, histogram)\n",
        "\n",
        "  if (check):\n",
        "    assert cp.sum(histogram) == len(values)\n",
        "\n",
        "  if (output):\n",
        "    cp.savetxt(sys.stdout, histogram, delimiter=\",\", fmt=\"%i\")\n",
        "\n",
        "if len(sys.argv) >= 2 and sys.argv[1] == \"output\":\n",
        "  launch(check=True, output=True)\n",
        "elif os.getenv(\"NV_COMPUTE_PROFILER_PERFWORKS_DIR\"): # Running under `ncu`.\n",
        "  launch(check=False, output=False) # `ncu` slows things down; so just launch once when running under it.\n",
        "else:\n",
        "  launch(check=True, output=False)\n",
        "  D = cpx.profiler.benchmark(launch, (False, False), n_repeat=15, n_warmup=4).gpu_times[0]\n",
        "  print(f\"{D.mean():.3g} s ± {(D.std() / D.mean()):.2%} (mean ± relative stdev of {D.size} runs)\")"
      ]
    },
    {
      "cell_type": "markdown",
      "id": "d2de69a4-644d-481d-b2c7-a8674616e9e2",
      "metadata": {
        "id": "d2de69a4-644d-481d-b2c7-a8674616e9e2"
      },
      "source": [
        "Let's make sure it runs correctly:"
      ]
    },
    {
      "cell_type": "code",
      "execution_count": 9,
      "id": "1b30e9b3-5a4c-4181-b642-b7def5e9f258",
      "metadata": {
        "colab": {
          "base_uri": "https://localhost:8080/"
        },
        "id": "1b30e9b3-5a4c-4181-b642-b7def5e9f258",
        "outputId": "d896b248-2d8b-419d-c32e-e347b18a2d5b"
      },
      "outputs": [
        {
          "output_type": "stream",
          "name": "stdout",
          "text": [
            "0.000735 s ± 2.90% (mean ± relative stdev of 15 runs)\n"
          ]
        }
      ],
      "source": [
        "!python histogram_localized.py"
      ]
    },
    {
      "cell_type": "code",
      "execution_count": 10,
      "id": "73f0c3cd-349b-490f-b6bd-7afbeb442fff",
      "metadata": {
        "colab": {
          "base_uri": "https://localhost:8080/",
          "height": 487
        },
        "id": "73f0c3cd-349b-490f-b6bd-7afbeb442fff",
        "outputId": "fb6fa7f7-94e6-495d-f2df-01695d46ce8a"
      },
      "outputs": [
        {
          "output_type": "display_data",
          "data": {
            "text/plain": [
              "<Figure size 640x480 with 1 Axes>"
            ],
            "image/png": "[encoded data removed]"
          },
          "metadata": {}
        }
      ],
      "source": [
        "histogram_output = !python histogram_localized.py output\n",
        "histogram = np.loadtxt(histogram_output, delimiter=\",\")\n",
        "\n",
        "# Print most frequently occuring characters.\n",
        "pairs = sorted(((i,c) for i,c in enumerate(histogram) if c), key=lambda x: x[1], reverse=True)[:20]\n",
        "labels = [('SPACE' if i==32 else chr(i)) if 32<=i<=126 else f'0x{i:02X}' for i,_ in pairs]\n",
        "plt.barh(labels[::-1], [c for _,c in pairs][::-1]); plt.xlabel('count'); plt.tight_layout(); plt.show()"
      ]
    },
    {
      "cell_type": "markdown",
      "id": "06857a59-20f3-4e39-aece-18cfbb514170",
      "metadata": {
        "id": "06857a59-20f3-4e39-aece-18cfbb514170"
      },
      "source": [
        "Now let's profile it:"
      ]
    },
    {
      "cell_type": "code",
      "execution_count": 11,
      "id": "d637b6b1-fb0b-4807-b70b-c80227c0fd6f",
      "metadata": {
        "id": "d637b6b1-fb0b-4807-b70b-c80227c0fd6f",
        "outputId": "73f9b425-86b5-476a-8522-ccdae2173bf8",
        "colab": {
          "base_uri": "https://localhost:8080/"
        }
      },
      "outputs": [
        {
          "output_type": "stream",
          "name": "stdout",
          "text": [
            "==PROF== Connected to process 2404 (/usr/bin/python3.12)\n",
            "==PROF== Profiling \"histogram_localized[abi:v1,cw51cXTLSUwv1sDUaKthrqNgqqmjgOR3W3Cw6igA9duC0hkwnNGiHEkYkrqQBFBTDEwCyQe21eqwcFW3UoDGjzpQEsgzrtUEAA_3d_3d]\": 0%....50%....100% - 30 passes\n",
            "==PROF== Disconnected from process 2404\n",
            "==PROF== Report: /content/histogram_localized.ncu-rep\n"
          ]
        }
      ],
      "source": [
        "!ncu -f --kernel-name regex:histogram_localized --set full -o histogram_localized python histogram_localized.py\n",
        "histogram_localized_csv = !ncu --import histogram_localized.ncu-rep --csv"
      ]
    },
    {
      "cell_type": "code",
      "execution_count": 12,
      "id": "114e8ff7-b6fb-42ad-abda-f6d53479c052",
      "metadata": {
        "id": "114e8ff7-b6fb-42ad-abda-f6d53479c052",
        "outputId": "7de79a4e-67dd-4c8c-d2a4-de7dd7943b11",
        "colab": {
          "base_uri": "https://localhost:8080/",
          "height": 1090,
          "referenced_widgets": [
            "a1d435a311514317851f420cf82629c1",
            "7d6bb00ff7884ec4806b0eee55a39be6",
            "72a5514651894472b58e31c99eaa4a3f",
            "d16fd2c21a4145189c5b3d2109799dde",
            "9244fcecd4224147aa988a085b65106a",
            "3c350189220a42aba334a24312585cda",
            "508b557d92954bb7bf34e31dd292d697",
            "9c96776b4ab7488590cd781b1ceb433d",
            "7e6713c3f7384f59b5ce8a6392483a4b",
            "f6fd65de9a284dd7bdf6bfeab1700d7d",
            "d6aa7fd41afd49f1aa32f59a8329a613",
            "77eab863a88e4002849d6f5362543bd5",
            "a79007c9c8794f90a841690593908995",
            "6132c228ffdd421b9afb8274d72cecf9",
            "90f22467d8964f1185b38a01cbde1a59",
            "6c48b86ba29646358c61f3951ac59e90",
            "9388d90d1c1445098245fd81dc282d43",
            "4441f0ae635045b5926407cc6fc583c2",
            "cb4de33494c3446597d8da63a3efe11e",
            "ba193c56486e4795a145db9c2fe13894",
            "edcb9e243c29420f902c782cb121e977",
            "2f6beb0105cf41cc955abf75b9c46d30",
            "99770f4c01cf4b9090714046d0ae6bb5",
            "d5346eeaa2464b3bbf0e730213184804",
            "32c5ef454fc64769b17b0a40b78aa75a",
            "b6e5ffb343e84174aef7b7c3592d3c90",
            "f90805f1623948dc9ed7d4df05b05aa6",
            "e6863561950e4a54a62cab2b2f76fb41",
            "579823e5bc834885b0a8c8ddb7c77a88",
            "ed97047a472144db96923c311bb45770",
            "e2abea0d1f6444de925f3c2d1809c07a",
            "f75da446159b4baaabc7527d2416d86a",
            "386906c3be5a4bc191c4084fb865871a"
          ]
        }
      },
      "outputs": [
        {
          "output_type": "display_data",
          "data": {
            "text/plain": [
              "<IPython.core.display.Javascript object>"
            ],
            "application/javascript": [
              "window[\"6227ede2-9ed3-11f0-b8a0-0242ac1c000c\"] = google.colab.output.setIframeHeight(-1, true, {\"interactive\": true, \"maxHeight\": 99999});\n",
              "//# sourceURL=js_6006fea671"
            ]
          },
          "metadata": {}
        },
        {
          "output_type": "display_data",
          "data": {
            "text/plain": [
              "<IPython.core.display.HTML object>"
            ],
            "text/html": [
              "\n",
              "    <style>\n",
              "    /* Use JupyterLab theme variables when available */\n",
              "    .widget-tab .p-TabBar .p-TabBar-tabLabel {\n",
              "      color: var(--jp-ui-font-color1, inherit);\n",
              "    }\n",
              "    .widget-tab .p-TabBar-tab.p-mod-current .p-TabBar-tabLabel {\n",
              "      color: var(--jp-ui-font-color0, inherit);\n",
              "    }\n",
              "\n",
              "    /* Fallback for classic notebook / VS Code: follow OS theme */\n",
              "    @media (prefers-color-scheme: dark) {\n",
              "      .widget-tab .p-TabBar .p-TabBar-tabLabel { color: #eee; }\n",
              "      .widget-tab .p-TabBar-tab.p-mod-current .p-TabBar-tabLabel { color: #fff; }\n",
              "    }\n",
              "    @media (prefers-color-scheme: light) {\n",
              "      .widget-tab .p-TabBar .p-TabBar-tabLabel { color: #111; }\n",
              "      .widget-tab .p-TabBar-tab.p-mod-current .p-TabBar-tabLabel { color: #000; }\n",
              "    }\n",
              "\n",
              "    /* Make borders theme-aware too */\n",
              "    .widget-output, .widget-tab .p-TabBar {\n",
              "      border-color: var(--jp-border-color2, #ddd) !important;\n",
              "    }\n",
              "\n",
              "    /* Fit tab title to the length of text */\n",
              "    .widget-tab .p-TabBar-tab {\n",
              "      min-width: auto !important;\n",
              "      width: auto !important;\n",
              "      flex: 0 0 auto !important;\n",
              "    }\n",
              "\n",
              "    .widget-tab .p-TabBar-tabLabel {\n",
              "      white-space: nowrap !important;\n",
              "      text-overflow: clip !important;\n",
              "      overflow: visible !important;\n",
              "      padding: 0 0 !important;\n",
              "    }\n",
              "    </style>\n",
              "    "
            ]
          },
          "metadata": {}
        },
        {
          "output_type": "display_data",
          "data": {
            "text/plain": [
              "Dropdown(description='Kernel:', layout=Layout(width='400px'), options=('histogram_localized',), style=Descript…"
            ],
            "application/vnd.jupyter.widget-view+json": {
              "version_major": 2,
              "version_minor": 0,
              "model_id": "a1d435a311514317851f420cf82629c1"
            }
          },
          "metadata": {}
        },
        {
          "output_type": "display_data",
          "data": {
            "text/plain": [
              "Output()"
            ],
            "application/vnd.jupyter.widget-view+json": {
              "version_major": 2,
              "version_minor": 0,
              "model_id": "d16fd2c21a4145189c5b3d2109799dde"
            }
          },
          "metadata": {}
        }
      ],
      "source": [
        "nsightful.display_ncu_csv_in_notebook(histogram_localized_csv)"
      ]
    },
    {
      "cell_type": "markdown",
      "id": "9aa1da9a-097a-4f7f-9e96-8891f5d7a2a2",
      "metadata": {
        "id": "9aa1da9a-097a-4f7f-9e96-8891f5d7a2a2"
      },
      "source": [
        "Finally, let's benchmark our two approaches."
      ]
    },
    {
      "cell_type": "code",
      "execution_count": 13,
      "id": "2a3f9ca4-b61b-4536-9896-7a41498cc986",
      "metadata": {
        "colab": {
          "base_uri": "https://localhost:8080/"
        },
        "id": "2a3f9ca4-b61b-4536-9896-7a41498cc986",
        "outputId": "3ba179ad-9496-4369-cfd6-863021ec3e64"
      },
      "outputs": [
        {
          "output_type": "stream",
          "name": "stdout",
          "text": [
            "histogram_global:    0.00842 s ± 5.35% (mean ± relative stdev of 15 runs)\n",
            "histogram_localized: 0.00101 s ± 2.89% (mean ± relative stdev of 15 runs)\n",
            "histogram_localized speedup over histogram_global: 8.34\n"
          ]
        }
      ],
      "source": [
        "histogram_global_duration    = !python histogram_global.py\n",
        "histogram_localized_duration = !python histogram_localized.py\n",
        "speedup = float(histogram_global_duration[0].split()[0]) / float(histogram_localized_duration[0].split()[0])\n",
        "\n",
        "print(f\"histogram_global:    {histogram_global_duration[0]}\")\n",
        "print(f\"histogram_localized: {histogram_localized_duration[0]}\")\n",
        "print(f\"histogram_localized speedup over histogram_global: {speedup:.2f}\")"
      ]
    }
  ],
  "metadata": {
    "kernelspec": {
      "display_name": "Python 3",
      "name": "python3"
    },
    "language_info": {
      "codemirror_mode": {
        "name": "ipython",
        "version": 3
      },
      "file_extension": ".py",
      "mimetype": "text/x-python",
      "name": "python",
      "nbconvert_exporter": "python",
      "pygments_lexer": "ipython3",
      "version": "3.13.7"
    },
    "colab": {
      "provenance": [],
      "gpuType": "T4"
    },
    "accelerator": "GPU",
    "widgets": {
      "application/vnd.jupyter.widget-state+json": {
        "9d727acd5e4d4a72847b14146a2f9c46": {
          "model_module": "@jupyter-widgets/controls",
          "model_name": "DropdownModel",
          "model_module_version": "1.5.0",
          "state": {
            "_dom_classes": [],
            "_model_module": "@jupyter-widgets/controls",
            "_model_module_version": "1.5.0",
            "_model_name": "DropdownModel",
            "_options_labels": [
              "histogram_global"
            ],
            "_view_count": null,
            "_view_module": "@jupyter-widgets/controls",
            "_view_module_version": "1.5.0",
            "_view_name": "DropdownView",
            "description": "Kernel:",
            "description_tooltip": null,
            "disabled": false,
            "index": 0,
            "layout": "IPY_MODEL_58a372e3b53c46d084eeee1dd33ff3d3",
            "style": "IPY_MODEL_cdcfd07f7bb14740adb5a3dd5cd4c55c"
          }
        },
        "58a372e3b53c46d084eeee1dd33ff3d3": {
          "model_module": "@jupyter-widgets/base",
          "model_name": "LayoutModel",
          "model_module_version": "1.2.0",
          "state": {
            "_model_module": "@jupyter-widgets/base",
            "_model_module_version": "1.2.0",
            "_model_name": "LayoutModel",
            "_view_count": null,
            "_view_module": "@jupyter-widgets/base",
            "_view_module_version": "1.2.0",
            "_view_name": "LayoutView",
            "align_content": null,
            "align_items": null,
            "align_self": null,
            "border": null,
            "bottom": null,
            "display": null,
            "flex": null,
            "flex_flow": null,
            "grid_area": null,
            "grid_auto_columns": null,
            "grid_auto_flow": null,
            "grid_auto_rows": null,
            "grid_column": null,
            "grid_gap": null,
            "grid_row": null,
            "grid_template_areas": null,
            "grid_template_columns": null,
            "grid_template_rows": null,
            "height": null,
            "justify_content": null,
            "justify_items": null,
            "left": null,
            "margin": null,
            "max_height": null,
            "max_width": null,
            "min_height": null,
            "min_width": null,
            "object_fit": null,
            "object_position": null,
            "order": null,
            "overflow": null,
            "overflow_x": null,
            "overflow_y": null,
            "padding": null,
            "right": null,
            "top": null,
            "visibility": null,
            "width": "400px"
          }
        },
        "cdcfd07f7bb14740adb5a3dd5cd4c55c": {
          "model_module": "@jupyter-widgets/controls",
          "model_name": "DescriptionStyleModel",
          "model_module_version": "1.5.0",
          "state": {
            "_model_module": "@jupyter-widgets/controls",
            "_model_module_version": "1.5.0",
            "_model_name": "DescriptionStyleModel",
            "_view_count": null,
            "_view_module": "@jupyter-widgets/base",
            "_view_module_version": "1.2.0",
            "_view_name": "StyleView",
            "description_width": "initial"
          }
        },
        "4e2536164cc44cf196986cefb53597dc": {
          "model_module": "@jupyter-widgets/output",
          "model_name": "OutputModel",
          "model_module_version": "1.0.0",
          "state": {
            "_dom_classes": [],
            "_model_module": "@jupyter-widgets/output",
            "_model_module_version": "1.0.0",
            "_model_name": "OutputModel",
            "_view_count": null,
            "_view_module": "@jupyter-widgets/output",
            "_view_module_version": "1.0.0",
            "_view_name": "OutputView",
            "layout": "IPY_MODEL_3d9705abcea44225883841cb66ff6655",
            "msg_id": "",
            "outputs": [
              {
                "output_type": "display_data",
                "data": {
                  "text/plain": "<IPython.core.display.Markdown object>",
                  "text/markdown": "# histogram_global"
                },
                "metadata": {}
              },
              {
                "output_type": "display_data",
                "data": {
                  "text/plain": "Tab(children=(Output(), Output(), Output(), Output(), Output(), Output(), Output(), Output(), Output(), Output…",
                  "application/vnd.jupyter.widget-view+json": {
                    "version_major": 2,
                    "version_minor": 0,
                    "model_id": "35aa94c05ec84c448c70d9de16858393"
                  }
                },
                "metadata": {}
              }
            ]
          }
        },
        "3d9705abcea44225883841cb66ff6655": {
          "model_module": "@jupyter-widgets/base",
          "model_name": "LayoutModel",
          "model_module_version": "1.2.0",
          "state": {
            "_model_module": "@jupyter-widgets/base",
            "_model_module_version": "1.2.0",
            "_model_name": "LayoutModel",
            "_view_count": null,
            "_view_module": "@jupyter-widgets/base",
            "_view_module_version": "1.2.0",
            "_view_name": "LayoutView",
            "align_content": null,
            "align_items": null,
            "align_self": null,
            "border": null,
            "bottom": null,
            "display": null,
            "flex": null,
            "flex_flow": null,
            "grid_area": null,
            "grid_auto_columns": null,
            "grid_auto_flow": null,
            "grid_auto_rows": null,
            "grid_column": null,
            "grid_gap": null,
            "grid_row": null,
            "grid_template_areas": null,
            "grid_template_columns": null,
            "grid_template_rows": null,
            "height": null,
            "justify_content": null,
            "justify_items": null,
            "left": null,
            "margin": null,
            "max_height": null,
            "max_width": null,
            "min_height": null,
            "min_width": null,
            "object_fit": null,
            "object_position": null,
            "order": null,
            "overflow": null,
            "overflow_x": null,
            "overflow_y": null,
            "padding": null,
            "right": null,
            "top": null,
            "visibility": null,
            "width": null
          }
        },
        "35aa94c05ec84c448c70d9de16858393": {
          "model_module": "@jupyter-widgets/controls",
          "model_name": "TabModel",
          "model_module_version": "1.5.0",
          "state": {
            "_dom_classes": [],
            "_model_module": "@jupyter-widgets/controls",
            "_model_module_version": "1.5.0",
            "_model_name": "TabModel",
            "_titles": {
              "0": "Summary",
              "1": "Speed Of Light",
              "2": "Memory Workload",
              "3": "Compute Workload",
              "4": "Compute & Memory Distribution",
              "5": "Scheduler",
              "6": "Warp State",
              "7": "Instruction",
              "8": "Launch",
              "9": "PM Sampling",
              "10": "Occupancy",
              "11": "Source Counters",
              "12": "WorkloadDistribution"
            },
            "_view_count": null,
            "_view_module": "@jupyter-widgets/controls",
            "_view_module_version": "1.5.0",
            "_view_name": "TabView",
            "box_style": "",
            "children": [
              "IPY_MODEL_f9b370139d664d4f9208aa07ba2cb879",
              "IPY_MODEL_b62bf1f729dd4916a9cf6de24c0dc92a",
              "IPY_MODEL_0779978c006d47269871dee48846e52b",
              "IPY_MODEL_f0304b34f10f41c4bc67793ab77c9cff",
              "IPY_MODEL_c498ee4816af489c862f8b05628855ed",
              "IPY_MODEL_39c8c915e1be4443b85584738e037054",
              "IPY_MODEL_2b2039ac21c74f5da88edd374ceb48eb",
              "IPY_MODEL_b61478876f7d446dafbdaa6e6ed26406",
              "IPY_MODEL_5c4e4140bfa044e3b7b31def84fb783d",
              "IPY_MODEL_55417dc171514ae5911e01e86d591a93",
              "IPY_MODEL_769722e285eb428b8914ab2756f2a37e",
              "IPY_MODEL_0b7d2a0798064edeb16d2205287b6997",
              "IPY_MODEL_22a5434a1fa548d582b6053d40203740"
            ],
            "layout": "IPY_MODEL_753515bab1a9446a8458618e10768f36",
            "selected_index": 0
          }
        },
        "f9b370139d664d4f9208aa07ba2cb879": {
          "model_module": "@jupyter-widgets/output",
          "model_name": "OutputModel",
          "model_module_version": "1.0.0",
          "state": {
            "_dom_classes": [],
            "_model_module": "@jupyter-widgets/output",
            "_model_module_version": "1.0.0",
            "_model_name": "OutputModel",
            "_view_count": null,
            "_view_module": "@jupyter-widgets/output",
            "_view_module_version": "1.0.0",
            "_view_name": "OutputView",
            "layout": "IPY_MODEL_06fafe7de8bc4665b10d539f5202fffc",
            "msg_id": "",
            "outputs": [
              {
                "output_type": "display_data",
                "data": {
                  "text/plain": "<IPython.core.display.Markdown object>",
                  "text/markdown": "## Summary\n\n### Speed Of Light\n\n🔧 **OPTIMIZATION**: This kernel exhibits low compute throughput and memory bandwidth utilization relative to the peak performance of this device. Achieved compute throughput and/or memory bandwidth below 60.0% of peak typically indicate latency issues. Look at Scheduler Statistics and Warp State Statistics for potential reasons.\n\nℹ️ **INFO**: The ratio of peak float (fp32) to double (fp64) performance on this device is 32:1. The kernel achieved 0% of this device's fp32 peak performance and 0% of its fp64 peak performance. See the Kernel Profiling Guide (https://docs.nvidia.com/nsight-compute/ProfilingGuide/index.html#roofline) for more details on roofline analysis.\n\n### Memory Workload\n\n⚠️ **WARNING**: The optional metric lts__average_gcomp_input_sector_success_rate.pct could not be found. Collecting it as an additional metric could enable the rule to provide more guidance.\n\n🔧 **OPTIMIZATION**: The memory access pattern for global loads from L1TEX might not be optimal. On average, only 4.0 of the 32 bytes transmitted per sector are utilized by each thread. This could possibly be caused by a stride between threads. Check the Source Counters section for uncoalesced global loads.\n*Estimated Speedup (global): 11.55%*\n\n### Compute Workload\n\n🔧 **OPTIMIZATION**: All compute pipelines are under-utilized. Either this kernel is very small or it doesn't issue enough warps per scheduler. Check the Launch Statistics and Scheduler Statistics sections for further details.\n*Estimated Speedup (local): 99.85%*\n\n### Scheduler\n\n🔧 **OPTIMIZATION**: Every scheduler is capable of issuing one instruction per cycle, but for this kernel each scheduler only issues an instruction every 335.7 cycles. This might leave hardware resources underutilized and may lead to less optimal performance. Out of the maximum of 8 warps per scheduler, this kernel allocates an average of 7.35 active warps per scheduler, but only an average of 0.01 warps were eligible per cycle. Eligible warps are the subset of active warps that are ready to issue their next instruction. Every cycle with no eligible warp results in no instruction being issued and the issue slot remains unused. To increase the number of eligible warps, avoid possible load imbalances due to highly different execution durations per warp. Reducing stalls indicated on the Warp State Statistics and Source Counters sections can help, too.\n*Estimated Speedup (local): 93.4%*\n\n### Warp State\n\n🔧 **OPTIMIZATION**: On average, each warp of this kernel spends 1885.3 cycles being stalled waiting for the L1 instruction queue for local and global (LG) memory operations to be not full. Typically, this stall occurs only when executing local or global memory instructions extremely frequently. Avoid redundant global memory accesses. Try to avoid using thread-local memory by checking if dynamically indexed arrays are declared in local scope, of if the kernel has excessive register pressure causing by spills. If applicable, consider combining multiple lower-width memory operations into fewer wider memory operations and try interleaving memory operations and math instructions. This stall type represents about 76.4% of the total average of 2466.6 cycles between issuing two instructions.\n*Estimated Speedup (global): 76.43%*\n\nℹ️ **INFO**: Check the Warp Stall Sampling (All Samples) table for the top stall locations in your source based on sampling data. The Kernel Profiling Guide (https://docs.nvidia.com/nsight-compute/ProfilingGuide/index.html#metrics-reference) provides more details on each stall reason.\n\n### Source Counters\n\n🔧 **OPTIMIZATION**: This kernel has uncoalesced global accesses resulting in a total of 4988724 excessive sectors (68% of the total 7329833 sectors). Check the L2 Theoretical Sectors Global Excessive table for the primary source locations. The CUDA Programming Guide (https://docs.nvidia.com/cuda/cuda-c-programming-guide/index.html#device-memory-accesses) has additional information on reducing uncoalesced device memory accesses.\n*Estimated Speedup (global): 6.913%*\n\n### WorkloadDistribution\n\n🔧 **OPTIMIZATION**: One or more L2 Slices have a much higher number of active cycles than the average number of active cycles. Maximum instance value is 89.84% above the average, while the minimum instance value is 61.40% below the average.\n*Estimated Speedup (global): 9.125%*\n"
                },
                "metadata": {}
              }
            ]
          }
        },
        "b62bf1f729dd4916a9cf6de24c0dc92a": {
          "model_module": "@jupyter-widgets/output",
          "model_name": "OutputModel",
          "model_module_version": "1.0.0",
          "state": {
            "_dom_classes": [],
            "_model_module": "@jupyter-widgets/output",
            "_model_module_version": "1.0.0",
            "_model_name": "OutputModel",
            "_view_count": null,
            "_view_module": "@jupyter-widgets/output",
            "_view_module_version": "1.0.0",
            "_view_name": "OutputView",
            "layout": "IPY_MODEL_7baea17834f74a10a6e4f870295af53f",
            "msg_id": "",
            "outputs": [
              {
                "output_type": "display_data",
                "data": {
                  "text/plain": "<IPython.core.display.Markdown object>",
                  "text/markdown": "## Speed Of Light\n\n| Metric Name | Metric Unit | Metric Value |\n|-------------|-------------|--------------|\n| DRAM Frequency | Ghz | 4.99 |\n| SM Frequency | Mhz | 585.00 |\n| Elapsed Cycles | cycle | 4,835,721 |\n| Memory Throughput | % | 6.60 |\n| DRAM Throughput | % | 0.79 |\n| Duration | ms | 8.27 |\n| L1/TEX Cache Throughput | % | 13.21 |\n| L2 Cache Throughput | % | 5.65 |\n| SM Active Cycles | cycle | 4,807,799.35 |\n| Compute (SM) Throughput | % | 1.44 |\n\n🔧 **OPTIMIZATION**: This kernel exhibits low compute throughput and memory bandwidth utilization relative to the peak performance of this device. Achieved compute throughput and/or memory bandwidth below 60.0% of peak typically indicate latency issues. Look at Scheduler Statistics and Warp State Statistics for potential reasons.\n\nℹ️ **INFO**: The ratio of peak float (fp32) to double (fp64) performance on this device is 32:1. The kernel achieved 0% of this device's fp32 peak performance and 0% of its fp64 peak performance. See the Kernel Profiling Guide (https://docs.nvidia.com/nsight-compute/ProfilingGuide/index.html#roofline) for more details on roofline analysis.\n"
                },
                "metadata": {}
              }
            ]
          }
        },
        "0779978c006d47269871dee48846e52b": {
          "model_module": "@jupyter-widgets/output",
          "model_name": "OutputModel",
          "model_module_version": "1.0.0",
          "state": {
            "_dom_classes": [],
            "_model_module": "@jupyter-widgets/output",
            "_model_module_version": "1.0.0",
            "_model_name": "OutputModel",
            "_view_count": null,
            "_view_module": "@jupyter-widgets/output",
            "_view_module_version": "1.0.0",
            "_view_name": "OutputView",
            "layout": "IPY_MODEL_ae2846a2d4414368b83e2931e1661594",
            "msg_id": "",
            "outputs": [
              {
                "output_type": "display_data",
                "data": {
                  "text/plain": "<IPython.core.display.Markdown object>",
                  "text/markdown": "## Memory Workload\n\n| Metric Name | Metric Unit | Metric Value |\n|-------------|-------------|--------------|\n| Memory Throughput | Gbyte/s | 2.52 |\n| Mem Busy | % | 4.13 |\n| Max Bandwidth | % | 6.60 |\n| L1/TEX Hit Rate | % | 26.05 |\n| L2 Hit Rate | % | 94.87 |\n| Mem Pipes Busy | % | 1.44 |\n\n⚠️ **WARNING**: The optional metric lts__average_gcomp_input_sector_success_rate.pct could not be found. Collecting it as an additional metric could enable the rule to provide more guidance.\n\n🔧 **OPTIMIZATION**: The memory access pattern for global loads from L1TEX might not be optimal. On average, only 4.0 of the 32 bytes transmitted per sector are utilized by each thread. This could possibly be caused by a stride between threads. Check the Source Counters section for uncoalesced global loads.\n*Estimated Speedup (global): 11.55%*\n"
                },
                "metadata": {}
              }
            ]
          }
        },
        "f0304b34f10f41c4bc67793ab77c9cff": {
          "model_module": "@jupyter-widgets/output",
          "model_name": "OutputModel",
          "model_module_version": "1.0.0",
          "state": {
            "_dom_classes": [],
            "_model_module": "@jupyter-widgets/output",
            "_model_module_version": "1.0.0",
            "_model_name": "OutputModel",
            "_view_count": null,
            "_view_module": "@jupyter-widgets/output",
            "_view_module_version": "1.0.0",
            "_view_name": "OutputView",
            "layout": "IPY_MODEL_13b7e34f29b345f9bfe647cd3962231c",
            "msg_id": "",
            "outputs": [
              {
                "output_type": "display_data",
                "data": {
                  "text/plain": "<IPython.core.display.Markdown object>",
                  "text/markdown": "## Compute Workload\n\n| Metric Name | Metric Unit | Metric Value |\n|-------------|-------------|--------------|\n| Executed Ipc Active | inst/cycle | 0.01 |\n| Executed Ipc Elapsed | inst/cycle | 0.01 |\n| Issue Slots Busy | % | 0.30 |\n| Issued Ipc Active | inst/cycle | 0.01 |\n| SM Busy | % | 0.37 |\n\n🔧 **OPTIMIZATION**: All compute pipelines are under-utilized. Either this kernel is very small or it doesn't issue enough warps per scheduler. Check the Launch Statistics and Scheduler Statistics sections for further details.\n*Estimated Speedup (local): 99.85%*\n"
                },
                "metadata": {}
              }
            ]
          }
        },
        "c498ee4816af489c862f8b05628855ed": {
          "model_module": "@jupyter-widgets/output",
          "model_name": "OutputModel",
          "model_module_version": "1.0.0",
          "state": {
            "_dom_classes": [],
            "_model_module": "@jupyter-widgets/output",
            "_model_module_version": "1.0.0",
            "_model_name": "OutputModel",
            "_view_count": null,
            "_view_module": "@jupyter-widgets/output",
            "_view_module_version": "1.0.0",
            "_view_name": "OutputView",
            "layout": "IPY_MODEL_5ad4019c5456498a949cbc95412e168a",
            "msg_id": "",
            "outputs": [
              {
                "output_type": "display_data",
                "data": {
                  "text/plain": "<IPython.core.display.Markdown object>",
                  "text/markdown": "## Compute & Memory Distribution\n\n| Metric Name | Metric Unit | Metric Value |\n|-------------|-------------|--------------|\n| Average DRAM Active Cycles | cycle | 325,513 |\n| Total DRAM Elapsed Cycles | cycle | 330,289,152 |\n| Average L1 Active Cycles | cycle | 4,807,799.35 |\n| Total L1 Elapsed Cycles | cycle | 193,368,432 |\n| Average L2 Active Cycles | cycle | 717,877.81 |\n| Total L2 Elapsed Cycles | cycle | 226,162,848 |\n| Average SM Active Cycles | cycle | 4,807,799.35 |\n| Total SM Elapsed Cycles | cycle | 193,368,432 |\n| Average SMSP Active Cycles | cycle | 4,807,624.94 |\n| Total SMSP Elapsed Cycles | cycle | 773,473,728 |\n"
                },
                "metadata": {}
              }
            ]
          }
        },
        "39c8c915e1be4443b85584738e037054": {
          "model_module": "@jupyter-widgets/output",
          "model_name": "OutputModel",
          "model_module_version": "1.0.0",
          "state": {
            "_dom_classes": [],
            "_model_module": "@jupyter-widgets/output",
            "_model_module_version": "1.0.0",
            "_model_name": "OutputModel",
            "_view_count": null,
            "_view_module": "@jupyter-widgets/output",
            "_view_module_version": "1.0.0",
            "_view_name": "OutputView",
            "layout": "IPY_MODEL_ec5592c2e2cc425195716cd8465a451e",
            "msg_id": "",
            "outputs": [
              {
                "output_type": "display_data",
                "data": {
                  "text/plain": "<IPython.core.display.Markdown object>",
                  "text/markdown": "## Scheduler\n\n| Metric Name | Metric Unit | Metric Value |\n|-------------|-------------|--------------|\n| One or More Eligible | % | 0.30 |\n| Issued Warp Per Scheduler |  | 0.00 |\n| No Eligible | % | 99.70 |\n| Active Warps Per Scheduler | warp | 7.35 |\n| Eligible Warps Per Scheduler | warp | 0.01 |\n\n🔧 **OPTIMIZATION**: Every scheduler is capable of issuing one instruction per cycle, but for this kernel each scheduler only issues an instruction every 335.7 cycles. This might leave hardware resources underutilized and may lead to less optimal performance. Out of the maximum of 8 warps per scheduler, this kernel allocates an average of 7.35 active warps per scheduler, but only an average of 0.01 warps were eligible per cycle. Eligible warps are the subset of active warps that are ready to issue their next instruction. Every cycle with no eligible warp results in no instruction being issued and the issue slot remains unused. To increase the number of eligible warps, avoid possible load imbalances due to highly different execution durations per warp. Reducing stalls indicated on the Warp State Statistics and Source Counters sections can help, too.\n*Estimated Speedup (local): 93.4%*\n"
                },
                "metadata": {}
              }
            ]
          }
        },
        "2b2039ac21c74f5da88edd374ceb48eb": {
          "model_module": "@jupyter-widgets/output",
          "model_name": "OutputModel",
          "model_module_version": "1.0.0",
          "state": {
            "_dom_classes": [],
            "_model_module": "@jupyter-widgets/output",
            "_model_module_version": "1.0.0",
            "_model_name": "OutputModel",
            "_view_count": null,
            "_view_module": "@jupyter-widgets/output",
            "_view_module_version": "1.0.0",
            "_view_name": "OutputView",
            "layout": "IPY_MODEL_b662cdbbd44c486b9a32454677205279",
            "msg_id": "",
            "outputs": [
              {
                "output_type": "display_data",
                "data": {
                  "text/plain": "<IPython.core.display.Markdown object>",
                  "text/markdown": "## Warp State\n\n| Metric Name | Metric Unit | Metric Value |\n|-------------|-------------|--------------|\n| Warp Cycles Per Issued Instruction | cycle | 2,466.62 |\n| Warp Cycles Per Executed Instruction | cycle | 2,472.38 |\n| Avg. Active Threads Per Warp |  | 32 |\n| Avg. Not Predicated Off Threads Per Warp |  | 32 |\n\n🔧 **OPTIMIZATION**: On average, each warp of this kernel spends 1885.3 cycles being stalled waiting for the L1 instruction queue for local and global (LG) memory operations to be not full. Typically, this stall occurs only when executing local or global memory instructions extremely frequently. Avoid redundant global memory accesses. Try to avoid using thread-local memory by checking if dynamically indexed arrays are declared in local scope, of if the kernel has excessive register pressure causing by spills. If applicable, consider combining multiple lower-width memory operations into fewer wider memory operations and try interleaving memory operations and math instructions. This stall type represents about 76.4% of the total average of 2466.6 cycles between issuing two instructions.\n*Estimated Speedup (global): 76.43%*\n\nℹ️ **INFO**: Check the Warp Stall Sampling (All Samples) table for the top stall locations in your source based on sampling data. The Kernel Profiling Guide (https://docs.nvidia.com/nsight-compute/ProfilingGuide/index.html#metrics-reference) provides more details on each stall reason.\n"
                },
                "metadata": {}
              }
            ]
          }
        },
        "b61478876f7d446dafbdaa6e6ed26406": {
          "model_module": "@jupyter-widgets/output",
          "model_name": "OutputModel",
          "model_module_version": "1.0.0",
          "state": {
            "_dom_classes": [],
            "_model_module": "@jupyter-widgets/output",
            "_model_module_version": "1.0.0",
            "_model_name": "OutputModel",
            "_view_count": null,
            "_view_module": "@jupyter-widgets/output",
            "_view_module_version": "1.0.0",
            "_view_name": "OutputView",
            "layout": "IPY_MODEL_c61500633b01451686d5894206068480",
            "msg_id": "",
            "outputs": [
              {
                "output_type": "display_data",
                "data": {
                  "text/plain": "<IPython.core.display.Markdown object>",
                  "text/markdown": "## Instruction\n\n| Metric Name | Metric Unit | Metric Value |\n|-------------|-------------|--------------|\n| Avg. Executed Instructions Per Scheduler | inst | 14,289.60 |\n| Executed Instructions | inst | 2,286,336 |\n| Avg. Issued Instructions Per Scheduler | inst | 14,322.97 |\n| Issued Instructions | inst | 2,291,675 |\n"
                },
                "metadata": {}
              }
            ]
          }
        },
        "5c4e4140bfa044e3b7b31def84fb783d": {
          "model_module": "@jupyter-widgets/output",
          "model_name": "OutputModel",
          "model_module_version": "1.0.0",
          "state": {
            "_dom_classes": [],
            "_model_module": "@jupyter-widgets/output",
            "_model_module_version": "1.0.0",
            "_model_name": "OutputModel",
            "_view_count": null,
            "_view_module": "@jupyter-widgets/output",
            "_view_module_version": "1.0.0",
            "_view_name": "OutputView",
            "layout": "IPY_MODEL_b08dc18e23ac47a49bd44e30a1447e04",
            "msg_id": "",
            "outputs": [
              {
                "output_type": "display_data",
                "data": {
                  "text/plain": "<IPython.core.display.Markdown object>",
                  "text/markdown": "## Launch\n\n| Metric Name | Metric Unit | Metric Value |\n|-------------|-------------|--------------|\n| Block Size |  | 512 |\n| Function Cache Configuration |  | CachePreferNone |\n| Grid Size |  | 3,664 |\n| Registers Per Thread | register/thread | 18 |\n| Shared Memory Configuration Size | Kbyte | 32.77 |\n| Driver Shared Memory Per Block | byte/block | 0 |\n| Dynamic Shared Memory Per Block | byte/block | 0 |\n| Static Shared Memory Per Block | byte/block | 0 |\n| # SMs | SM | 40 |\n| Threads | thread | 1,875,968 |\n| Uses Green Context |  | 0 |\n| Waves Per SM |  | 45.80 |\n"
                },
                "metadata": {}
              }
            ]
          }
        },
        "55417dc171514ae5911e01e86d591a93": {
          "model_module": "@jupyter-widgets/output",
          "model_name": "OutputModel",
          "model_module_version": "1.0.0",
          "state": {
            "_dom_classes": [],
            "_model_module": "@jupyter-widgets/output",
            "_model_module_version": "1.0.0",
            "_model_name": "OutputModel",
            "_view_count": null,
            "_view_module": "@jupyter-widgets/output",
            "_view_module_version": "1.0.0",
            "_view_name": "OutputView",
            "layout": "IPY_MODEL_3a40190fc25649a88c2bd92c4e86c615",
            "msg_id": "",
            "outputs": [
              {
                "output_type": "display_data",
                "data": {
                  "text/plain": "<IPython.core.display.Markdown object>",
                  "text/markdown": "## PM Sampling\n\n| Metric Name | Metric Unit | Metric Value |\n|-------------|-------------|--------------|\n| Maximum Buffer Size | Mbyte | 2.10 |\n| Dropped Samples | sample | 0 |\n| Maximum Sampling Interval | cycle | 20,000 |\n| # Pass Groups |  | 1 |\n"
                },
                "metadata": {}
              }
            ]
          }
        },
        "769722e285eb428b8914ab2756f2a37e": {
          "model_module": "@jupyter-widgets/output",
          "model_name": "OutputModel",
          "model_module_version": "1.0.0",
          "state": {
            "_dom_classes": [],
            "_model_module": "@jupyter-widgets/output",
            "_model_module_version": "1.0.0",
            "_model_name": "OutputModel",
            "_view_count": null,
            "_view_module": "@jupyter-widgets/output",
            "_view_module_version": "1.0.0",
            "_view_name": "OutputView",
            "layout": "IPY_MODEL_891e79c2daf44067abcc3344bc198a35",
            "msg_id": "",
            "outputs": [
              {
                "output_type": "display_data",
                "data": {
                  "text/plain": "<IPython.core.display.Markdown object>",
                  "text/markdown": "## Occupancy\n\n| Metric Name | Metric Unit | Metric Value |\n|-------------|-------------|--------------|\n| Block Limit SM | block | 16 |\n| Block Limit Registers | block | 5 |\n| Block Limit Shared Mem | block | 16 |\n| Block Limit Warps | block | 2 |\n| Theoretical Active Warps per SM | warp | 32 |\n| Theoretical Occupancy | % | 100 |\n| Achieved Occupancy | % | 91.79 |\n| Achieved Active Warps Per SM | warp | 29.37 |\n"
                },
                "metadata": {}
              }
            ]
          }
        },
        "0b7d2a0798064edeb16d2205287b6997": {
          "model_module": "@jupyter-widgets/output",
          "model_name": "OutputModel",
          "model_module_version": "1.0.0",
          "state": {
            "_dom_classes": [],
            "_model_module": "@jupyter-widgets/output",
            "_model_module_version": "1.0.0",
            "_model_name": "OutputModel",
            "_view_count": null,
            "_view_module": "@jupyter-widgets/output",
            "_view_module_version": "1.0.0",
            "_view_name": "OutputView",
            "layout": "IPY_MODEL_fc4ff827054d4b1ba9372c878ca8f34d",
            "msg_id": "",
            "outputs": [
              {
                "output_type": "display_data",
                "data": {
                  "text/plain": "<IPython.core.display.Markdown object>",
                  "text/markdown": "## Source Counters\n\n| Metric Name | Metric Unit | Metric Value |\n|-------------|-------------|--------------|\n| Branch Instructions Ratio | % | 0.03 |\n| Branch Instructions | inst | 58,624 |\n| Branch Efficiency | % | 0 |\n| Avg. Divergent Branches |  | 0 |\n\n🔧 **OPTIMIZATION**: This kernel has uncoalesced global accesses resulting in a total of 4988724 excessive sectors (68% of the total 7329833 sectors). Check the L2 Theoretical Sectors Global Excessive table for the primary source locations. The CUDA Programming Guide (https://docs.nvidia.com/cuda/cuda-c-programming-guide/index.html#device-memory-accesses) has additional information on reducing uncoalesced device memory accesses.\n*Estimated Speedup (global): 6.913%*\n"
                },
                "metadata": {}
              }
            ]
          }
        },
        "22a5434a1fa548d582b6053d40203740": {
          "model_module": "@jupyter-widgets/output",
          "model_name": "OutputModel",
          "model_module_version": "1.0.0",
          "state": {
            "_dom_classes": [],
            "_model_module": "@jupyter-widgets/output",
            "_model_module_version": "1.0.0",
            "_model_name": "OutputModel",
            "_view_count": null,
            "_view_module": "@jupyter-widgets/output",
            "_view_module_version": "1.0.0",
            "_view_name": "OutputView",
            "layout": "IPY_MODEL_792750e684dc402c9f32da7fef62e2bf",
            "msg_id": "",
            "outputs": [
              {
                "output_type": "display_data",
                "data": {
                  "text/plain": "<IPython.core.display.Markdown object>",
                  "text/markdown": "## WorkloadDistribution\n\n🔧 **OPTIMIZATION**: One or more L2 Slices have a much higher number of active cycles than the average number of active cycles. Maximum instance value is 89.84% above the average, while the minimum instance value is 61.40% below the average.\n*Estimated Speedup (global): 9.125%*\n"
                },
                "metadata": {}
              }
            ]
          }
        },
        "753515bab1a9446a8458618e10768f36": {
          "model_module": "@jupyter-widgets/base",
          "model_name": "LayoutModel",
          "model_module_version": "1.2.0",
          "state": {
            "_model_module": "@jupyter-widgets/base",
            "_model_module_version": "1.2.0",
            "_model_name": "LayoutModel",
            "_view_count": null,
            "_view_module": "@jupyter-widgets/base",
            "_view_module_version": "1.2.0",
            "_view_name": "LayoutView",
            "align_content": null,
            "align_items": null,
            "align_self": null,
            "border": null,
            "bottom": null,
            "display": null,
            "flex": null,
            "flex_flow": null,
            "grid_area": null,
            "grid_auto_columns": null,
            "grid_auto_flow": null,
            "grid_auto_rows": null,
            "grid_column": null,
            "grid_gap": null,
            "grid_row": null,
            "grid_template_areas": null,
            "grid_template_columns": null,
            "grid_template_rows": null,
            "height": null,
            "justify_content": null,
            "justify_items": null,
            "left": null,
            "margin": null,
            "max_height": null,
            "max_width": null,
            "min_height": null,
            "min_width": null,
            "object_fit": null,
            "object_position": null,
            "order": null,
            "overflow": null,
            "overflow_x": null,
            "overflow_y": null,
            "padding": null,
            "right": null,
            "top": null,
            "visibility": null,
            "width": null
          }
        },
        "06fafe7de8bc4665b10d539f5202fffc": {
          "model_module": "@jupyter-widgets/base",
          "model_name": "LayoutModel",
          "model_module_version": "1.2.0",
          "state": {
            "_model_module": "@jupyter-widgets/base",
            "_model_module_version": "1.2.0",
            "_model_name": "LayoutModel",
            "_view_count": null,
            "_view_module": "@jupyter-widgets/base",
            "_view_module_version": "1.2.0",
            "_view_name": "LayoutView",
            "align_content": null,
            "align_items": null,
            "align_self": null,
            "border": null,
            "bottom": null,
            "display": null,
            "flex": null,
            "flex_flow": null,
            "grid_area": null,
            "grid_auto_columns": null,
            "grid_auto_flow": null,
            "grid_auto_rows": null,
            "grid_column": null,
            "grid_gap": null,
            "grid_row": null,
            "grid_template_areas": null,
            "grid_template_columns": null,
            "grid_template_rows": null,
            "height": null,
            "justify_content": null,
            "justify_items": null,
            "left": null,
            "margin": null,
            "max_height": null,
            "max_width": null,
            "min_height": null,
            "min_width": null,
            "object_fit": null,
            "object_position": null,
            "order": null,
            "overflow": null,
            "overflow_x": null,
            "overflow_y": null,
            "padding": null,
            "right": null,
            "top": null,
            "visibility": null,
            "width": null
          }
        },
        "7baea17834f74a10a6e4f870295af53f": {
          "model_module": "@jupyter-widgets/base",
          "model_name": "LayoutModel",
          "model_module_version": "1.2.0",
          "state": {
            "_model_module": "@jupyter-widgets/base",
            "_model_module_version": "1.2.0",
            "_model_name": "LayoutModel",
            "_view_count": null,
            "_view_module": "@jupyter-widgets/base",
            "_view_module_version": "1.2.0",
            "_view_name": "LayoutView",
            "align_content": null,
            "align_items": null,
            "align_self": null,
            "border": null,
            "bottom": null,
            "display": null,
            "flex": null,
            "flex_flow": null,
            "grid_area": null,
            "grid_auto_columns": null,
            "grid_auto_flow": null,
            "grid_auto_rows": null,
            "grid_column": null,
            "grid_gap": null,
            "grid_row": null,
            "grid_template_areas": null,
            "grid_template_columns": null,
            "grid_template_rows": null,
            "height": null,
            "justify_content": null,
            "justify_items": null,
            "left": null,
            "margin": null,
            "max_height": null,
            "max_width": null,
            "min_height": null,
            "min_width": null,
            "object_fit": null,
            "object_position": null,
            "order": null,
            "overflow": null,
            "overflow_x": null,
            "overflow_y": null,
            "padding": null,
            "right": null,
            "top": null,
            "visibility": null,
            "width": null
          }
        },
        "ae2846a2d4414368b83e2931e1661594": {
          "model_module": "@jupyter-widgets/base",
          "model_name": "LayoutModel",
          "model_module_version": "1.2.0",
          "state": {
            "_model_module": "@jupyter-widgets/base",
            "_model_module_version": "1.2.0",
            "_model_name": "LayoutModel",
            "_view_count": null,
            "_view_module": "@jupyter-widgets/base",
            "_view_module_version": "1.2.0",
            "_view_name": "LayoutView",
            "align_content": null,
            "align_items": null,
            "align_self": null,
            "border": null,
            "bottom": null,
            "display": null,
            "flex": null,
            "flex_flow": null,
            "grid_area": null,
            "grid_auto_columns": null,
            "grid_auto_flow": null,
            "grid_auto_rows": null,
            "grid_column": null,
            "grid_gap": null,
            "grid_row": null,
            "grid_template_areas": null,
            "grid_template_columns": null,
            "grid_template_rows": null,
            "height": null,
            "justify_content": null,
            "justify_items": null,
            "left": null,
            "margin": null,
            "max_height": null,
            "max_width": null,
            "min_height": null,
            "min_width": null,
            "object_fit": null,
            "object_position": null,
            "order": null,
            "overflow": null,
            "overflow_x": null,
            "overflow_y": null,
            "padding": null,
            "right": null,
            "top": null,
            "visibility": null,
            "width": null
          }
        },
        "13b7e34f29b345f9bfe647cd3962231c": {
          "model_module": "@jupyter-widgets/base",
          "model_name": "LayoutModel",
          "model_module_version": "1.2.0",
          "state": {
            "_model_module": "@jupyter-widgets/base",
            "_model_module_version": "1.2.0",
            "_model_name": "LayoutModel",
            "_view_count": null,
            "_view_module": "@jupyter-widgets/base",
            "_view_module_version": "1.2.0",
            "_view_name": "LayoutView",
            "align_content": null,
            "align_items": null,
            "align_self": null,
            "border": null,
            "bottom": null,
            "display": null,
            "flex": null,
            "flex_flow": null,
            "grid_area": null,
            "grid_auto_columns": null,
            "grid_auto_flow": null,
            "grid_auto_rows": null,
            "grid_column": null,
            "grid_gap": null,
            "grid_row": null,
            "grid_template_areas": null,
            "grid_template_columns": null,
            "grid_template_rows": null,
            "height": null,
            "justify_content": null,
            "justify_items": null,
            "left": null,
            "margin": null,
            "max_height": null,
            "max_width": null,
            "min_height": null,
            "min_width": null,
            "object_fit": null,
            "object_position": null,
            "order": null,
            "overflow": null,
            "overflow_x": null,
            "overflow_y": null,
            "padding": null,
            "right": null,
            "top": null,
            "visibility": null,
            "width": null
          }
        },
        "5ad4019c5456498a949cbc95412e168a": {
          "model_module": "@jupyter-widgets/base",
          "model_name": "LayoutModel",
          "model_module_version": "1.2.0",
          "state": {
            "_model_module": "@jupyter-widgets/base",
            "_model_module_version": "1.2.0",
            "_model_name": "LayoutModel",
            "_view_count": null,
            "_view_module": "@jupyter-widgets/base",
            "_view_module_version": "1.2.0",
            "_view_name": "LayoutView",
            "align_content": null,
            "align_items": null,
            "align_self": null,
            "border": null,
            "bottom": null,
            "display": null,
            "flex": null,
            "flex_flow": null,
            "grid_area": null,
            "grid_auto_columns": null,
            "grid_auto_flow": null,
            "grid_auto_rows": null,
            "grid_column": null,
            "grid_gap": null,
            "grid_row": null,
            "grid_template_areas": null,
            "grid_template_columns": null,
            "grid_template_rows": null,
            "height": null,
            "justify_content": null,
            "justify_items": null,
            "left": null,
            "margin": null,
            "max_height": null,
            "max_width": null,
            "min_height": null,
            "min_width": null,
            "object_fit": null,
            "object_position": null,
            "order": null,
            "overflow": null,
            "overflow_x": null,
            "overflow_y": null,
            "padding": null,
            "right": null,
            "top": null,
            "visibility": null,
            "width": null
          }
        },
        "ec5592c2e2cc425195716cd8465a451e": {
          "model_module": "@jupyter-widgets/base",
          "model_name": "LayoutModel",
          "model_module_version": "1.2.0",
          "state": {
            "_model_module": "@jupyter-widgets/base",
            "_model_module_version": "1.2.0",
            "_model_name": "LayoutModel",
            "_view_count": null,
            "_view_module": "@jupyter-widgets/base",
            "_view_module_version": "1.2.0",
            "_view_name": "LayoutView",
            "align_content": null,
            "align_items": null,
            "align_self": null,
            "border": null,
            "bottom": null,
            "display": null,
            "flex": null,
            "flex_flow": null,
            "grid_area": null,
            "grid_auto_columns": null,
            "grid_auto_flow": null,
            "grid_auto_rows": null,
            "grid_column": null,
            "grid_gap": null,
            "grid_row": null,
            "grid_template_areas": null,
            "grid_template_columns": null,
            "grid_template_rows": null,
            "height": null,
            "justify_content": null,
            "justify_items": null,
            "left": null,
            "margin": null,
            "max_height": null,
            "max_width": null,
            "min_height": null,
            "min_width": null,
            "object_fit": null,
            "object_position": null,
            "order": null,
            "overflow": null,
            "overflow_x": null,
            "overflow_y": null,
            "padding": null,
            "right": null,
            "top": null,
            "visibility": null,
            "width": null
          }
        },
        "b662cdbbd44c486b9a32454677205279": {
          "model_module": "@jupyter-widgets/base",
          "model_name": "LayoutModel",
          "model_module_version": "1.2.0",
          "state": {
            "_model_module": "@jupyter-widgets/base",
            "_model_module_version": "1.2.0",
            "_model_name": "LayoutModel",
            "_view_count": null,
            "_view_module": "@jupyter-widgets/base",
            "_view_module_version": "1.2.0",
            "_view_name": "LayoutView",
            "align_content": null,
            "align_items": null,
            "align_self": null,
            "border": null,
            "bottom": null,
            "display": null,
            "flex": null,
            "flex_flow": null,
            "grid_area": null,
            "grid_auto_columns": null,
            "grid_auto_flow": null,
            "grid_auto_rows": null,
            "grid_column": null,
            "grid_gap": null,
            "grid_row": null,
            "grid_template_areas": null,
            "grid_template_columns": null,
            "grid_template_rows": null,
            "height": null,
            "justify_content": null,
            "justify_items": null,
            "left": null,
            "margin": null,
            "max_height": null,
            "max_width": null,
            "min_height": null,
            "min_width": null,
            "object_fit": null,
            "object_position": null,
            "order": null,
            "overflow": null,
            "overflow_x": null,
            "overflow_y": null,
            "padding": null,
            "right": null,
            "top": null,
            "visibility": null,
            "width": null
          }
        },
        "c61500633b01451686d5894206068480": {
          "model_module": "@jupyter-widgets/base",
          "model_name": "LayoutModel",
          "model_module_version": "1.2.0",
          "state": {
            "_model_module": "@jupyter-widgets/base",
            "_model_module_version": "1.2.0",
            "_model_name": "LayoutModel",
            "_view_count": null,
            "_view_module": "@jupyter-widgets/base",
            "_view_module_version": "1.2.0",
            "_view_name": "LayoutView",
            "align_content": null,
            "align_items": null,
            "align_self": null,
            "border": null,
            "bottom": null,
            "display": null,
            "flex": null,
            "flex_flow": null,
            "grid_area": null,
            "grid_auto_columns": null,
            "grid_auto_flow": null,
            "grid_auto_rows": null,
            "grid_column": null,
            "grid_gap": null,
            "grid_row": null,
            "grid_template_areas": null,
            "grid_template_columns": null,
            "grid_template_rows": null,
            "height": null,
            "justify_content": null,
            "justify_items": null,
            "left": null,
            "margin": null,
            "max_height": null,
            "max_width": null,
            "min_height": null,
            "min_width": null,
            "object_fit": null,
            "object_position": null,
            "order": null,
            "overflow": null,
            "overflow_x": null,
            "overflow_y": null,
            "padding": null,
            "right": null,
            "top": null,
            "visibility": null,
            "width": null
          }
        },
        "b08dc18e23ac47a49bd44e30a1447e04": {
          "model_module": "@jupyter-widgets/base",
          "model_name": "LayoutModel",
          "model_module_version": "1.2.0",
          "state": {
            "_model_module": "@jupyter-widgets/base",
            "_model_module_version": "1.2.0",
            "_model_name": "LayoutModel",
            "_view_count": null,
            "_view_module": "@jupyter-widgets/base",
            "_view_module_version": "1.2.0",
            "_view_name": "LayoutView",
            "align_content": null,
            "align_items": null,
            "align_self": null,
            "border": null,
            "bottom": null,
            "display": null,
            "flex": null,
            "flex_flow": null,
            "grid_area": null,
            "grid_auto_columns": null,
            "grid_auto_flow": null,
            "grid_auto_rows": null,
            "grid_column": null,
            "grid_gap": null,
            "grid_row": null,
            "grid_template_areas": null,
            "grid_template_columns": null,
            "grid_template_rows": null,
            "height": null,
            "justify_content": null,
            "justify_items": null,
            "left": null,
            "margin": null,
            "max_height": null,
            "max_width": null,
            "min_height": null,
            "min_width": null,
            "object_fit": null,
            "object_position": null,
            "order": null,
            "overflow": null,
            "overflow_x": null,
            "overflow_y": null,
            "padding": null,
            "right": null,
            "top": null,
            "visibility": null,
            "width": null
          }
        },
        "3a40190fc25649a88c2bd92c4e86c615": {
          "model_module": "@jupyter-widgets/base",
          "model_name": "LayoutModel",
          "model_module_version": "1.2.0",
          "state": {
            "_model_module": "@jupyter-widgets/base",
            "_model_module_version": "1.2.0",
            "_model_name": "LayoutModel",
            "_view_count": null,
            "_view_module": "@jupyter-widgets/base",
            "_view_module_version": "1.2.0",
            "_view_name": "LayoutView",
            "align_content": null,
            "align_items": null,
            "align_self": null,
            "border": null,
            "bottom": null,
            "display": null,
            "flex": null,
            "flex_flow": null,
            "grid_area": null,
            "grid_auto_columns": null,
            "grid_auto_flow": null,
            "grid_auto_rows": null,
            "grid_column": null,
            "grid_gap": null,
            "grid_row": null,
            "grid_template_areas": null,
            "grid_template_columns": null,
            "grid_template_rows": null,
            "height": null,
            "justify_content": null,
            "justify_items": null,
            "left": null,
            "margin": null,
            "max_height": null,
            "max_width": null,
            "min_height": null,
            "min_width": null,
            "object_fit": null,
            "object_position": null,
            "order": null,
            "overflow": null,
            "overflow_x": null,
            "overflow_y": null,
            "padding": null,
            "right": null,
            "top": null,
            "visibility": null,
            "width": null
          }
        },
        "891e79c2daf44067abcc3344bc198a35": {
          "model_module": "@jupyter-widgets/base",
          "model_name": "LayoutModel",
          "model_module_version": "1.2.0",
          "state": {
            "_model_module": "@jupyter-widgets/base",
            "_model_module_version": "1.2.0",
            "_model_name": "LayoutModel",
            "_view_count": null,
            "_view_module": "@jupyter-widgets/base",
            "_view_module_version": "1.2.0",
            "_view_name": "LayoutView",
            "align_content": null,
            "align_items": null,
            "align_self": null,
            "border": null,
            "bottom": null,
            "display": null,
            "flex": null,
            "flex_flow": null,
            "grid_area": null,
            "grid_auto_columns": null,
            "grid_auto_flow": null,
            "grid_auto_rows": null,
            "grid_column": null,
            "grid_gap": null,
            "grid_row": null,
            "grid_template_areas": null,
            "grid_template_columns": null,
            "grid_template_rows": null,
            "height": null,
            "justify_content": null,
            "justify_items": null,
            "left": null,
            "margin": null,
            "max_height": null,
            "max_width": null,
            "min_height": null,
            "min_width": null,
            "object_fit": null,
            "object_position": null,
            "order": null,
            "overflow": null,
            "overflow_x": null,
            "overflow_y": null,
            "padding": null,
            "right": null,
            "top": null,
            "visibility": null,
            "width": null
          }
        },
        "fc4ff827054d4b1ba9372c878ca8f34d": {
          "model_module": "@jupyter-widgets/base",
          "model_name": "LayoutModel",
          "model_module_version": "1.2.0",
          "state": {
            "_model_module": "@jupyter-widgets/base",
            "_model_module_version": "1.2.0",
            "_model_name": "LayoutModel",
            "_view_count": null,
            "_view_module": "@jupyter-widgets/base",
            "_view_module_version": "1.2.0",
            "_view_name": "LayoutView",
            "align_content": null,
            "align_items": null,
            "align_self": null,
            "border": null,
            "bottom": null,
            "display": null,
            "flex": null,
            "flex_flow": null,
            "grid_area": null,
            "grid_auto_columns": null,
            "grid_auto_flow": null,
            "grid_auto_rows": null,
            "grid_column": null,
            "grid_gap": null,
            "grid_row": null,
            "grid_template_areas": null,
            "grid_template_columns": null,
            "grid_template_rows": null,
            "height": null,
            "justify_content": null,
            "justify_items": null,
            "left": null,
            "margin": null,
            "max_height": null,
            "max_width": null,
            "min_height": null,
            "min_width": null,
            "object_fit": null,
            "object_position": null,
            "order": null,
            "overflow": null,
            "overflow_x": null,
            "overflow_y": null,
            "padding": null,
            "right": null,
            "top": null,
            "visibility": null,
            "width": null
          }
        },
        "792750e684dc402c9f32da7fef62e2bf": {
          "model_module": "@jupyter-widgets/base",
          "model_name": "LayoutModel",
          "model_module_version": "1.2.0",
          "state": {
            "_model_module": "@jupyter-widgets/base",
            "_model_module_version": "1.2.0",
            "_model_name": "LayoutModel",
            "_view_count": null,
            "_view_module": "@jupyter-widgets/base",
            "_view_module_version": "1.2.0",
            "_view_name": "LayoutView",
            "align_content": null,
            "align_items": null,
            "align_self": null,
            "border": null,
            "bottom": null,
            "display": null,
            "flex": null,
            "flex_flow": null,
            "grid_area": null,
            "grid_auto_columns": null,
            "grid_auto_flow": null,
            "grid_auto_rows": null,
            "grid_column": null,
            "grid_gap": null,
            "grid_row": null,
            "grid_template_areas": null,
            "grid_template_columns": null,
            "grid_template_rows": null,
            "height": null,
            "justify_content": null,
            "justify_items": null,
            "left": null,
            "margin": null,
            "max_height": null,
            "max_width": null,
            "min_height": null,
            "min_width": null,
            "object_fit": null,
            "object_position": null,
            "order": null,
            "overflow": null,
            "overflow_x": null,
            "overflow_y": null,
            "padding": null,
            "right": null,
            "top": null,
            "visibility": null,
            "width": null
          }
        },
        "a1d435a311514317851f420cf82629c1": {
          "model_module": "@jupyter-widgets/controls",
          "model_name": "DropdownModel",
          "model_module_version": "1.5.0",
          "state": {
            "_dom_classes": [],
            "_model_module": "@jupyter-widgets/controls",
            "_model_module_version": "1.5.0",
            "_model_name": "DropdownModel",
            "_options_labels": [
              "histogram_localized"
            ],
            "_view_count": null,
            "_view_module": "@jupyter-widgets/controls",
            "_view_module_version": "1.5.0",
            "_view_name": "DropdownView",
            "description": "Kernel:",
            "description_tooltip": null,
            "disabled": false,
            "index": 0,
            "layout": "IPY_MODEL_7d6bb00ff7884ec4806b0eee55a39be6",
            "style": "IPY_MODEL_72a5514651894472b58e31c99eaa4a3f"
          }
        },
        "7d6bb00ff7884ec4806b0eee55a39be6": {
          "model_module": "@jupyter-widgets/base",
          "model_name": "LayoutModel",
          "model_module_version": "1.2.0",
          "state": {
            "_model_module": "@jupyter-widgets/base",
            "_model_module_version": "1.2.0",
            "_model_name": "LayoutModel",
            "_view_count": null,
            "_view_module": "@jupyter-widgets/base",
            "_view_module_version": "1.2.0",
            "_view_name": "LayoutView",
            "align_content": null,
            "align_items": null,
            "align_self": null,
            "border": null,
            "bottom": null,
            "display": null,
            "flex": null,
            "flex_flow": null,
            "grid_area": null,
            "grid_auto_columns": null,
            "grid_auto_flow": null,
            "grid_auto_rows": null,
            "grid_column": null,
            "grid_gap": null,
            "grid_row": null,
            "grid_template_areas": null,
            "grid_template_columns": null,
            "grid_template_rows": null,
            "height": null,
            "justify_content": null,
            "justify_items": null,
            "left": null,
            "margin": null,
            "max_height": null,
            "max_width": null,
            "min_height": null,
            "min_width": null,
            "object_fit": null,
            "object_position": null,
            "order": null,
            "overflow": null,
            "overflow_x": null,
            "overflow_y": null,
            "padding": null,
            "right": null,
            "top": null,
            "visibility": null,
            "width": "400px"
          }
        },
        "72a5514651894472b58e31c99eaa4a3f": {
          "model_module": "@jupyter-widgets/controls",
          "model_name": "DescriptionStyleModel",
          "model_module_version": "1.5.0",
          "state": {
            "_model_module": "@jupyter-widgets/controls",
            "_model_module_version": "1.5.0",
            "_model_name": "DescriptionStyleModel",
            "_view_count": null,
            "_view_module": "@jupyter-widgets/base",
            "_view_module_version": "1.2.0",
            "_view_name": "StyleView",
            "description_width": "initial"
          }
        },
        "d16fd2c21a4145189c5b3d2109799dde": {
          "model_module": "@jupyter-widgets/output",
          "model_name": "OutputModel",
          "model_module_version": "1.0.0",
          "state": {
            "_dom_classes": [],
            "_model_module": "@jupyter-widgets/output",
            "_model_module_version": "1.0.0",
            "_model_name": "OutputModel",
            "_view_count": null,
            "_view_module": "@jupyter-widgets/output",
            "_view_module_version": "1.0.0",
            "_view_name": "OutputView",
            "layout": "IPY_MODEL_9244fcecd4224147aa988a085b65106a",
            "msg_id": "",
            "outputs": [
              {
                "output_type": "display_data",
                "data": {
                  "text/plain": "<IPython.core.display.Markdown object>",
                  "text/markdown": "# histogram_localized"
                },
                "metadata": {}
              },
              {
                "output_type": "display_data",
                "data": {
                  "text/plain": "Tab(children=(Output(), Output(), Output(), Output(), Output(), Output(), Output(), Output(), Output(), Output…",
                  "application/vnd.jupyter.widget-view+json": {
                    "version_major": 2,
                    "version_minor": 0,
                    "model_id": "3c350189220a42aba334a24312585cda"
                  }
                },
                "metadata": {}
              }
            ]
          }
        },
        "9244fcecd4224147aa988a085b65106a": {
          "model_module": "@jupyter-widgets/base",
          "model_name": "LayoutModel",
          "model_module_version": "1.2.0",
          "state": {
            "_model_module": "@jupyter-widgets/base",
            "_model_module_version": "1.2.0",
            "_model_name": "LayoutModel",
            "_view_count": null,
            "_view_module": "@jupyter-widgets/base",
            "_view_module_version": "1.2.0",
            "_view_name": "LayoutView",
            "align_content": null,
            "align_items": null,
            "align_self": null,
            "border": null,
            "bottom": null,
            "display": null,
            "flex": null,
            "flex_flow": null,
            "grid_area": null,
            "grid_auto_columns": null,
            "grid_auto_flow": null,
            "grid_auto_rows": null,
            "grid_column": null,
            "grid_gap": null,
            "grid_row": null,
            "grid_template_areas": null,
            "grid_template_columns": null,
            "grid_template_rows": null,
            "height": null,
            "justify_content": null,
            "justify_items": null,
            "left": null,
            "margin": null,
            "max_height": null,
            "max_width": null,
            "min_height": null,
            "min_width": null,
            "object_fit": null,
            "object_position": null,
            "order": null,
            "overflow": null,
            "overflow_x": null,
            "overflow_y": null,
            "padding": null,
            "right": null,
            "top": null,
            "visibility": null,
            "width": null
          }
        },
        "3c350189220a42aba334a24312585cda": {
          "model_module": "@jupyter-widgets/controls",
          "model_name": "TabModel",
          "model_module_version": "1.5.0",
          "state": {
            "_dom_classes": [],
            "_model_module": "@jupyter-widgets/controls",
            "_model_module_version": "1.5.0",
            "_model_name": "TabModel",
            "_titles": {
              "0": "Summary",
              "1": "Speed Of Light",
              "2": "Memory Workload",
              "3": "Compute Workload",
              "4": "Compute & Memory Distribution",
              "5": "Scheduler",
              "6": "Warp State",
              "7": "Instruction",
              "8": "Launch",
              "9": "PM Sampling",
              "10": "Occupancy",
              "11": "Source Counters",
              "12": "WorkloadDistribution"
            },
            "_view_count": null,
            "_view_module": "@jupyter-widgets/controls",
            "_view_module_version": "1.5.0",
            "_view_name": "TabView",
            "box_style": "",
            "children": [
              "IPY_MODEL_508b557d92954bb7bf34e31dd292d697",
              "IPY_MODEL_9c96776b4ab7488590cd781b1ceb433d",
              "IPY_MODEL_7e6713c3f7384f59b5ce8a6392483a4b",
              "IPY_MODEL_f6fd65de9a284dd7bdf6bfeab1700d7d",
              "IPY_MODEL_d6aa7fd41afd49f1aa32f59a8329a613",
              "IPY_MODEL_77eab863a88e4002849d6f5362543bd5",
              "IPY_MODEL_a79007c9c8794f90a841690593908995",
              "IPY_MODEL_6132c228ffdd421b9afb8274d72cecf9",
              "IPY_MODEL_90f22467d8964f1185b38a01cbde1a59",
              "IPY_MODEL_6c48b86ba29646358c61f3951ac59e90",
              "IPY_MODEL_9388d90d1c1445098245fd81dc282d43",
              "IPY_MODEL_4441f0ae635045b5926407cc6fc583c2",
              "IPY_MODEL_cb4de33494c3446597d8da63a3efe11e"
            ],
            "layout": "IPY_MODEL_ba193c56486e4795a145db9c2fe13894",
            "selected_index": 0
          }
        },
        "508b557d92954bb7bf34e31dd292d697": {
          "model_module": "@jupyter-widgets/output",
          "model_name": "OutputModel",
          "model_module_version": "1.0.0",
          "state": {
            "_dom_classes": [],
            "_model_module": "@jupyter-widgets/output",
            "_model_module_version": "1.0.0",
            "_model_name": "OutputModel",
            "_view_count": null,
            "_view_module": "@jupyter-widgets/output",
            "_view_module_version": "1.0.0",
            "_view_name": "OutputView",
            "layout": "IPY_MODEL_edcb9e243c29420f902c782cb121e977",
            "msg_id": "",
            "outputs": [
              {
                "output_type": "display_data",
                "data": {
                  "text/plain": "<IPython.core.display.Markdown object>",
                  "text/markdown": "## Summary\n\n### Speed Of Light\n\n🔧 **OPTIMIZATION**: This kernel exhibits low compute throughput and memory bandwidth utilization relative to the peak performance of this device. Achieved compute throughput and/or memory bandwidth below 60.0% of peak typically indicate latency issues. Look at Scheduler Statistics and Warp State Statistics for potential reasons.\n\nℹ️ **INFO**: The ratio of peak float (fp32) to double (fp64) performance on this device is 32:1. The kernel achieved 0% of this device's fp32 peak performance and 0% of its fp64 peak performance. See the Kernel Profiling Guide (https://docs.nvidia.com/nsight-compute/ProfilingGuide/index.html#roofline) for more details on roofline analysis.\n\n### Memory Workload\n\n⚠️ **WARNING**: The optional metric lts__average_gcomp_input_sector_success_rate.pct could not be found. Collecting it as an additional metric could enable the rule to provide more guidance.\n\n### Compute Workload\n\n🔧 **OPTIMIZATION**: All compute pipelines are under-utilized. Either this kernel is very small or it doesn't issue enough warps per scheduler. Check the Launch Statistics and Scheduler Statistics sections for further details.\n*Estimated Speedup (local): 96.64%*\n\n### Scheduler\n\n🔧 **OPTIMIZATION**: Every scheduler is capable of issuing one instruction per cycle, but for this kernel each scheduler only issues an instruction every 13.2 cycles. This might leave hardware resources underutilized and may lead to less optimal performance. Out of the maximum of 8 warps per scheduler, this kernel allocates an average of 7.65 active warps per scheduler, but only an average of 0.27 warps were eligible per cycle. Eligible warps are the subset of active warps that are ready to issue their next instruction. Every cycle with no eligible warp results in no instruction being issued and the issue slot remains unused. To increase the number of eligible warps, avoid possible load imbalances due to highly different execution durations per warp. Reducing stalls indicated on the Warp State Statistics and Source Counters sections can help, too.\n*Estimated Speedup (local): 54.78%*\n\n### Warp State\n\n🔧 **OPTIMIZATION**: On average, each warp of this kernel spends 66.6 cycles being stalled waiting for the MIO (memory input/output) instruction queue to be not full. This stall reason is high in cases of extreme utilization of the MIO pipelines, which include special math instructions, dynamic branches, as well as shared memory instructions. When caused by shared memory accesses, trying to use fewer but wider loads can reduce pipeline pressure. This stall type represents about 65.7% of the total average of 101.4 cycles between issuing two instructions.\n*Estimated Speedup (global): 54.78%*\n\nℹ️ **INFO**: Check the Warp Stall Sampling (All Samples) table for the top stall locations in your source based on sampling data. The Kernel Profiling Guide (https://docs.nvidia.com/nsight-compute/ProfilingGuide/index.html#metrics-reference) provides more details on each stall reason.\n\n### Source Counters\n\n🔧 **OPTIMIZATION**: This kernel has uncoalesced shared accesses resulting in a total of 2154026 excessive wavefronts (82% of the total 2637674 wavefronts). Check the L1 Wavefronts Shared Excessive table for the primary source locations. The CUDA Best Practices Guide (https://docs.nvidia.com/cuda/cuda-c-best-practices-guide/index.html#shared-memory-in-matrix-multiplication-c-ab) has an example on optimizing shared memory accesses.\n*Estimated Speedup (global): 74.21%*\n\n### WorkloadDistribution\n\n🔧 **OPTIMIZATION**: One or more SMs have a much higher number of active cycles than the average number of active cycles. Maximum instance value is 8.34% above the average, while the minimum instance value is 3.41% below the average.\n*Estimated Speedup (global): 7.575%*\n\n🔧 **OPTIMIZATION**: One or more SMSPs have a much higher number of active cycles than the average number of active cycles. Maximum instance value is 8.33% above the average, while the minimum instance value is 3.44% below the average.\n*Estimated Speedup (global): 7.579%*\n\n🔧 **OPTIMIZATION**: One or more L1 Slices have a much higher number of active cycles than the average number of active cycles. Maximum instance value is 8.34% above the average, while the minimum instance value is 3.41% below the average.\n*Estimated Speedup (global): 7.575%*\n"
                },
                "metadata": {}
              }
            ]
          }
        },
        "9c96776b4ab7488590cd781b1ceb433d": {
          "model_module": "@jupyter-widgets/output",
          "model_name": "OutputModel",
          "model_module_version": "1.0.0",
          "state": {
            "_dom_classes": [],
            "_model_module": "@jupyter-widgets/output",
            "_model_module_version": "1.0.0",
            "_model_name": "OutputModel",
            "_view_count": null,
            "_view_module": "@jupyter-widgets/output",
            "_view_module_version": "1.0.0",
            "_view_name": "OutputView",
            "layout": "IPY_MODEL_2f6beb0105cf41cc955abf75b9c46d30",
            "msg_id": "",
            "outputs": [
              {
                "output_type": "display_data",
                "data": {
                  "text/plain": "<IPython.core.display.Markdown object>",
                  "text/markdown": "## Speed Of Light\n\n| Metric Name | Metric Unit | Metric Value |\n|-------------|-------------|--------------|\n| DRAM Frequency | Ghz | 4.97 |\n| SM Frequency | Mhz | 584.93 |\n| Elapsed Cycles | cycle | 174,211 |\n| Memory Throughput | % | 45.22 |\n| DRAM Throughput | % | 28.03 |\n| Duration | us | 297.82 |\n| L1/TEX Cache Throughput | % | 90.44 |\n| L2 Cache Throughput | % | 6.14 |\n| SM Active Cycles | cycle | 158,070.65 |\n| Compute (SM) Throughput | % | 28.22 |\n\n🔧 **OPTIMIZATION**: This kernel exhibits low compute throughput and memory bandwidth utilization relative to the peak performance of this device. Achieved compute throughput and/or memory bandwidth below 60.0% of peak typically indicate latency issues. Look at Scheduler Statistics and Warp State Statistics for potential reasons.\n\nℹ️ **INFO**: The ratio of peak float (fp32) to double (fp64) performance on this device is 32:1. The kernel achieved 0% of this device's fp32 peak performance and 0% of its fp64 peak performance. See the Kernel Profiling Guide (https://docs.nvidia.com/nsight-compute/ProfilingGuide/index.html#roofline) for more details on roofline analysis.\n"
                },
                "metadata": {}
              }
            ]
          }
        },
        "7e6713c3f7384f59b5ce8a6392483a4b": {
          "model_module": "@jupyter-widgets/output",
          "model_name": "OutputModel",
          "model_module_version": "1.0.0",
          "state": {
            "_dom_classes": [],
            "_model_module": "@jupyter-widgets/output",
            "_model_module_version": "1.0.0",
            "_model_name": "OutputModel",
            "_view_count": null,
            "_view_module": "@jupyter-widgets/output",
            "_view_module_version": "1.0.0",
            "_view_name": "OutputView",
            "layout": "IPY_MODEL_99770f4c01cf4b9090714046d0ae6bb5",
            "msg_id": "",
            "outputs": [
              {
                "output_type": "display_data",
                "data": {
                  "text/plain": "<IPython.core.display.Markdown object>",
                  "text/markdown": "## Memory Workload\n\n| Metric Name | Metric Unit | Metric Value |\n|-------------|-------------|--------------|\n| Memory Throughput | Gbyte/s | 89.21 |\n| Mem Busy | % | 45.22 |\n| Max Bandwidth | % | 28.22 |\n| L1/TEX Hit Rate | % | 0 |\n| L2 Hit Rate | % | 50.36 |\n| Mem Pipes Busy | % | 28.22 |\n\n⚠️ **WARNING**: The optional metric lts__average_gcomp_input_sector_success_rate.pct could not be found. Collecting it as an additional metric could enable the rule to provide more guidance.\n"
                },
                "metadata": {}
              }
            ]
          }
        },
        "f6fd65de9a284dd7bdf6bfeab1700d7d": {
          "model_module": "@jupyter-widgets/output",
          "model_name": "OutputModel",
          "model_module_version": "1.0.0",
          "state": {
            "_dom_classes": [],
            "_model_module": "@jupyter-widgets/output",
            "_model_module_version": "1.0.0",
            "_model_name": "OutputModel",
            "_view_count": null,
            "_view_module": "@jupyter-widgets/output",
            "_view_module_version": "1.0.0",
            "_view_name": "OutputView",
            "layout": "IPY_MODEL_d5346eeaa2464b3bbf0e730213184804",
            "msg_id": "",
            "outputs": [
              {
                "output_type": "display_data",
                "data": {
                  "text/plain": "<IPython.core.display.Markdown object>",
                  "text/markdown": "## Compute Workload\n\n| Metric Name | Metric Unit | Metric Value |\n|-------------|-------------|--------------|\n| Executed Ipc Active | inst/cycle | 0.30 |\n| Executed Ipc Elapsed | inst/cycle | 0.27 |\n| Issue Slots Busy | % | 7.56 |\n| Issued Ipc Active | inst/cycle | 0.30 |\n| SM Busy | % | 10.97 |\n\n🔧 **OPTIMIZATION**: All compute pipelines are under-utilized. Either this kernel is very small or it doesn't issue enough warps per scheduler. Check the Launch Statistics and Scheduler Statistics sections for further details.\n*Estimated Speedup (local): 96.64%*\n"
                },
                "metadata": {}
              }
            ]
          }
        },
        "d6aa7fd41afd49f1aa32f59a8329a613": {
          "model_module": "@jupyter-widgets/output",
          "model_name": "OutputModel",
          "model_module_version": "1.0.0",
          "state": {
            "_dom_classes": [],
            "_model_module": "@jupyter-widgets/output",
            "_model_module_version": "1.0.0",
            "_model_name": "OutputModel",
            "_view_count": null,
            "_view_module": "@jupyter-widgets/output",
            "_view_module_version": "1.0.0",
            "_view_name": "OutputView",
            "layout": "IPY_MODEL_32c5ef454fc64769b17b0a40b78aa75a",
            "msg_id": "",
            "outputs": [
              {
                "output_type": "display_data",
                "data": {
                  "text/plain": "<IPython.core.display.Markdown object>",
                  "text/markdown": "## Compute & Memory Distribution\n\n| Metric Name | Metric Unit | Metric Value |\n|-------------|-------------|--------------|\n| Average DRAM Active Cycles | cycle | 415,143 |\n| Total DRAM Elapsed Cycles | cycle | 11,849,728 |\n| Average L1 Active Cycles | cycle | 158,070.65 |\n| Total L1 Elapsed Cycles | cycle | 6,958,088 |\n| Average L2 Active Cycles | cycle | 179,024.47 |\n| Total L2 Elapsed Cycles | cycle | 8,147,360 |\n| Average SM Active Cycles | cycle | 158,070.65 |\n| Total SM Elapsed Cycles | cycle | 6,958,088 |\n| Average SMSP Active Cycles | cycle | 158,245.88 |\n| Total SMSP Elapsed Cycles | cycle | 27,832,352 |\n"
                },
                "metadata": {}
              }
            ]
          }
        },
        "77eab863a88e4002849d6f5362543bd5": {
          "model_module": "@jupyter-widgets/output",
          "model_name": "OutputModel",
          "model_module_version": "1.0.0",
          "state": {
            "_dom_classes": [],
            "_model_module": "@jupyter-widgets/output",
            "_model_module_version": "1.0.0",
            "_model_name": "OutputModel",
            "_view_count": null,
            "_view_module": "@jupyter-widgets/output",
            "_view_module_version": "1.0.0",
            "_view_name": "OutputView",
            "layout": "IPY_MODEL_b6e5ffb343e84174aef7b7c3592d3c90",
            "msg_id": "",
            "outputs": [
              {
                "output_type": "display_data",
                "data": {
                  "text/plain": "<IPython.core.display.Markdown object>",
                  "text/markdown": "## Scheduler\n\n| Metric Name | Metric Unit | Metric Value |\n|-------------|-------------|--------------|\n| One or More Eligible | % | 7.55 |\n| Issued Warp Per Scheduler |  | 0.08 |\n| No Eligible | % | 92.45 |\n| Active Warps Per Scheduler | warp | 7.65 |\n| Eligible Warps Per Scheduler | warp | 0.27 |\n\n🔧 **OPTIMIZATION**: Every scheduler is capable of issuing one instruction per cycle, but for this kernel each scheduler only issues an instruction every 13.2 cycles. This might leave hardware resources underutilized and may lead to less optimal performance. Out of the maximum of 8 warps per scheduler, this kernel allocates an average of 7.65 active warps per scheduler, but only an average of 0.27 warps were eligible per cycle. Eligible warps are the subset of active warps that are ready to issue their next instruction. Every cycle with no eligible warp results in no instruction being issued and the issue slot remains unused. To increase the number of eligible warps, avoid possible load imbalances due to highly different execution durations per warp. Reducing stalls indicated on the Warp State Statistics and Source Counters sections can help, too.\n*Estimated Speedup (local): 54.78%*\n"
                },
                "metadata": {}
              }
            ]
          }
        },
        "a79007c9c8794f90a841690593908995": {
          "model_module": "@jupyter-widgets/output",
          "model_name": "OutputModel",
          "model_module_version": "1.0.0",
          "state": {
            "_dom_classes": [],
            "_model_module": "@jupyter-widgets/output",
            "_model_module_version": "1.0.0",
            "_model_name": "OutputModel",
            "_view_count": null,
            "_view_module": "@jupyter-widgets/output",
            "_view_module_version": "1.0.0",
            "_view_name": "OutputView",
            "layout": "IPY_MODEL_f90805f1623948dc9ed7d4df05b05aa6",
            "msg_id": "",
            "outputs": [
              {
                "output_type": "display_data",
                "data": {
                  "text/plain": "<IPython.core.display.Markdown object>",
                  "text/markdown": "## Warp State\n\n| Metric Name | Metric Unit | Metric Value |\n|-------------|-------------|--------------|\n| Warp Cycles Per Issued Instruction | cycle | 101.38 |\n| Warp Cycles Per Executed Instruction | cycle | 101.69 |\n| Avg. Active Threads Per Warp |  | 32 |\n| Avg. Not Predicated Off Threads Per Warp |  | 31.75 |\n\n🔧 **OPTIMIZATION**: On average, each warp of this kernel spends 66.6 cycles being stalled waiting for the MIO (memory input/output) instruction queue to be not full. This stall reason is high in cases of extreme utilization of the MIO pipelines, which include special math instructions, dynamic branches, as well as shared memory instructions. When caused by shared memory accesses, trying to use fewer but wider loads can reduce pipeline pressure. This stall type represents about 65.7% of the total average of 101.4 cycles between issuing two instructions.\n*Estimated Speedup (global): 54.78%*\n\nℹ️ **INFO**: Check the Warp Stall Sampling (All Samples) table for the top stall locations in your source based on sampling data. The Kernel Profiling Guide (https://docs.nvidia.com/nsight-compute/ProfilingGuide/index.html#metrics-reference) provides more details on each stall reason.\n"
                },
                "metadata": {}
              }
            ]
          }
        },
        "6132c228ffdd421b9afb8274d72cecf9": {
          "model_module": "@jupyter-widgets/output",
          "model_name": "OutputModel",
          "model_module_version": "1.0.0",
          "state": {
            "_dom_classes": [],
            "_model_module": "@jupyter-widgets/output",
            "_model_module_version": "1.0.0",
            "_model_name": "OutputModel",
            "_view_count": null,
            "_view_module": "@jupyter-widgets/output",
            "_view_module_version": "1.0.0",
            "_view_name": "OutputView",
            "layout": "IPY_MODEL_e6863561950e4a54a62cab2b2f76fb41",
            "msg_id": "",
            "outputs": [
              {
                "output_type": "display_data",
                "data": {
                  "text/plain": "<IPython.core.display.Markdown object>",
                  "text/markdown": "## Instruction\n\n| Metric Name | Metric Unit | Metric Value |\n|-------------|-------------|--------------|\n| Avg. Executed Instructions Per Scheduler | inst | 11,908 |\n| Executed Instructions | inst | 1,905,280 |\n| Avg. Issued Instructions Per Scheduler | inst | 11,943.95 |\n| Issued Instructions | inst | 1,911,032 |\n"
                },
                "metadata": {}
              }
            ]
          }
        },
        "90f22467d8964f1185b38a01cbde1a59": {
          "model_module": "@jupyter-widgets/output",
          "model_name": "OutputModel",
          "model_module_version": "1.0.0",
          "state": {
            "_dom_classes": [],
            "_model_module": "@jupyter-widgets/output",
            "_model_module_version": "1.0.0",
            "_model_name": "OutputModel",
            "_view_count": null,
            "_view_module": "@jupyter-widgets/output",
            "_view_module_version": "1.0.0",
            "_view_name": "OutputView",
            "layout": "IPY_MODEL_579823e5bc834885b0a8c8ddb7c77a88",
            "msg_id": "",
            "outputs": [
              {
                "output_type": "display_data",
                "data": {
                  "text/plain": "<IPython.core.display.Markdown object>",
                  "text/markdown": "## Launch\n\n| Metric Name | Metric Unit | Metric Value |\n|-------------|-------------|--------------|\n| Block Size |  | 512 |\n| Function Cache Configuration |  | CachePreferNone |\n| Grid Size |  | 916 |\n| Registers Per Thread | register/thread | 47 |\n| Shared Memory Configuration Size | Kbyte | 32.77 |\n| Driver Shared Memory Per Block | byte/block | 0 |\n| Dynamic Shared Memory Per Block | byte/block | 0 |\n| Static Shared Memory Per Block | Kbyte/block | 1.02 |\n| # SMs | SM | 40 |\n| Threads | thread | 468,992 |\n| Uses Green Context |  | 0 |\n| Waves Per SM |  | 11.45 |\n"
                },
                "metadata": {}
              }
            ]
          }
        },
        "6c48b86ba29646358c61f3951ac59e90": {
          "model_module": "@jupyter-widgets/output",
          "model_name": "OutputModel",
          "model_module_version": "1.0.0",
          "state": {
            "_dom_classes": [],
            "_model_module": "@jupyter-widgets/output",
            "_model_module_version": "1.0.0",
            "_model_name": "OutputModel",
            "_view_count": null,
            "_view_module": "@jupyter-widgets/output",
            "_view_module_version": "1.0.0",
            "_view_name": "OutputView",
            "layout": "IPY_MODEL_ed97047a472144db96923c311bb45770",
            "msg_id": "",
            "outputs": [
              {
                "output_type": "display_data",
                "data": {
                  "text/plain": "<IPython.core.display.Markdown object>",
                  "text/markdown": "## PM Sampling\n\n| Metric Name | Metric Unit | Metric Value |\n|-------------|-------------|--------------|\n| Maximum Buffer Size | Mbyte | 1.05 |\n| Dropped Samples | sample | 0 |\n| Maximum Sampling Interval | cycle | 20,000 |\n| # Pass Groups |  | 1 |\n"
                },
                "metadata": {}
              }
            ]
          }
        },
        "9388d90d1c1445098245fd81dc282d43": {
          "model_module": "@jupyter-widgets/output",
          "model_name": "OutputModel",
          "model_module_version": "1.0.0",
          "state": {
            "_dom_classes": [],
            "_model_module": "@jupyter-widgets/output",
            "_model_module_version": "1.0.0",
            "_model_name": "OutputModel",
            "_view_count": null,
            "_view_module": "@jupyter-widgets/output",
            "_view_module_version": "1.0.0",
            "_view_name": "OutputView",
            "layout": "IPY_MODEL_e2abea0d1f6444de925f3c2d1809c07a",
            "msg_id": "",
            "outputs": [
              {
                "output_type": "display_data",
                "data": {
                  "text/plain": "<IPython.core.display.Markdown object>",
                  "text/markdown": "## Occupancy\n\n| Metric Name | Metric Unit | Metric Value |\n|-------------|-------------|--------------|\n| Block Limit SM | block | 16 |\n| Block Limit Registers | block | 2 |\n| Block Limit Shared Mem | block | 32 |\n| Block Limit Warps | block | 2 |\n| Theoretical Active Warps per SM | warp | 32 |\n| Theoretical Occupancy | % | 100 |\n| Achieved Occupancy | % | 95.85 |\n| Achieved Active Warps Per SM | warp | 30.67 |\n"
                },
                "metadata": {}
              }
            ]
          }
        },
        "4441f0ae635045b5926407cc6fc583c2": {
          "model_module": "@jupyter-widgets/output",
          "model_name": "OutputModel",
          "model_module_version": "1.0.0",
          "state": {
            "_dom_classes": [],
            "_model_module": "@jupyter-widgets/output",
            "_model_module_version": "1.0.0",
            "_model_name": "OutputModel",
            "_view_count": null,
            "_view_module": "@jupyter-widgets/output",
            "_view_module_version": "1.0.0",
            "_view_name": "OutputView",
            "layout": "IPY_MODEL_f75da446159b4baaabc7527d2416d86a",
            "msg_id": "",
            "outputs": [
              {
                "output_type": "display_data",
                "data": {
                  "text/plain": "<IPython.core.display.Markdown object>",
                  "text/markdown": "## Source Counters\n\n| Metric Name | Metric Unit | Metric Value |\n|-------------|-------------|--------------|\n| Branch Instructions Ratio | % | 0.01 |\n| Branch Instructions | inst | 21,984 |\n| Branch Efficiency | % | 0 |\n| Avg. Divergent Branches |  | 0 |\n\n🔧 **OPTIMIZATION**: This kernel has uncoalesced shared accesses resulting in a total of 2154026 excessive wavefronts (82% of the total 2637674 wavefronts). Check the L1 Wavefronts Shared Excessive table for the primary source locations. The CUDA Best Practices Guide (https://docs.nvidia.com/cuda/cuda-c-best-practices-guide/index.html#shared-memory-in-matrix-multiplication-c-ab) has an example on optimizing shared memory accesses.\n*Estimated Speedup (global): 74.21%*\n"
                },
                "metadata": {}
              }
            ]
          }
        },
        "cb4de33494c3446597d8da63a3efe11e": {
          "model_module": "@jupyter-widgets/output",
          "model_name": "OutputModel",
          "model_module_version": "1.0.0",
          "state": {
            "_dom_classes": [],
            "_model_module": "@jupyter-widgets/output",
            "_model_module_version": "1.0.0",
            "_model_name": "OutputModel",
            "_view_count": null,
            "_view_module": "@jupyter-widgets/output",
            "_view_module_version": "1.0.0",
            "_view_name": "OutputView",
            "layout": "IPY_MODEL_386906c3be5a4bc191c4084fb865871a",
            "msg_id": "",
            "outputs": [
              {
                "output_type": "display_data",
                "data": {
                  "text/plain": "<IPython.core.display.Markdown object>",
                  "text/markdown": "## WorkloadDistribution\n\n🔧 **OPTIMIZATION**: One or more SMs have a much higher number of active cycles than the average number of active cycles. Maximum instance value is 8.34% above the average, while the minimum instance value is 3.41% below the average.\n*Estimated Speedup (global): 7.575%*\n\n🔧 **OPTIMIZATION**: One or more SMSPs have a much higher number of active cycles than the average number of active cycles. Maximum instance value is 8.33% above the average, while the minimum instance value is 3.44% below the average.\n*Estimated Speedup (global): 7.579%*\n\n🔧 **OPTIMIZATION**: One or more L1 Slices have a much higher number of active cycles than the average number of active cycles. Maximum instance value is 8.34% above the average, while the minimum instance value is 3.41% below the average.\n*Estimated Speedup (global): 7.575%*\n"
                },
                "metadata": {}
              }
            ]
          }
        },
        "ba193c56486e4795a145db9c2fe13894": {
          "model_module": "@jupyter-widgets/base",
          "model_name": "LayoutModel",
          "model_module_version": "1.2.0",
          "state": {
            "_model_module": "@jupyter-widgets/base",
            "_model_module_version": "1.2.0",
            "_model_name": "LayoutModel",
            "_view_count": null,
            "_view_module": "@jupyter-widgets/base",
            "_view_module_version": "1.2.0",
            "_view_name": "LayoutView",
            "align_content": null,
            "align_items": null,
            "align_self": null,
            "border": null,
            "bottom": null,
            "display": null,
            "flex": null,
            "flex_flow": null,
            "grid_area": null,
            "grid_auto_columns": null,
            "grid_auto_flow": null,
            "grid_auto_rows": null,
            "grid_column": null,
            "grid_gap": null,
            "grid_row": null,
            "grid_template_areas": null,
            "grid_template_columns": null,
            "grid_template_rows": null,
            "height": null,
            "justify_content": null,
            "justify_items": null,
            "left": null,
            "margin": null,
            "max_height": null,
            "max_width": null,
            "min_height": null,
            "min_width": null,
            "object_fit": null,
            "object_position": null,
            "order": null,
            "overflow": null,
            "overflow_x": null,
            "overflow_y": null,
            "padding": null,
            "right": null,
            "top": null,
            "visibility": null,
            "width": null
          }
        },
        "edcb9e243c29420f902c782cb121e977": {
          "model_module": "@jupyter-widgets/base",
          "model_name": "LayoutModel",
          "model_module_version": "1.2.0",
          "state": {
            "_model_module": "@jupyter-widgets/base",
            "_model_module_version": "1.2.0",
            "_model_name": "LayoutModel",
            "_view_count": null,
            "_view_module": "@jupyter-widgets/base",
            "_view_module_version": "1.2.0",
            "_view_name": "LayoutView",
            "align_content": null,
            "align_items": null,
            "align_self": null,
            "border": null,
            "bottom": null,
            "display": null,
            "flex": null,
            "flex_flow": null,
            "grid_area": null,
            "grid_auto_columns": null,
            "grid_auto_flow": null,
            "grid_auto_rows": null,
            "grid_column": null,
            "grid_gap": null,
            "grid_row": null,
            "grid_template_areas": null,
            "grid_template_columns": null,
            "grid_template_rows": null,
            "height": null,
            "justify_content": null,
            "justify_items": null,
            "left": null,
            "margin": null,
            "max_height": null,
            "max_width": null,
            "min_height": null,
            "min_width": null,
            "object_fit": null,
            "object_position": null,
            "order": null,
            "overflow": null,
            "overflow_x": null,
            "overflow_y": null,
            "padding": null,
            "right": null,
            "top": null,
            "visibility": null,
            "width": null
          }
        },
        "2f6beb0105cf41cc955abf75b9c46d30": {
          "model_module": "@jupyter-widgets/base",
          "model_name": "LayoutModel",
          "model_module_version": "1.2.0",
          "state": {
            "_model_module": "@jupyter-widgets/base",
            "_model_module_version": "1.2.0",
            "_model_name": "LayoutModel",
            "_view_count": null,
            "_view_module": "@jupyter-widgets/base",
            "_view_module_version": "1.2.0",
            "_view_name": "LayoutView",
            "align_content": null,
            "align_items": null,
            "align_self": null,
            "border": null,
            "bottom": null,
            "display": null,
            "flex": null,
            "flex_flow": null,
            "grid_area": null,
            "grid_auto_columns": null,
            "grid_auto_flow": null,
            "grid_auto_rows": null,
            "grid_column": null,
            "grid_gap": null,
            "grid_row": null,
            "grid_template_areas": null,
            "grid_template_columns": null,
            "grid_template_rows": null,
            "height": null,
            "justify_content": null,
            "justify_items": null,
            "left": null,
            "margin": null,
            "max_height": null,
            "max_width": null,
            "min_height": null,
            "min_width": null,
            "object_fit": null,
            "object_position": null,
            "order": null,
            "overflow": null,
            "overflow_x": null,
            "overflow_y": null,
            "padding": null,
            "right": null,
            "top": null,
            "visibility": null,
            "width": null
          }
        },
        "99770f4c01cf4b9090714046d0ae6bb5": {
          "model_module": "@jupyter-widgets/base",
          "model_name": "LayoutModel",
          "model_module_version": "1.2.0",
          "state": {
            "_model_module": "@jupyter-widgets/base",
            "_model_module_version": "1.2.0",
            "_model_name": "LayoutModel",
            "_view_count": null,
            "_view_module": "@jupyter-widgets/base",
            "_view_module_version": "1.2.0",
            "_view_name": "LayoutView",
            "align_content": null,
            "align_items": null,
            "align_self": null,
            "border": null,
            "bottom": null,
            "display": null,
            "flex": null,
            "flex_flow": null,
            "grid_area": null,
            "grid_auto_columns": null,
            "grid_auto_flow": null,
            "grid_auto_rows": null,
            "grid_column": null,
            "grid_gap": null,
            "grid_row": null,
            "grid_template_areas": null,
            "grid_template_columns": null,
            "grid_template_rows": null,
            "height": null,
            "justify_content": null,
            "justify_items": null,
            "left": null,
            "margin": null,
            "max_height": null,
            "max_width": null,
            "min_height": null,
            "min_width": null,
            "object_fit": null,
            "object_position": null,
            "order": null,
            "overflow": null,
            "overflow_x": null,
            "overflow_y": null,
            "padding": null,
            "right": null,
            "top": null,
            "visibility": null,
            "width": null
          }
        },
        "d5346eeaa2464b3bbf0e730213184804": {
          "model_module": "@jupyter-widgets/base",
          "model_name": "LayoutModel",
          "model_module_version": "1.2.0",
          "state": {
            "_model_module": "@jupyter-widgets/base",
            "_model_module_version": "1.2.0",
            "_model_name": "LayoutModel",
            "_view_count": null,
            "_view_module": "@jupyter-widgets/base",
            "_view_module_version": "1.2.0",
            "_view_name": "LayoutView",
            "align_content": null,
            "align_items": null,
            "align_self": null,
            "border": null,
            "bottom": null,
            "display": null,
            "flex": null,
            "flex_flow": null,
            "grid_area": null,
            "grid_auto_columns": null,
            "grid_auto_flow": null,
            "grid_auto_rows": null,
            "grid_column": null,
            "grid_gap": null,
            "grid_row": null,
            "grid_template_areas": null,
            "grid_template_columns": null,
            "grid_template_rows": null,
            "height": null,
            "justify_content": null,
            "justify_items": null,
            "left": null,
            "margin": null,
            "max_height": null,
            "max_width": null,
            "min_height": null,
            "min_width": null,
            "object_fit": null,
            "object_position": null,
            "order": null,
            "overflow": null,
            "overflow_x": null,
            "overflow_y": null,
            "padding": null,
            "right": null,
            "top": null,
            "visibility": null,
            "width": null
          }
        },
        "32c5ef454fc64769b17b0a40b78aa75a": {
          "model_module": "@jupyter-widgets/base",
          "model_name": "LayoutModel",
          "model_module_version": "1.2.0",
          "state": {
            "_model_module": "@jupyter-widgets/base",
            "_model_module_version": "1.2.0",
            "_model_name": "LayoutModel",
            "_view_count": null,
            "_view_module": "@jupyter-widgets/base",
            "_view_module_version": "1.2.0",
            "_view_name": "LayoutView",
            "align_content": null,
            "align_items": null,
            "align_self": null,
            "border": null,
            "bottom": null,
            "display": null,
            "flex": null,
            "flex_flow": null,
            "grid_area": null,
            "grid_auto_columns": null,
            "grid_auto_flow": null,
            "grid_auto_rows": null,
            "grid_column": null,
            "grid_gap": null,
            "grid_row": null,
            "grid_template_areas": null,
            "grid_template_columns": null,
            "grid_template_rows": null,
            "height": null,
            "justify_content": null,
            "justify_items": null,
            "left": null,
            "margin": null,
            "max_height": null,
            "max_width": null,
            "min_height": null,
            "min_width": null,
            "object_fit": null,
            "object_position": null,
            "order": null,
            "overflow": null,
            "overflow_x": null,
            "overflow_y": null,
            "padding": null,
            "right": null,
            "top": null,
            "visibility": null,
            "width": null
          }
        },
        "b6e5ffb343e84174aef7b7c3592d3c90": {
          "model_module": "@jupyter-widgets/base",
          "model_name": "LayoutModel",
          "model_module_version": "1.2.0",
          "state": {
            "_model_module": "@jupyter-widgets/base",
            "_model_module_version": "1.2.0",
            "_model_name": "LayoutModel",
            "_view_count": null,
            "_view_module": "@jupyter-widgets/base",
            "_view_module_version": "1.2.0",
            "_view_name": "LayoutView",
            "align_content": null,
            "align_items": null,
            "align_self": null,
            "border": null,
            "bottom": null,
            "display": null,
            "flex": null,
            "flex_flow": null,
            "grid_area": null,
            "grid_auto_columns": null,
            "grid_auto_flow": null,
            "grid_auto_rows": null,
            "grid_column": null,
            "grid_gap": null,
            "grid_row": null,
            "grid_template_areas": null,
            "grid_template_columns": null,
            "grid_template_rows": null,
            "height": null,
            "justify_content": null,
            "justify_items": null,
            "left": null,
            "margin": null,
            "max_height": null,
            "max_width": null,
            "min_height": null,
            "min_width": null,
            "object_fit": null,
            "object_position": null,
            "order": null,
            "overflow": null,
            "overflow_x": null,
            "overflow_y": null,
            "padding": null,
            "right": null,
            "top": null,
            "visibility": null,
            "width": null
          }
        },
        "f90805f1623948dc9ed7d4df05b05aa6": {
          "model_module": "@jupyter-widgets/base",
          "model_name": "LayoutModel",
          "model_module_version": "1.2.0",
          "state": {
            "_model_module": "@jupyter-widgets/base",
            "_model_module_version": "1.2.0",
            "_model_name": "LayoutModel",
            "_view_count": null,
            "_view_module": "@jupyter-widgets/base",
            "_view_module_version": "1.2.0",
            "_view_name": "LayoutView",
            "align_content": null,
            "align_items": null,
            "align_self": null,
            "border": null,
            "bottom": null,
            "display": null,
            "flex": null,
            "flex_flow": null,
            "grid_area": null,
            "grid_auto_columns": null,
            "grid_auto_flow": null,
            "grid_auto_rows": null,
            "grid_column": null,
            "grid_gap": null,
            "grid_row": null,
            "grid_template_areas": null,
            "grid_template_columns": null,
            "grid_template_rows": null,
            "height": null,
            "justify_content": null,
            "justify_items": null,
            "left": null,
            "margin": null,
            "max_height": null,
            "max_width": null,
            "min_height": null,
            "min_width": null,
            "object_fit": null,
            "object_position": null,
            "order": null,
            "overflow": null,
            "overflow_x": null,
            "overflow_y": null,
            "padding": null,
            "right": null,
            "top": null,
            "visibility": null,
            "width": null
          }
        },
        "e6863561950e4a54a62cab2b2f76fb41": {
          "model_module": "@jupyter-widgets/base",
          "model_name": "LayoutModel",
          "model_module_version": "1.2.0",
          "state": {
            "_model_module": "@jupyter-widgets/base",
            "_model_module_version": "1.2.0",
            "_model_name": "LayoutModel",
            "_view_count": null,
            "_view_module": "@jupyter-widgets/base",
            "_view_module_version": "1.2.0",
            "_view_name": "LayoutView",
            "align_content": null,
            "align_items": null,
            "align_self": null,
            "border": null,
            "bottom": null,
            "display": null,
            "flex": null,
            "flex_flow": null,
            "grid_area": null,
            "grid_auto_columns": null,
            "grid_auto_flow": null,
            "grid_auto_rows": null,
            "grid_column": null,
            "grid_gap": null,
            "grid_row": null,
            "grid_template_areas": null,
            "grid_template_columns": null,
            "grid_template_rows": null,
            "height": null,
            "justify_content": null,
            "justify_items": null,
            "left": null,
            "margin": null,
            "max_height": null,
            "max_width": null,
            "min_height": null,
            "min_width": null,
            "object_fit": null,
            "object_position": null,
            "order": null,
            "overflow": null,
            "overflow_x": null,
            "overflow_y": null,
            "padding": null,
            "right": null,
            "top": null,
            "visibility": null,
            "width": null
          }
        },
        "579823e5bc834885b0a8c8ddb7c77a88": {
          "model_module": "@jupyter-widgets/base",
          "model_name": "LayoutModel",
          "model_module_version": "1.2.0",
          "state": {
            "_model_module": "@jupyter-widgets/base",
            "_model_module_version": "1.2.0",
            "_model_name": "LayoutModel",
            "_view_count": null,
            "_view_module": "@jupyter-widgets/base",
            "_view_module_version": "1.2.0",
            "_view_name": "LayoutView",
            "align_content": null,
            "align_items": null,
            "align_self": null,
            "border": null,
            "bottom": null,
            "display": null,
            "flex": null,
            "flex_flow": null,
            "grid_area": null,
            "grid_auto_columns": null,
            "grid_auto_flow": null,
            "grid_auto_rows": null,
            "grid_column": null,
            "grid_gap": null,
            "grid_row": null,
            "grid_template_areas": null,
            "grid_template_columns": null,
            "grid_template_rows": null,
            "height": null,
            "justify_content": null,
            "justify_items": null,
            "left": null,
            "margin": null,
            "max_height": null,
            "max_width": null,
            "min_height": null,
            "min_width": null,
            "object_fit": null,
            "object_position": null,
            "order": null,
            "overflow": null,
            "overflow_x": null,
            "overflow_y": null,
            "padding": null,
            "right": null,
            "top": null,
            "visibility": null,
            "width": null
          }
        },
        "ed97047a472144db96923c311bb45770": {
          "model_module": "@jupyter-widgets/base",
          "model_name": "LayoutModel",
          "model_module_version": "1.2.0",
          "state": {
            "_model_module": "@jupyter-widgets/base",
            "_model_module_version": "1.2.0",
            "_model_name": "LayoutModel",
            "_view_count": null,
            "_view_module": "@jupyter-widgets/base",
            "_view_module_version": "1.2.0",
            "_view_name": "LayoutView",
            "align_content": null,
            "align_items": null,
            "align_self": null,
            "border": null,
            "bottom": null,
            "display": null,
            "flex": null,
            "flex_flow": null,
            "grid_area": null,
            "grid_auto_columns": null,
            "grid_auto_flow": null,
            "grid_auto_rows": null,
            "grid_column": null,
            "grid_gap": null,
            "grid_row": null,
            "grid_template_areas": null,
            "grid_template_columns": null,
            "grid_template_rows": null,
            "height": null,
            "justify_content": null,
            "justify_items": null,
            "left": null,
            "margin": null,
            "max_height": null,
            "max_width": null,
            "min_height": null,
            "min_width": null,
            "object_fit": null,
            "object_position": null,
            "order": null,
            "overflow": null,
            "overflow_x": null,
            "overflow_y": null,
            "padding": null,
            "right": null,
            "top": null,
            "visibility": null,
            "width": null
          }
        },
        "e2abea0d1f6444de925f3c2d1809c07a": {
          "model_module": "@jupyter-widgets/base",
          "model_name": "LayoutModel",
          "model_module_version": "1.2.0",
          "state": {
            "_model_module": "@jupyter-widgets/base",
            "_model_module_version": "1.2.0",
            "_model_name": "LayoutModel",
            "_view_count": null,
            "_view_module": "@jupyter-widgets/base",
            "_view_module_version": "1.2.0",
            "_view_name": "LayoutView",
            "align_content": null,
            "align_items": null,
            "align_self": null,
            "border": null,
            "bottom": null,
            "display": null,
            "flex": null,
            "flex_flow": null,
            "grid_area": null,
            "grid_auto_columns": null,
            "grid_auto_flow": null,
            "grid_auto_rows": null,
            "grid_column": null,
            "grid_gap": null,
            "grid_row": null,
            "grid_template_areas": null,
            "grid_template_columns": null,
            "grid_template_rows": null,
            "height": null,
            "justify_content": null,
            "justify_items": null,
            "left": null,
            "margin": null,
            "max_height": null,
            "max_width": null,
            "min_height": null,
            "min_width": null,
            "object_fit": null,
            "object_position": null,
            "order": null,
            "overflow": null,
            "overflow_x": null,
            "overflow_y": null,
            "padding": null,
            "right": null,
            "top": null,
            "visibility": null,
            "width": null
          }
        },
        "f75da446159b4baaabc7527d2416d86a": {
          "model_module": "@jupyter-widgets/base",
          "model_name": "LayoutModel",
          "model_module_version": "1.2.0",
          "state": {
            "_model_module": "@jupyter-widgets/base",
            "_model_module_version": "1.2.0",
            "_model_name": "LayoutModel",
            "_view_count": null,
            "_view_module": "@jupyter-widgets/base",
            "_view_module_version": "1.2.0",
            "_view_name": "LayoutView",
            "align_content": null,
            "align_items": null,
            "align_self": null,
            "border": null,
            "bottom": null,
            "display": null,
            "flex": null,
            "flex_flow": null,
            "grid_area": null,
            "grid_auto_columns": null,
            "grid_auto_flow": null,
            "grid_auto_rows": null,
            "grid_column": null,
            "grid_gap": null,
            "grid_row": null,
            "grid_template_areas": null,
            "grid_template_columns": null,
            "grid_template_rows": null,
            "height": null,
            "justify_content": null,
            "justify_items": null,
            "left": null,
            "margin": null,
            "max_height": null,
            "max_width": null,
            "min_height": null,
            "min_width": null,
            "object_fit": null,
            "object_position": null,
            "order": null,
            "overflow": null,
            "overflow_x": null,
            "overflow_y": null,
            "padding": null,
            "right": null,
            "top": null,
            "visibility": null,
            "width": null
          }
        },
        "386906c3be5a4bc191c4084fb865871a": {
          "model_module": "@jupyter-widgets/base",
          "model_name": "LayoutModel",
          "model_module_version": "1.2.0",
          "state": {
            "_model_module": "@jupyter-widgets/base",
            "_model_module_version": "1.2.0",
            "_model_name": "LayoutModel",
            "_view_count": null,
            "_view_module": "@jupyter-widgets/base",
            "_view_module_version": "1.2.0",
            "_view_name": "LayoutView",
            "align_content": null,
            "align_items": null,
            "align_self": null,
            "border": null,
            "bottom": null,
            "display": null,
            "flex": null,
            "flex_flow": null,
            "grid_area": null,
            "grid_auto_columns": null,
            "grid_auto_flow": null,
            "grid_auto_rows": null,
            "grid_column": null,
            "grid_gap": null,
            "grid_row": null,
            "grid_template_areas": null,
            "grid_template_columns": null,
            "grid_template_rows": null,
            "height": null,
            "justify_content": null,
            "justify_items": null,
            "left": null,
            "margin": null,
            "max_height": null,
            "max_width": null,
            "min_height": null,
            "min_width": null,
            "object_fit": null,
            "object_position": null,
            "order": null,
            "overflow": null,
            "overflow_x": null,
            "overflow_y": null,
            "padding": null,
            "right": null,
            "top": null,
            "visibility": null,
            "width": null
          }
        }
      }
    }
  },
  "nbformat": 4,
  "nbformat_minor": 5
}