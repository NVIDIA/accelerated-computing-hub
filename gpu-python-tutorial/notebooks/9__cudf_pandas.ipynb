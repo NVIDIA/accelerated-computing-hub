{
 "cells": [
  {
   "cell_type": "markdown",
   "id": "c1032e41-4396-4ef7-b58a-8c592ad9226f",
   "metadata": {},
   "source": [
    "# Data Analysis with cuDF"
   ]
  },
  {
   "cell_type": "markdown",
   "id": "b2ca1821-ab7d-4f35-8c00-4452e7384901",
   "metadata": {},
   "source": [
    "We've learned how to work with numeric data using CuPy. But many applications, in data science and machine learning involve other kinds of data, like dates and strings. \n",
    "\n",
    "[cuDF](https://docs.rapids.ai/api/cudf/stable/) is a DataFrame library for loading, joining, aggregating, filtering, and otherwise manipulating data. It offers both a [Pandas](https://docs.rapids.ai/api/cudf/stable/cudf_pandas/) and a [Polars](https://docs.rapids.ai/api/cudf/stable/cudf_polars/) API."
   ]
  },
  {
   "cell_type": "markdown",
   "id": "6db517aa-5cb9-415f-b1b1-fd9cd9b2f97f",
   "metadata": {},
   "source": [
    "## A quick Pandas introduction"
   ]
  },
  {
   "cell_type": "code",
   "execution_count": null,
   "id": "68edd7ee-1724-46c5-b301-217665bde5de",
   "metadata": {},
   "outputs": [],
   "source": [
    "import pandas as pd"
   ]
  },
  {
   "cell_type": "markdown",
   "id": "2ca65219-e77e-4513-9074-89ed031fb9dc",
   "metadata": {},
   "source": [
    "### Series and DataFrame objects"
   ]
  },
  {
   "cell_type": "code",
   "execution_count": null,
   "id": "428422cd-721f-4110-9b70-7fd4e13e2a3e",
   "metadata": {},
   "outputs": [],
   "source": [
    "s = pd.Series([1, 2, 3, None, 4])\n",
    "s"
   ]
  },
  {
   "cell_type": "code",
   "execution_count": null,
   "id": "7e48a42e-7ebb-4a07-be5e-9c03c9dfc9dd",
   "metadata": {},
   "outputs": [],
   "source": [
    "print(\"Max value: \", s.max())\n",
    "print(\"Mean value: \", s.mean())"
   ]
  },
  {
   "cell_type": "code",
   "execution_count": null,
   "id": "02d9e821-89c5-494b-a700-16effae5f80d",
   "metadata": {},
   "outputs": [],
   "source": [
    "df = pd.DataFrame({\"player\": [\"one\", \"two\", \"one\", \"three\", \"two\" ], 'score': [1, 1, 2, 2, 3]})\n",
    "df"
   ]
  },
  {
   "cell_type": "markdown",
   "id": "cbea2a91-09da-448f-82bb-fb037c6de9b0",
   "metadata": {},
   "source": [
    "### Selecting and filtering data"
   ]
  },
  {
   "cell_type": "code",
   "execution_count": null,
   "id": "1e427550-57bf-4125-a0a0-5204f6311744",
   "metadata": {},
   "outputs": [],
   "source": [
    "df[\"player\"]"
   ]
  },
  {
   "cell_type": "code",
   "execution_count": null,
   "id": "d1be2de2-7468-4e5f-a95e-a086dd6feed4",
   "metadata": {},
   "outputs": [],
   "source": [
    "df.head(2)"
   ]
  },
  {
   "cell_type": "code",
   "execution_count": null,
   "id": "e699a355-37cc-49d4-b673-8ef178d490d7",
   "metadata": {},
   "outputs": [],
   "source": [
    "df.iloc[2:4]"
   ]
  },
  {
   "cell_type": "code",
   "execution_count": null,
   "id": "638b4090-a650-4447-8227-1d659a96178f",
   "metadata": {},
   "outputs": [],
   "source": [
    "df[df[\"score\"] > 1]"
   ]
  },
  {
   "cell_type": "markdown",
   "id": "a09f30d8-1a81-45fa-b919-00ce75337d5c",
   "metadata": {},
   "source": [
    "### Grouped aggregations"
   ]
  },
  {
   "cell_type": "code",
   "execution_count": null,
   "id": "a1f1a795-2db1-4411-8e70-9f98b096f956",
   "metadata": {},
   "outputs": [],
   "source": [
    "df.groupby(\"player\").mean()"
   ]
  },
  {
   "cell_type": "code",
   "execution_count": null,
   "id": "18a5723a-629e-424c-9d59-bc2c0c315a31",
   "metadata": {},
   "outputs": [],
   "source": [
    "df.groupby(\"player\").agg({\"score\": [\"mean\", \"min\", \"max\"]})"
   ]
  },
  {
   "cell_type": "markdown",
   "id": "a5d0979a-d6e8-45a3-856b-d3d5ad52be4a",
   "metadata": {},
   "source": [
    "### String operations"
   ]
  },
  {
   "cell_type": "code",
   "execution_count": null,
   "id": "e0707c98-9178-46f4-8ef9-fe75786b7f4b",
   "metadata": {},
   "outputs": [],
   "source": [
    "df[\"player\"].str.upper()  # convert all values to uppercase"
   ]
  },
  {
   "cell_type": "markdown",
   "id": "36586199-7a07-406b-b92b-f17f5f6ecee9",
   "metadata": {},
   "source": [
    "### Time Series"
   ]
  },
  {
   "cell_type": "code",
   "execution_count": null,
   "id": "4a6166f7-b6b1-453f-97da-e79a6e178f5c",
   "metadata": {},
   "outputs": [],
   "source": [
    "import datetime as dt\n",
    "import numpy as np\n",
    "\n",
    "date_df = pd.DataFrame()\n",
    "date_df[\"date\"] = pd.date_range(\"11/20/2018\", periods=72, freq=\"D\")\n",
    "date_df[\"value\"] = np.random.sample(len(date_df))\n",
    "date_df"
   ]
  },
  {
   "cell_type": "code",
   "execution_count": null,
   "id": "c8ee517e-f016-4547-8cb1-0715c456236d",
   "metadata": {},
   "outputs": [],
   "source": [
    "search_date = dt.datetime.strptime(\"2018-11-23\", \"%Y-%m-%d\")\n",
    "date_df.query(\"date <= @search_date\")"
   ]
  },
  {
   "cell_type": "markdown",
   "id": "70b8dec0-140c-4f1c-b9af-4aa2df6f79ca",
   "metadata": {},
   "source": [
    "### User-defined operations"
   ]
  },
  {
   "cell_type": "code",
   "execution_count": null,
   "id": "dac6501e-fe69-4028-84e3-d77e3bb79321",
   "metadata": {},
   "outputs": [],
   "source": [
    "def add_ten(x):\n",
    "    return x + 10\n",
    "\n",
    "df[\"score\"] = df[\"score\"].apply(add_ten)\n",
    "df"
   ]
  },
  {
   "cell_type": "markdown",
   "id": "f6aee7a6-925c-46b9-bc4a-8d019416923f",
   "metadata": {},
   "source": [
    "## Working with real data\n",
    "\n",
    "### Download the data\n",
    "\n",
    "The data we'll be working with is the [Parking Violations Issued - Fiscal Year 2022](https://data.cityofnewyork.us/City-Government/Parking-Violations-Issued-Fiscal-Year-2022/7mxj-7a6y) dataset from NYC Open Data.\n",
    "\n",
    "We're downloading a copy of this dataset from an s3 bucket hosted by NVIDIA to provide faster download speeds. We'll start by downloading the data. This should take about 30 seconds.\n",
    "\n",
    "### Data License and Terms\n",
    "As this dataset originates from the NYC Open Data Portal, it's governed by their license and terms of use.\n",
    "\n",
    "##### Are there restrictions on how I can use Open Data?\n",
    "\n",
    "> Open Data belongs to all New Yorkers. There are no restrictions on the use of Open Data. Refer to Terms of Use for more information.\n",
    "\n",
    "#### [Terms of Use](https://opendata.cityofnewyork.us/overview/#termsofuse)\n",
    "\n",
    "> By accessing datasets and feeds available through NYC Open Data, the user agrees to all of the Terms of Use of NYC.gov as well as the Privacy Policy for NYC.gov. The user also agrees to any additional terms of use defined by the agencies, bureaus, and offices providing data. Public data sets made available on NYC Open Data are provided for informational purposes. The City does not warranty the completeness, accuracy, content, or fitness for any particular purpose or use of any public data set made available on NYC Open Data, nor are any such warranties to be implied or inferred with respect to the public data sets furnished therein.\n",
    "\n",
    "> The City is not liable for any deficiencies in the completeness, accuracy, content, or fitness for any particular purpose or use of any public data set, or application utilizing such data set, provided by any third party.\n",
    "\n",
    "> Submitting City Agencies are the authoritative source of data available on NYC Open Data. These entities are responsible for data quality and retain version control of data sets and feeds accessed on the Site. Data may be updated, corrected, or refreshed at any time."
   ]
  },
  {
   "cell_type": "code",
   "execution_count": null,
   "id": "f474db87-88af-4b66-9172-f36492aa7ebc",
   "metadata": {},
   "outputs": [],
   "source": [
    "!wget -nc https://data.rapids.ai/datasets/nyc_parking/nyc_parking_violations_2022.parquet -O nyc_parking_violations_2022.parquet"
   ]
  },
  {
   "cell_type": "markdown",
   "id": "0db90779-7458-47c9-8e58-363a256b52a2",
   "metadata": {},
   "source": [
    "### Analysis using standard Pandas"
   ]
  },
  {
   "cell_type": "markdown",
   "id": "3330bd8a-82f6-4cfa-a768-5e21219826c9",
   "metadata": {},
   "source": [
    "First, let's use Pandas to read in some columns of the dataset:"
   ]
  },
  {
   "cell_type": "code",
   "execution_count": null,
   "id": "65efbacf-43c0-44ff-bdbb-b4033a92fa9f",
   "metadata": {},
   "outputs": [],
   "source": [
    "%load_ext cudf.pandas"
   ]
  },
  {
   "cell_type": "code",
   "execution_count": null,
   "id": "b8bcf7a4-9eaa-427b-b277-2b4f43ad3cae",
   "metadata": {},
   "outputs": [],
   "source": [
    "import pandas as pd"
   ]
  },
  {
   "cell_type": "code",
   "execution_count": null,
   "id": "e955c180-700d-4efb-a7e9-18112ce147d5",
   "metadata": {},
   "outputs": [],
   "source": [
    "%%time\n",
    "# read 5 columns data:\n",
    "df = pd.read_parquet(\n",
    "    \"/tmp/nyc_parking_violations_2022.parquet\",\n",
    "    columns=[\"Registration State\", \"Violation Description\", \"Vehicle Body Type\", \"Issue Date\", \"Summons Number\"],\n",
    "    \n",
    ")\n",
    "df[\"Issue Date\"] = df[\"Issue Date\"].astype(\"datetime64[s]\")\n",
    "\n",
    "# view a random sample of 10 rows:\n",
    "df.sample(10)"
   ]
  },
  {
   "cell_type": "markdown",
   "id": "049c0582-2db5-43d3-870f-13694b38186b",
   "metadata": {},
   "source": [
    "Each record in our dataset contains the state of registration of the offending vehicle, and the type of parking offence. Let's say we want to get the most common type of offence for vehicles registered in different states. We can do this in Pandas using a combination of [value_counts](https://pandas.pydata.org/docs/reference/api/pandas.Series.value_counts.html) and [GroupBy.head](https://pandas.pydata.org/docs/reference/api/pandas.core.groupby.DataFrameGroupBy.head.html):"
   ]
  },
  {
   "cell_type": "code",
   "execution_count": null,
   "id": "8077d132-7ba6-4036-9b5f-b51ef6b38559",
   "metadata": {},
   "outputs": [],
   "source": []
  },
  {
   "cell_type": "code",
   "execution_count": null,
   "id": "20ac3511-6d28-4708-83fe-d928f51f35d1",
   "metadata": {},
   "outputs": [],
   "source": [
    "%%time\n",
    "(df[[\"Registration State\", \"Violation Description\"]]  # get only these two columns\n",
    " .value_counts()  # get the count of offences per state and per type of offence\n",
    " .groupby(\"Registration State\")  # group by state\n",
    " .head(1)  # get the first row in each group (the type of offence with the largest count)\n",
    " .sort_index()  # sort by state name\n",
    " .reset_index()\n",
    ")"
   ]
  },
  {
   "cell_type": "markdown",
   "id": "57247799-6559-451d-a975-2425c8e9cfc0",
   "metadata": {},
   "source": [
    "The code above uses [method chaining](https://tomaugspurger.net/posts/method-chaining/) to combine a series of operations into a single statement. You might find it useful to break the code up into multiple statements and inspect each of the intermediate results!"
   ]
  },
  {
   "cell_type": "markdown",
   "id": "7d294d14-9ae9-4491-8688-f70be676adb2",
   "metadata": {},
   "source": [
    "#### Which vehicle body types are most frequently involved in parking violations?\n",
    "\n",
    "We can also investigate which vehicle body types most commonly appear in parking violations"
   ]
  },
  {
   "cell_type": "code",
   "execution_count": null,
   "id": "0feb6fce-4a38-4d6d-8b94-4bb4315e00d4",
   "metadata": {},
   "outputs": [],
   "source": [
    "%%time\n",
    "(df\n",
    " .groupby([\"Vehicle Body Type\"])\n",
    " .agg({\"Summons Number\": \"count\"})\n",
    " .rename(columns={\"Summons Number\": \"Count\"})\n",
    " .sort_values([\"Count\"], ascending=False)\n",
    ")"
   ]
  },
  {
   "cell_type": "markdown",
   "id": "87a468af-9703-4c8e-97b5-448fc9d2a60a",
   "metadata": {},
   "source": [
    "#### How do parking violations vary across days of the week?"
   ]
  },
  {
   "cell_type": "code",
   "execution_count": null,
   "id": "dbbd05f1-48fd-4ed9-8de0-0308eb5c098a",
   "metadata": {},
   "outputs": [],
   "source": [
    "%%time\n",
    "weekday_names = {\n",
    "    0: \"Monday\",\n",
    "    1: \"Tuesday\",\n",
    "    2: \"Wednesday\",\n",
    "    3: \"Thursday\",\n",
    "    4: \"Friday\",\n",
    "    5: \"Saturday\",\n",
    "    6: \"Sunday\",\n",
    "}\n",
    "\n",
    "df[\"issue_weekday\"] = df[\"Issue Date\"].dt.weekday.map(weekday_names)\n",
    "\n",
    "df.groupby([\"issue_weekday\"])[\"Summons Number\"].count().sort_values()"
   ]
  },
  {
   "cell_type": "markdown",
   "id": "741d82b6-1264-4e80-b547-1c0248b28369",
   "metadata": {},
   "source": [
    "### Exercise 1: using cudf.pandas"
   ]
  },
  {
   "cell_type": "markdown",
   "id": "f52e51db-26b8-4cce-9891-fee46b2adc27",
   "metadata": {},
   "source": [
    "In this exercise, you'll repeat the analysis we did above using `cudf.pandas`. Fortunately, it needs no code changes at all.\n",
    "\n",
    "1. Make note of the timings we obtained in the previous cells.\n",
    "2. Restart this Jupyter notebook server (Kernel->Restart Kernel).\n",
    "3. Before the line `import pandas`, insert the following line of code\n",
    "\n",
    "```python\n",
    "%load_ext cudf.pandas\n",
    "```\n",
    "\n",
    "4. Re-run the rest of the cells and note the new timings."
   ]
  },
  {
   "cell_type": "markdown",
   "id": "9b86a323-a8e5-4323-8d6f-a4d62085c5d2",
   "metadata": {},
   "source": [
    "### Understanding Performance\n",
    "\n",
    "`cudf.pandas` works by using the GPU for operations that are supported, and falling back to Pandas (CPU) when an operation is not supported.\n",
    "\n",
    "The `line_profile` magic can help you figure out when "
   ]
  },
  {
   "cell_type": "code",
   "execution_count": null,
   "id": "fd0ddf7e-1d46-439f-861a-e78cac3ccf57",
   "metadata": {},
   "outputs": [],
   "source": [
    "%%cudf.pandas.line_profile\n",
    "\n",
    "small_df = pd.DataFrame({'a': [\"0\", \"1\", \"2\", \"0\", \"1\", \"2\"], \n",
    "                         'b': [\"x\", \"y\", \"z\", \"x\", \"y\", \"z\"]})\n",
    "small_df.min(axis=0)\n",
    "small_df.min(axis=1)\n",
    "counts = small_df.groupby(\"a\").b.count()"
   ]
  },
  {
   "cell_type": "markdown",
   "id": "49e2dc57-046a-402b-ace5-d6cd41ec546c",
   "metadata": {},
   "source": [
    "### Exercise 2: writing GPU-optimized Pandas code"
   ]
  },
  {
   "cell_type": "markdown",
   "id": "9057b809-d0d3-405f-bd1c-4faacc39235e",
   "metadata": {},
   "source": [
    "`cudf.pandas` isn't completely magic. It's very possible to write code that will perform quite badly if you don't know what you're doing. Below is some code to extract just the records for violations in the month of March:"
   ]
  },
  {
   "cell_type": "code",
   "execution_count": null,
   "id": "73113366-a6b6-4427-b0b0-cc26bdb23e1b",
   "metadata": {},
   "outputs": [],
   "source": [
    "%%time\n",
    "def is_in_march(datetime):\n",
    "    datetime = str(datetime)  # YYYY-MM-DD HH:MM:SS'\n",
    "    date = datetime.split(\" \")[0]\n",
    "    year, month, day = date.split(\"-\")\n",
    "    return month == \"03\"\n",
    "\n",
    "date = df[\"Issue Date\"]\n",
    "cond = date.apply(is_in_march)\n",
    "df[cond].head()"
   ]
  },
  {
   "cell_type": "markdown",
   "id": "ebaa6454-c55f-4d88-8e8b-875bf74ad7a3",
   "metadata": {},
   "source": [
    "The above snippet takes several seconds to complete - why do you think it's so slow? Rewrite the code above to do the same operation using more efficient operations."
   ]
  },
  {
   "cell_type": "markdown",
   "id": "e6922342-bb99-4cbf-8b22-412ac6249fd7",
   "metadata": {},
   "source": [
    "## Resources"
   ]
  },
  {
   "cell_type": "markdown",
   "id": "4759d32d-57c2-4454-8acc-d98072fd38b3",
   "metadata": {},
   "source": [
    "* `cudf.pandas` docs: https://docs.rapids.ai/api/cudf/stable/cudf_pandas/\n",
    "* cuDF documentation: https://docs.rapids.ai/api/cudf/stable\n",
    "* cuDF API reference: https://docs.rapids.ai/api/cudf/stable/user_guide/api_docs/"
   ]
  }
 ],
 "metadata": {
  "kernelspec": {
   "display_name": "Python 3 (ipykernel)",
   "language": "python",
   "name": "python3"
  },
  "language_info": {
   "codemirror_mode": {
    "name": "ipython",
    "version": 3
   },
   "file_extension": ".py",
   "mimetype": "text/x-python",
   "name": "python",
   "nbconvert_exporter": "python",
   "pygments_lexer": "ipython3",
   "version": "3.10.18"
  }
 },
 "nbformat": 4,
 "nbformat_minor": 5
}
