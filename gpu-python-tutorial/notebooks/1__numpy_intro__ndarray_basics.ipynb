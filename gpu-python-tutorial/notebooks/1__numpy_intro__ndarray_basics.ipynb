{
  "cells": [
    {
      "cell_type": "markdown",
      "id": "d2e341ff-0c1e-40e8-8c33-9e3039de8013",
      "metadata": {
        "id": "d2e341ff-0c1e-40e8-8c33-9e3039de8013"
      },
      "source": [
        "# Exercise - NumPy Intro - `ndarray` Basics\n",
        "\n",
        "Let's practice working with NumPy `ndarray`s. You may find NumPy's [reference documentation](https://numpy.org/doc/stable/reference/arrays.html) useful."
      ]
    },
    {
      "cell_type": "code",
      "execution_count": null,
      "id": "cc4596d8-d9ff-4c66-8822-246c0fc830c7",
      "metadata": {
        "id": "cc4596d8-d9ff-4c66-8822-246c0fc830c7"
      },
      "outputs": [],
      "source": [
        "import numpy as np"
      ]
    },
    {
      "cell_type": "markdown",
      "id": "7535d7ab-1dd8-407a-bd30-7422e8391fc7",
      "metadata": {
        "id": "7535d7ab-1dd8-407a-bd30-7422e8391fc7"
      },
      "source": [
        "**TODO: Create the input data array with the numbers `1` to `500_000_000`.**"
      ]
    },
    {
      "cell_type": "code",
      "execution_count": null,
      "id": "5f1a613f-bc87-4950-b195-a66bb5bc05d3",
      "metadata": {
        "id": "5f1a613f-bc87-4950-b195-a66bb5bc05d3"
      },
      "outputs": [],
      "source": [
        "arr = ...\n",
        "arr"
      ]
    },
    {
      "cell_type": "markdown",
      "id": "9b2a320b-b202-4d62-88de-981130756987",
      "metadata": {
        "id": "9b2a320b-b202-4d62-88de-981130756987"
      },
      "source": [
        "**TODO: Calculate how large the array is in GB with `nbytes`.** _Hint: GB is `1e9`_"
      ]
    },
    {
      "cell_type": "code",
      "execution_count": null,
      "id": "50530f2c-29bf-4061-8f84-bc5be00a5622",
      "metadata": {
        "id": "50530f2c-29bf-4061-8f84-bc5be00a5622"
      },
      "outputs": [],
      "source": [
        "arr..."
      ]
    },
    {
      "cell_type": "markdown",
      "id": "8dfdc34c-f616-491f-a0c6-8add195412f8",
      "metadata": {
        "id": "8dfdc34c-f616-491f-a0c6-8add195412f8"
      },
      "source": [
        "**TODO: How many dimensions does the array have?**"
      ]
    },
    {
      "cell_type": "code",
      "execution_count": null,
      "id": "ffc15dad-e2fd-4b96-8b39-3496519d0656",
      "metadata": {
        "id": "ffc15dad-e2fd-4b96-8b39-3496519d0656"
      },
      "outputs": [],
      "source": [
        "arr..."
      ]
    },
    {
      "cell_type": "markdown",
      "id": "ee24ecbe-2b39-43ea-9319-cdfa08f52fb1",
      "metadata": {
        "id": "ee24ecbe-2b39-43ea-9319-cdfa08f52fb1"
      },
      "source": [
        "**TODO: How many elements does the array have?**"
      ]
    },
    {
      "cell_type": "code",
      "execution_count": null,
      "id": "b15cdf25-eb35-4926-b306-90ffd62b3d28",
      "metadata": {
        "id": "b15cdf25-eb35-4926-b306-90ffd62b3d28"
      },
      "outputs": [],
      "source": [
        "arr..."
      ]
    },
    {
      "cell_type": "markdown",
      "id": "c6cb7de1-20ef-4edf-a4b1-3abe40e83ab8",
      "metadata": {
        "id": "c6cb7de1-20ef-4edf-a4b1-3abe40e83ab8"
      },
      "source": [
        "**TODO: What is the shape of the array?**"
      ]
    },
    {
      "cell_type": "code",
      "execution_count": null,
      "id": "63887722-c9d7-405e-a019-e75646115541",
      "metadata": {
        "id": "63887722-c9d7-405e-a019-e75646115541"
      },
      "outputs": [],
      "source": [
        "arr..."
      ]
    },
    {
      "cell_type": "markdown",
      "id": "35f4e58d-9cbe-4e71-8b65-42f9460531e3",
      "metadata": {
        "id": "35f4e58d-9cbe-4e71-8b65-42f9460531e3"
      },
      "source": [
        "**TODO: Create a new array with `5_000_000` elements containing equally spaced values between `0` to `1000` (inclusive).**"
      ]
    },
    {
      "cell_type": "code",
      "execution_count": null,
      "id": "1527b4f6-5d75-47d4-97e0-d0e78bbc59f9",
      "metadata": {
        "id": "1527b4f6-5d75-47d4-97e0-d0e78bbc59f9"
      },
      "outputs": [],
      "source": [
        "arr = ...\n",
        "arr"
      ]
    },
    {
      "cell_type": "markdown",
      "id": "1e0b80a2-4bb0-40a0-82e6-366a47f26b43",
      "metadata": {
        "id": "1e0b80a2-4bb0-40a0-82e6-366a47f26b43"
      },
      "source": [
        "**TODO: Create a random array that is `10_000` by `5_000`.**"
      ]
    },
    {
      "cell_type": "code",
      "execution_count": null,
      "id": "2f51aa2e-b994-4a91-aed6-4a4632eb7050",
      "metadata": {
        "id": "2f51aa2e-b994-4a91-aed6-4a4632eb7050"
      },
      "outputs": [],
      "source": [
        "arr = ...\n",
        "arr"
      ]
    },
    {
      "cell_type": "markdown",
      "id": "f8ab4e20-cc42-4335-8a8a-bb695631185a",
      "metadata": {
        "id": "f8ab4e20-cc42-4335-8a8a-bb695631185a"
      },
      "source": [
        "**TODO: Sort that array.**"
      ]
    },
    {
      "cell_type": "code",
      "execution_count": null,
      "id": "4ec06270-6e08-4cce-9385-9dc8b53e95fd",
      "metadata": {
        "id": "4ec06270-6e08-4cce-9385-9dc8b53e95fd"
      },
      "outputs": [],
      "source": [
        "arr = ...\n",
        "arr"
      ]
    },
    {
      "cell_type": "markdown",
      "id": "dc675e4c-66e6-4a9e-8f68-96802c7f96ad",
      "metadata": {
        "id": "dc675e4c-66e6-4a9e-8f68-96802c7f96ad"
      },
      "source": [
        "**TODO: Reshape the array to have the last dimension of length `5`.**"
      ]
    },
    {
      "cell_type": "code",
      "execution_count": null,
      "id": "cdde560b-5ba6-484c-a601-00b7ef71273d",
      "metadata": {
        "id": "cdde560b-5ba6-484c-a601-00b7ef71273d"
      },
      "outputs": [],
      "source": [
        "arr = ...\n",
        "arr"
      ]
    },
    {
      "cell_type": "markdown",
      "id": "70dba856-6eef-427d-871a-c6d041ac8b69",
      "metadata": {
        "id": "70dba856-6eef-427d-871a-c6d041ac8b69"
      },
      "source": [
        "**TODO: Find the sum of each row.** _Hint: Rows are axis 0, but the sum is being applied across columns, which are axis 1._"
      ]
    },
    {
      "cell_type": "code",
      "execution_count": null,
      "id": "44dd3ac2-c9b7-4327-ba63-860b074c0583",
      "metadata": {
        "id": "44dd3ac2-c9b7-4327-ba63-860b074c0583"
      },
      "outputs": [],
      "source": [
        "arr_sum = ...\n",
        "arr_sum"
      ]
    },
    {
      "cell_type": "markdown",
      "id": "4445c09b-e32e-46e9-aa93-3b36fbbcdcaa",
      "metadata": {
        "id": "4445c09b-e32e-46e9-aa93-3b36fbbcdcaa"
      },
      "source": [
        "**TODO: Normalize each row of the original random array by dividing by the sum you just computed using broadcasting.**"
      ]
    },
    {
      "cell_type": "code",
      "execution_count": null,
      "id": "b15342af-2916-481a-9724-9874acf4ed24",
      "metadata": {
        "id": "b15342af-2916-481a-9724-9874acf4ed24"
      },
      "outputs": [],
      "source": [
        "arr_normalized = ...\n",
        "arr_normalized"
      ]
    },
    {
      "cell_type": "markdown",
      "id": "6ff7b234-2c1e-4576-a8df-62958d3f6a4a",
      "metadata": {
        "id": "6ff7b234-2c1e-4576-a8df-62958d3f6a4a"
      },
      "source": [
        "**EXTRA CREDIT: Prove that your normalized array is actually normalized.** _Hint: Does each row sum to 1 now?_"
      ]
    },
    {
      "cell_type": "code",
      "execution_count": null,
      "id": "b04622b8-c6de-4756-8a56-e3d2835a5eaf",
      "metadata": {
        "id": "b04622b8-c6de-4756-8a56-e3d2835a5eaf"
      },
      "outputs": [],
      "source": []
    }
  ],
  "metadata": {
    "kernelspec": {
     "display_name": "training-pyhpc-2025",
     "language": "python",
     "name": "pyhpc-2025"
    },
    "language_info": {
      "codemirror_mode": {
        "name": "ipython",
        "version": 3
      },
      "file_extension": ".py",
      "mimetype": "text/x-python",
      "name": "python",
      "nbconvert_exporter": "python",
      "pygments_lexer": "ipython3",
      "version": "3.12.11"
    },
    "colab": {
      "provenance": [],
      "gpuType": "T4"
    },
    "accelerator": "GPU"
  },
  "nbformat": 4,
  "nbformat_minor": 5
}
