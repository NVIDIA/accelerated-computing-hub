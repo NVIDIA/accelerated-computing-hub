{
  "cells": [
    {
      "cell_type": "markdown",
      "id": "d2e341ff-0c1e-40e8-8c33-9e3039de8013",
      "metadata": {
        "id": "d2e341ff-0c1e-40e8-8c33-9e3039de8013"
      },
      "source": [
        "# Exercise - NumPy Intro - `ndarray` Basics - SOLUTION\n",
        "\n",
        "Let's practice working with NumPy `ndarray`s. You may find NumPy's [reference documentation](https://numpy.org/doc/stable/reference/arrays.html) useful."
      ]
    },
    {
      "cell_type": "code",
      "execution_count": 1,
      "id": "cc4596d8-d9ff-4c66-8822-246c0fc830c7",
      "metadata": {
        "id": "cc4596d8-d9ff-4c66-8822-246c0fc830c7"
      },
      "outputs": [],
      "source": [
        "import numpy as np"
      ]
    },
    {
      "cell_type": "markdown",
      "id": "7535d7ab-1dd8-407a-bd30-7422e8391fc7",
      "metadata": {
        "id": "7535d7ab-1dd8-407a-bd30-7422e8391fc7"
      },
      "source": [
        "Create the input data array with the numbers `1` to `500_000_000`."
      ]
    },
    {
      "cell_type": "code",
      "execution_count": 2,
      "id": "5f1a613f-bc87-4950-b195-a66bb5bc05d3",
      "metadata": {
        "colab": {
          "base_uri": "https://localhost:8080/"
        },
        "id": "5f1a613f-bc87-4950-b195-a66bb5bc05d3",
        "outputId": "d466b5c8-2879-4eee-f5f3-8574e241f5ec"
      },
      "outputs": [
        {
          "output_type": "execute_result",
          "data": {
            "text/plain": [
              "array([        1,         2,         3, ..., 499999998, 499999999,\n",
              "       500000000])"
            ]
          },
          "metadata": {},
          "execution_count": 2
        }
      ],
      "source": [
        "arr = np.arange(1, 500_000_001)\n",
        "arr"
      ]
    },
    {
      "cell_type": "markdown",
      "id": "9b2a320b-b202-4d62-88de-981130756987",
      "metadata": {
        "id": "9b2a320b-b202-4d62-88de-981130756987"
      },
      "source": [
        "Calculate how large the array is in GB with `nbytes`."
      ]
    },
    {
      "cell_type": "code",
      "execution_count": 3,
      "id": "50530f2c-29bf-4061-8f84-bc5be00a5622",
      "metadata": {
        "colab": {
          "base_uri": "https://localhost:8080/"
        },
        "id": "50530f2c-29bf-4061-8f84-bc5be00a5622",
        "outputId": "df33c0b5-b2b5-4eae-ae00-887d8e368792"
      },
      "outputs": [
        {
          "output_type": "execute_result",
          "data": {
            "text/plain": [
              "4.0"
            ]
          },
          "metadata": {},
          "execution_count": 3
        }
      ],
      "source": [
        "arr.nbytes / 1e9"
      ]
    },
    {
      "cell_type": "markdown",
      "id": "8dfdc34c-f616-491f-a0c6-8add195412f8",
      "metadata": {
        "id": "8dfdc34c-f616-491f-a0c6-8add195412f8"
      },
      "source": [
        "How many dimensions does the array have?"
      ]
    },
    {
      "cell_type": "code",
      "execution_count": 4,
      "id": "ffc15dad-e2fd-4b96-8b39-3496519d0656",
      "metadata": {
        "colab": {
          "base_uri": "https://localhost:8080/"
        },
        "id": "ffc15dad-e2fd-4b96-8b39-3496519d0656",
        "outputId": "4c255a1f-b568-4831-a7f1-57b45db87d45"
      },
      "outputs": [
        {
          "output_type": "execute_result",
          "data": {
            "text/plain": [
              "1"
            ]
          },
          "metadata": {},
          "execution_count": 4
        }
      ],
      "source": [
        "arr.ndim # `len(arr.shape)` also works, but is longer to type."
      ]
    },
    {
      "cell_type": "markdown",
      "id": "ee24ecbe-2b39-43ea-9319-cdfa08f52fb1",
      "metadata": {
        "id": "ee24ecbe-2b39-43ea-9319-cdfa08f52fb1"
      },
      "source": [
        "How many elements does the array have?"
      ]
    },
    {
      "cell_type": "code",
      "execution_count": 5,
      "id": "b15cdf25-eb35-4926-b306-90ffd62b3d28",
      "metadata": {
        "colab": {
          "base_uri": "https://localhost:8080/"
        },
        "id": "b15cdf25-eb35-4926-b306-90ffd62b3d28",
        "outputId": "0690b14d-340f-42b2-b4be-2d27b9102b51"
      },
      "outputs": [
        {
          "output_type": "execute_result",
          "data": {
            "text/plain": [
              "500000000"
            ]
          },
          "metadata": {},
          "execution_count": 5
        }
      ],
      "source": [
        "arr.size # For 1D array, `arr.shape[0]` also works, but `arr.size` multiplies the size of all dimensions."
      ]
    },
    {
      "cell_type": "markdown",
      "id": "c6cb7de1-20ef-4edf-a4b1-3abe40e83ab8",
      "metadata": {
        "id": "c6cb7de1-20ef-4edf-a4b1-3abe40e83ab8"
      },
      "source": [
        "What is the shape of the array?"
      ]
    },
    {
      "cell_type": "code",
      "execution_count": 6,
      "id": "63887722-c9d7-405e-a019-e75646115541",
      "metadata": {
        "colab": {
          "base_uri": "https://localhost:8080/"
        },
        "id": "63887722-c9d7-405e-a019-e75646115541",
        "outputId": "28d1d347-e3f9-4ee1-cfaa-a79aab0e23b9"
      },
      "outputs": [
        {
          "output_type": "execute_result",
          "data": {
            "text/plain": [
              "(500000000,)"
            ]
          },
          "metadata": {},
          "execution_count": 6
        }
      ],
      "source": [
        "arr.shape"
      ]
    },
    {
      "cell_type": "markdown",
      "id": "35f4e58d-9cbe-4e71-8b65-42f9460531e3",
      "metadata": {
        "id": "35f4e58d-9cbe-4e71-8b65-42f9460531e3"
      },
      "source": [
        "Create a new array with `5_000_000` elements containing equally spaced values between `0` to `1000` (inclusive)."
      ]
    },
    {
      "cell_type": "code",
      "execution_count": 7,
      "id": "1527b4f6-5d75-47d4-97e0-d0e78bbc59f9",
      "metadata": {
        "colab": {
          "base_uri": "https://localhost:8080/"
        },
        "id": "1527b4f6-5d75-47d4-97e0-d0e78bbc59f9",
        "outputId": "898bc151-7e54-4a2c-91f9-ba75879e11dd"
      },
      "outputs": [
        {
          "output_type": "execute_result",
          "data": {
            "text/plain": [
              "array([0.0000000e+00, 2.0000004e-04, 4.0000008e-04, ..., 9.9999960e+02,\n",
              "       9.9999980e+02, 1.0000000e+03])"
            ]
          },
          "metadata": {},
          "execution_count": 7
        }
      ],
      "source": [
        "arr = np.linspace(0, 1000, 5_000_000, endpoint=True)\n",
        "arr"
      ]
    },
    {
      "cell_type": "markdown",
      "id": "1e0b80a2-4bb0-40a0-82e6-366a47f26b43",
      "metadata": {
        "id": "1e0b80a2-4bb0-40a0-82e6-366a47f26b43"
      },
      "source": [
        "Create a random array that is `10_000` by `5_000`."
      ]
    },
    {
      "cell_type": "code",
      "execution_count": 8,
      "id": "2f51aa2e-b994-4a91-aed6-4a4632eb7050",
      "metadata": {
        "colab": {
          "base_uri": "https://localhost:8080/"
        },
        "id": "2f51aa2e-b994-4a91-aed6-4a4632eb7050",
        "outputId": "29f9d74d-8995-4288-d58c-92e4a74c9c65"
      },
      "outputs": [
        {
          "output_type": "execute_result",
          "data": {
            "text/plain": [
              "array([[0.47874424, 0.20358231, 0.02455485, ..., 0.51265253, 0.56159225,\n",
              "        0.48772361],\n",
              "       [0.63589186, 0.73143007, 0.79031565, ..., 0.94718263, 0.57647135,\n",
              "        0.59946376],\n",
              "       [0.26044923, 0.55745457, 0.25562921, ..., 0.03955561, 0.56221741,\n",
              "        0.13027776],\n",
              "       ...,\n",
              "       [0.30329327, 0.17706943, 0.58210662, ..., 0.55591102, 0.4307622 ,\n",
              "        0.29244399],\n",
              "       [0.56156033, 0.50636521, 0.04072725, ..., 0.23903848, 0.35491201,\n",
              "        0.62274408],\n",
              "       [0.06134186, 0.60138429, 0.55531572, ..., 0.40086822, 0.19394324,\n",
              "        0.06455707]])"
            ]
          },
          "metadata": {},
          "execution_count": 8
        }
      ],
      "source": [
        "arr = np.random.rand(10_000, 5_000)\n",
        "arr"
      ]
    },
    {
      "cell_type": "markdown",
      "id": "f8ab4e20-cc42-4335-8a8a-bb695631185a",
      "metadata": {
        "id": "f8ab4e20-cc42-4335-8a8a-bb695631185a"
      },
      "source": [
        "Sort that array."
      ]
    },
    {
      "cell_type": "code",
      "execution_count": 9,
      "id": "4ec06270-6e08-4cce-9385-9dc8b53e95fd",
      "metadata": {
        "colab": {
          "base_uri": "https://localhost:8080/"
        },
        "id": "4ec06270-6e08-4cce-9385-9dc8b53e95fd",
        "outputId": "46281d3b-ea8c-4119-935d-7fc5a6b7e7b4"
      },
      "outputs": [
        {
          "output_type": "execute_result",
          "data": {
            "text/plain": [
              "array([[4.99030364e-05, 2.86984725e-04, 3.18596066e-04, ...,\n",
              "        9.98660673e-01, 9.99031975e-01, 9.99757980e-01],\n",
              "       [1.79366466e-04, 9.69908190e-04, 1.25822951e-03, ...,\n",
              "        9.99022404e-01, 9.99292393e-01, 9.99988173e-01],\n",
              "       [2.89258301e-04, 5.15617330e-04, 6.58856451e-04, ...,\n",
              "        9.98459866e-01, 9.99097697e-01, 9.99530669e-01],\n",
              "       ...,\n",
              "       [2.92109349e-04, 5.41142713e-04, 1.33981200e-03, ...,\n",
              "        9.99749901e-01, 9.99919843e-01, 9.99970247e-01],\n",
              "       [9.49118403e-05, 5.76264566e-04, 7.49589571e-04, ...,\n",
              "        9.99181024e-01, 9.99755446e-01, 9.99899431e-01],\n",
              "       [2.43817661e-04, 3.21013669e-04, 5.35478917e-04, ...,\n",
              "        9.99387768e-01, 9.99612477e-01, 9.99674279e-01]])"
            ]
          },
          "metadata": {},
          "execution_count": 9
        }
      ],
      "source": [
        "arr = np.sort(arr)\n",
        "arr"
      ]
    },
    {
      "cell_type": "markdown",
      "id": "dc675e4c-66e6-4a9e-8f68-96802c7f96ad",
      "metadata": {
        "id": "dc675e4c-66e6-4a9e-8f68-96802c7f96ad"
      },
      "source": [
        "Reshape the array to have the last dimension of length `5`."
      ]
    },
    {
      "cell_type": "code",
      "execution_count": 10,
      "id": "cdde560b-5ba6-484c-a601-00b7ef71273d",
      "metadata": {
        "colab": {
          "base_uri": "https://localhost:8080/"
        },
        "id": "cdde560b-5ba6-484c-a601-00b7ef71273d",
        "outputId": "ed516af7-3b59-472c-8ee3-f34859981dba"
      },
      "outputs": [
        {
          "output_type": "execute_result",
          "data": {
            "text/plain": [
              "array([[4.99030364e-05, 2.86984725e-04, 3.18596066e-04, 3.85289129e-04,\n",
              "        7.26262284e-04],\n",
              "       [8.93863574e-04, 9.69600656e-04, 9.99128170e-04, 1.01126102e-03,\n",
              "        1.16957942e-03],\n",
              "       [1.38175632e-03, 1.46086187e-03, 1.48947347e-03, 1.68783114e-03,\n",
              "        2.08555933e-03],\n",
              "       ...,\n",
              "       [9.97567090e-01, 9.97571545e-01, 9.97690733e-01, 9.97865478e-01,\n",
              "        9.97983925e-01],\n",
              "       [9.98144152e-01, 9.98516738e-01, 9.98521903e-01, 9.98622870e-01,\n",
              "        9.98906715e-01],\n",
              "       [9.99008691e-01, 9.99283477e-01, 9.99387768e-01, 9.99612477e-01,\n",
              "        9.99674279e-01]])"
            ]
          },
          "metadata": {},
          "execution_count": 10
        }
      ],
      "source": [
        "arr = arr.reshape((-1, 5))\n",
        "# -1 will infer the size of that dimension from the rest.  Would also accept: arr.reshape((10_000_000, 5))\n",
        "arr"
      ]
    },
    {
      "cell_type": "markdown",
      "id": "32cf6010-c6d0-45a3-ae7c-1a8a88d0efc0",
      "metadata": {
        "id": "32cf6010-c6d0-45a3-ae7c-1a8a88d0efc0"
      },
      "source": [
        "Find the sum of each row. Rows are axis 0, but the sum is being applied across columns, which are axis 1."
      ]
    },
    {
      "cell_type": "code",
      "execution_count": 11,
      "id": "8e8c9ce0-c2ee-463c-a609-2da7fa0f61ec",
      "metadata": {
        "colab": {
          "base_uri": "https://localhost:8080/"
        },
        "id": "8e8c9ce0-c2ee-463c-a609-2da7fa0f61ec",
        "outputId": "ff5a91cd-c327-4445-85d1-db2cd0266e6a"
      },
      "outputs": [
        {
          "output_type": "execute_result",
          "data": {
            "text/plain": [
              "array([1.76703524e-03, 5.04343284e-03, 8.10548213e-03, ...,\n",
              "       4.98867877e+00, 4.99271238e+00, 4.99696669e+00])"
            ]
          },
          "metadata": {},
          "execution_count": 11
        }
      ],
      "source": [
        "arr_sum = np.sum(arr, axis=1) # You could also write `arr.sum(axis=1)`.\n",
        "arr_sum"
      ]
    },
    {
      "cell_type": "markdown",
      "id": "93a890db-ca42-456c-9813-9c22a6f15fd7",
      "metadata": {
        "id": "93a890db-ca42-456c-9813-9c22a6f15fd7"
      },
      "source": [
        "Normalize each row of the original random array by dividing by the sum you just computed using broadcasting."
      ]
    },
    {
      "cell_type": "code",
      "execution_count": 12,
      "id": "31da458f-abdd-4694-9b52-6f7495e9b6cc",
      "metadata": {
        "colab": {
          "base_uri": "https://localhost:8080/"
        },
        "id": "31da458f-abdd-4694-9b52-6f7495e9b6cc",
        "outputId": "283d3775-3844-470c-9460-5d2a84f7a06b"
      },
      "outputs": [
        {
          "output_type": "execute_result",
          "data": {
            "text/plain": [
              "array([[0.02824111, 0.1624103 , 0.18029978, 0.2180427 , 0.41100611],\n",
              "       [0.17723317, 0.19225014, 0.19810478, 0.20051046, 0.23190146],\n",
              "       [0.17047182, 0.18023134, 0.18376124, 0.20823328, 0.25730232],\n",
              "       ...,\n",
              "       [0.19996619, 0.19996708, 0.19999098, 0.200026  , 0.20004975],\n",
              "       [0.19992022, 0.19999485, 0.19999588, 0.2000161 , 0.20007295],\n",
              "       [0.19992302, 0.19997801, 0.19999889, 0.20004385, 0.20005622]])"
            ]
          },
          "metadata": {},
          "execution_count": 12
        }
      ],
      "source": [
        "arr_normalized = arr / arr_sum[:, np.newaxis]\n",
        "arr_normalized"
      ]
    },
    {
      "cell_type": "markdown",
      "id": "4525c0ac-dc5c-4255-a104-77fbca22bef4",
      "metadata": {
        "id": "4525c0ac-dc5c-4255-a104-77fbca22bef4"
      },
      "source": [
        "Prove that your normalized array is actually normalized by checking that every row sums to 1."
      ]
    },
    {
      "cell_type": "code",
      "execution_count": 13,
      "id": "d84a0db9-9983-4c25-ae10-7a5b937afb59",
      "metadata": {
        "id": "d84a0db9-9983-4c25-ae10-7a5b937afb59"
      },
      "outputs": [],
      "source": [
        "np.testing.assert_allclose(np.sum(arr_normalized, axis=1), 1.0)"
      ]
    }
  ],
  "metadata": {
    "kernelspec": {
     "display_name": "training-pyhpc-2025",
     "language": "python",
     "name": "pyhpc-2025"
    },
    "language_info": {
      "codemirror_mode": {
        "name": "ipython",
        "version": 3
      },
      "file_extension": ".py",
      "mimetype": "text/x-python",
      "name": "python",
      "nbconvert_exporter": "python",
      "pygments_lexer": "ipython3",
      "version": "3.12.11"
    },
    "colab": {
      "provenance": [],
      "gpuType": "T4"
    },
    "accelerator": "GPU"
  },
  "nbformat": 4,
  "nbformat_minor": 5
}
