{
  "cells": [
    {
      "cell_type": "markdown",
      "metadata": {
        "id": "yh2kaxkSw-kB"
      },
      "source": [
        "# Exercise - NumPy Linear Algebra - SVD Reconstruction\n",
        "\n",
        "A very common usage of NumPy is to perform common linear algebra algorithms.  These are usually implemented efficiently for the CPU using a library like OpenBLAS.  We will see in a later tutorial how to move these computations to the GPU.\n",
        "\n",
        "In this tutorial, we're going to look at the [Singular Value Decomposition](https://en.wikipedia.org/wiki/Singular_value_decomposition) of a matrix.  The matrix will represent a grayscale image, and we will see how the image can be approximated by the top N singular values and vectors.  This could be used as part of an image compression system, for example.\n",
        "\n",
        "We will need OpenCV to read the image format, and matplotlib to display the image and our reconstruction of it."
      ]
    },
    {
      "cell_type": "code",
      "execution_count": null,
      "metadata": {
        "id": "mLnsPrdx5hP0"
      },
      "outputs": [],
      "source": [
        "import matplotlib.pyplot as plt\n",
        "import cv2\n",
        "import numpy as np"
      ]
    },
    {
      "cell_type": "markdown",
      "metadata": {
        "id": "ASIy4MhSw-l-"
      },
      "source": [
        "Next let's download an image of Bryce's dog:"
      ]
    },
    {
      "cell_type": "code",
      "execution_count": null,
      "metadata": {
        "id": "LaH1Q3DWFpa4"
      },
      "outputs": [],
      "source": [
        "import urllib.request\n",
        "urllib.request.urlretrieve(\n",
        "  \"https://drive.usercontent.google.com/download?id=1ClKrHt4-SIHaeBJdF0K3MG64jyVnt62L&export=download\",\n",
        "  \"loonie.jpg\")"
      ]
    },
    {
      "cell_type": "markdown",
      "metadata": {
        "id": "aFQJpaNgw-mB"
      },
      "source": [
        "Then we read the image in grayscale mode:"
      ]
    },
    {
      "cell_type": "code",
      "execution_count": null,
      "metadata": {
        "id": "rcaTYmdpiElb"
      },
      "outputs": [],
      "source": [
        "image = cv2.imread(\"loonie.jpg\", cv2.IMREAD_GRAYSCALE)\n",
        "\n",
        "print(f\"nbytes: {image.nbytes}\")\n",
        "print(f\"shape: {image.shape}\")\n",
        "print(image)"
      ]
    },
    {
      "cell_type": "markdown",
      "metadata": {
        "id": "J6Ol8IIxw-mE"
      },
      "source": [
        "Here we can see the image is 1600x1200 pixels, and each pixel is an unsigned 8-bit value (0-255).  Let's plot it with matplotlib to verify it looks correct:"
      ]
    },
    {
      "cell_type": "code",
      "execution_count": null,
      "metadata": {
        "id": "H8DnT8Ro7L8l"
      },
      "outputs": [],
      "source": [
        "plt.imshow(image, cmap=\"gray\")\n",
        "plt.title(\"Bryce's Dog\")\n",
        "plt.show()"
      ]
    },
    {
      "cell_type": "markdown",
      "metadata": {
        "id": "JABxC5dpw-mI"
      },
      "source": [
        "Yes, we can confirm that is a dog (and a very cute one at that).  Now let's start doing some linear algebra!\n",
        "\n",
        "NumPy provides an [implementation of SVD](https://numpy.org/doc/stable/reference/generated/numpy.linalg.svd.html).  By selecting `full_matrices=False`, we get the singular value matrix, `S`, as a 1D vector rather than a 2D diagonal matrix."
      ]
    },
    {
      "cell_type": "code",
      "execution_count": null,
      "metadata": {
        "id": "U12FLtFU7I0f"
      },
      "outputs": [],
      "source": [
        "U, S, Vt = np.linalg.svd(image, full_matrices=False)\n",
        "U.shape, S.shape, Vt.shape"
      ]
    },
    {
      "cell_type": "markdown",
      "metadata": {
        "id": "QoE_K4Trw-mM"
      },
      "source": [
        "Since the image is not square and we've not selected `full_matrices`, NumPy returns `U` as a non-square matrix, `S` as the 1D vector which is the smaller of the two dimensions, and the `Vt` matrix is a square matrix.\n",
        "\n",
        "The singular values are returned in descending order, which we can see if we look at the first 10 elements of `S`:"
      ]
    },
    {
      "cell_type": "code",
      "execution_count": null,
      "metadata": {
        "id": "6hy0h7_xw-mN"
      },
      "outputs": [],
      "source": [
        "S[:10]"
      ]
    },
    {
      "cell_type": "markdown",
      "metadata": {
        "id": "A4_VXUB0w-mO"
      },
      "source": [
        "In fact, if we look at the size of the singular values, we see that the first few contribute a lot to the matrix, and then fall off very rapidly:"
      ]
    },
    {
      "cell_type": "code",
      "execution_count": null,
      "metadata": {
        "id": "QJji_GdQw-mP"
      },
      "outputs": [],
      "source": [
        "plt.semilogy(S)"
      ]
    },
    {
      "cell_type": "markdown",
      "metadata": {
        "id": "Fsxpiwydw-mQ"
      },
      "source": [
        "That suggests we can get a pretty good approximation of the original image with a relatively small number of terms.  We can reconstruct the image matrix by slicing the `U`, `S`, and `Vt` matrices and remultiplying them.  We will need to convert `S` back into a 2D matrix for the multiplication as well.  Note that we are using the `@` operator to perform matrix multiplication, because `*` does element-wise multiplication."
      ]
    },
    {
      "cell_type": "code",
      "execution_count": null,
      "metadata": {
        "id": "gtLMZBx3w-mR"
      },
      "outputs": [],
      "source": [
        "# First 3 terms.\n",
        "nterms = 3\n",
        "reconstructed = U[:, :nterms] @ np.diag(S[:nterms]) @ Vt[:nterms, :]\n",
        "plt.imshow(reconstructed, cmap=\"gray\")\n",
        "plt.title(\"n = 3\")\n",
        "plt.show()"
      ]
    },
    {
      "cell_type": "markdown",
      "metadata": {
        "id": "HUfErMqhw-mS"
      },
      "source": [
        "That's still pretty fuzzy, so let's check out the image with more terms included:"
      ]
    },
    {
      "cell_type": "code",
      "execution_count": null,
      "metadata": {
        "id": "v4ihZ_3_7X_P"
      },
      "outputs": [],
      "source": [
        "plt.figure(figsize=(16, 4))\n",
        "\n",
        "start, end, step = 10, 50, 10\n",
        "for i in range(start, end, step):\n",
        "  plt.subplot(1, (end - start) // step + 1, (i - start) // step + 1)\n",
        "  reconstructed = U[:, :i] @ np.diag(S[:i]) @ Vt[:i, :]\n",
        "  plt.imshow(reconstructed, cmap=\"gray\")\n",
        "  plt.title(f\"n = {i}\")\n",
        "\n",
        "plt.tight_layout()\n",
        "plt.show()"
      ]
    },
    {
      "cell_type": "markdown",
      "metadata": {
        "id": "spCXu88mw-mT"
      },
      "source": [
        "**TODO: Print the compression ratio for the values of `n` used above.  This is the number of bytes of the reduced arrays added together and divided by the size of the original grayscale image array.  How does this compare to the size of the original color JPEG, which is 756473 bytes?** _Hint: `.nbytes` works on sliced arrays!_"
      ]
    },
    {
      "cell_type": "code",
      "execution_count": null,
      "metadata": {
        "id": "lY_6rz4Nw-mU"
      },
      "outputs": [],
      "source": [
        "for i in range(start, end, step):\n",
        "  compress_ratio = ...\n",
        "  print(f\"n = {i}: compression = {compress_ratio:.1%}\")"
      ]
    },
    {
      "cell_type": "markdown",
      "metadata": {
        "id": "RhsTnH1Fw-mV"
      },
      "source": [
        "**TODO: Compute and display the difference in the reconstruction for `n = 10` and the original image.  Use `cmap=\"coolwarm\"` when you display the difference image.**"
      ]
    },
    {
      "cell_type": "code",
      "execution_count": null,
      "metadata": {
        "id": "zzC2jlkYw-mV"
      },
      "outputs": [],
      "source": [
        "delta = ...\n",
        "plt.imshow(delta, cmap=\"coolwarm\")"
      ]
    }
  ],
  "metadata": {
    "kernelspec": {
     "display_name": "training-pyhpc-2025",
     "language": "python",
     "name": "pyhpc-2025"
    },
    "language_info": {
      "codemirror_mode": {
        "name": "ipython",
        "version": 3
      },
      "file_extension": ".py",
      "mimetype": "text/x-python",
      "name": "python",
      "nbconvert_exporter": "python",
      "pygments_lexer": "ipython3",
      "version": "3.12.11"
    },
    "colab": {
      "provenance": [],
      "gpuType": "T4"
    },
    "accelerator": "GPU"
  },
  "nbformat": 4,
  "nbformat_minor": 0
}
