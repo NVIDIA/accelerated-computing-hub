{
 "cells": [
  {
   "cell_type": "markdown",
   "metadata": {},
   "source": [
    "# CUDA Made Easy: Accelerating Applications with Parallel Algorithms"
   ]
  },
  {
   "cell_type": "markdown",
   "metadata": {
    "editable": true,
    "slideshow": {
     "slide_type": ""
    },
    "tags": []
   },
   "source": [
    "To make your first steps in GPU programming as easy as possible, in this lab you'll learn how to leverage powerful parallel algorithms that make GPU acceleration of your code as easy as changing a few lines of code. While doing so, you’ll learn fundamental concepts such as execution space and memory space, parallelism, heterogeneous computing, and kernel fusion. These concepts will serve as a foundation for your advancement in accelerated computing.  \n",
    "\n",
    "---\n",
    "\n",
    "## Prerequisites\n",
    "\n",
    "To get the most out of this lab you should already be able to:\n",
    "\n",
    "- Declare variables, write loops, and use if / else statements in C++\n",
    "- Use pointers and iterators to access arrays of data\n",
    "- Use standard C++ iterator-based algorithms like std::transform\n",
    "- Use lambda expressions (unnamed functions)\n",
    "- Use standard C++ containers like std::vector\n",
    "\n",
    "\n",
    "No previous CUDA knowledge is required.\n",
    "\n",
    "On the infrastructure side, this lab assumes that you:\n",
    "\n",
    "- have the latest [CUDA Toolkit](https://developer.nvidia.com/cuda-downloads) installed\n",
    "- have an NVIDIA GPU installed in your system\n",
    "- are running these labs on an Linux system\n",
    "\n",
    "If you are using Windows, try WSL (Windows Subsystem for Linux) or file an issue for Windows support.\n",
    "\n",
    "---\n",
    "\n",
    "## Objectives\n",
    "\n",
    "By the time you complete this lab, you will be able to:\n",
    "\n",
    "- Understand the differences between parallel and serial algorithms\n",
    "- Control where your C++ code runs and run it on CPU or GPU\n",
    "- Control whether your data resides in CPU or GPU memory and how to move between them \n",
    "- Refactor standard algorithms to execute on GPU\n",
    "- Leverage powerful parallel algorithms that simplify adding GPU acceleration to your code\n",
    "- Use fancy iterators to fuse operations and extend algorithms to fit your unique use cases \n",
    "\n",
    "---\n",
    "\n",
    "## Content\n",
    "\n",
    "* [1.1 Introduction](../01.01-Introduction/01.01.01-CUDA-Made-Easy.ipynb)\n",
    "* [1.2 Execution Spaces](../01.02-Execution-Spaces/01.02.01-Execution-Spaces.ipynb)\n",
    "* [1.3 Extending Algorithms](../01.03-Extending-Algorithms/01.03.01-Extending-Algorithms.ipynb)\n",
    "* [1.4 Vocabulary Types](../01.04-Vocabulary-Types/01.04.01-Vocabulary-Types.ipynb)\n",
    "* [1.5 Serial vs Parallel](../01.05-Serial-vs-Parallel/01.05.01-Serial-vs-Parallel.ipynb)\n",
    "* [1.6 Memory Spaces](../01.06-Memory-Spaces/01.06.01-Memory-Spaces.ipynb)\n",
    "* [1.7 Summary](../01.07-Summary/01.07.01-Summary.ipynb)\n",
    "* [1.8 Advanced](../01.08-Advanced/01.08.01-Advanced.ipynb)\n",
    "\n",
    "---\n",
    "\n",
    "## Why GPU Programming?\n",
    "\n",
    "Before we dive into why programming GPUs is worth it, let’s think about a different question.\n",
    "Which is faster, a bus or a car?\n",
    "It might seem like a simple question, but it’s missing some context. Faster at what?\n",
    "A car might be quicker if you’re moving four people, but a bus will probably get forty people there faster. \n",
    "\n",
    "![CPU vs GPU analogy](Images/uber-cpu-vs-gpu.svg \"CPU vs GPU\")\n",
    "\n",
    "This analogy isn’t too different from comparing CPUs and GPUs.\n",
    "Take a look at the diagram below: copying a single byte is five times faster on a CPU.\n",
    "But when it comes to copying gigabytes of data, the GPU can do it ten times faster than the CPU. I\n",
    "\n",
    "![CPU vs GPU memory](Images/cpu-vs-gpu-memory.svg \"CPU vs GPU Memory\")\n",
    "\n",
    "In this course, you’ll learn how to write efficient code and harness the immense computational power of modern GPUs.\n",
    "We’ll begin with the foundational concepts that set the stage for GPU programming.  Jump to the [Execution Spaces](../01.02-Execution-Spaces/01.02.01-Execution-Spaces.ipynb) notebook."
   ]
  }
 ],
 "metadata": {
  "accelerator": "GPU",
  "colab": {
   "gpuType": "T4",
   "provenance": [],
   "toc_visible": true
  },
  "kernelspec": {
   "display_name": "Python 3 (ipykernel)",
   "language": "python",
   "name": "python3"
  },
  "language_info": {
   "codemirror_mode": {
    "name": "ipython",
    "version": 3
   },
   "file_extension": ".py",
   "mimetype": "text/x-python",
   "name": "python",
   "nbconvert_exporter": "python",
   "pygments_lexer": "ipython3",
   "version": "3.10.12"
  }
 },
 "nbformat": 4,
 "nbformat_minor": 4
}
