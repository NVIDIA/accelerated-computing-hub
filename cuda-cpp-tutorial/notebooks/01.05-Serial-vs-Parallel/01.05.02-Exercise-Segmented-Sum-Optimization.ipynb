{
 "cells": [
  {
   "cell_type": "markdown",
   "metadata": {},
   "source": [
    "## Exercise: Segmented Sum Optimization\n",
    "\n",
    "Below is an example of the `transform` iterator API:\n",
    "\n",
    "```c++\n",
    "int constant = 2;\n",
    "auto transform_it = thrust::make_transform_iterator(\n",
    "    // iterator to the beginning of the input sequence\n",
    "    vector.begin(), \n",
    "    // capture constant in the lambda by value with `[name]`\n",
    "    [constant]__host__ __device__(float value_from_input_sequence) { \n",
    "      // transformation of each element\n",
    "      return value_from_input_sequence * constant; \n",
    "    });\n",
    "```\n",
    "\n",
    "Here's an example of the Counting iterator API:\n",
    "\n",
    "```c++\n",
    "// start counting from 0\n",
    "auto count_it = thrust::make_counting_iterator(0);\n",
    "```\n",
    "\n",
    "Rewrite the segmented sum code below without materializing keys in memory."
   ]
  },
  {
   "cell_type": "markdown",
   "metadata": {},
   "source": [
    "<details>\n",
    "    <summary>Copy of the original code in case you need to refer back to it.</summary>\n",
    "\n",
    "```c++\n",
    "%%writefile Sources/segmented-sum-optimization.cpp\n",
    "#include \"ach.h\"\n",
    "\n",
    "thrust::universal_vector<float> row_temperatures(\n",
    "    int height, int width,\n",
    "    thrust::universal_vector<int>& row_ids,\n",
    "    thrust::universal_vector<float>& temp)\n",
    "{\n",
    "    thrust::universal_vector<float> sums(height);\n",
    "\n",
    "    // Modify line below to use counting and transform iterators to \n",
    "    // generates row indices `id / width` instead\n",
    "    auto row_ids_begin = row_ids.begin(); \n",
    "    auto row_ids_end = row_ids_begin + temp.size();\n",
    "\n",
    "    thrust::reduce_by_key(thrust::device, \n",
    "                          row_ids_begin, row_ids_end, \n",
    "                          temp.begin(), \n",
    "                          thrust::make_discard_iterator(), \n",
    "                          sums.begin());\n",
    "\n",
    "    return sums;\n",
    "}\n",
    "```  \n",
    "\n",
    "</details>"
   ]
  },
  {
   "cell_type": "code",
   "execution_count": null,
   "metadata": {
    "cellView": "form"
   },
   "outputs": [],
   "source": [
    "import os\n",
    "\n",
    "if os.getenv(\"COLAB_RELEASE_TAG\"): # If running in Google Colab:\n",
    "  !mkdir -p Sources\n",
    "  !wget https://raw.githubusercontent.com/NVIDIA/accelerated-computing-hub/refs/heads/main/cuda-cpp-tutorial/notebooks/01.05-Serial-vs-Parallel/Sources/ach.h -nv -O Sources/ach.h"
   ]
  },
  {
   "cell_type": "code",
   "execution_count": null,
   "metadata": {},
   "outputs": [],
   "source": [
    "%%writefile Sources/segmented-sum-optimization.cpp\n",
    "#include \"ach.h\"\n",
    "\n",
    "thrust::universal_vector<float> row_temperatures(\n",
    "    int height, int width,\n",
    "    thrust::universal_vector<int>& row_ids,\n",
    "    thrust::universal_vector<float>& temp)\n",
    "{\n",
    "    thrust::universal_vector<float> sums(height);\n",
    "\n",
    "    // TODO: Modify the line below to use counting and transform iterators to\n",
    "    // generates row indices `id / width` instead\n",
    "    auto row_ids_begin = row_ids.begin();\n",
    "    auto row_ids_end = row_ids_begin + temp.size();\n",
    "\n",
    "    thrust::reduce_by_key(thrust::device,\n",
    "                          row_ids_begin, row_ids_end,\n",
    "                          temp.begin(),\n",
    "                          thrust::make_discard_iterator(),\n",
    "                          sums.begin());\n",
    "\n",
    "    return sums;\n",
    "}"
   ]
  },
  {
   "cell_type": "code",
   "execution_count": null,
   "metadata": {},
   "outputs": [],
   "source": [
    "!nvcc --extended-lambda -o /tmp/a.out --run Sources/segmented-sum-optimization.cpp -x cu -arch=native"
   ]
  },
  {
   "cell_type": "markdown",
   "metadata": {},
   "source": [
    "The output of your program should end with:\n",
    "\n",
    "```\n",
    "row 0: { 90, 90, ..., 90 } = 1.50995e+09\n",
    "row 1: { 15, 15, ..., 15 } = 2.51658e+08\n",
    "row 2: { 15, 15, ..., 15 } = 2.51658e+08\n",
    "```"
   ]
  },
  {
   "cell_type": "markdown",
   "metadata": {},
   "source": [
    "If you’re unsure how to proceed, consider expanding this section for guidance. Use the hint only after giving the problem a genuine attempt.\n",
    "\n",
    "<details>\n",
    "  <summary>Hints</summary>\n",
    "  \n",
    "  - Combine `transform` and `counting` iterators to generate row indices\n",
    "</details>"
   ]
  },
  {
   "cell_type": "markdown",
   "metadata": {},
   "source": [
    "Open this section only after you’ve made a serious attempt at solving the problem. Once you’ve completed your solution, compare it with the reference provided here to evaluate your approach and identify any potential improvements.\n",
    "\n",
    "<details>\n",
    "  <summary>Solution</summary>\n",
    "\n",
    "  Key points:\n",
    "\n",
    "  - `thrust::make_counting_iterator(0)` creates an integer sequence of cell indices\n",
    "  - `thrust::make_transform_iterator` converts cell indices to row indices by dividing by `width`\n",
    "\n",
    "  Solution:\n",
    "  ```c++\n",
    "  auto row_ids_begin = thrust::make_transform_iterator(\n",
    "      thrust::make_counting_iterator(0),\n",
    "      [=] __host__ __device__(int i) { return i / width; });\n",
    "  ```\n",
    "\n",
    "  You can find the full solution [here](Solutions/segmented-sum-optimization.cpp).\n",
    "</details>"
   ]
  },
  {
   "cell_type": "markdown",
   "metadata": {},
   "source": [
    "Proceed to [the next exercise](01.05.03-Exercise-Segmented-Mean.ipynb)."
   ]
  }
 ],
 "metadata": {
  "accelerator": "GPU",
  "colab": {
   "gpuType": "T4",
   "provenance": [],
   "toc_visible": true
  },
  "kernelspec": {
   "display_name": "Python 3",
   "language": "python",
   "name": "python3"
  },
  "language_info": {
   "codemirror_mode": {
    "name": "ipython",
    "version": 3
   },
   "file_extension": ".py",
   "mimetype": "text/x-python",
   "name": "python",
   "nbconvert_exporter": "python",
   "pygments_lexer": "ipython3",
   "version": "3.10.12"
  }
 },
 "nbformat": 4,
 "nbformat_minor": 4
}
