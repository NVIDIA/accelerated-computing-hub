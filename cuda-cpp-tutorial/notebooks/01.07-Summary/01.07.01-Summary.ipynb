{
 "cells": [
  {
   "cell_type": "markdown",
   "metadata": {},
   "source": [
    "# Summary\n",
    "\n",
    "Let's recap a few key points:\n",
    "\n",
    "- **CUDA Compilation:** Use the `nvcc` to compile your CUDA C++ code\n",
    "- **Accelerated Libraries:** Leverage highly optimized libraries to accelerate your application:\n",
    "  - Thrust for general-purpose parallel algorithms\n",
    "  - cuSPARSE and CUTLASS for linear algebra \n",
    "  - MatX for array-based numerical computing\n",
    "  - etc. \n",
    "- **Execution Space Specifiers:** Use `__host__ __device__` execution space specifiers to specify where given function could be executed\n",
    "- **Execution Policies:** Use `thrust::host` and `thrust::device` execution policies to specify where given thrust algorithm will be executed\n",
    "- **Extend Algorithms:** When existing libraries do not cover your use cases, use fancy iterators to extend them\n",
    "\n",
    "If you have time left or want to explore more, \n",
    "consider [the advanced section](../01.08-Advanced/01.08.01-Advanced.ipynb) of this course.\n",
    "\n",
    "Congratulations on completing the first part of the course!  You have accomplished all of the following lab objectives:\n",
    "\n",
    "- Understand the differences between parallel and serial algorithms\n",
    "- Control where your C++ code runs and run it on CPU or GPU\n",
    "- Control whether your data resides in CPU or GPU memory and how to move between them \n",
    "- Refactor standard algorithms to execute on GPU\n",
    "- Leverage powerful parallel algorithms that simplify adding GPU acceleration to your code\n",
    "- Use fancy iterators to fuse operations and extend algorithms to fit your unique use cases \n",
    "\n",
    "---\n",
    "If you are ready to move on, proceed to the next lab, [Unlocking the GPU’s Full Potential: Asynchrony and CUDA Streams](../02.01-Introduction/02.01.01-Introduction.ipynb), \n",
    "\n"
   ]
  }
 ],
 "metadata": {
  "accelerator": "GPU",
  "colab": {
   "gpuType": "T4",
   "provenance": [],
   "toc_visible": true
  },
  "kernelspec": {
   "display_name": "Python 3 (ipykernel)",
   "language": "python",
   "name": "python3"
  },
  "language_info": {
   "codemirror_mode": {
    "name": "ipython",
    "version": 3
   },
   "file_extension": ".py",
   "mimetype": "text/x-python",
   "name": "python",
   "nbconvert_exporter": "python",
   "pygments_lexer": "ipython3",
   "version": "3.10.12"
  }
 },
 "nbformat": 4,
 "nbformat_minor": 4
}
