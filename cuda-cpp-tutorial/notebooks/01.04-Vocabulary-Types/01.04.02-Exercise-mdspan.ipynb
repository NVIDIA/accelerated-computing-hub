{
 "cells": [
  {
   "cell_type": "markdown",
   "metadata": {},
   "source": [
    "## Exercise: `mdspan`"
   ]
  },
  {
   "cell_type": "markdown",
   "metadata": {},
   "source": [
    "Usage of `cuda::std::mdspan` API for your reference:\n",
    "```cpp\n",
    "int height = 2;\n",
    "int width = 3;\n",
    "cuda::std::array<int, 6> sd {0, 1, 2, 3, 4, 5};\n",
    "cuda::std::mdspan md(sd.data(), height, width);\n",
    "\n",
    "std::printf(\"md(0, 0) = %d\\n\", md(0, 0)); // 0\n",
    "std::printf(\"md(1, 2) = %d\\n\", md(1, 2)); // 5\n",
    "\n",
    "std::printf(\"size   = %zu\\n\", md.size());    // 6\n",
    "std::printf(\"height = %zu\\n\", md.extent(0)); // 2\n",
    "std::printf(\"width  = %zu\\n\", md.extent(1)); // 3\n",
    "```\n",
    "\n",
    "Complete the exercise below by adding the use of `cuda::std::mdspan` instead of dereferencing the raw pointer via pointer offset arithmetic."
   ]
  },
  {
   "cell_type": "markdown",
   "metadata": {},
   "source": [
    "<details>\n",
    "<summary>Original heat-2D.cpp -x cu -arch=native code in case you need to refer back to it.</summary>\n",
    "\n",
    "```c++\n",
    "%%writefile Sources/heat-2D.cpp\n",
    "#include \"ach.h\"\n",
    "\n",
    "__host__ __device__\n",
    "cuda::std::pair<int, int> row_col(int id, int width) {\n",
    "    return cuda::std::make_pair(id / width, id % width);\n",
    "}\n",
    "\n",
    "void simulate(int height, int width,\n",
    "              const thrust::universal_vector<float> &in,\n",
    "                    thrust::universal_vector<float> &out)\n",
    "{\n",
    "  const float *in_ptr = thrust::raw_pointer_cast(in.data());\n",
    "\n",
    "  thrust::tabulate(\n",
    "    thrust::device, out.begin(), out.end(), \n",
    "    [in_ptr, height, width] __host__ __device__(int id) {\n",
    "      auto [row, column] = row_col(id, width);\n",
    "\n",
    "      if (row > 0 && column > 0 && row < height - 1 && column < width - 1) {\n",
    "        float d2tdx2 = in_ptr[(row) * width + column - 1] - 2 * in_ptr[row * width + column] + in_ptr[(row) * width + column + 1];\n",
    "        float d2tdy2 = in_ptr[(row - 1) * width + column] - 2 * in_ptr[row * width + column] + in_ptr[(row + 1) * width + column];\n",
    "\n",
    "        return in_ptr[row * width + column] + 0.2f * (d2tdx2 + d2tdy2);\n",
    "      } else {\n",
    "        return in_ptr[row * width + column];\n",
    "      }\n",
    "    });\n",
    "}\n",
    "```\n",
    "\n",
    "</details>"
   ]
  },
  {
   "cell_type": "code",
   "execution_count": null,
   "metadata": {
    "cellView": "form"
   },
   "outputs": [],
   "source": [
    "import os\n",
    "\n",
    "if os.getenv(\"COLAB_RELEASE_TAG\"): # If running in Google Colab:\n",
    "  !mkdir -p Sources\n",
    "  !wget https://raw.githubusercontent.com/NVIDIA/accelerated-computing-hub/refs/heads/main/cuda-cpp-tutorial/notebooks/01.04-Vocabulary-Types/Sources/ach.h -nv -O Sources/ach.h\n",
    "  !wget https://raw.githubusercontent.com/NVIDIA/accelerated-computing-hub/refs/heads/main/cuda-cpp-tutorial/notebooks/01.04-Vocabulary-Types/Sources/ach.py -nv -O Sources/ach.py\n",
    "  !wget https://raw.githubusercontent.com/NVIDIA/accelerated-computing-hub/refs/heads/main/cuda-cpp-tutorial/notebooks/01.04-Vocabulary-Types/Sources/__init__.py -nv -O Sources/__init__.py"
   ]
  },
  {
   "cell_type": "code",
   "execution_count": null,
   "metadata": {},
   "outputs": [],
   "source": [
    "%%writefile Sources/heat-2D.cpp\n",
    "#include \"ach.h\"\n",
    "\n",
    "__host__ __device__\n",
    "cuda::std::pair<int, int> row_col(int id, int width) {\n",
    "    return cuda::std::make_pair(id / width, id % width);\n",
    "}\n",
    "\n",
    "void simulate(int height, int width,\n",
    "              const thrust::universal_vector<float> &in,\n",
    "                    thrust::universal_vector<float> &out)\n",
    "{\n",
    "  // TODO: Modify the following code to use `cuda::std::mdspan`\n",
    "  const float *in_ptr = thrust::raw_pointer_cast(in.data());\n",
    "\n",
    "  thrust::tabulate(\n",
    "    thrust::device, out.begin(), out.end(),\n",
    "    [in_ptr, height, width] __host__ __device__(int id) {\n",
    "      auto [row, column] = row_col(id, width);\n",
    "\n",
    "      if (row > 0 && column > 0 && row < height - 1 && column < width - 1) {\n",
    "        float d2tdx2 = in_ptr[(row) * width + column - 1] - 2 * in_ptr[row * width + column] + in_ptr[(row) * width + column + 1];\n",
    "        float d2tdy2 = in_ptr[(row - 1) * width + column] - 2 * in_ptr[row * width + column] + in_ptr[(row + 1) * width + column];\n",
    "\n",
    "        return in_ptr[row * width + column] + 0.2f * (d2tdx2 + d2tdy2);\n",
    "      } else {\n",
    "        return in_ptr[row * width + column];\n",
    "      }\n",
    "    });\n",
    "}"
   ]
  },
  {
   "cell_type": "code",
   "execution_count": null,
   "metadata": {},
   "outputs": [],
   "source": [
    "!nvcc -x cu -arch=native --extended-lambda -o /tmp/a.out Sources/heat-2D.cpp"
   ]
  },
  {
   "cell_type": "code",
   "execution_count": null,
   "metadata": {},
   "outputs": [],
   "source": [
    "import Sources.ach\n",
    "Sources.ach.run(\"Sources/heat-2D.cpp\")"
   ]
  },
  {
   "cell_type": "markdown",
   "metadata": {},
   "source": [
    "If you’re unsure how to proceed, consider expanding this section for guidance. Use the hint only after giving the problem a genuine attempt.\n",
    "\n",
    "<details>\n",
    "  <summary>Hints</summary>\n",
    "  \n",
    "  - `cuda::std::mdspan` constructor takes a pointer followed by the height and width of the 2D array\n",
    "  - Two-dimensional `cuda::std::mdpsan` provides `operator()(int row, int column)` to access elements\n",
    "</details>"
   ]
  },
  {
   "cell_type": "markdown",
   "metadata": {},
   "source": [
    "Open this section only after you’ve made a serious attempt at solving the problem. Once you’ve completed your solution, compare it with the reference provided here to evaluate your approach and identify any potential improvements.\n",
    "\n",
    "<details>\n",
    "  <summary>Solution</summary>\n",
    "\n",
    "  Key points:\n",
    "\n",
    "  - You can use `md.extent(0)` and `md.extent(1)` to get the height and width of the 2D array\n",
    "\n",
    "  Solution:\n",
    "  ```cpp\n",
    "  cuda::std::mdspan temp_in(thrust::raw_pointer_cast(in.data()), height, width);\n",
    "\n",
    "  thrust::tabulate(thrust::device, out.begin(), out.end(), [temp_in] __host__ __device__(int id) {\n",
    "    int column = id % temp_in.extent(1);\n",
    "    int row    = id / temp_in.extent(1);\n",
    "\n",
    "    if (row > 0 && column > 0 && row < temp_in.extent(0) - 1 && column < temp_in.extent(1) - 1)\n",
    "    {\n",
    "      float d2tdx2 = temp_in(row, column - 1) - 2 * temp_in(row, column) + temp_in(row, column + 1);\n",
    "      float d2tdy2 = temp_in(row - 1, column) - 2 * temp_in(row, column) + temp_in(row + 1, column);\n",
    "\n",
    "      return temp_in(row, column) + 0.2f * (d2tdx2 + d2tdy2);\n",
    "    }\n",
    "    else\n",
    "    {\n",
    "      return temp_in(row, column);\n",
    "    }\n",
    "  });\n",
    "  ```\n",
    "\n",
    "  You can find full solution [here](Solutions/heat-2D.cpp).\n",
    "</details>"
   ]
  },
  {
   "cell_type": "markdown",
   "metadata": {},
   "source": [
    "\n",
    "---\n",
    "\n",
    "Congratulations!  Now that you know how to use vocabulary types, proceed to [the next section](../01.05-Serial-vs-Parallel/01.05.01-Serial-vs-Parallel.ipynb)."
   ]
  }
 ],
 "metadata": {
  "accelerator": "GPU",
  "colab": {
   "gpuType": "T4",
   "provenance": [],
   "toc_visible": true
  },
  "kernelspec": {
   "display_name": "Python 3",
   "language": "python",
   "name": "python3"
  },
  "language_info": {
   "codemirror_mode": {
    "name": "ipython",
    "version": 3
   },
   "file_extension": ".py",
   "mimetype": "text/x-python",
   "name": "python",
   "nbconvert_exporter": "python",
   "pygments_lexer": "ipython3",
   "version": "3.10.12"
  }
 },
 "nbformat": 4,
 "nbformat_minor": 4
}
