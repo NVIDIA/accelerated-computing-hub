{
 "cells": [
  {
   "cell_type": "markdown",
   "metadata": {},
   "source": [
    "# Dev Tools\n",
    "\n",
    "Let's start with the simplest CUDA kernel.  Observe the error messages that occur when executing the following cell.  Notice that we are building the executable and then running it with `compute-sanitizer`."
   ]
  },
  {
   "cell_type": "code",
   "execution_count": null,
   "metadata": {
    "cellView": "form"
   },
   "outputs": [],
   "source": [
    "import os\n",
    "\n",
    "if os.getenv(\"COLAB_RELEASE_TAG\"): # If running in Google Colab:\n",
    "  !mkdir -p Sources\n",
    "  !wget https://raw.githubusercontent.com/NVIDIA/accelerated-computing-hub/refs/heads/main/cuda-cpp-tutorial/notebooks/03.02-Kernels/Sources/ach.h -nv -O Sources/ach.h"
   ]
  },
  {
   "cell_type": "code",
   "execution_count": null,
   "metadata": {},
   "outputs": [],
   "source": [
    "!nvcc --extended-lambda -g -G -o /tmp/a.out Solutions/row-symmetry-check.cpp -x cu -arch=native # build executable\n",
    "!/tmp/a.out # run executable\n",
    "!compute-sanitizer /tmp/a.out # run sanitizer"
   ]
  },
  {
   "cell_type": "markdown",
   "metadata": {},
   "source": [
    "There are a lot of error messages printed, and the instructive errors are at the very top.  Note one of the errors printed `Invalid __global__ read of size 4 bytes at symmetry_check_kernel`.  This tells you exactly where to look to find the memory access error.\n",
    "\n",
    "\n",
    "```\n",
    "Invalid __global__ read of size 4 bytes\n",
    "=========     at symmetry_check_kernel(cuda::std::__4::mdspan<float, cuda::std::__4::extents<int, (unsigned long)18446744073709551615, (unsigned long)18446744073709551615>, cuda::std::__4::layout_right, cuda::std::__4::default_accessor<float>>, int)+0x2490 in 03.02-Kernels/Solutions/row-symmetry-check.cu:6\n",
    "=========     by thread (928,0,0) in block (4,0,0)\n",
    "=========     Address 0x709388060 is out of bounds\n",
    "=========     and is 97 bytes after the nearest allocation at 0x708000000 of size 20480000 bytes\n",
    "```\n",
    "\n",
    "The code below fixes the error.  Note the use of the `if (column < temp.extent(1))` statement, which guards the execution of the thread.  Each thread checks whether its `column` is less than the size of the array, `temp`.  If it is less, it executes the symmetry check, but if it is NOT, then it just returns.  This type of simple fix is very common in CUDA kernel programming to ensure that threads don't access out-of-bounds memory.\n",
    "\n",
    "Execute the next two cells and verify that `compute-sanitizer` does not report any further errors."
   ]
  },
  {
   "cell_type": "code",
   "execution_count": null,
   "metadata": {},
   "outputs": [],
   "source": [
    "%%writefile Sources/row-symmetry-check-fixed.cpp\n",
    "#include \"ach.h\"\n",
    "\n",
    "__global__ void symmetry_check_kernel(ach::temperature_grid_f temp, int row)\n",
    "{\n",
    "  int column = blockIdx.x * blockDim.x + threadIdx.x;\n",
    "\n",
    "  if (column < temp.extent(1))\n",
    "  {\n",
    "    if (abs(temp(row, column) - temp(temp.extent(0) - 1 - row, column)) > 0.1)\n",
    "    {\n",
    "        printf(\"Error: asymmetry in %d / %d\\n\", column, temp.extent(1));\n",
    "    }\n",
    "  }\n",
    "}\n",
    "\n",
    "void symmetry_check(ach::temperature_grid_f temp_in, cudaStream_t stream)\n",
    "{\n",
    "  int width      = temp_in.extent(1);\n",
    "  int block_size = 1024;\n",
    "  int grid_size  = cuda::ceil_div(width, block_size);\n",
    "\n",
    "  int target_row = 0;\n",
    "  symmetry_check_kernel<<<grid_size, block_size, 0, stream>>>(temp_in, target_row);\n",
    "}\n",
    "\n",
    "void simulate(ach::temperature_grid_f temp_in, float *temp_out, cudaStream_t stream)\n",
    "{\n",
    "  symmetry_check(temp_in, stream);\n",
    "  ach::simulate(temp_in, temp_out, stream);\n",
    "}"
   ]
  },
  {
   "cell_type": "code",
   "execution_count": null,
   "metadata": {},
   "outputs": [],
   "source": [
    "!nvcc --extended-lambda -o /tmp/a.out Sources/row-symmetry-check-fixed.cpp -x cu -arch=native # build executable\n",
    "!compute-sanitizer /tmp/a.out # run sanitizer"
   ]
  },
  {
   "cell_type": "markdown",
   "metadata": {},
   "source": [
    "---\n",
    "You've learned a lot about CUDA kernels!  Jump to the [next section](../03.03-Atomics/03.03.01-Histogram.ipynb)."
   ]
  }
 ],
 "metadata": {
  "accelerator": "GPU",
  "colab": {
   "gpuType": "T4",
   "provenance": [],
   "toc_visible": true
  },
  "kernelspec": {
   "display_name": "Python 3 (ipykernel)",
   "language": "python",
   "name": "python3"
  },
  "language_info": {
   "codemirror_mode": {
    "name": "ipython",
    "version": 3
   },
   "file_extension": ".py",
   "mimetype": "text/x-python",
   "name": "python",
   "nbconvert_exporter": "python",
   "pygments_lexer": "ipython3",
   "version": "3.10.12"
  }
 },
 "nbformat": 4,
 "nbformat_minor": 4
}
